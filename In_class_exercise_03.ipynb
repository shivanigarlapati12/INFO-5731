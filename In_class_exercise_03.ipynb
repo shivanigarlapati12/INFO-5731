{
  "nbformat": 4,
  "nbformat_minor": 0,
  "metadata": {
    "kernelspec": {
      "display_name": "Python 3",
      "language": "python",
      "name": "python3"
    },
    "language_info": {
      "codemirror_mode": {
        "name": "ipython",
        "version": 3
      },
      "file_extension": ".py",
      "mimetype": "text/x-python",
      "name": "python",
      "nbconvert_exporter": "python",
      "pygments_lexer": "ipython3",
      "version": "3.7.4"
    },
    "colab": {
      "name": "In-class-exercise-03.ipynb",
      "provenance": [],
      "collapsed_sections": []
    }
  },
  "cells": [
    {
      "cell_type": "markdown",
      "metadata": {
        "id": "0mDpckCMFkfe",
        "colab_type": "text"
      },
      "source": [
        "## The third In-class-exercise (9/16/2020, 20 points in total)"
      ]
    },
    {
      "cell_type": "markdown",
      "metadata": {
        "id": "vcuVRD96Fkfh",
        "colab_type": "text"
      },
      "source": [
        "The purpose of this exercise is to under users' information needs, then collect the data for analysis."
      ]
    },
    {
      "cell_type": "markdown",
      "metadata": {
        "id": "NL-OXakMFkfj",
        "colab_type": "text"
      },
      "source": [
        "Question 1 (8 points): Describe an interesting research question (or practical question) you have in mind, what kind of data should be collected to answer the question(s)? How many data needed for the analysis? The detail steps for collecting and save the data. "
      ]
    },
    {
      "cell_type": "code",
      "metadata": {
        "id": "rhZhR4YgFkfl",
        "colab_type": "code",
        "colab": {}
      },
      "source": [
        "# Your answer here (no code for this question, write down your answer as detail as possible for the above questions):\n",
        "\n",
        "'''\n",
        "The question that always interests me is what could be the reason for the heart disease?\n",
        "-I've done the analysis to get the best possible answer and for that I had to collect the data about the health care in kaggle source and found the interesting dataset.\n",
        "-The data set consists of information about the people's \n",
        "heart conditions based on their gender, age, smoking status, wok type and bmi.\n",
        "-The data collected is in csv format.\n",
        "-The python libraries I used for saving and reading the data are numpy and pandas.\n",
        "\n",
        "\n",
        "\n",
        "\n",
        "\n",
        "\n",
        "\n",
        "'''"
      ],
      "execution_count": null,
      "outputs": []
    },
    {
      "cell_type": "markdown",
      "metadata": {
        "id": "5iEBdWgoFkfs",
        "colab_type": "text"
      },
      "source": [
        "Question 2 (12 points): Write python code to collect 500 items of the data you plan to collect above."
      ]
    },
    {
      "cell_type": "code",
      "metadata": {
        "id": "gzHXEGswFkft",
        "colab_type": "code",
        "colab": {}
      },
      "source": [
        "# You code here (Please add comments in the code):\n",
        "\n",
        "#importing required Libraries\n",
        "import pandas as pd\n",
        "import numpy as np\n"
      ],
      "execution_count": 1,
      "outputs": []
    },
    {
      "cell_type": "code",
      "metadata": {
        "id": "2i3p9vojNhgh",
        "colab_type": "code",
        "colab": {
          "base_uri": "https://localhost:8080/",
          "height": 155
        },
        "outputId": "fc7518b3-1736-4131-9480-e24ad93dc0a6"
      },
      "source": [
        "#Read CSV file as Dataframe using Pandas\n",
        "df = pd.read_csv(\"test_2v.csv\")\n",
        "print(df.head())"
      ],
      "execution_count": 5,
      "outputs": [
        {
          "output_type": "stream",
          "text": [
            "      id  gender   age  ...  avg_glucose_level   bmi   smoking_status\n",
            "0  36306    Male  80.0  ...              83.84  21.1  formerly smoked\n",
            "1  61829  Female  74.0  ...             179.50  26.0  formerly smoked\n",
            "2  14152  Female  14.0  ...              95.16  21.2              NaN\n",
            "3  12997    Male  28.0  ...              94.76  23.4              NaN\n",
            "4  40801  Female  63.0  ...              83.57  27.6     never smoked\n",
            "\n",
            "[5 rows x 11 columns]\n"
          ],
          "name": "stdout"
        }
      ]
    },
    {
      "cell_type": "code",
      "metadata": {
        "id": "aBJhEkcFNmXE",
        "colab_type": "code",
        "colab": {}
      },
      "source": [
        "#Delete columns which are not useful\n",
        "del df['id']\n",
        "del df['bmi']\n",
        "del df['work_type']\n",
        "del df['Residence_type']\n",
        "del df['avg_glucose_level']\n",
        "del df['hypertension']\n",
        "del df['ever_married']"
      ],
      "execution_count": 6,
      "outputs": []
    },
    {
      "cell_type": "code",
      "metadata": {
        "id": "FsS1vRjgNq1A",
        "colab_type": "code",
        "colab": {
          "base_uri": "https://localhost:8080/",
          "height": 259
        },
        "outputId": "c7277b6f-949c-4d72-9ca2-99f3d4ef83eb"
      },
      "source": [
        "#Segregating the dataset depending upon the gender\n",
        "df_filtered_Male  = df.loc[df[\"gender\"] == \"Male\"]\n",
        "df_filtered_Female  = df.loc[df[\"gender\"] == \"Female\"]\n",
        "print(df_filtered_Male[:500])"
      ],
      "execution_count": 8,
      "outputs": [
        {
          "output_type": "stream",
          "text": [
            "     gender   age  heart_disease   smoking_status\n",
            "0      Male  80.0              0  formerly smoked\n",
            "3      Male  28.0              0              NaN\n",
            "7      Male  46.0              0     never smoked\n",
            "9      Male  75.0              0           smokes\n",
            "16     Male  73.0              0              NaN\n",
            "...     ...   ...            ...              ...\n",
            "1185   Male  77.0              0              NaN\n",
            "1186   Male  70.0              1  formerly smoked\n",
            "1187   Male   2.0              0              NaN\n",
            "1188   Male  39.0              0     never smoked\n",
            "1189   Male   8.0              0              NaN\n",
            "\n",
            "[500 rows x 4 columns]\n"
          ],
          "name": "stdout"
        }
      ]
    },
    {
      "cell_type": "code",
      "metadata": {
        "id": "ghWdux3CPEH2",
        "colab_type": "code",
        "colab": {
          "base_uri": "https://localhost:8080/",
          "height": 259
        },
        "outputId": "4dd8ad24-f8df-4efa-a41e-23ea0c3b7c5b"
      },
      "source": [
        "print(df_filtered_Female[:500])"
      ],
      "execution_count": 9,
      "outputs": [
        {
          "output_type": "stream",
          "text": [
            "     gender   age  heart_disease   smoking_status\n",
            "1    Female  74.0              1  formerly smoked\n",
            "2    Female  14.0              0              NaN\n",
            "4    Female  63.0              0     never smoked\n",
            "5    Female  66.0              0     never smoked\n",
            "6    Female  49.0              0              NaN\n",
            "..      ...   ...            ...              ...\n",
            "865  Female  27.0              0  formerly smoked\n",
            "866  Female  62.0              0  formerly smoked\n",
            "867  Female  39.0              0  formerly smoked\n",
            "868  Female  35.0              0     never smoked\n",
            "870  Female  74.0              0     never smoked\n",
            "\n",
            "[500 rows x 4 columns]\n"
          ],
          "name": "stdout"
        }
      ]
    }
  ]
}