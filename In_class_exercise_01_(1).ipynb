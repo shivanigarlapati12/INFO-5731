{
  "nbformat": 4,
  "nbformat_minor": 0,
  "metadata": {
    "colab": {
      "name": "In_class_exercise_01_(1).ipynb",
      "provenance": [],
      "collapsed_sections": []
    },
    "kernelspec": {
      "display_name": "Python 3",
      "language": "python",
      "name": "python3"
    },
    "language_info": {
      "codemirror_mode": {
        "name": "ipython",
        "version": 3
      },
      "file_extension": ".py",
      "mimetype": "text/x-python",
      "name": "python",
      "nbconvert_exporter": "python",
      "pygments_lexer": "ipython3",
      "version": "3.7.4"
    }
  },
  "cells": [
    {
      "cell_type": "markdown",
      "metadata": {
        "colab_type": "text",
        "id": "view-in-github"
      },
      "source": [
        "<a href=\"https://colab.research.google.com/github/unt-iialab/INFO5731_Spring2020/blob/master/In_class_exercise/In_class_exercise_01.ipynb\" target=\"_parent\"><img src=\"https://colab.research.google.com/assets/colab-badge.svg\" alt=\"Open In Colab\"/></a>"
      ]
    },
    {
      "cell_type": "markdown",
      "metadata": {
        "colab_type": "text",
        "id": "DymRJbxDBCnf"
      },
      "source": [
        "# **The first In-class-exercise (9/2/2020, 20 points in total)**"
      ]
    },
    {
      "cell_type": "markdown",
      "metadata": {
        "colab_type": "text",
        "id": "03jb4GZsBkBS"
      },
      "source": [
        "(1) Write a Python program to calculate the length of a string. (2 points)"
      ]
    },
    {
      "cell_type": "code",
      "metadata": {
        "colab_type": "code",
        "id": "YaGLbSHHB8Ej",
        "colab": {
          "base_uri": "https://localhost:8080/",
          "height": 51
        },
        "outputId": "08d3ad84-2835-4973-df7e-1e8c22eec994"
      },
      "source": [
        "string = input(\"Enter the string to calculate it's length:\");\n",
        "print(\"length of\",string, \"is\",len(string))\n"
      ],
      "execution_count": null,
      "outputs": [
        {
          "output_type": "stream",
          "text": [
            "Enter the string to calculate it's length:shivani\n",
            "length of shivani is 7\n"
          ],
          "name": "stdout"
        }
      ]
    },
    {
      "cell_type": "markdown",
      "metadata": {
        "colab_type": "text",
        "id": "jJDe71iLB616"
      },
      "source": [
        "(2) Write a Python program to count the number of characters in a string. (2 points)\n",
        "\n",
        "Sample String : 'google.com‘, \n",
        "\n",
        "Expected Result : {'o': 3, 'g': 2, '.': 1, 'e': 1, 'l': 1, 'm': 1, 'c': 1}"
      ]
    },
    {
      "cell_type": "code",
      "metadata": {
        "colab_type": "code",
        "id": "MtKskTzbCLaU",
        "colab": {
          "base_uri": "https://localhost:8080/",
          "height": 51
        },
        "outputId": "8896d6e5-77d2-4230-c113-1cc005c3a2b6"
      },
      "source": [
        "string = input(\"Enter the string:\");\n",
        "map = {}\n",
        "for i in string:\n",
        "    keys = map.keys()\n",
        "    if i in keys:\n",
        "        map[i] += 1\n",
        "    else:\n",
        "        map[i] = 1\n",
        "print(map)\n"
      ],
      "execution_count": null,
      "outputs": [
        {
          "output_type": "stream",
          "text": [
            "Enter the string:shivani.garlapati\n",
            "{'s': 1, 'h': 1, 'i': 3, 'v': 1, 'a': 4, 'n': 1, '.': 1, 'g': 1, 'r': 1, 'l': 1, 'p': 1, 't': 1}\n"
          ],
          "name": "stdout"
        }
      ]
    },
    {
      "cell_type": "markdown",
      "metadata": {
        "colab_type": "text",
        "id": "55W9AMdXCSpV"
      },
      "source": [
        "(3) Write a Python program to sum all the items in a list. (2 points)"
      ]
    },
    {
      "cell_type": "code",
      "metadata": {
        "colab_type": "code",
        "id": "I57NXsauCec2",
        "colab": {
          "base_uri": "https://localhost:8080/",
          "height": 51
        },
        "outputId": "cf7bd562-d151-42f3-ec67-10346fbe219d"
      },
      "source": [
        "intList = [int(i) for i in input(\"Enter list entries:\").split()]\n",
        "print(\"Sum of list elements is = \",sum(intList))\n",
        "\n"
      ],
      "execution_count": null,
      "outputs": [
        {
          "output_type": "stream",
          "text": [
            "Enter list entries:4 5 6 7\n",
            "Sum of list elements is =  22\n"
          ],
          "name": "stdout"
        }
      ]
    },
    {
      "cell_type": "markdown",
      "metadata": {
        "colab_type": "text",
        "id": "4ulBZ6yhCi9F"
      },
      "source": [
        "(4) Write a Python program to get a string from a given string where all occurrences of its first char have been changed to '\\$', except the first char itself. (2 points)\n",
        "\n",
        "Sample String : 'restart‘, \n",
        "\n",
        "Expected Result : 'resta\\$t'"
      ]
    },
    {
      "cell_type": "code",
      "metadata": {
        "colab_type": "code",
        "id": "Fj0XhwbBCw2o",
        "colab": {
          "base_uri": "https://localhost:8080/",
          "height": 51
        },
        "outputId": "48c8532d-e39d-4748-8271-5eebe1864e34"
      },
      "source": [
        "string = input(\"Enter the string:\");\n",
        "result = \"\";\n",
        "firstCharPresent = False\n",
        "if len(string) == 0:\n",
        "  print(\"Enter a Valid string\");\n",
        "else:\n",
        "  firstChar = string[0];\n",
        "  for i in string:\n",
        "      if i == firstChar:\n",
        "        if firstCharPresent == True:\n",
        "          result += \"$\"\n",
        "        else:\n",
        "          firstCharPresent = True;\n",
        "          result += i;\n",
        "      else:\n",
        "        result += i;\n",
        "  print(result)\n",
        "\n"
      ],
      "execution_count": null,
      "outputs": [
        {
          "output_type": "stream",
          "text": [
            "Enter the string:sunscreen\n",
            "sun$creen\n"
          ],
          "name": "stdout"
        }
      ]
    },
    {
      "cell_type": "markdown",
      "metadata": {
        "colab_type": "text",
        "id": "_bIP7s1MCzue"
      },
      "source": [
        "(5) Write a program with python which could accept two parameter a and b to calculate and output the result of S, where \n",
        "\n",
        "$\\ S=3.14*(1+a/b)^3$ (3 points)\n",
        "\n"
      ]
    },
    {
      "cell_type": "code",
      "metadata": {
        "colab_type": "code",
        "id": "w79QilHXD3Mg",
        "colab": {
          "base_uri": "https://localhost:8080/",
          "height": 69
        },
        "outputId": "7ceef363-4c3b-4a6e-9748-d57d6a64d30d"
      },
      "source": [
        "pi = 3.14\n",
        "a = int(input(\"Enter value of a\"));\n",
        "b = int(input(\"Enter value of b:\"));\n",
        "S = pi * pow((1 + a/b), 3)\n",
        "print(S)\n",
        "\n"
      ],
      "execution_count": null,
      "outputs": [
        {
          "output_type": "stream",
          "text": [
            "Enter value of a10\n",
            "Enter value of b:20\n",
            "10.5975\n"
          ],
          "name": "stdout"
        }
      ]
    },
    {
      "cell_type": "markdown",
      "metadata": {
        "colab_type": "text",
        "id": "xCa2bK9aD4Q3"
      },
      "source": [
        "(6) Write a Python program to concatenate following dictionaries to create a new one. (3 points)\n",
        "\n",
        "Sample Dictionary : dic1={1:10, 2:20}, dic2={3:30, 4:40}, dic3={5:50,6:60}, \n",
        "\n",
        "Expected Result : {1: 10, 2: 20, 3: 30, 4: 40, 5: 50, 6: 60}\n"
      ]
    },
    {
      "cell_type": "code",
      "metadata": {
        "colab_type": "code",
        "id": "_z4aLqAbEET1",
        "colab": {
          "base_uri": "https://localhost:8080/",
          "height": 34
        },
        "outputId": "091b5aa6-3931-4e34-df80-18c1c81513a5"
      },
      "source": [
        "dic1={1:10, 2:20}; \n",
        "dic2={3:30, 4:40}; \n",
        "dic3={5:50,6:60};\n",
        "dic4 = {}\n",
        "for d in (dic1, dic2, dic3): dic4.update(d)\n",
        "print(dic4)\n"
      ],
      "execution_count": null,
      "outputs": [
        {
          "output_type": "stream",
          "text": [
            "{1: 10, 2: 20, 3: 30, 4: 40, 5: 50, 6: 60}\n"
          ],
          "name": "stdout"
        }
      ]
    },
    {
      "cell_type": "markdown",
      "metadata": {
        "colab_type": "text",
        "id": "0v48Vqa7FrQh"
      },
      "source": [
        "(7) Write a Python program to check whether an element exists within a tuple. (3 points)"
      ]
    },
    {
      "cell_type": "code",
      "metadata": {
        "colab_type": "code",
        "id": "7WEmgq-DF2P1",
        "colab": {
          "base_uri": "https://localhost:8080/",
          "height": 69
        },
        "outputId": "04db8683-bd35-4ca2-b572-31edcf746baf"
      },
      "source": [
        "values = input(\"enter the elements for tuple (space separated):\")\n",
        "list = values.split(\" \")\n",
        "tup = tuple(list)\n",
        "element = input(\"enter the element to check whether it is exisiting or not: \")\n",
        "if (element in tup) == True:\n",
        "  print(element, \"is existing in Tuple\")\n",
        "else:\n",
        "  print(element, \"is not existing in Tuple\")"
      ],
      "execution_count": null,
      "outputs": [
        {
          "output_type": "stream",
          "text": [
            "enter the elements for tuple (space separated):corona\n",
            "enter the element to check whether it is exisiting or not: yes\n",
            "yes is not existing in Tuple\n"
          ],
          "name": "stdout"
        }
      ]
    },
    {
      "cell_type": "markdown",
      "metadata": {
        "colab_type": "text",
        "id": "vD5PYLMuGga_"
      },
      "source": [
        "(8) Write a Python program to find maximum and the minimum value in a set. (3 points)"
      ]
    },
    {
      "cell_type": "code",
      "metadata": {
        "colab_type": "code",
        "id": "t0D5kdJUGjjw",
        "colab": {
          "base_uri": "https://localhost:8080/",
          "height": 69
        },
        "outputId": "24d453ab-9092-4f8b-db53-d16d64164cb4"
      },
      "source": [
        "import sys\n",
        "values = input(\"enter the elements for set (space separated):\")\n",
        "list = values.split(\" \")\n",
        "mainSet = set(list)\n",
        "\n",
        "def maxFunc(nums):\n",
        "  maxi =  -sys.maxsize - 1\n",
        "  for i in nums:\n",
        "    maxi = max(maxi, int(i))\n",
        "  return maxi\n",
        "\n",
        "def minFunc(nums):\n",
        "  mini = sys.maxsize\n",
        "  for i in nums:\n",
        "    mini = min(mini, int(i))\n",
        "  return mini\n",
        "\n",
        "#Find maximum value\n",
        "print(\"max=\",maxFunc(mainSet))\n",
        "#Find minimum value\n",
        "print(\"min=\",minFunc(mainSet))\n"
      ],
      "execution_count": 4,
      "outputs": [
        {
          "output_type": "stream",
          "text": [
            "enter the elements for set (space separated):1 22 143 2897\n",
            "max= 2897\n",
            "min= 1\n"
          ],
          "name": "stdout"
        }
      ]
    },
    {
      "cell_type": "markdown",
      "metadata": {
        "colab_type": "text",
        "id": "uHkd-y5VhVWC"
      },
      "source": [
        "(9) Write a Python program to randomly divide the students in this class into five groups for term projects, each group should have at least 3 students but no more than 5 students (including 5). Here is the students list: (3 points for extra)\n",
        "\n",
        "studnet_list = ['vmb0067','pc0353','snd0097','yye0005','sg0940','bk0301','rak0120','rrk0058','spk0057','vl0135','nm0547','pn0159',\n",
        "                'msp0174','dd0420','ds0761','rs0850','ss1995','at0739','at0768','mv0299','tv0119','dy0091']"
      ]
    },
    {
      "cell_type": "code",
      "metadata": {
        "colab_type": "code",
        "id": "3iGbmcOBhTwy",
        "colab": {
          "base_uri": "https://localhost:8080/",
          "height": 54
        },
        "outputId": "98e4961c-2b89-428e-bbe2-b860fc676248"
      },
      "source": [
        "\n",
        "import random\n",
        "studnet_list = ['vmb0067','pc0353','snd0097','yye0005','sg0940','bk0301','rak0120','rrk0058','spk0057','vl0135','nm0547','pn0159', 'msp0174','dd0420','ds0761','rs0850','ss1995','at0739','at0768','mv0299','tv0119','dy0091']\n",
        "def listOf(l):\n",
        "  c = 0;\n",
        "  for i in l:\n",
        "    c +=1;\n",
        "  return c\n",
        "#print(len(list(studnet_list)))\n",
        "groups = [];\n",
        "while listOf(studnet_list)>=5:\n",
        "    random.shuffle(studnet_list)\n",
        "    groups.append(studnet_list[:3])\n",
        "    #print(studnet_list)\n",
        "    studnet_list.pop(0)\n",
        "    studnet_list.pop(0)\n",
        "    studnet_list.pop(0)\n",
        "groups.append(studnet_list)\n",
        "print(groups)\n"
      ],
      "execution_count": null,
      "outputs": [
        {
          "output_type": "stream",
          "text": [
            "[['snd0097', 'dy0091', 'bk0301'], ['rak0120', 'pn0159', 'nm0547'], ['vmb0067', 'ss1995', 'pc0353'], ['ds0761', 'yye0005', 'tv0119'], ['mv0299', 'rrk0058', 'at0768'], ['at0739', 'rs0850', 'msp0174'], ['dd0420', 'vl0135', 'sg0940', 'spk0057']]\n"
          ],
          "name": "stdout"
        }
      ]
    }
  ]
}