{
  "nbformat": 4,
  "nbformat_minor": 0,
  "metadata": {
    "colab": {
      "name": "INFO5731_Assignment_One.ipynb",
      "provenance": [],
      "collapsed_sections": [],
      "toc_visible": true
    },
    "kernelspec": {
      "name": "python3",
      "display_name": "Python 3"
    }
  },
  "cells": [
    {
      "cell_type": "markdown",
      "metadata": {
        "id": "Ryk8D1Q4Wsrp",
        "colab_type": "text"
      },
      "source": [
        "# **INFO5731 Assignment One**"
      ]
    },
    {
      "cell_type": "markdown",
      "metadata": {
        "id": "90_NR8c5XGWc",
        "colab_type": "text"
      },
      "source": [
        "# Question 1\n",
        "\n",
        "(20 points). Write a Python program to generate 12 random numbers between 1 and 100. Sort the list of numbers in ascending order and print it out. Sort the list of numbers in descending order and print it out. Calculate the average for the group and print it out."
      ]
    },
    {
      "cell_type": "code",
      "metadata": {
        "id": "5QX6bJjGWXY9",
        "colab_type": "code",
        "colab": {
          "base_uri": "https://localhost:8080/",
          "height": 69
        },
        "outputId": "b24bcf8d-af8e-4955-962c-ba0707ca40e7"
      },
      "source": [
        "import random\n",
        "asc=[]\n",
        "des=[]\n",
        "avg=0\n",
        "for x in range(0,12):\n",
        " b=random.randint(1,101)#generating random numbers\n",
        " avg+=b\n",
        " asc.append(b)\n",
        " des.append(b)\n",
        "asc.sort()#Ascending numbers\n",
        "des.sort(reverse=True)#desending number\n",
        "avg = avg/12 #average for the list\n",
        "print(\"Ascending order:{}\".format(asc))\n",
        "print(\"Decending order:{}\".format(des))\n",
        "print(\"Average for the group:{}\".format(avg))\n",
        "\n",
        "\n"
      ],
      "execution_count": 2,
      "outputs": [
        {
          "output_type": "stream",
          "text": [
            "Ascending order:[9, 21, 31, 35, 42, 55, 56, 82, 86, 89, 91, 99]\n",
            "Decending order:[99, 91, 89, 86, 82, 56, 55, 42, 35, 31, 21, 9]\n",
            "Average for the group:58.0\n"
          ],
          "name": "stdout"
        }
      ]
    },
    {
      "cell_type": "markdown",
      "metadata": {
        "id": "1F_PZdH9Sh49",
        "colab_type": "text"
      },
      "source": [
        "# Question 2\n",
        "(25 points). Write a program that will do the following string formatting tasks:\n",
        "\n",
        "(1) Ask the user to enter two sentences.\n",
        "\n",
        "(2) Make each sentence into a list. Each element in the list should correspond to a word in the sentence. For example, if the sentence is \"Alas! Am I alive? This is my first python program\", the program should print out ['Alas, '!', 'Am', 'I', 'alive, '?', 'This', 'is', 'my', 'first', 'python', 'program'].\n",
        "\n",
        "(3) Compare the two sentences. Print out a list of words that occur in both sentences.\n",
        "\n",
        "(4) Remove any punctuation from the sentence and print it back out. It should remove at least the following characters, but it can remove more: period(“.”), comma (“,”), semicolon (“;”), and colon (“:”)\n",
        "\n",
        "(5) Count the number of vowels in the sentences. Print out each vowel and the number of times it appears in the sentences, such as: a:2, e:1, i:0, etc"
      ]
    },
    {
      "cell_type": "code",
      "metadata": {
        "id": "Y0oOSlsOS0cq",
        "colab_type": "code",
        "colab": {
          "base_uri": "https://localhost:8080/",
          "height": 121
        },
        "outputId": "1fb98498-76ce-45e9-e90e-0090ff5d015e"
      },
      "source": [
        "import string\n",
        "count=0\n",
        "a=input()\n",
        "b=input()\n",
        "c=list(a.split())\n",
        "d=list(b.split())\n",
        "vowels = 'aeiou'\n",
        "e=[]\n",
        "for x in c:\n",
        " if x[-1] in string.punctuation:\n",
        " \tx=x[0:-1]\n",
        " for y in d:\n",
        " \tif y[-1] in string.punctuation:\n",
        " \t\ty=y[0:-1]\n",
        " \tif x.lower()==y.lower():\n",
        " \t\te.append(x)\n",
        " \t\tprint(e)\n",
        "t=str.maketrans('','',string.punctuation)\n",
        "a=a.translate(t)#Removing Punctuation\n",
        "b=b.translate(t)#Removing Punctuation\n",
        "print(a)\n",
        "print(b)\n",
        "count = {}.fromkeys(vowels, 0)\n",
        "a = a.casefold()\n",
        "b = b.casefold()\n",
        "for x in a:\n",
        " if x in count:\n",
        " \tcount[x] += 1\n",
        "for y in b:\n",
        " if y in count:\n",
        " \tcount[y] += 1\n",
        "print (count)\n",
        "\n"
      ],
      "execution_count": 6,
      "outputs": [
        {
          "output_type": "stream",
          "text": [
            "Hi, How are you?\n",
            "H!!i I am Fine! you\n",
            "['you']\n",
            "Hi How are you\n",
            "Hi I am Fine you\n",
            "{'a': 2, 'e': 2, 'i': 4, 'o': 3, 'u': 2}\n"
          ],
          "name": "stdout"
        }
      ]
    },
    {
      "cell_type": "markdown",
      "metadata": {
        "id": "CmFoI4jDS9nx",
        "colab_type": "text"
      },
      "source": [
        "# Question 3 \n",
        "\n",
        "(15 points). The formula that describes the volume V of a sphere with radius r is the following:\n",
        "\n",
        "$ V=\\frac{4}{3}\\ast\\ \\pi\\ast\\ r^3 $\n",
        "\n",
        "Write a program to calculate the value of V when r is in the range of 1–10. Output the result in the following format:\n",
        "\n",
        "\tr\tV\n",
        "\t1\t…\n",
        "\t2\t…\n",
        "\t3\t…\n"
      ]
    },
    {
      "cell_type": "code",
      "metadata": {
        "id": "pEyqeioAT95b",
        "colab_type": "code",
        "colab": {
          "base_uri": "https://localhost:8080/",
          "height": 225
        },
        "outputId": "ea448a30-c22c-4e48-de4f-13289e8c7675"
      },
      "source": [
        "print (\"r V\")\n",
        "for r in range(0,11):\n",
        " V=(4/3)*(22/7)*(r**3)\n",
        " print (\"{} {}\".format(r,V))\n",
        "\n"
      ],
      "execution_count": 7,
      "outputs": [
        {
          "output_type": "stream",
          "text": [
            "r V\n",
            "0 0.0\n",
            "1 4.19047619047619\n",
            "2 33.52380952380952\n",
            "3 113.14285714285712\n",
            "4 268.19047619047615\n",
            "5 523.8095238095237\n",
            "6 905.142857142857\n",
            "7 1437.333333333333\n",
            "8 2145.523809523809\n",
            "9 3054.857142857142\n",
            "10 4190.47619047619\n"
          ],
          "name": "stdout"
        }
      ]
    },
    {
      "cell_type": "code",
      "metadata": {
        "id": "pMCr3l8tnu0j",
        "colab_type": "code",
        "colab": {}
      },
      "source": [
        ""
      ],
      "execution_count": null,
      "outputs": []
    },
    {
      "cell_type": "markdown",
      "metadata": {
        "id": "z3tBE7E-Xn5X",
        "colab_type": "text"
      },
      "source": [
        "# Question 4\n",
        "\n",
        "(40 points). In the field of Data Science, data is often formatted as a comma-delimited (CSV) file, where each line in a file corresponds to a field's value. Refer to Chapter 9 (p. 106) for more information on comma-delimited files. To answer this question, you will need to download the file [Assignment1_denton_housing.csv](https://github.com/unt-iialab/INFO5731_FALL2020/blob/master/Assignments/Assignment1_denton_housing.csv) included with this assignment. The [file Assignment1_denton_housing.csv](https://github.com/unt-iialab/INFO5731_FALL2020/blob/master/Assignments/Assignment1_denton_housing.csv) contains statistics about housing in the city of Denton from 2008 to 2014. Write a program to implement the following questions.\n",
        "\n",
        "(1) (10 pts) Calculate the difference in the number of Occupied Housing Units from year to year and print it. The difference must be calculated for the consecutive years such as 2008-2009, 2009-2010 etc. Finally, print the values in the ascending order.\n",
        "\n",
        "(2) (10 pts) For all the years, calculate the percentage of housing units which are vacant an occupied. Print the results in the following format:\n",
        "\n",
        "Year Vacant Housing Units Occupied Housing Units\n",
        "\n",
        "    2008  30%   70%                          \n",
        "\t2009 ----- -----\n",
        "\t2010 ----- -----\n",
        "    2011 ----- -----\n",
        "\t2012 ----- -----\n",
        "    2013 ----- -----\n",
        "\t2014 ----- -----\n",
        "  \n",
        "  \n",
        "\n",
        "(3) (10 pts) Calculate and print the valued and years in which the highest number of housing units were vacant and occupied. Print the results in the following format:  \n",
        "\n",
        "                              Year\tValue\n",
        "\tVacant Housing Units\t  -----   -----\n",
        "\tOccupied Housing Units\t-----   -----\n",
        "\n",
        "(4) (10 pts) Calculate the harmonic mean of the total housing units and print it out. You can find the information about harmonic mean here: https://ncalculators.com/statistics/harmonic-mean-calculator.htm"
      ]
    },
    {
      "cell_type": "code",
      "metadata": {
        "id": "lqGYuHBhcsRH",
        "colab_type": "code",
        "colab": {
          "base_uri": "https://localhost:8080/",
          "height": 277
        },
        "outputId": "a3632fdd-878c-4c59-fe29-06fdfa527bb8"
      },
      "source": [
        "# Your code here\n",
        "#4 (1)\n",
        "print(\" solution 4 (1)\")\n",
        "import glob\n",
        "import re\n",
        "import csv\n",
        "\n",
        "filepath='Assignment1_denton_housing.csv'\n",
        "with open(filepath) as fp:\n",
        "   line = fp.readline()\n",
        "   line = fp.readline()\n",
        "   cnt = 1\n",
        "   dict = {}\n",
        "   while line:\n",
        "      line = fp.readline()\n",
        "      if \",\" in line:\n",
        "        lineArr = line.split(',')\n",
        "        if lineArr[1]==\"Occupied Housing Units\":\n",
        "          dict[lineArr[0]] = lineArr[2].rstrip()\n",
        "ans = []\n",
        "flag = 0\n",
        "temp = 0\n",
        "temp1 = 0\n",
        "for key in dict:\n",
        "  if flag == 0:\n",
        "    temp = dict[key]\n",
        "    #print(str(temp1) + \"-\" + dict[key])\n",
        "    temp1 = abs(int(temp1)-int(dict[key]))\n",
        "    ans.append(temp1)\n",
        "    flag = 1\n",
        "  else:\n",
        "    flag = 0\n",
        "    temp1 = dict[key]\n",
        "    #print(str(temp) + \"-\" + dict[key])\n",
        "    temp = abs(int(temp)-int(dict[key]))\n",
        "    ans.append(temp)\n",
        "ans.pop(0)\n",
        "print(sorted(ans))\n",
        "\n",
        "\n",
        "#4 (2)\n",
        "print(\" solution 4 (2)\")\n",
        "import glob\n",
        "import re\n",
        "import csv\n",
        "\n",
        "filepath='Assignment1_denton_housing.csv'\n",
        "with open(filepath) as fp:\n",
        "   line = fp.readline()\n",
        "   line = fp.readline()\n",
        "   cnt = 1\n",
        "   dict = {}\n",
        "   total = 0\n",
        "   occ = 0\n",
        "   vac = 0\n",
        "   while line:\n",
        "     line = fp.readline()\n",
        "     if \",\" in line:\n",
        "       lineArr = line.split(',')\n",
        "       if lineArr[1]==\"Total Housing Units\":\n",
        "         total = int(lineArr[2].rstrip())\n",
        "         #print(total)\n",
        "       if lineArr[1]== \"Occupied Housing Units\":\n",
        "         occ = int(lineArr[2].rstrip())\n",
        "         #print(lineArr[0])\n",
        "         #print(str(total) + \" \"+ str(vac) + \" \" + str(occ))\n",
        "         #print(str(total) + \" \" + str(vac) + \" \" + str(occ))\n",
        "         if(int(total) != 0 and int(vac) != 0 and int(occ) != 0):\n",
        "           vac = vac*100/total\n",
        "           occ = occ*100/total\n",
        "           print(lineArr[0] + \" \" + str(vac) + \" \" + str(occ))\n",
        "           total =0\n",
        "           vac =0\n",
        "           occ =0\n",
        "       if lineArr[1]==\"Vacant Housing Units\":\n",
        "         vac = int(lineArr[2].rstrip())\n",
        "         #print(vac)\n",
        "\n",
        "# 4(3)\n",
        "print(\" solution 4 (3)\")\n",
        "\n",
        "with open(filepath) as fp:\n",
        "   line = fp.readline()\n",
        "   line = fp.readline()\n",
        "   maxOccYear = 0\n",
        "   maxVacYear = 0\n",
        "   maxVacVal = 0\n",
        "   maxOccVal = 0\n",
        "   while line:\n",
        "      line = fp.readline()\n",
        "      if \",\" in line:\n",
        "        lineArr = line.split(',')\n",
        "        if lineArr[1]==\"Occupied Housing Units\":\n",
        "          if maxOccVal < int(lineArr[2].rstrip()):\n",
        "            maxOccVal = int(lineArr[2].rstrip())\n",
        "            maxOccYear = int(lineArr[0])\n",
        "        if lineArr[1]==\"Vacant Housing Units\":\n",
        "          if maxVacVal < int(lineArr[2].rstrip()):\n",
        "            maxVacVal = int(lineArr[2].rstrip())\n",
        "            maxVacYear = int(lineArr[0])\n",
        "print(\"                         year       value\")\n",
        "print(\"Vacant Housing Units     \"+str(maxVacYear)+\"       \"+str(maxVacVal))  \n",
        "print(\"Occupied Housing Units   \"+str(maxOccYear)+\"       \"+str(maxOccVal))\n",
        "\n",
        "# 4(4)\n",
        "print(\" solution 4 (4)\")\n",
        "n = 7\n",
        "sum = 0\n",
        "with open(filepath) as fp:\n",
        "   line = fp.readline()\n",
        "   line = fp.readline()\n",
        "   maxOccYear = 0\n",
        "   maxVacYear = 0\n",
        "   maxVacVal = 0\n",
        "   maxOccVal = 0\n",
        "   while line:\n",
        "      line = fp.readline()\n",
        "      if \",\" in line:\n",
        "        lineArr = line.split(',')\n",
        "        if lineArr[1]==\"Total Housing Units\":\n",
        "          sum = sum + (1/int(lineArr[2].rstrip()))\n",
        "print(n/sum)\n",
        "\n",
        "\n",
        "\n",
        "\n",
        "         \n",
        "          \n",
        "\n",
        "\n",
        "               \n",
        "          \n",
        "\n",
        "        "
      ],
      "execution_count": 87,
      "outputs": [
        {
          "output_type": "stream",
          "text": [
            " solution 4 (1)\n",
            "[303, 795, 1404, 1565, 2622, 5091]\n",
            " solution 4 (2)\n",
            "2013 8.801787504176412 91.19821249582358\n",
            "2012 6.677600230491345 93.32239976950865\n",
            "2011 9.379522229890688 90.62047777010932\n",
            "2010 8.142556337081672 91.85744366291833\n",
            "2009 9.07111572444872 90.92888427555128\n",
            "2008 10.88265281351653 89.11734718648347\n",
            " solution 4 (3)\n",
            "                         year       value\n",
            "Vacant Housing Units     2008       4483\n",
            "Occupied Housing Units   2014       46295\n",
            " solution 4 (4)\n",
            "50982.92168474687\n"
          ],
          "name": "stdout"
        }
      ]
    }
  ]
}