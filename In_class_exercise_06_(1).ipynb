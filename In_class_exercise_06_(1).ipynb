{
  "nbformat": 4,
  "nbformat_minor": 0,
  "metadata": {
    "colab": {
      "name": "In_class_exercise_06 (1).ipynb",
      "provenance": [],
      "collapsed_sections": []
    },
    "kernelspec": {
      "display_name": "Python 3",
      "language": "python",
      "name": "python3"
    },
    "language_info": {
      "codemirror_mode": {
        "name": "ipython",
        "version": 3
      },
      "file_extension": ".py",
      "mimetype": "text/x-python",
      "name": "python",
      "nbconvert_exporter": "python",
      "pygments_lexer": "ipython3",
      "version": "3.7.4"
    }
  },
  "cells": [
    {
      "cell_type": "markdown",
      "metadata": {
        "id": "view-in-github"
      },
      "source": [
        "<a href=\"https://colab.research.google.com/github/unt-iialab/INFO5731_Spring2020/blob/master/In_class_exercise/In_class_exercise_05.ipynb\" target=\"_parent\"><img src=\"https://colab.research.google.com/assets/colab-badge.svg\" alt=\"Open In Colab\"/></a>"
      ]
    },
    {
      "cell_type": "markdown",
      "metadata": {
        "id": "z7TahL04sVvR"
      },
      "source": [
        "# **The sixth in-class-exercise (20 points in total, 10/14/2020)**"
      ]
    },
    {
      "cell_type": "markdown",
      "metadata": {
        "id": "ejyZITr8sjnh"
      },
      "source": [
        "## **1. Rule-based information extraction (10 points)**\n",
        "\n",
        "Use any keywords related to data science, natural language processing, machine learning to search from google scholar, get the **titles** of 100 articles (either by web scraping or manually) about this topic, define a set of patterns to extract the research questions/problems, methods/algorithms/models, datasets, applications, or any other important information about this topic. "
      ]
    },
    {
      "cell_type": "code",
      "metadata": {
        "id": "XvR_O9D8sOUY",
        "outputId": "c7f636e7-ca67-4b13-9251-224f37c8d6f1",
        "colab": {
          "base_uri": "https://localhost:8080/",
          "height": 362
        }
      },
      "source": [
        "# Write your code here\n",
        "import pandas as pd\n",
        "\n",
        "files = pd.read_csv(\"5731_inclass6_dataset1.csv\")\n",
        "#display only 10\n",
        "files.head(10)"
      ],
      "execution_count": 15,
      "outputs": [
        {
          "output_type": "execute_result",
          "data": {
            "text/html": [
              "<div>\n",
              "<style scoped>\n",
              "    .dataframe tbody tr th:only-of-type {\n",
              "        vertical-align: middle;\n",
              "    }\n",
              "\n",
              "    .dataframe tbody tr th {\n",
              "        vertical-align: top;\n",
              "    }\n",
              "\n",
              "    .dataframe thead th {\n",
              "        text-align: right;\n",
              "    }\n",
              "</style>\n",
              "<table border=\"1\" class=\"dataframe\">\n",
              "  <thead>\n",
              "    <tr style=\"text-align: right;\">\n",
              "      <th></th>\n",
              "      <th>Title</th>\n",
              "      <th>Author</th>\n",
              "    </tr>\n",
              "  </thead>\n",
              "  <tbody>\n",
              "    <tr>\n",
              "      <th>0</th>\n",
              "      <td>_Introduction to_machine learning</td>\n",
              "      <td>E Alpaydin</td>\n",
              "    </tr>\n",
              "    <tr>\n",
              "      <th>1</th>\n",
              "      <td>Pattern recognition and_machine learning</td>\n",
              "      <td>CM Bishop</td>\n",
              "    </tr>\n",
              "    <tr>\n",
              "      <th>2</th>\n",
              "      <td>Genetic algorithms and_machine learning</td>\n",
              "      <td>DE Goldberg, JH Holland</td>\n",
              "    </tr>\n",
              "    <tr>\n",
              "      <th>3</th>\n",
              "      <td>Machine learning_in action</td>\n",
              "      <td>P Harrington</td>\n",
              "    </tr>\n",
              "    <tr>\n",
              "      <th>4</th>\n",
              "      <td>Gaussian processes in_machine learning</td>\n",
              "      <td>CE Rasmussen</td>\n",
              "    </tr>\n",
              "    <tr>\n",
              "      <th>5</th>\n",
              "      <td>Machine learning: a probabilistic perspective</td>\n",
              "      <td>KP Murphy</td>\n",
              "    </tr>\n",
              "    <tr>\n",
              "      <th>6</th>\n",
              "      <td>UCI_machine learning_repository</td>\n",
              "      <td>A Asuncion,_D Newman</td>\n",
              "    </tr>\n",
              "    <tr>\n",
              "      <th>7</th>\n",
              "      <td>Dlib-ml: A_machine learning_toolkit</td>\n",
              "      <td>DE King_</td>\n",
              "    </tr>\n",
              "    <tr>\n",
              "      <th>8</th>\n",
              "      <td>Machine-learning_research</td>\n",
              "      <td>TG Dietterich_</td>\n",
              "    </tr>\n",
              "    <tr>\n",
              "      <th>9</th>\n",
              "      <td>Machine learning: Trends, perspectives, and pr...</td>\n",
              "      <td>MI Jordan,_TM Mitchell</td>\n",
              "    </tr>\n",
              "  </tbody>\n",
              "</table>\n",
              "</div>"
            ],
            "text/plain": [
              "                                               Title                   Author\n",
              "0                  _Introduction to_machine learning               E Alpaydin\n",
              "1           Pattern recognition and_machine learning                CM Bishop\n",
              "2            Genetic algorithms and_machine learning  DE Goldberg, JH Holland\n",
              "3                         Machine learning_in action            P Harrington \n",
              "4             Gaussian processes in_machine learning             CE Rasmussen\n",
              "5      Machine learning: a probabilistic perspective                KP Murphy\n",
              "6                    UCI_machine learning_repository     A Asuncion,_D Newman\n",
              "7                Dlib-ml: A_machine learning_toolkit                 DE King_\n",
              "8                          Machine-learning_research           TG Dietterich_\n",
              "9  Machine learning: Trends, perspectives, and pr...   MI Jordan,_TM Mitchell"
            ]
          },
          "metadata": {
            "tags": []
          },
          "execution_count": 15
        }
      ]
    },
    {
      "cell_type": "code",
      "metadata": {
        "id": "WixDjQJKyyYE",
        "outputId": "6d271000-8f1e-4da4-8d25-1d2129b1dac4",
        "colab": {
          "base_uri": "https://localhost:8080/",
          "height": 34
        }
      },
      "source": [
        "t = lambda x: x['Title'].split(\" \")\n",
        "title = files.apply(t, axis=1).tolist()\n",
        "\n",
        "count = 0\n",
        "\n",
        "for i in range(len(title)):\n",
        "  for j in range(len(title[i])):\n",
        "    if \"science\" in title[i][j].strip().lower():\n",
        "      count = count + 1\n",
        "\n",
        "print(\"science is present in title for \", count, \"times\")"
      ],
      "execution_count": 16,
      "outputs": [
        {
          "output_type": "stream",
          "text": [
            "science is present in title for  8 times\n"
          ],
          "name": "stdout"
        }
      ]
    },
    {
      "cell_type": "code",
      "metadata": {
        "id": "WlM5PAkX0xJn",
        "outputId": "576d479f-e88c-47ff-d642-ee38e040c39d",
        "colab": {
          "base_uri": "https://localhost:8080/",
          "height": 268
        }
      },
      "source": [
        "#extract the author names which starts with A\n",
        "\n",
        "Names_starting_with_T = files['Author'].str.startswith(\"T\",na=False)\n",
        "\n",
        "files[Names_starting_with_T][[\"Author\"]]"
      ],
      "execution_count": 18,
      "outputs": [
        {
          "output_type": "execute_result",
          "data": {
            "text/html": [
              "<div>\n",
              "<style scoped>\n",
              "    .dataframe tbody tr th:only-of-type {\n",
              "        vertical-align: middle;\n",
              "    }\n",
              "\n",
              "    .dataframe tbody tr th {\n",
              "        vertical-align: top;\n",
              "    }\n",
              "\n",
              "    .dataframe thead th {\n",
              "        text-align: right;\n",
              "    }\n",
              "</style>\n",
              "<table border=\"1\" class=\"dataframe\">\n",
              "  <thead>\n",
              "    <tr style=\"text-align: right;\">\n",
              "      <th></th>\n",
              "      <th>Author</th>\n",
              "    </tr>\n",
              "  </thead>\n",
              "  <tbody>\n",
              "    <tr>\n",
              "      <th>8</th>\n",
              "      <td>TG Dietterich_</td>\n",
              "    </tr>\n",
              "    <tr>\n",
              "      <th>18</th>\n",
              "      <td>T Hey,_S Tansley, K Tolle_</td>\n",
              "    </tr>\n",
              "    <tr>\n",
              "      <th>38</th>\n",
              "      <td>T Young,_D Hazarika,_S PoriaO</td>\n",
              "    </tr>\n",
              "    <tr>\n",
              "      <th>49</th>\n",
              "      <td>T Hofmann,_B Sch_lkopf,_AJ Smola</td>\n",
              "    </tr>\n",
              "    <tr>\n",
              "      <th>54</th>\n",
              "      <td>T Nasukawa, J Yi_-</td>\n",
              "    </tr>\n",
              "    <tr>\n",
              "      <th>82</th>\n",
              "      <td>TM Mitchell_</td>\n",
              "    </tr>\n",
              "    <tr>\n",
              "      <th>90</th>\n",
              "      <td>T Sukehiro, S Torigoe, Y Kawakita</td>\n",
              "    </tr>\n",
              "  </tbody>\n",
              "</table>\n",
              "</div>"
            ],
            "text/plain": [
              "                               Author\n",
              "8                      TG Dietterich_\n",
              "18         T Hey,_S Tansley, K Tolle_\n",
              "38      T Young,_D Hazarika,_S PoriaO\n",
              "49   T Hofmann,_B Sch_lkopf,_AJ Smola\n",
              "54                 T Nasukawa, J Yi_-\n",
              "82                       TM Mitchell_\n",
              "90  T Sukehiro, S Torigoe, Y Kawakita"
            ]
          },
          "metadata": {
            "tags": []
          },
          "execution_count": 18
        }
      ]
    },
    {
      "cell_type": "code",
      "metadata": {
        "id": "R_2idBCd06eU"
      },
      "source": [
        ""
      ],
      "execution_count": null,
      "outputs": []
    },
    {
      "cell_type": "code",
      "metadata": {
        "id": "uQoJ3xWj0y8x"
      },
      "source": [
        ""
      ],
      "execution_count": null,
      "outputs": []
    },
    {
      "cell_type": "markdown",
      "metadata": {
        "id": "Dq_7VGmrsum4"
      },
      "source": [
        "## **2. Domain-specific information extraction (10 points)**\n",
        "\n",
        "For the legal case used in the data cleaning exercise: [01-05-1 Adams v Tanner.txt](https://github.com/unt-iialab/INFO5731_FALL2020/blob/master/In_class_exercise/01-05-1%20%20Adams%20v%20Tanner.txt), use [legalNLP](https://lexpredict-lexnlp.readthedocs.io/en/latest/modules/extract/extract.html#nlp-based-extraction-methods) to extract the following inforation from the text (if the information is not exist, just print None):\n",
        "\n",
        "(1) acts, e.g., “section 1 of the Advancing Hope Act, 1986”\n",
        "\n",
        "(2) amounts, e.g., “ten pounds” or “5.8 megawatts”\n",
        "\n",
        "(3) citations, e.g., “10 U.S. 100” or “1998 S. Ct. 1”\n",
        "\n",
        "(4) companies, e.g., “Lexpredict LLC”\n",
        "\n",
        "(5) conditions, e.g., “subject to …” or “unless and until …”\n",
        "\n",
        "(6) constraints, e.g., “no more than”\n",
        "\n",
        "(7) copyright, e.g., “(C) Copyright 2000 Acme”\n",
        "\n",
        "(8) courts, e.g., “Supreme Court of New York”\n",
        "\n",
        "(9) CUSIP, e.g., “392690QT3”\n",
        "\n",
        "(10) dates, e.g., “June 1, 2017” or “2018-01-01”\n",
        "\n",
        "(11) definitions, e.g., “Term shall mean …”\n",
        "\n",
        "(12) distances, e.g., “fifteen miles”\n",
        "\n",
        "(13) durations, e.g., “ten years” or “thirty days”\n",
        "\n",
        "(14) geographic and geopolitical entities, e.g., “New York” or “Norway”\n",
        "\n",
        "(15) money and currency usages, e.g., “$5” or “10 Euro”\n",
        "\n",
        "(16) percents and rates, e.g., “10%” or “50 bps”\n",
        "\n",
        "(17) PII, e.g., “212-212-2121” or “999-999-9999”\n",
        "\n",
        "(18) ratios, e.g.,” 3:1” or “four to three”\n",
        "\n",
        "(19) regulations, e.g., “32 CFR 170”\n",
        "\n",
        "(20) trademarks, e.g., “MyApp (TM)”\n",
        "\n",
        "(21) URLs, e.g., “http://acme.com/”\n",
        "\n",
        "(22) addresses, e.g., “1999 Mount Read Blvd, Rochester, NY, USA, 14615”\n",
        "\n",
        "(23) persons, e.g., “John Doe"
      ]
    },
    {
      "cell_type": "code",
      "metadata": {
        "id": "I703hzLW18R3",
        "outputId": "cf2330d4-b95c-428f-e2d8-e9318004b6f8",
        "colab": {
          "base_uri": "https://localhost:8080/",
          "height": 557
        }
      },
      "source": [
        "!pip install scipy\n",
        "!pip install pysbd\n",
        "!pip install lexnlp==0.2.7"
      ],
      "execution_count": 22,
      "outputs": [
        {
          "output_type": "stream",
          "text": [
            "Requirement already satisfied: scipy in /usr/local/lib/python3.6/dist-packages (1.0.0)\n",
            "Requirement already satisfied: numpy>=1.8.2 in /usr/local/lib/python3.6/dist-packages (from scipy) (1.18.5)\n",
            "Requirement already satisfied: pysbd in /usr/local/lib/python3.6/dist-packages (0.3.3)\n",
            "Requirement already satisfied: lexnlp==0.2.7 in /usr/local/lib/python3.6/dist-packages (0.2.7)\n",
            "Requirement already satisfied: pandas==0.23.4 in /usr/local/lib/python3.6/dist-packages (from lexnlp==0.2.7) (0.23.4)\n",
            "Requirement already satisfied: requests==2.22.0 in /usr/local/lib/python3.6/dist-packages (from lexnlp==0.2.7) (2.22.0)\n",
            "Requirement already satisfied: datefinder-lexpredict==0.6.2 in /usr/local/lib/python3.6/dist-packages (from lexnlp==0.2.7) (0.6.2)\n",
            "Requirement already satisfied: scipy==1.0.0 in /usr/local/lib/python3.6/dist-packages (from lexnlp==0.2.7) (1.0.0)\n",
            "Requirement already satisfied: nltk==3.2.4 in /usr/local/lib/python3.6/dist-packages (from lexnlp==0.2.7) (3.2.4)\n",
            "Requirement already satisfied: gensim==3.4.0 in /usr/local/lib/python3.6/dist-packages (from lexnlp==0.2.7) (3.4.0)\n",
            "Requirement already satisfied: reporters-db==1.0.12.1 in /usr/local/lib/python3.6/dist-packages (from lexnlp==0.2.7) (1.0.12.1)\n",
            "Requirement already satisfied: dateparser==0.7.0 in /usr/local/lib/python3.6/dist-packages (from lexnlp==0.2.7) (0.7.0)\n",
            "Requirement already satisfied: regex==2017.9.23 in /usr/local/lib/python3.6/dist-packages (from lexnlp==0.2.7) (2017.9.23)\n",
            "Requirement already satisfied: pycountry==18.5.26 in /usr/local/lib/python3.6/dist-packages (from lexnlp==0.2.7) (18.5.26)\n",
            "Requirement already satisfied: typing==3.6.2 in /usr/local/lib/python3.6/dist-packages (from lexnlp==0.2.7) (3.6.2)\n",
            "Requirement already satisfied: Unidecode==0.4.21 in /usr/local/lib/python3.6/dist-packages (from lexnlp==0.2.7) (0.4.21)\n",
            "Requirement already satisfied: scikit-learn==0.19.1 in /usr/local/lib/python3.6/dist-packages (from lexnlp==0.2.7) (0.19.1)\n",
            "Requirement already satisfied: num2words==0.5.5 in /usr/local/lib/python3.6/dist-packages (from lexnlp==0.2.7) (0.5.5)\n",
            "Requirement already satisfied: us==1.0.0 in /usr/local/lib/python3.6/dist-packages (from lexnlp==0.2.7) (1.0.0)\n",
            "Requirement already satisfied: pytz>=2011k in /usr/local/lib/python3.6/dist-packages (from pandas==0.23.4->lexnlp==0.2.7) (2018.9)\n",
            "Requirement already satisfied: python-dateutil>=2.5.0 in /usr/local/lib/python3.6/dist-packages (from pandas==0.23.4->lexnlp==0.2.7) (2.8.1)\n",
            "Requirement already satisfied: numpy>=1.9.0 in /usr/local/lib/python3.6/dist-packages (from pandas==0.23.4->lexnlp==0.2.7) (1.18.5)\n",
            "Requirement already satisfied: certifi>=2017.4.17 in /usr/local/lib/python3.6/dist-packages (from requests==2.22.0->lexnlp==0.2.7) (2020.6.20)\n",
            "Requirement already satisfied: idna<2.9,>=2.5 in /usr/local/lib/python3.6/dist-packages (from requests==2.22.0->lexnlp==0.2.7) (2.8)\n",
            "Requirement already satisfied: urllib3!=1.25.0,!=1.25.1,<1.26,>=1.21.1 in /usr/local/lib/python3.6/dist-packages (from requests==2.22.0->lexnlp==0.2.7) (1.24.3)\n",
            "Requirement already satisfied: chardet<3.1.0,>=3.0.2 in /usr/local/lib/python3.6/dist-packages (from requests==2.22.0->lexnlp==0.2.7) (3.0.4)\n",
            "Requirement already satisfied: six in /usr/local/lib/python3.6/dist-packages (from nltk==3.2.4->lexnlp==0.2.7) (1.15.0)\n",
            "Requirement already satisfied: smart-open>=1.2.1 in /usr/local/lib/python3.6/dist-packages (from gensim==3.4.0->lexnlp==0.2.7) (2.2.0)\n",
            "Requirement already satisfied: tzlocal in /usr/local/lib/python3.6/dist-packages (from dateparser==0.7.0->lexnlp==0.2.7) (1.5.1)\n",
            "Requirement already satisfied: jellyfish==0.5.6 in /usr/local/lib/python3.6/dist-packages (from us==1.0.0->lexnlp==0.2.7) (0.5.6)\n"
          ],
          "name": "stdout"
        }
      ]
    },
    {
      "cell_type": "code",
      "metadata": {
        "id": "dQEWZR5I1sn2"
      },
      "source": [
        "import lexnlp.extract.en.copyright\n",
        "import lexnlp.extract.en.courts\n",
        "import lexnlp.extract.en.cusip\n",
        "import lexnlp.extract.en.dimport nltk\n",
        "nltk.download('averaged_perceptron_tagger')\n",
        "nltk.download('wordnet')\n",
        "import lexnlp.extract.en\n",
        "import lexnlp.extract.en.citations\n",
        "import lexnlp.extract.en.entities.nltk_re\n",
        "import lexnlp.extract.en.conditions\n",
        "import lexnlp.extract.en.constraintsates\n",
        "import lexnlp.extract.en.definitions\n",
        "import lexnlp.extract.en.distances\n",
        "import lexnlp.extract.en.durations\n",
        "import lexnlp.extract.en.geoentities\n",
        "import lexnlp.extract.en.money\n",
        "import lexnlp.extract.en.percents\n",
        "import lexnlp.extract.en.pii\n",
        "import lexnlp.extract.en.ratios\n",
        "import lexnlp.extract.en.regulations\n",
        "import lexnlp.extract.en.trademarks\n",
        "import lexnlp.extract.en.urls"
      ],
      "execution_count": null,
      "outputs": []
    },
    {
      "cell_type": "code",
      "metadata": {
        "id": "quq40RIP1l22"
      },
      "source": [
        "text= (open(\"5731.txt\", \"r\")).read()\n",
        "print(\"acts:  \",list(lexnlp.extract.en.acts.get_acts(text)))\n",
        "print(\"amounts: \",list(lexnlp.extract.en.amounts.get_amounts(text)))\n",
        "print(\"citations: \", list(lexnlp.extract.en.citations.get_citations(text)))\n",
        "print(\"companies: \",list(lexnlp.extract.en.entities.nltk_re.get_companies(text)))\n",
        "print(\"conditions:\",list(lexnlp.extract.en.conditions.get_conditions(text)))\n",
        "print(\"constraints:\",list(lexnlp.extract.en.constraints.get_constraints(text)))\n",
        "print(\"copyright:\",list(lexnlp.extract.en.copyright.get_copyright(text)))\n",
        "print(\"dates:\",list(lexnlp.extract.en.dates.get_dates(text)))\n",
        "print(\"distances\",list(lexnlp.extract.en.distances.get_distances(text)))\n",
        "print(\"durations:\",list(lexnlp.extract.en.durations.get_durations(text)))\n",
        "print(\"cusip:\",list(lexnlp.extract.en.cusip.get_cusip(text)))\n",
        "print(\"definations\",list(lexnlp.extract.en.definitions.get_definitions(text)))\n",
        "print(\"money\",list(lexnlp.extract.en.money.get_money(text)))\n",
        "print(\"percents\",list(lexnlp.extract.en.percents.get_percents(text)))\n",
        "print(\"pii\",list(lexnlp.extract.en.pii.get_pii(text)))\n",
        "print(\"ratios\",list(lexnlp.extract.en.ratios.get_ratios(text)))\n",
        "print(\"regualtons\",list(lexnlp.extract.en.regulations.get_regulations(text)))\n",
        "print(\"trademarks:\",list(lexnlp.extract.en.trademarks.get_trademarks(text)))\n",
        "print(\"urls\",list(lexnlp.extract.en.urls.get_urls(text)))"
      ],
      "execution_count": null,
      "outputs": []
    }
  ]
}