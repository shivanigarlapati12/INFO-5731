{
  "nbformat": 4,
  "nbformat_minor": 0,
  "metadata": {
    "kernelspec": {
      "display_name": "Python 3",
      "language": "python",
      "name": "python3"
    },
    "language_info": {
      "codemirror_mode": {
        "name": "ipython",
        "version": 3
      },
      "file_extension": ".py",
      "mimetype": "text/x-python",
      "name": "python",
      "nbconvert_exporter": "python",
      "pygments_lexer": "ipython3",
      "version": "3.7.4"
    },
    "colab": {
      "name": "In-class-exercise-03.ipynb",
      "provenance": [],
      "collapsed_sections": []
    }
  },
  "cells": [
    {
      "cell_type": "markdown",
      "metadata": {
        "id": "0mDpckCMFkfe",
        "colab_type": "text"
      },
      "source": [
        "## The third In-class-exercise (9/16/2020, 20 points in total)"
      ]
    },
    {
      "cell_type": "markdown",
      "metadata": {
        "id": "vcuVRD96Fkfh",
        "colab_type": "text"
      },
      "source": [
        "The purpose of this exercise is to under users' information needs, then collect the data for analysis."
      ]
    },
    {
      "cell_type": "markdown",
      "metadata": {
        "id": "NL-OXakMFkfj",
        "colab_type": "text"
      },
      "source": [
        "Question 1 (8 points): Describe an interesting research question (or practical question) you have in mind, what kind of data should be collected to answer the question(s)? How many data needed for the analysis? The detail steps for collecting and save the data. "
      ]
    },
    {
      "cell_type": "code",
      "metadata": {
        "id": "rhZhR4YgFkfl",
        "colab_type": "code",
        "colab": {}
      },
      "source": [
        "# Your answer here (no code for this question, write down your answer as detail as possible for the above questions):\n",
        "\n",
        "'''\n",
        "My practical question leads to a everyday question, which is about analyzing about an actor who is well renowned person known all over,he\n",
        " is the top actor in Indian Film Industry,As my favourite actor is Rajinikanth and here I have analyzed about his movies, \n",
        " his early life and his social ativities using WIKI. This data in a way is unstructed, as we are requesting the source from wiki, which is not\n",
        " tabularised. There is no defined data that is needed for the analysis\n",
        "\n",
        "Web Scrapping is used for collection of data. I used library BeautifulSoup, package for parsing HTML and XML documents. And also\n",
        " bs4,requests, urllib.\n",
        "\n",
        "\n",
        "\n",
        "\n",
        "\n",
        "\n",
        "\n",
        "'''"
      ],
      "execution_count": null,
      "outputs": []
    },
    {
      "cell_type": "markdown",
      "metadata": {
        "id": "5iEBdWgoFkfs",
        "colab_type": "text"
      },
      "source": [
        "Question 2 (12 points): Write python code to collect 500 items of the data you plan to collect above."
      ]
    },
    {
      "cell_type": "code",
      "metadata": {
        "id": "gzHXEGswFkft",
        "colab_type": "code",
        "colab": {}
      },
      "source": [
        "# You code here (Please add comments in the code):\n",
        "\n",
        "#importing required Libraries\n",
        "from bs4 import BeautifulSoup\n",
        "import bs4\n",
        "import requests\n",
        "from googlesearch import search \n",
        "import time\n",
        "import urllib.request\n"
      ],
      "execution_count": null,
      "outputs": []
    },
    {
      "cell_type": "code",
      "metadata": {
        "id": "aBJhEkcFNmXE",
        "colab_type": "code",
        "colab": {
          "base_uri": "https://localhost:8080/",
          "height": 765
        },
        "outputId": "35f9d402-92d0-40d1-b182-96e84830dc05"
      },
      "source": [
        "def web_data_extract(URL_use):\n",
        "    res = requests.get(URL_use)\n",
        "    if res is not None:\n",
        "        html_page = res.content\n",
        "        soup = BeautifulSoup(html_page, 'html.parser')\n",
        "        text = soup.find_all(text=True)\n",
        "\n",
        "        output = ''\n",
        "        blacklist = [\n",
        "            '[document]',\n",
        "            'noscript',\n",
        "            'header',\n",
        "            'html',\n",
        "            'meta',\n",
        "            'head', \n",
        "            'input',\n",
        "            'script'\n",
        "        ]\n",
        "\n",
        "        for t in text:\n",
        "            if t.parent.name not in blacklist:\n",
        "                output += '{} '.format(t)\n",
        "\n",
        "        print(output)\n",
        "    else:\n",
        "        print(\"HTTP connection error\")\n",
        "\n",
        "def Wiki_search(topic_to_search):\n",
        "    wiki=requests.get(\"https://en.wikipedia.org/wiki/\"+topic_to_search)\n",
        "    if wiki is not None:\n",
        "        soup=BeautifulSoup(wiki.text,'html')\n",
        "        print(soup.find('title'))\n",
        "        wiki_cont = int(input(\"Please choose any of the following\\n1.Contents\\n2.Table\\n3.Overview\\n\"))\n",
        "        if wiki_cont == 1:\n",
        "            contents=soup.find_all(\"div\",class_='toc')\n",
        "            for i in contents:\n",
        "                print(i.text)\n",
        "        elif wiki_cont == 2:\n",
        "            overview=soup.find_all('table',class_='infobox vevent')\n",
        "            for z in overview:\n",
        "                print(z.text)\n",
        "        elif wiki_cont == 3:\n",
        "            paragraphs = soup.select(\"p\")\n",
        "            intro = '\\n'.join([ para.text for para in paragraphs[0:5]])\n",
        "            print(intro)\n",
        "    else:\n",
        "        print(\"HTTP connection error\")\n",
        "        topic_to_search = str(input('Please enter the topic to search\\n'))\n",
        "topic_to_search = str(input('Please enter the topic to search\\n'))\n",
        "Wiki_search(topic_to_search)\n",
        "\n",
        "\n"
      ],
      "execution_count": null,
      "outputs": [
        {
          "output_type": "stream",
          "text": [
            "Please enter the topic to search\n",
            "Rajinikanth\n",
            "<title>Rajinikanth - Wikipedia</title>\n",
            "Please choose any of the following\n",
            "1.Contents\n",
            "2.Table\n",
            "3.Overview\n",
            "1\n",
            "Contents\n",
            "\n",
            "1 Early life\n",
            "2 Acting career\n",
            "\n",
            "2.1 1975–1977: Early career\n",
            "2.2 1978–1989: Experimentation and breakthrough\n",
            "2.3 1990–2001: Commercial stardom\n",
            "2.4 2002–2010: Struggles, resurgence and acclaim\n",
            "2.5 2011–present: Hospitalisation and return\n",
            "\n",
            "\n",
            "3 Political career\n",
            "4 Acclaim and criticism\n",
            "\n",
            "4.1 Acting style\n",
            "4.2 Comments on social issues\n",
            "4.3 Income Tax and money lending case\n",
            "\n",
            "\n",
            "5 Personal life\n",
            "\n",
            "5.1 Relationships\n",
            "5.2 Family\n",
            "5.3 Views\n",
            "5.4 Philanthropy\n",
            "\n",
            "\n",
            "6 Awards and honours\n",
            "7 Notes\n",
            "8 References\n",
            "9 Bibliography\n",
            "10 Further reading\n",
            "11 External links\n",
            "\n",
            "\n"
          ],
          "name": "stdout"
        }
      ]
    }
  ]
}