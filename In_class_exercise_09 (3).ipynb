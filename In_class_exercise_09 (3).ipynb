{
  "nbformat": 4,
  "nbformat_minor": 0,
  "metadata": {
    "kernelspec": {
      "display_name": "Python 3",
      "language": "python",
      "name": "python3"
    },
    "language_info": {
      "codemirror_mode": {
        "name": "ipython",
        "version": 3
      },
      "file_extension": ".py",
      "mimetype": "text/x-python",
      "name": "python",
      "nbconvert_exporter": "python",
      "pygments_lexer": "ipython3",
      "version": "3.7.4"
    },
    "colab": {
      "name": "In_class_exercise_09.ipynb",
      "provenance": []
    }
  },
  "cells": [
    {
      "cell_type": "markdown",
      "metadata": {
        "id": "2y07AEFl_u0c"
      },
      "source": [
        "# **The ninth in-class-exercise (20 points in total, 11/11/2020)**"
      ]
    },
    {
      "cell_type": "markdown",
      "metadata": {
        "id": "uksg-IV-_u0f"
      },
      "source": [
        "The purpose of the exercise is to practice different machine learning algorithms for text classification as well as the performance evaluation. In addition, you are requried to conduct *10 fold cross validation (https://scikit-learn.org/stable/modules/cross_validation.html)* in the training. \n",
        "\n",
        "The dataset can be download from here: https://github.com/unt-iialab/INFO5731_FALL2020/blob/master/In_class_exercise/exercise09_datacollection.zip. The dataset contains two files train data and test data for sentiment analysis in IMDB review, it has two categories: 1 represents positive and 0 represents negative. You need to split the training data into training and validate data (80% for training and 20% for validation, https://towardsdatascience.com/train-test-split-and-cross-validation-in-python-80b61beca4b6) and perform 10 fold cross validation while training the classifier. The final trained model was final evaluated on the test data. \n",
        "\n",
        "Algorithms:\n",
        "\n",
        "(1) MultinominalNB\n",
        "\n",
        "(2) SVM \n",
        "\n",
        "(3) KNN \n",
        "\n",
        "(4) Decision tree\n",
        "\n",
        "(5) Random Forest\n",
        "\n",
        "(6) XGBoost\n",
        "\n",
        "Evaluation measurement:\n",
        "\n",
        "(1) Accuracy\n",
        "\n",
        "(2) Recall\n",
        "\n",
        "(3) Precison \n",
        "\n",
        "(4) F-1 score"
      ]
    },
    {
      "cell_type": "code",
      "metadata": {
        "id": "pDZVP6VaDOtG"
      },
      "source": [
        "import numpy as np\n",
        "from sklearn import tree\n",
        "from sklearn.ensemble import GradientBoostingClassifier\n",
        "from sklearn.ensemble import RandomForestClassifier\n",
        "import pandas as pd\n",
        "from sklearn.model_selection import train_test_split\n",
        "train=pd.read_csv(\"traindata.csv\", encoding=\"cp1252\")\n",
        "train=train[{'1','a stirring,'}]\n",
        "from sklearn.naive_bayes import MultinomialNB\n",
        "from sklearn.neighbors import KNeighborsClassifier\n",
        "from sklearn.pipeline import Pipeline\n",
        "from sklearn import metrics\n",
        "from sklearn.svm import LinearSVC\n",
        "from sklearn.pipeline import Pipeline\n",
        "from sklearn.feature_extraction.text import CountVectorizer\n",
        "from sklearn.model_selection import cross_val_score\n",
        "from sklearn.feature_extraction.text import TfidfTransformer\n",
        "from sklearn.datasets import fetch_20newsgroups\n",
        "test=pd.read_csv(\"testdata.csv\",header=None)\n",
        "test=test[{0,1}]"
      ],
      "execution_count": null,
      "outputs": []
    },
    {
      "cell_type": "code",
      "metadata": {
        "id": "rUMxVqysDcqO"
      },
      "source": [
        "a=np.array(train['a stirring,'])\n",
        "test_a=np.array(test[1])\n",
        "b=np.array(train['1'])\n",
        "test_b=np.array(test[0])\n",
        "a_train, a_test, b_train, b_test = train_test_split(a, b, test_size=0.2, random_state=40)\n",
        "accuracy={}\n",
        "text_clf_multinb = Pipeline([('vect', CountVectorizer()),('tfidf', TfidfTransformer()),('clf', MultinomialNB())])\n",
        "text_clf_multinb.fit(a_train, b_train)\n",
        "accuracy['multinb']=metrics.accuracy_score(b_test,predicted_value)"
      ],
      "execution_count": null,
      "outputs": []
    },
    {
      "cell_type": "code",
      "metadata": {
        "id": "z7hcW-jsK-mc"
      },
      "source": [
        "predicted_value = text_clf_multinb.predict(a_test)          #MultiomonailNB_Alogrithm             \n",
        "scores = cross_value(text_clf_multinb, test_a, test_b, cv=10)  \n",
        "print(metrics.classification_report(b_test, predicted_value))\n",
        "print(\"Accuracy:\",scores.mean())\n",
        "accuracy['multinb']=metrics.accuracy_score(b_test,predicted_value)"
      ],
      "execution_count": null,
      "outputs": []
    },
    {
      "cell_type": "code",
      "metadata": {
        "id": "JfeWAZJqLl_u"
      },
      "source": [
        "text_clf_svm = Pipeline([('vect', CountVectorizer()),('tfidf', TfidfTransformer()),('clf', LinearSVC())])\n",
        "text_clf_svm.fit(a_train, b_train)    #SVM_Alogithm"
      ],
      "execution_count": null,
      "outputs": []
    },
    {
      "cell_type": "code",
      "metadata": {
        "id": "kzHJQ6QxLsoi"
      },
      "source": [
        "predicted_value = text_clf_svm.predict(a_test)\n",
        "scores = cross_value(text_clf_svm, test_a, test_b, cv=10)\n",
        "print(\"Accuracy:\",scores.mean())\n",
        "print(metrics.classification_report(b_test, predicted_value))\n",
        "accuracy['svm']=metrics.accuracy_score(b_test,predicted_value)"
      ],
      "execution_count": null,
      "outputs": []
    },
    {
      "cell_type": "code",
      "metadata": {
        "id": "mgcEZM35EWsH"
      },
      "source": [
        "text_clf_tree = Pipeline([('vect', CountVectorizer()),('tfidf', TfidfTransformer()),('clf', tree.DecisionTreeClassifier())])"
      ],
      "execution_count": null,
      "outputs": []
    },
    {
      "cell_type": "code",
      "metadata": {
        "id": "fxSOHwuaMpXN"
      },
      "source": [
        "text_clf_tree.fit(a_train, b_train)        #Decision_tree_Alogithm\n",
        "\n",
        "\n",
        "predicted_value = text_clf_tree.predict(a_test)\n",
        "\n",
        "print(metrics.classification_report(b_test, predicted_value))\n",
        "scores = cross_val_score(text_clf_tree, test_a, test_b, cv=10)\n",
        "print(\"Accuracy:\",scores.mean())\n",
        "accuracy['decisin_tree']=metrics.accuracy_score(b_test,predicted_value)"
      ],
      "execution_count": null,
      "outputs": []
    }
  ]
}