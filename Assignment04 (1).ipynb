{
  "nbformat": 4,
  "nbformat_minor": 0,
  "metadata": {
    "colab": {
      "name": "Assignment04.ipynb",
      "provenance": [],
      "collapsed_sections": [],
      "toc_visible": true
    },
    "kernelspec": {
      "name": "python3",
      "display_name": "Python 3"
    }
  },
  "cells": [
    {
      "cell_type": "markdown",
      "metadata": {
        "id": "view-in-github"
      },
      "source": [
        "<a href=\"https://colab.research.google.com/github/rajitakolla/computational_methods/blob/master/Assignment04.ipynb\" target=\"_parent\"><img src=\"https://colab.research.google.com/assets/colab-badge.svg\" alt=\"Open In Colab\"/></a>"
      ]
    },
    {
      "cell_type": "markdown",
      "metadata": {
        "id": "f57nwVT0otpH"
      },
      "source": [
        "#**INFO5731 Assignment Four**\n",
        "\n",
        "n this assignment, you are required to conduct topic modeling, sentiment analysis, and regression analysis.\n",
        "\n",
        "\n",
        "#**Question 1: Topic Modeling**\n",
        "\n",
        "\n",
        "\n",
        "(30 points).This question is designed to help you understand topic modeling better as well as how to visualize topic modeling results, aims to collect the human meanings of documents. Based on the yelp review data (only the review text will be used for this question), which can be download from Dropbox: https://www.dropbox.com/s/59hsrk56sfwh9u2/Assignment%20four%20data%20Yelp%20%28question%201%20and%202%29.zip?dl=0, select two models and write a python program to identify the top 20 topics (with 15 words for each topic) in the dataset. Before answering this question, please review the materials in lesson 8, as well as the introduction of these models by the links provided.\n",
        "\n",
        "(1) Labeled LDA (LLDA): https://github.com/JoeZJH/Labeled-LDA-Python\n",
        "\n",
        "(2) Biterm Topic Model (BTM): https://github.com/markoarnauto/biterm\n",
        "\n",
        "(3) HMM-LDA: https://github.com/dongwookim-ml/python-topic-model\n",
        "\n",
        "(4) SupervisedLDA: https://github.com/dongwookim-ml/python-topic-model/tree/master/notebook\n",
        "\n",
        "(5) Relational Topic Model: https://github.com/dongwookim-ml/python-topic-model/tree/master/notebook\n",
        "\n",
        "(6) LDA2VEC: https://github.com/cemoody/lda2vec\n",
        "\n",
        "(7) BERTopic: https://github.com/MaartenGr/BERTopic\n",
        "\n",
        "(8) LDA+BERT Topic Modeling: https://www.kaggle.com/dskswu/topic-modeling-bert-lda\n",
        "\n",
        "(9) Clustering for Topic models: (paper: https://arxiv.org/abs/2004.14914), (code: https://github.com/adalmia96/Cluster-Analysis)\n",
        "\n",
        "The following information should be reported:\n",
        "\n",
        "(1) Top 20 clusters for topic modeling.\n",
        "\n",
        "(2) Summarize and describe the topic for each cluster.\n",
        "\n",
        "(3) Visualize the topic modeling reasults by using pyLDAVis: https://www.machinelearningplus.com/nlp/topic-modeling-visualization-how-to-present-results-lda-models/#14.-pyLDAVis\n",
        "\n",
        "\n"
      ]
    },
    {
      "cell_type": "code",
      "metadata": {
        "id": "YT1woj-Snj-1"
      },
      "source": [
        "import pickle\n",
        "import logging\n",
        " \n",
        "import numpy as np\n",
        "import matplotlib\n",
        "import matplotlib.pyplot as plt\n",
        "\n"
      ],
      "execution_count": null,
      "outputs": []
    },
    {
      "cell_type": "code",
      "metadata": {
        "colab": {
          "base_uri": "https://localhost:8080/",
          "height": 351
        },
        "id": "23WNZAf1XHIm",
        "outputId": "c35a4d65-dea1-47de-ea27-74f2a3e5155f"
      },
      "source": [
        "import os\n",
        "os.getcwd()\n",
        "\n",
        "from zipfile import ZipFile\n",
        "dir = '/content/assignmentYelp.zip'\n",
        "\n",
        "with ZipFile(dir, 'r') as item:  \n",
        "    print('Extracting all the files now...') \n",
        "    item.extractall() \n",
        "    print('Done!')"
      ],
      "execution_count": null,
      "outputs": [
        {
          "output_type": "error",
          "ename": "FileNotFoundError",
          "evalue": "ignored",
          "traceback": [
            "\u001b[0;31m---------------------------------------------------------------------------\u001b[0m",
            "\u001b[0;31mFileNotFoundError\u001b[0m                         Traceback (most recent call last)",
            "\u001b[0;32m<ipython-input-23-a33f5c61463b>\u001b[0m in \u001b[0;36m<module>\u001b[0;34m()\u001b[0m\n\u001b[1;32m      5\u001b[0m \u001b[0mworkingDirecoty\u001b[0m \u001b[0;34m=\u001b[0m \u001b[0;34m'/content/assignmentYelp.zip'\u001b[0m\u001b[0;34m\u001b[0m\u001b[0;34m\u001b[0m\u001b[0m\n\u001b[1;32m      6\u001b[0m \u001b[0;34m\u001b[0m\u001b[0m\n\u001b[0;32m----> 7\u001b[0;31m \u001b[0;32mwith\u001b[0m \u001b[0mZipFile\u001b[0m\u001b[0;34m(\u001b[0m\u001b[0mworkingDirecoty\u001b[0m\u001b[0;34m,\u001b[0m \u001b[0;34m'r'\u001b[0m\u001b[0;34m)\u001b[0m \u001b[0;32mas\u001b[0m \u001b[0mitem\u001b[0m\u001b[0;34m:\u001b[0m\u001b[0;34m\u001b[0m\u001b[0;34m\u001b[0m\u001b[0m\n\u001b[0m\u001b[1;32m      8\u001b[0m     \u001b[0mprint\u001b[0m\u001b[0;34m(\u001b[0m\u001b[0;34m'Extracting all the files now...'\u001b[0m\u001b[0;34m)\u001b[0m\u001b[0;34m\u001b[0m\u001b[0;34m\u001b[0m\u001b[0m\n\u001b[1;32m      9\u001b[0m     \u001b[0mitem\u001b[0m\u001b[0;34m.\u001b[0m\u001b[0mextractall\u001b[0m\u001b[0;34m(\u001b[0m\u001b[0;34m)\u001b[0m\u001b[0;34m\u001b[0m\u001b[0;34m\u001b[0m\u001b[0m\n",
            "\u001b[0;32m/usr/lib/python3.6/zipfile.py\u001b[0m in \u001b[0;36m__init__\u001b[0;34m(self, file, mode, compression, allowZip64)\u001b[0m\n\u001b[1;32m   1111\u001b[0m             \u001b[0;32mwhile\u001b[0m \u001b[0;32mTrue\u001b[0m\u001b[0;34m:\u001b[0m\u001b[0;34m\u001b[0m\u001b[0;34m\u001b[0m\u001b[0m\n\u001b[1;32m   1112\u001b[0m                 \u001b[0;32mtry\u001b[0m\u001b[0;34m:\u001b[0m\u001b[0;34m\u001b[0m\u001b[0;34m\u001b[0m\u001b[0m\n\u001b[0;32m-> 1113\u001b[0;31m                     \u001b[0mself\u001b[0m\u001b[0;34m.\u001b[0m\u001b[0mfp\u001b[0m \u001b[0;34m=\u001b[0m \u001b[0mio\u001b[0m\u001b[0;34m.\u001b[0m\u001b[0mopen\u001b[0m\u001b[0;34m(\u001b[0m\u001b[0mfile\u001b[0m\u001b[0;34m,\u001b[0m \u001b[0mfilemode\u001b[0m\u001b[0;34m)\u001b[0m\u001b[0;34m\u001b[0m\u001b[0;34m\u001b[0m\u001b[0m\n\u001b[0m\u001b[1;32m   1114\u001b[0m                 \u001b[0;32mexcept\u001b[0m \u001b[0mOSError\u001b[0m\u001b[0;34m:\u001b[0m\u001b[0;34m\u001b[0m\u001b[0;34m\u001b[0m\u001b[0m\n\u001b[1;32m   1115\u001b[0m                     \u001b[0;32mif\u001b[0m \u001b[0mfilemode\u001b[0m \u001b[0;32min\u001b[0m \u001b[0mmodeDict\u001b[0m\u001b[0;34m:\u001b[0m\u001b[0;34m\u001b[0m\u001b[0;34m\u001b[0m\u001b[0m\n",
            "\u001b[0;31mFileNotFoundError\u001b[0m: [Errno 2] No such file or directory: '/content/assignmentYelp.zip'"
          ]
        }
      ]
    },
    {
      "cell_type": "code",
      "metadata": {
        "id": "WML_WbW-ZMOr"
      },
      "source": [
        "# read the list of files in folders\n",
        "import glob\n",
        "import json\n",
        "fn = glob.glob(\"/content/assignmentYelp/*.json\")\n",
        "tf = list()\n",
        "st = list()\n",
        "dateValue = list()\n",
        "def set_sentiment(x):\n",
        "  if(x == 5):\n",
        "    return \"Very positive\"\n",
        "  elif(x==1):\n",
        "    return \"Very Negative\"\n",
        "  elif(x==3):\n",
        "    return \"Neutral\"\n",
        "  elif(x==2):\n",
        "    return \"Negative\"\n",
        "  elif(x==4):\n",
        "    return \"Positive\"\n",
        "  \n",
        "t = list()\n",
        "for file in fn:\n",
        "  with open(file,encoding = \"utf-8\") as i:\n",
        "    jd = json.load(i)\n",
        "    for data in jd:\n",
        "      dateValue.append(data['date'])\n",
        "      tf.append(data['text'])\n",
        "      t.append(set_sentiment(data['stars']))\n",
        "      st.append(data['stars'])\n",
        "      \n",
        "\n"
      ],
      "execution_count": null,
      "outputs": []
    },
    {
      "cell_type": "code",
      "metadata": {
        "id": "if1lXTxEbOHT"
      },
      "source": [
        "import pandas as pd\n",
        "\n",
        "rd = pd.DataFrame(tf,columns = [\"Review\"])\n",
        "rd[\"sentiments\"] = t\n",
        "rd[\"Rating\"] = st\n",
        "rd[\"Date\"] = dateValue\n"
      ],
      "execution_count": null,
      "outputs": []
    },
    {
      "cell_type": "code",
      "metadata": {
        "colab": {
          "base_uri": "https://localhost:8080/",
          "height": 49
        },
        "id": "z6ZtVfuocH7l",
        "outputId": "fca41a78-455f-4619-b8eb-9925871338c8"
      },
      "source": [
        "#display the dataframe\n",
        "rd.head(5)"
      ],
      "execution_count": null,
      "outputs": [
        {
          "output_type": "execute_result",
          "data": {
            "text/html": [
              "<div>\n",
              "<style scoped>\n",
              "    .dataframe tbody tr th:only-of-type {\n",
              "        vertical-align: middle;\n",
              "    }\n",
              "\n",
              "    .dataframe tbody tr th {\n",
              "        vertical-align: top;\n",
              "    }\n",
              "\n",
              "    .dataframe thead th {\n",
              "        text-align: right;\n",
              "    }\n",
              "</style>\n",
              "<table border=\"1\" class=\"dataframe\">\n",
              "  <thead>\n",
              "    <tr style=\"text-align: right;\">\n",
              "      <th></th>\n",
              "      <th>Review</th>\n",
              "      <th>sentiments</th>\n",
              "      <th>Rating</th>\n",
              "      <th>Date</th>\n",
              "    </tr>\n",
              "  </thead>\n",
              "  <tbody>\n",
              "  </tbody>\n",
              "</table>\n",
              "</div>"
            ],
            "text/plain": [
              "Empty DataFrame\n",
              "Columns: [Review, sentiments, Rating, Date]\n",
              "Index: []"
            ]
          },
          "metadata": {
            "tags": []
          },
          "execution_count": 30
        }
      ]
    },
    {
      "cell_type": "code",
      "metadata": {
        "id": "mf1WqJt5hfTT"
      },
      "source": [
        "rd[\"cleaned_data\"] = rd[\"Review\"].apply(lambda p : p.lower())\n",
        "import string\n",
        "rd[\"cleaned_data\"] = rd[\"cleaned_data\"].apply(lambda p : ''.join([g for g in p if g not in string.punctuation]))"
      ],
      "execution_count": null,
      "outputs": []
    },
    {
      "cell_type": "code",
      "metadata": {
        "colab": {
          "base_uri": "https://localhost:8080/"
        },
        "id": "xhA6WC6wlQIM",
        "outputId": "1efdd84b-75b0-430c-dbd8-505281fc9509"
      },
      "source": [
        "import nltk\n",
        "from nltk.corpus import stopwords\n",
        "nltk.download('stopwords')\n",
        "words = set(stopwords.words('english'))\n",
        "rd[\"cleaned_data\"] = rd[\"cleaned_data\"].apply(lambda x: ' '.join([i for i in x.split() if i not in words]))"
      ],
      "execution_count": null,
      "outputs": [
        {
          "output_type": "stream",
          "text": [
            "[nltk_data] Downloading package stopwords to /root/nltk_data...\n",
            "[nltk_data]   Unzipping corpora/stopwords.zip.\n"
          ],
          "name": "stdout"
        }
      ]
    },
    {
      "cell_type": "code",
      "metadata": {
        "id": "0dVwvunDnTzr",
        "colab": {
          "base_uri": "https://localhost:8080/"
        },
        "outputId": "aa7c8d7b-5c0e-4a8f-b0c8-c7cf067c8125"
      },
      "source": [
        "\n",
        "fqWord = list(pd.Series(' '.join(rd['cleaned_data']).split()).value_counts()[:15].index)\n",
        "#top 15 rare words\n",
        "rare = list(pd.Series(' '.join(rd['cleaned_data']).split()).value_counts()[-15:].index)"
      ],
      "execution_count": null,
      "outputs": [
        {
          "output_type": "stream",
          "text": [
            "/usr/local/lib/python3.6/dist-packages/ipykernel_launcher.py:2: DeprecationWarning: The default dtype for empty Series will be 'object' instead of 'float64' in a future version. Specify a dtype explicitly to silence this warning.\n",
            "  \n",
            "/usr/local/lib/python3.6/dist-packages/ipykernel_launcher.py:4: DeprecationWarning: The default dtype for empty Series will be 'object' instead of 'float64' in a future version. Specify a dtype explicitly to silence this warning.\n",
            "  after removing the cwd from sys.path.\n"
          ],
          "name": "stderr"
        }
      ]
    },
    {
      "cell_type": "code",
      "metadata": {
        "colab": {
          "base_uri": "https://localhost:8080/"
        },
        "id": "pacbMT74nbkL",
        "outputId": "17c62a43-f2d6-4e3d-b08b-6f2f5d244571"
      },
      "source": [
        "!pip install textblob"
      ],
      "execution_count": null,
      "outputs": [
        {
          "output_type": "stream",
          "text": [
            "Requirement already satisfied: textblob in /usr/local/lib/python3.6/dist-packages (0.15.3)\n",
            "Requirement already satisfied: nltk>=3.1 in /usr/local/lib/python3.6/dist-packages (from textblob) (3.2.5)\n",
            "Requirement already satisfied: six in /usr/local/lib/python3.6/dist-packages (from nltk>=3.1->textblob) (1.15.0)\n"
          ],
          "name": "stdout"
        }
      ]
    },
    {
      "cell_type": "code",
      "metadata": {
        "id": "MN6_RifNncuX"
      },
      "source": [
        "from textblob import TextBlob"
      ],
      "execution_count": null,
      "outputs": []
    },
    {
      "cell_type": "code",
      "metadata": {
        "id": "WJ37f1KTlmSO"
      },
      "source": [
        "rd[\"cleaned_data\"] = rd[\"cleaned_data\"].apply(lambda y: ' '.join([x for x in y.split() if x not in fqWord]))"
      ],
      "execution_count": null,
      "outputs": []
    },
    {
      "cell_type": "code",
      "metadata": {
        "id": "e95O0AGllIhl"
      },
      "source": [
        "rd[\"cleaned_data\"] = rd[\"cleaned_data\"].apply(lambda x: ' '.join([y for y in x.split() if y not in rare]))"
      ],
      "execution_count": null,
      "outputs": []
    },
    {
      "cell_type": "code",
      "metadata": {
        "colab": {
          "base_uri": "https://localhost:8080/"
        },
        "id": "u5HrdABYnxef",
        "outputId": "f4953144-c184-4600-d24f-98a555a98523"
      },
      "source": [
        "from nltk.stem import PorterStemmer \n",
        "from nltk.tokenize import word_tokenize \n",
        "import textblob\n",
        "ps = PorterStemmer() \n",
        "nltk.download('wordnet')"
      ],
      "execution_count": null,
      "outputs": [
        {
          "output_type": "stream",
          "text": [
            "[nltk_data] Downloading package wordnet to /root/nltk_data...\n",
            "[nltk_data]   Unzipping corpora/wordnet.zip.\n"
          ],
          "name": "stdout"
        },
        {
          "output_type": "execute_result",
          "data": {
            "text/plain": [
              "True"
            ]
          },
          "metadata": {
            "tags": []
          },
          "execution_count": 38
        }
      ]
    },
    {
      "cell_type": "code",
      "metadata": {
        "colab": {
          "base_uri": "https://localhost:8080/"
        },
        "id": "tpfzykcEn9ig",
        "outputId": "a5f101f5-7aef-4236-a1f1-d1cfe8366e76"
      },
      "source": [
        "nltk.download('punkt')"
      ],
      "execution_count": null,
      "outputs": [
        {
          "output_type": "stream",
          "text": [
            "[nltk_data] Downloading package punkt to /root/nltk_data...\n",
            "[nltk_data]   Unzipping tokenizers/punkt.zip.\n"
          ],
          "name": "stdout"
        },
        {
          "output_type": "execute_result",
          "data": {
            "text/plain": [
              "True"
            ]
          },
          "metadata": {
            "tags": []
          },
          "execution_count": 39
        }
      ]
    },
    {
      "cell_type": "code",
      "metadata": {
        "id": "0gTD052jnzKL"
      },
      "source": [
        "rd[\"cleaned_data\"] = rd[\"cleaned_data\"].apply(lambda x: ' '.join(word_tokenize(str(x))))"
      ],
      "execution_count": null,
      "outputs": []
    },
    {
      "cell_type": "code",
      "metadata": {
        "colab": {
          "base_uri": "https://localhost:8080/",
          "height": 49
        },
        "id": "0wBInlN3VjOC",
        "outputId": "48b7e0a0-ed47-4ced-ae0d-2f9f098dc5e2"
      },
      "source": [
        "rd.head(10)"
      ],
      "execution_count": null,
      "outputs": [
        {
          "output_type": "execute_result",
          "data": {
            "text/html": [
              "<div>\n",
              "<style scoped>\n",
              "    .dataframe tbody tr th:only-of-type {\n",
              "        vertical-align: middle;\n",
              "    }\n",
              "\n",
              "    .dataframe tbody tr th {\n",
              "        vertical-align: top;\n",
              "    }\n",
              "\n",
              "    .dataframe thead th {\n",
              "        text-align: right;\n",
              "    }\n",
              "</style>\n",
              "<table border=\"1\" class=\"dataframe\">\n",
              "  <thead>\n",
              "    <tr style=\"text-align: right;\">\n",
              "      <th></th>\n",
              "      <th>Review</th>\n",
              "      <th>sentiments</th>\n",
              "      <th>Rating</th>\n",
              "      <th>Date</th>\n",
              "      <th>cleaned_data</th>\n",
              "    </tr>\n",
              "  </thead>\n",
              "  <tbody>\n",
              "  </tbody>\n",
              "</table>\n",
              "</div>"
            ],
            "text/plain": [
              "Empty DataFrame\n",
              "Columns: [Review, sentiments, Rating, Date, cleaned_data]\n",
              "Index: []"
            ]
          },
          "metadata": {
            "tags": []
          },
          "execution_count": 41
        }
      ]
    },
    {
      "cell_type": "code",
      "metadata": {
        "colab": {
          "base_uri": "https://localhost:8080/",
          "height": 511
        },
        "id": "8bdhAg4_rtL0",
        "outputId": "a1ebc04d-9a52-4cf6-eb8e-e79165293e95"
      },
      "source": [
        "from gensim import corpora, models\n",
        "revData = rd[\"cleaned_data\"].head(10000).values\n",
        "rev = [p.split() for p in revData]\n",
        "\n",
        "dLLDA = corpora.Dictionary(rev)\n",
        "dLLDA.filter_extremes(no_below=3)\n",
        "corpus = [dLLDA.doc2bow(tokens) for tokens in rev]\n",
        "\n",
        "num_topics = 20\n",
        "%time lda_model = models.LdaModel(corpus, num_topics=num_topics, \\\n",
        "                                  id2word=dLLDA, \\\n",
        "                                  passes=4, alpha=[0.01]*num_topics, \\\n",
        "                                  eta=[0.01]*len(dLLDA.keys()))\n",
        "for a,cont in lda_model.show_topics(formatted=True, num_topics=num_topics, num_words=10):\n",
        "    print(str(i)+\": \"+ topic)\n",
        "    print()"
      ],
      "execution_count": null,
      "outputs": [
        {
          "output_type": "error",
          "ename": "ValueError",
          "evalue": "ignored",
          "traceback": [
            "\u001b[0;31m---------------------------------------------------------------------------\u001b[0m",
            "\u001b[0;31mValueError\u001b[0m                                Traceback (most recent call last)",
            "\u001b[0;32m<ipython-input-44-ecf7f052161f>\u001b[0m in \u001b[0;36m<module>\u001b[0;34m()\u001b[0m\n\u001b[1;32m      8\u001b[0m \u001b[0;34m\u001b[0m\u001b[0m\n\u001b[1;32m      9\u001b[0m \u001b[0mnum_topics\u001b[0m \u001b[0;34m=\u001b[0m \u001b[0;36m20\u001b[0m\u001b[0;34m\u001b[0m\u001b[0;34m\u001b[0m\u001b[0m\n\u001b[0;32m---> 10\u001b[0;31m \u001b[0mget_ipython\u001b[0m\u001b[0;34m(\u001b[0m\u001b[0;34m)\u001b[0m\u001b[0;34m.\u001b[0m\u001b[0mmagic\u001b[0m\u001b[0;34m(\u001b[0m\u001b[0;34m'time lda_model = models.LdaModel(corpus, num_topics=num_topics,                                   id2word=dLLDA,                                   passes=4, alpha=[0.01]*num_topics,                                   eta=[0.01]*len(dLLDA.keys()))'\u001b[0m\u001b[0;34m)\u001b[0m\u001b[0;34m\u001b[0m\u001b[0;34m\u001b[0m\u001b[0m\n\u001b[0m\u001b[1;32m     11\u001b[0m \u001b[0;32mfor\u001b[0m \u001b[0ma\u001b[0m\u001b[0;34m,\u001b[0m\u001b[0mcont\u001b[0m \u001b[0;32min\u001b[0m \u001b[0mlda_model\u001b[0m\u001b[0;34m.\u001b[0m\u001b[0mshow_topics\u001b[0m\u001b[0;34m(\u001b[0m\u001b[0mformatted\u001b[0m\u001b[0;34m=\u001b[0m\u001b[0;32mTrue\u001b[0m\u001b[0;34m,\u001b[0m \u001b[0mnum_topics\u001b[0m\u001b[0;34m=\u001b[0m\u001b[0mnum_topics\u001b[0m\u001b[0;34m,\u001b[0m \u001b[0mnum_words\u001b[0m\u001b[0;34m=\u001b[0m\u001b[0;36m10\u001b[0m\u001b[0;34m)\u001b[0m\u001b[0;34m:\u001b[0m\u001b[0;34m\u001b[0m\u001b[0;34m\u001b[0m\u001b[0m\n\u001b[1;32m     12\u001b[0m     \u001b[0mprint\u001b[0m\u001b[0;34m(\u001b[0m\u001b[0mstr\u001b[0m\u001b[0;34m(\u001b[0m\u001b[0mi\u001b[0m\u001b[0;34m)\u001b[0m\u001b[0;34m+\u001b[0m\u001b[0;34m\": \"\u001b[0m\u001b[0;34m+\u001b[0m \u001b[0mtopic\u001b[0m\u001b[0;34m)\u001b[0m\u001b[0;34m\u001b[0m\u001b[0;34m\u001b[0m\u001b[0m\n",
            "\u001b[0;32m/usr/local/lib/python3.6/dist-packages/IPython/core/interactiveshell.py\u001b[0m in \u001b[0;36mmagic\u001b[0;34m(self, arg_s)\u001b[0m\n\u001b[1;32m   2158\u001b[0m         \u001b[0mmagic_name\u001b[0m\u001b[0;34m,\u001b[0m \u001b[0m_\u001b[0m\u001b[0;34m,\u001b[0m \u001b[0mmagic_arg_s\u001b[0m \u001b[0;34m=\u001b[0m \u001b[0marg_s\u001b[0m\u001b[0;34m.\u001b[0m\u001b[0mpartition\u001b[0m\u001b[0;34m(\u001b[0m\u001b[0;34m' '\u001b[0m\u001b[0;34m)\u001b[0m\u001b[0;34m\u001b[0m\u001b[0;34m\u001b[0m\u001b[0m\n\u001b[1;32m   2159\u001b[0m         \u001b[0mmagic_name\u001b[0m \u001b[0;34m=\u001b[0m \u001b[0mmagic_name\u001b[0m\u001b[0;34m.\u001b[0m\u001b[0mlstrip\u001b[0m\u001b[0;34m(\u001b[0m\u001b[0mprefilter\u001b[0m\u001b[0;34m.\u001b[0m\u001b[0mESC_MAGIC\u001b[0m\u001b[0;34m)\u001b[0m\u001b[0;34m\u001b[0m\u001b[0;34m\u001b[0m\u001b[0m\n\u001b[0;32m-> 2160\u001b[0;31m         \u001b[0;32mreturn\u001b[0m \u001b[0mself\u001b[0m\u001b[0;34m.\u001b[0m\u001b[0mrun_line_magic\u001b[0m\u001b[0;34m(\u001b[0m\u001b[0mmagic_name\u001b[0m\u001b[0;34m,\u001b[0m \u001b[0mmagic_arg_s\u001b[0m\u001b[0;34m)\u001b[0m\u001b[0;34m\u001b[0m\u001b[0;34m\u001b[0m\u001b[0m\n\u001b[0m\u001b[1;32m   2161\u001b[0m \u001b[0;34m\u001b[0m\u001b[0m\n\u001b[1;32m   2162\u001b[0m     \u001b[0;31m#-------------------------------------------------------------------------\u001b[0m\u001b[0;34m\u001b[0m\u001b[0;34m\u001b[0m\u001b[0;34m\u001b[0m\u001b[0m\n",
            "\u001b[0;32m/usr/local/lib/python3.6/dist-packages/IPython/core/interactiveshell.py\u001b[0m in \u001b[0;36mrun_line_magic\u001b[0;34m(self, magic_name, line)\u001b[0m\n\u001b[1;32m   2079\u001b[0m                 \u001b[0mkwargs\u001b[0m\u001b[0;34m[\u001b[0m\u001b[0;34m'local_ns'\u001b[0m\u001b[0;34m]\u001b[0m \u001b[0;34m=\u001b[0m \u001b[0msys\u001b[0m\u001b[0;34m.\u001b[0m\u001b[0m_getframe\u001b[0m\u001b[0;34m(\u001b[0m\u001b[0mstack_depth\u001b[0m\u001b[0;34m)\u001b[0m\u001b[0;34m.\u001b[0m\u001b[0mf_locals\u001b[0m\u001b[0;34m\u001b[0m\u001b[0;34m\u001b[0m\u001b[0m\n\u001b[1;32m   2080\u001b[0m             \u001b[0;32mwith\u001b[0m \u001b[0mself\u001b[0m\u001b[0;34m.\u001b[0m\u001b[0mbuiltin_trap\u001b[0m\u001b[0;34m:\u001b[0m\u001b[0;34m\u001b[0m\u001b[0;34m\u001b[0m\u001b[0m\n\u001b[0;32m-> 2081\u001b[0;31m                 \u001b[0mresult\u001b[0m \u001b[0;34m=\u001b[0m \u001b[0mfn\u001b[0m\u001b[0;34m(\u001b[0m\u001b[0;34m*\u001b[0m\u001b[0margs\u001b[0m\u001b[0;34m,\u001b[0m\u001b[0;34m**\u001b[0m\u001b[0mkwargs\u001b[0m\u001b[0;34m)\u001b[0m\u001b[0;34m\u001b[0m\u001b[0;34m\u001b[0m\u001b[0m\n\u001b[0m\u001b[1;32m   2082\u001b[0m             \u001b[0;32mreturn\u001b[0m \u001b[0mresult\u001b[0m\u001b[0;34m\u001b[0m\u001b[0;34m\u001b[0m\u001b[0m\n\u001b[1;32m   2083\u001b[0m \u001b[0;34m\u001b[0m\u001b[0m\n",
            "\u001b[0;32m<decorator-gen-60>\u001b[0m in \u001b[0;36mtime\u001b[0;34m(self, line, cell, local_ns)\u001b[0m\n",
            "\u001b[0;32m/usr/local/lib/python3.6/dist-packages/IPython/core/magic.py\u001b[0m in \u001b[0;36m<lambda>\u001b[0;34m(f, *a, **k)\u001b[0m\n\u001b[1;32m    186\u001b[0m     \u001b[0;31m# but it's overkill for just that one bit of state.\u001b[0m\u001b[0;34m\u001b[0m\u001b[0;34m\u001b[0m\u001b[0;34m\u001b[0m\u001b[0m\n\u001b[1;32m    187\u001b[0m     \u001b[0;32mdef\u001b[0m \u001b[0mmagic_deco\u001b[0m\u001b[0;34m(\u001b[0m\u001b[0marg\u001b[0m\u001b[0;34m)\u001b[0m\u001b[0;34m:\u001b[0m\u001b[0;34m\u001b[0m\u001b[0;34m\u001b[0m\u001b[0m\n\u001b[0;32m--> 188\u001b[0;31m         \u001b[0mcall\u001b[0m \u001b[0;34m=\u001b[0m \u001b[0;32mlambda\u001b[0m \u001b[0mf\u001b[0m\u001b[0;34m,\u001b[0m \u001b[0;34m*\u001b[0m\u001b[0ma\u001b[0m\u001b[0;34m,\u001b[0m \u001b[0;34m**\u001b[0m\u001b[0mk\u001b[0m\u001b[0;34m:\u001b[0m \u001b[0mf\u001b[0m\u001b[0;34m(\u001b[0m\u001b[0;34m*\u001b[0m\u001b[0ma\u001b[0m\u001b[0;34m,\u001b[0m \u001b[0;34m**\u001b[0m\u001b[0mk\u001b[0m\u001b[0;34m)\u001b[0m\u001b[0;34m\u001b[0m\u001b[0;34m\u001b[0m\u001b[0m\n\u001b[0m\u001b[1;32m    189\u001b[0m \u001b[0;34m\u001b[0m\u001b[0m\n\u001b[1;32m    190\u001b[0m         \u001b[0;32mif\u001b[0m \u001b[0mcallable\u001b[0m\u001b[0;34m(\u001b[0m\u001b[0marg\u001b[0m\u001b[0;34m)\u001b[0m\u001b[0;34m:\u001b[0m\u001b[0;34m\u001b[0m\u001b[0;34m\u001b[0m\u001b[0m\n",
            "\u001b[0;32m/usr/local/lib/python3.6/dist-packages/IPython/core/magics/execution.py\u001b[0m in \u001b[0;36mtime\u001b[0;34m(self, line, cell, local_ns)\u001b[0m\n\u001b[1;32m   1191\u001b[0m         \u001b[0;32melse\u001b[0m\u001b[0;34m:\u001b[0m\u001b[0;34m\u001b[0m\u001b[0;34m\u001b[0m\u001b[0m\n\u001b[1;32m   1192\u001b[0m             \u001b[0mst\u001b[0m \u001b[0;34m=\u001b[0m \u001b[0mclock2\u001b[0m\u001b[0;34m(\u001b[0m\u001b[0;34m)\u001b[0m\u001b[0;34m\u001b[0m\u001b[0;34m\u001b[0m\u001b[0m\n\u001b[0;32m-> 1193\u001b[0;31m             \u001b[0mexec\u001b[0m\u001b[0;34m(\u001b[0m\u001b[0mcode\u001b[0m\u001b[0;34m,\u001b[0m \u001b[0mglob\u001b[0m\u001b[0;34m,\u001b[0m \u001b[0mlocal_ns\u001b[0m\u001b[0;34m)\u001b[0m\u001b[0;34m\u001b[0m\u001b[0;34m\u001b[0m\u001b[0m\n\u001b[0m\u001b[1;32m   1194\u001b[0m             \u001b[0mend\u001b[0m \u001b[0;34m=\u001b[0m \u001b[0mclock2\u001b[0m\u001b[0;34m(\u001b[0m\u001b[0;34m)\u001b[0m\u001b[0;34m\u001b[0m\u001b[0;34m\u001b[0m\u001b[0m\n\u001b[1;32m   1195\u001b[0m             \u001b[0mout\u001b[0m \u001b[0;34m=\u001b[0m \u001b[0;32mNone\u001b[0m\u001b[0;34m\u001b[0m\u001b[0;34m\u001b[0m\u001b[0m\n",
            "\u001b[0;32m<timed exec>\u001b[0m in \u001b[0;36m<module>\u001b[0;34m()\u001b[0m\n",
            "\u001b[0;32m/usr/local/lib/python3.6/dist-packages/gensim/models/ldamodel.py\u001b[0m in \u001b[0;36m__init__\u001b[0;34m(self, corpus, num_topics, id2word, distributed, chunksize, passes, update_every, alpha, eta, decay, offset, eval_every, iterations, gamma_threshold, minimum_probability, random_state, ns_conf, minimum_phi_value, per_word_topics, callbacks, dtype)\u001b[0m\n\u001b[1;32m    435\u001b[0m \u001b[0;34m\u001b[0m\u001b[0m\n\u001b[1;32m    436\u001b[0m         \u001b[0;32mif\u001b[0m \u001b[0mself\u001b[0m\u001b[0;34m.\u001b[0m\u001b[0mnum_terms\u001b[0m \u001b[0;34m==\u001b[0m \u001b[0;36m0\u001b[0m\u001b[0;34m:\u001b[0m\u001b[0;34m\u001b[0m\u001b[0;34m\u001b[0m\u001b[0m\n\u001b[0;32m--> 437\u001b[0;31m             \u001b[0;32mraise\u001b[0m \u001b[0mValueError\u001b[0m\u001b[0;34m(\u001b[0m\u001b[0;34m\"cannot compute LDA over an empty collection (no terms)\"\u001b[0m\u001b[0;34m)\u001b[0m\u001b[0;34m\u001b[0m\u001b[0;34m\u001b[0m\u001b[0m\n\u001b[0m\u001b[1;32m    438\u001b[0m \u001b[0;34m\u001b[0m\u001b[0m\n\u001b[1;32m    439\u001b[0m         \u001b[0mself\u001b[0m\u001b[0;34m.\u001b[0m\u001b[0mdistributed\u001b[0m \u001b[0;34m=\u001b[0m \u001b[0mbool\u001b[0m\u001b[0;34m(\u001b[0m\u001b[0mdistributed\u001b[0m\u001b[0;34m)\u001b[0m\u001b[0;34m\u001b[0m\u001b[0;34m\u001b[0m\u001b[0m\n",
            "\u001b[0;31mValueError\u001b[0m: cannot compute LDA over an empty collection (no terms)"
          ]
        }
      ]
    },
    {
      "cell_type": "code",
      "metadata": {
        "colab": {
          "base_uri": "https://localhost:8080/"
        },
        "id": "OD2f-5u-3uH_",
        "outputId": "2998d67b-eec2-4c87-fba3-205f8f02246b"
      },
      "source": [
        ""
      ],
      "execution_count": null,
      "outputs": [
        {
          "output_type": "stream",
          "text": [
            "0: 0.034*\"dog\" + 0.019*\"dogs\" + 0.018*\"kids\" + 0.017*\"dr\" + 0.017*\"love\" + 0.016*\"park\" + 0.011*\"play\" + 0.011*\"staff\" + 0.009*\"family\" + 0.009*\"fun\"\n",
            "\n",
            "1: 0.010*\"table\" + 0.010*\"minutes\" + 0.010*\"came\" + 0.009*\"didnt\" + 0.008*\"asked\" + 0.007*\"even\" + 0.007*\"got\" + 0.007*\"said\" + 0.006*\"order\" + 0.006*\"could\"\n",
            "\n",
            "2: 0.016*\"beer\" + 0.011*\"menu\" + 0.011*\"bar\" + 0.007*\"night\" + 0.007*\"wine\" + 0.007*\"atmosphere\" + 0.007*\"little\" + 0.007*\"selection\" + 0.007*\"drinks\" + 0.006*\"happy\"\n",
            "\n",
            "3: 0.024*\"love\" + 0.020*\"always\" + 0.019*\"friendly\" + 0.014*\"delicious\" + 0.013*\"staff\" + 0.012*\"fresh\" + 0.011*\"definitely\" + 0.011*\"nice\" + 0.011*\"best\" + 0.010*\"amazing\"\n",
            "\n",
            "4: 0.040*\"coffee\" + 0.029*\"breakfast\" + 0.016*\"nails\" + 0.014*\"eggs\" + 0.014*\"nail\" + 0.013*\"brunch\" + 0.012*\"amazing\" + 0.010*\"nice\" + 0.010*\"super\" + 0.009*\"friendly\"\n",
            "\n",
            "5: 0.039*\"hair\" + 0.015*\"cut\" + 0.012*\"always\" + 0.011*\"love\" + 0.009*\"color\" + 0.008*\"salon\" + 0.008*\"class\" + 0.008*\"awesome\" + 0.007*\"workout\" + 0.007*\"want\"\n",
            "\n",
            "6: 0.020*\"chicken\" + 0.013*\"sauce\" + 0.011*\"beef\" + 0.010*\"soup\" + 0.010*\"pork\" + 0.009*\"delicious\" + 0.009*\"dish\" + 0.009*\"thai\" + 0.009*\"ordered\" + 0.008*\"sweet\"\n",
            "\n",
            "7: 0.045*\"pizza\" + 0.018*\"best\" + 0.013*\"cheese\" + 0.011*\"bread\" + 0.010*\"salad\" + 0.010*\"ive\" + 0.009*\"amazing\" + 0.009*\"delicious\" + 0.009*\"sandwich\" + 0.008*\"cake\"\n",
            "\n",
            "8: 0.010*\"ordered\" + 0.010*\"steak\" + 0.008*\"meal\" + 0.007*\"came\" + 0.007*\"got\" + 0.006*\"cheese\" + 0.006*\"menu\" + 0.006*\"side\" + 0.006*\"lobster\" + 0.006*\"little\"\n",
            "\n",
            "9: 0.022*\"sushi\" + 0.014*\"rice\" + 0.014*\"restaurant\" + 0.013*\"chicken\" + 0.012*\"ordered\" + 0.011*\"fresh\" + 0.010*\"eat\" + 0.010*\"roll\" + 0.010*\"fish\" + 0.009*\"try\"\n",
            "\n",
            "10: 0.007*\"made\" + 0.007*\"new\" + 0.007*\"needed\" + 0.007*\"professional\" + 0.007*\"experience\" + 0.007*\"work\" + 0.006*\"found\" + 0.006*\"staff\" + 0.006*\"got\" + 0.006*\"day\"\n",
            "\n",
            "11: 0.037*\"de\" + 0.034*\"la\" + 0.024*\"le\" + 0.022*\"et\" + 0.015*\"pour\" + 0.014*\"un\" + 0.010*\"les\" + 0.010*\"est\" + 0.010*\"à\" + 0.009*\"pas\"\n",
            "\n",
            "12: 0.016*\"car\" + 0.011*\"people\" + 0.008*\"location\" + 0.008*\"dont\" + 0.008*\"store\" + 0.007*\"find\" + 0.007*\"even\" + 0.006*\"could\" + 0.006*\"see\" + 0.005*\"take\"\n",
            "\n",
            "13: 0.014*\"store\" + 0.009*\"dont\" + 0.008*\"said\" + 0.008*\"call\" + 0.007*\"called\" + 0.007*\"order\" + 0.007*\"phone\" + 0.007*\"customer\" + 0.007*\"told\" + 0.006*\"know\"\n",
            "\n",
            "14: 0.010*\"work\" + 0.010*\"new\" + 0.008*\"recommend\" + 0.007*\"never\" + 0.007*\"job\" + 0.006*\"done\" + 0.006*\"day\" + 0.006*\"ive\" + 0.006*\"always\" + 0.006*\"company\"\n",
            "\n",
            "15: 0.010*\"years\" + 0.010*\"experience\" + 0.010*\"amazing\" + 0.009*\"everyone\" + 0.008*\"year\" + 0.008*\"last\" + 0.007*\"christmas\" + 0.006*\"recommend\" + 0.006*\"airport\" + 0.006*\"definitely\"\n",
            "\n",
            "16: 0.011*\"order\" + 0.011*\"burger\" + 0.009*\"ordered\" + 0.008*\"didnt\" + 0.008*\"got\" + 0.008*\"better\" + 0.007*\"sandwich\" + 0.007*\"dont\" + 0.007*\"two\" + 0.006*\"im\"\n",
            "\n",
            "17: 0.024*\"bar\" + 0.021*\"tea\" + 0.019*\"drinks\" + 0.017*\"drink\" + 0.012*\"night\" + 0.008*\"show\" + 0.007*\"seats\" + 0.007*\"cool\" + 0.007*\"milk\" + 0.007*\"see\"\n",
            "\n",
            "18: 0.026*\"room\" + 0.018*\"hotel\" + 0.017*\"nice\" + 0.013*\"vegas\" + 0.011*\"parking\" + 0.011*\"stay\" + 0.011*\"strip\" + 0.010*\"clean\" + 0.010*\"pretty\" + 0.009*\"pool\"\n",
            "\n",
            "19: 0.010*\"never\" + 0.009*\"said\" + 0.008*\"told\" + 0.008*\"im\" + 0.008*\"wait\" + 0.007*\"ever\" + 0.007*\"people\" + 0.007*\"say\" + 0.006*\"ive\" + 0.006*\"even\"\n",
            "\n"
          ],
          "name": "stdout"
        }
      ]
    },
    {
      "cell_type": "code",
      "metadata": {
        "colab": {
          "base_uri": "https://localhost:8080/"
        },
        "id": "wXFP5XcV4BJ-",
        "outputId": "31f795b5-4679-44dc-a56c-e80893b0158b"
      },
      "source": [
        "!pip install pyLDAvis"
      ],
      "execution_count": null,
      "outputs": [
        {
          "output_type": "stream",
          "text": [
            "Collecting pyLDAvis\n",
            "\u001b[?25l  Downloading https://files.pythonhosted.org/packages/a5/3a/af82e070a8a96e13217c8f362f9a73e82d61ac8fff3a2561946a97f96266/pyLDAvis-2.1.2.tar.gz (1.6MB)\n",
            "\u001b[K     |████████████████████████████████| 1.6MB 4.3MB/s \n",
            "\u001b[?25hRequirement already satisfied: wheel>=0.23.0 in /usr/local/lib/python3.6/dist-packages (from pyLDAvis) (0.35.1)\n",
            "Requirement already satisfied: numpy>=1.9.2 in /usr/local/lib/python3.6/dist-packages (from pyLDAvis) (1.18.5)\n",
            "Requirement already satisfied: scipy>=0.18.0 in /usr/local/lib/python3.6/dist-packages (from pyLDAvis) (1.4.1)\n",
            "Requirement already satisfied: pandas>=0.17.0 in /usr/local/lib/python3.6/dist-packages (from pyLDAvis) (1.1.4)\n",
            "Requirement already satisfied: joblib>=0.8.4 in /usr/local/lib/python3.6/dist-packages (from pyLDAvis) (0.17.0)\n",
            "Requirement already satisfied: jinja2>=2.7.2 in /usr/local/lib/python3.6/dist-packages (from pyLDAvis) (2.11.2)\n",
            "Requirement already satisfied: numexpr in /usr/local/lib/python3.6/dist-packages (from pyLDAvis) (2.7.1)\n",
            "Requirement already satisfied: pytest in /usr/local/lib/python3.6/dist-packages (from pyLDAvis) (3.6.4)\n",
            "Requirement already satisfied: future in /usr/local/lib/python3.6/dist-packages (from pyLDAvis) (0.16.0)\n",
            "Collecting funcy\n",
            "  Downloading https://files.pythonhosted.org/packages/66/89/479de0afbbfb98d1c4b887936808764627300208bb771fcd823403645a36/funcy-1.15-py2.py3-none-any.whl\n",
            "Requirement already satisfied: python-dateutil>=2.7.3 in /usr/local/lib/python3.6/dist-packages (from pandas>=0.17.0->pyLDAvis) (2.8.1)\n",
            "Requirement already satisfied: pytz>=2017.2 in /usr/local/lib/python3.6/dist-packages (from pandas>=0.17.0->pyLDAvis) (2018.9)\n",
            "Requirement already satisfied: MarkupSafe>=0.23 in /usr/local/lib/python3.6/dist-packages (from jinja2>=2.7.2->pyLDAvis) (1.1.1)\n",
            "Requirement already satisfied: pluggy<0.8,>=0.5 in /usr/local/lib/python3.6/dist-packages (from pytest->pyLDAvis) (0.7.1)\n",
            "Requirement already satisfied: atomicwrites>=1.0 in /usr/local/lib/python3.6/dist-packages (from pytest->pyLDAvis) (1.4.0)\n",
            "Requirement already satisfied: py>=1.5.0 in /usr/local/lib/python3.6/dist-packages (from pytest->pyLDAvis) (1.9.0)\n",
            "Requirement already satisfied: more-itertools>=4.0.0 in /usr/local/lib/python3.6/dist-packages (from pytest->pyLDAvis) (8.6.0)\n",
            "Requirement already satisfied: setuptools in /usr/local/lib/python3.6/dist-packages (from pytest->pyLDAvis) (50.3.2)\n",
            "Requirement already satisfied: attrs>=17.4.0 in /usr/local/lib/python3.6/dist-packages (from pytest->pyLDAvis) (20.3.0)\n",
            "Requirement already satisfied: six>=1.10.0 in /usr/local/lib/python3.6/dist-packages (from pytest->pyLDAvis) (1.15.0)\n",
            "Building wheels for collected packages: pyLDAvis\n",
            "  Building wheel for pyLDAvis (setup.py) ... \u001b[?25l\u001b[?25hdone\n",
            "  Created wheel for pyLDAvis: filename=pyLDAvis-2.1.2-py2.py3-none-any.whl size=97712 sha256=abcffe2f54347799fde530b2dc85ff970dbb5f1bf3be5ef1348af4016a673835\n",
            "  Stored in directory: /root/.cache/pip/wheels/98/71/24/513a99e58bb6b8465bae4d2d5e9dba8f0bef8179e3051ac414\n",
            "Successfully built pyLDAvis\n",
            "Installing collected packages: funcy, pyLDAvis\n",
            "Successfully installed funcy-1.15 pyLDAvis-2.1.2\n"
          ],
          "name": "stdout"
        }
      ]
    },
    {
      "cell_type": "code",
      "metadata": {
        "colab": {
          "base_uri": "https://localhost:8080/",
          "height": 232
        },
        "id": "CcAdZsO83yDh",
        "outputId": "cacb6c6f-6c28-492d-d7c8-70f64086d560"
      },
      "source": [
        "%matplotlib inline\n",
        "import pyLDAvis\n",
        "import pyLDAvis.gensim\n",
        "a = pyLDAvis.gensim.prepare(topic_model=lda_model, corpus=corpus, dictionary=dLLDA)\n",
        "pyLDAvis.enable_notebook()\n",
        "pyLDAvis.display(a)"
      ],
      "execution_count": null,
      "outputs": [
        {
          "output_type": "error",
          "ename": "NameError",
          "evalue": "ignored",
          "traceback": [
            "\u001b[0;31m---------------------------------------------------------------------------\u001b[0m",
            "\u001b[0;31mNameError\u001b[0m                                 Traceback (most recent call last)",
            "\u001b[0;32m<ipython-input-46-a28426eef737>\u001b[0m in \u001b[0;36m<module>\u001b[0;34m()\u001b[0m\n\u001b[1;32m      2\u001b[0m \u001b[0;32mimport\u001b[0m \u001b[0mpyLDAvis\u001b[0m\u001b[0;34m\u001b[0m\u001b[0;34m\u001b[0m\u001b[0m\n\u001b[1;32m      3\u001b[0m \u001b[0;32mimport\u001b[0m \u001b[0mpyLDAvis\u001b[0m\u001b[0;34m.\u001b[0m\u001b[0mgensim\u001b[0m\u001b[0;34m\u001b[0m\u001b[0;34m\u001b[0m\u001b[0m\n\u001b[0;32m----> 4\u001b[0;31m \u001b[0ma\u001b[0m \u001b[0;34m=\u001b[0m \u001b[0mpyLDAvis\u001b[0m\u001b[0;34m.\u001b[0m\u001b[0mgensim\u001b[0m\u001b[0;34m.\u001b[0m\u001b[0mprepare\u001b[0m\u001b[0;34m(\u001b[0m\u001b[0mtopic_model\u001b[0m\u001b[0;34m=\u001b[0m\u001b[0mlda_model\u001b[0m\u001b[0;34m,\u001b[0m \u001b[0mcorpus\u001b[0m\u001b[0;34m=\u001b[0m\u001b[0mcorpus\u001b[0m\u001b[0;34m,\u001b[0m \u001b[0mdictionary\u001b[0m\u001b[0;34m=\u001b[0m\u001b[0mdLLDA\u001b[0m\u001b[0;34m)\u001b[0m\u001b[0;34m\u001b[0m\u001b[0;34m\u001b[0m\u001b[0m\n\u001b[0m\u001b[1;32m      5\u001b[0m \u001b[0mpyLDAvis\u001b[0m\u001b[0;34m.\u001b[0m\u001b[0menable_notebook\u001b[0m\u001b[0;34m(\u001b[0m\u001b[0;34m)\u001b[0m\u001b[0;34m\u001b[0m\u001b[0;34m\u001b[0m\u001b[0m\n\u001b[1;32m      6\u001b[0m \u001b[0mpyLDAvis\u001b[0m\u001b[0;34m.\u001b[0m\u001b[0mdisplay\u001b[0m\u001b[0;34m(\u001b[0m\u001b[0ma\u001b[0m\u001b[0;34m)\u001b[0m\u001b[0;34m\u001b[0m\u001b[0;34m\u001b[0m\u001b[0m\n",
            "\u001b[0;31mNameError\u001b[0m: name 'lda_model' is not defined"
          ]
        }
      ]
    },
    {
      "cell_type": "code",
      "metadata": {
        "colab": {
          "base_uri": "https://localhost:8080/"
        },
        "id": "UTWmbnGY7IPL",
        "outputId": "517b1646-6eac-4c29-f3c8-0095ee378024"
      },
      "source": [
        "!pip install biterm"
      ],
      "execution_count": null,
      "outputs": [
        {
          "output_type": "stream",
          "text": [
            "Collecting biterm\n",
            "\u001b[?25l  Downloading https://files.pythonhosted.org/packages/36/ca/5a43511e6ea8ca02cc9e8be1b8898ad79b140c055d4400342dc210ba23bb/biterm-0.1.5.tar.gz (79kB)\n",
            "\r\u001b[K     |████▏                           | 10kB 16.3MB/s eta 0:00:01\r\u001b[K     |████████▎                       | 20kB 14.8MB/s eta 0:00:01\r\u001b[K     |████████████▍                   | 30kB 9.5MB/s eta 0:00:01\r\u001b[K     |████████████████▌               | 40kB 8.1MB/s eta 0:00:01\r\u001b[K     |████████████████████▋           | 51kB 4.2MB/s eta 0:00:01\r\u001b[K     |████████████████████████▊       | 61kB 4.6MB/s eta 0:00:01\r\u001b[K     |████████████████████████████▉   | 71kB 5.0MB/s eta 0:00:01\r\u001b[K     |████████████████████████████████| 81kB 3.7MB/s \n",
            "\u001b[?25hRequirement already satisfied: numpy in /usr/local/lib/python3.6/dist-packages (from biterm) (1.18.5)\n",
            "Requirement already satisfied: tqdm in /usr/local/lib/python3.6/dist-packages (from biterm) (4.41.1)\n",
            "Requirement already satisfied: cython in /usr/local/lib/python3.6/dist-packages (from biterm) (0.29.21)\n",
            "Requirement already satisfied: nltk in /usr/local/lib/python3.6/dist-packages (from biterm) (3.2.5)\n",
            "Requirement already satisfied: six in /usr/local/lib/python3.6/dist-packages (from nltk->biterm) (1.15.0)\n",
            "Building wheels for collected packages: biterm\n",
            "  Building wheel for biterm (setup.py) ... \u001b[?25l\u001b[?25hdone\n",
            "  Created wheel for biterm: filename=biterm-0.1.5-cp36-cp36m-linux_x86_64.whl size=195428 sha256=6cb16ae32f138853932e2c384d410c4eb1174d2195bb568bb70e404f827568de\n",
            "  Stored in directory: /root/.cache/pip/wheels/86/04/10/231fb1d39d86ab58c2683fd3d4fe8415a5bc284ba8a20fd638\n",
            "Successfully built biterm\n",
            "Installing collected packages: biterm\n",
            "Successfully installed biterm-0.1.5\n"
          ],
          "name": "stdout"
        }
      ]
    },
    {
      "cell_type": "code",
      "metadata": {
        "id": "MTDOl1E0AXau",
        "colab": {
          "base_uri": "https://localhost:8080/",
          "height": 358
        },
        "outputId": "dbb08071-f7b6-4126-d16f-02bfc56ac10a"
      },
      "source": [
        "from sklearn.feature_extraction.text import CountVectorizer\n",
        "revBData = rd[\"cleaned_data\"].head(1000).values\n",
        "vector = CountVectorizer(stop_words='english')\n",
        "X = vector.fit_transform(revBData).toarray()"
      ],
      "execution_count": null,
      "outputs": [
        {
          "output_type": "error",
          "ename": "ValueError",
          "evalue": "ignored",
          "traceback": [
            "\u001b[0;31m---------------------------------------------------------------------------\u001b[0m",
            "\u001b[0;31mValueError\u001b[0m                                Traceback (most recent call last)",
            "\u001b[0;32m<ipython-input-49-3e5fcbb9a5e3>\u001b[0m in \u001b[0;36m<module>\u001b[0;34m()\u001b[0m\n\u001b[1;32m      2\u001b[0m \u001b[0mrevBData\u001b[0m \u001b[0;34m=\u001b[0m \u001b[0mrd\u001b[0m\u001b[0;34m[\u001b[0m\u001b[0;34m\"cleaned_data\"\u001b[0m\u001b[0;34m]\u001b[0m\u001b[0;34m.\u001b[0m\u001b[0mhead\u001b[0m\u001b[0;34m(\u001b[0m\u001b[0;36m1000\u001b[0m\u001b[0;34m)\u001b[0m\u001b[0;34m.\u001b[0m\u001b[0mvalues\u001b[0m\u001b[0;34m\u001b[0m\u001b[0;34m\u001b[0m\u001b[0m\n\u001b[1;32m      3\u001b[0m \u001b[0mvector\u001b[0m \u001b[0;34m=\u001b[0m \u001b[0mCountVectorizer\u001b[0m\u001b[0;34m(\u001b[0m\u001b[0mstop_words\u001b[0m\u001b[0;34m=\u001b[0m\u001b[0;34m'english'\u001b[0m\u001b[0;34m)\u001b[0m\u001b[0;34m\u001b[0m\u001b[0;34m\u001b[0m\u001b[0m\n\u001b[0;32m----> 4\u001b[0;31m \u001b[0mX\u001b[0m \u001b[0;34m=\u001b[0m \u001b[0mvector\u001b[0m\u001b[0;34m.\u001b[0m\u001b[0mfit_transform\u001b[0m\u001b[0;34m(\u001b[0m\u001b[0mrevBData\u001b[0m\u001b[0;34m)\u001b[0m\u001b[0;34m.\u001b[0m\u001b[0mtoarray\u001b[0m\u001b[0;34m(\u001b[0m\u001b[0;34m)\u001b[0m\u001b[0;34m\u001b[0m\u001b[0;34m\u001b[0m\u001b[0m\n\u001b[0m",
            "\u001b[0;32m/usr/local/lib/python3.6/dist-packages/sklearn/feature_extraction/text.py\u001b[0m in \u001b[0;36mfit_transform\u001b[0;34m(self, raw_documents, y)\u001b[0m\n\u001b[1;32m   1218\u001b[0m \u001b[0;34m\u001b[0m\u001b[0m\n\u001b[1;32m   1219\u001b[0m         vocabulary, X = self._count_vocab(raw_documents,\n\u001b[0;32m-> 1220\u001b[0;31m                                           self.fixed_vocabulary_)\n\u001b[0m\u001b[1;32m   1221\u001b[0m \u001b[0;34m\u001b[0m\u001b[0m\n\u001b[1;32m   1222\u001b[0m         \u001b[0;32mif\u001b[0m \u001b[0mself\u001b[0m\u001b[0;34m.\u001b[0m\u001b[0mbinary\u001b[0m\u001b[0;34m:\u001b[0m\u001b[0;34m\u001b[0m\u001b[0;34m\u001b[0m\u001b[0m\n",
            "\u001b[0;32m/usr/local/lib/python3.6/dist-packages/sklearn/feature_extraction/text.py\u001b[0m in \u001b[0;36m_count_vocab\u001b[0;34m(self, raw_documents, fixed_vocab)\u001b[0m\n\u001b[1;32m   1148\u001b[0m             \u001b[0mvocabulary\u001b[0m \u001b[0;34m=\u001b[0m \u001b[0mdict\u001b[0m\u001b[0;34m(\u001b[0m\u001b[0mvocabulary\u001b[0m\u001b[0;34m)\u001b[0m\u001b[0;34m\u001b[0m\u001b[0;34m\u001b[0m\u001b[0m\n\u001b[1;32m   1149\u001b[0m             \u001b[0;32mif\u001b[0m \u001b[0;32mnot\u001b[0m \u001b[0mvocabulary\u001b[0m\u001b[0;34m:\u001b[0m\u001b[0;34m\u001b[0m\u001b[0;34m\u001b[0m\u001b[0m\n\u001b[0;32m-> 1150\u001b[0;31m                 raise ValueError(\"empty vocabulary; perhaps the documents only\"\n\u001b[0m\u001b[1;32m   1151\u001b[0m                                  \" contain stop words\")\n\u001b[1;32m   1152\u001b[0m \u001b[0;34m\u001b[0m\u001b[0m\n",
            "\u001b[0;31mValueError\u001b[0m: empty vocabulary; perhaps the documents only contain stop words"
          ]
        }
      ]
    },
    {
      "cell_type": "code",
      "metadata": {
        "id": "ziDxbgfABNoz",
        "colab": {
          "base_uri": "https://localhost:8080/",
          "height": 358
        },
        "outputId": "12cc2f50-f4ed-4970-c0b8-0336c60e1634"
      },
      "source": [
        "from biterm.utility import vec_to_biterms\n",
        "\n",
        "vocabulary = np.array(vector.get_feature_names())\n",
        "biterms = vec_to_biterms(X)"
      ],
      "execution_count": null,
      "outputs": [
        {
          "output_type": "error",
          "ename": "NotFittedError",
          "evalue": "ignored",
          "traceback": [
            "\u001b[0;31m---------------------------------------------------------------------------\u001b[0m",
            "\u001b[0;31mNotFittedError\u001b[0m                            Traceback (most recent call last)",
            "\u001b[0;32m<ipython-input-51-cc9693ce7b6a>\u001b[0m in \u001b[0;36m<module>\u001b[0;34m()\u001b[0m\n\u001b[1;32m      1\u001b[0m \u001b[0;32mfrom\u001b[0m \u001b[0mbiterm\u001b[0m\u001b[0;34m.\u001b[0m\u001b[0mutility\u001b[0m \u001b[0;32mimport\u001b[0m \u001b[0mvec_to_biterms\u001b[0m\u001b[0;34m\u001b[0m\u001b[0;34m\u001b[0m\u001b[0m\n\u001b[1;32m      2\u001b[0m \u001b[0;34m\u001b[0m\u001b[0m\n\u001b[0;32m----> 3\u001b[0;31m \u001b[0mvocabulary\u001b[0m \u001b[0;34m=\u001b[0m \u001b[0mnp\u001b[0m\u001b[0;34m.\u001b[0m\u001b[0marray\u001b[0m\u001b[0;34m(\u001b[0m\u001b[0mvector\u001b[0m\u001b[0;34m.\u001b[0m\u001b[0mget_feature_names\u001b[0m\u001b[0;34m(\u001b[0m\u001b[0;34m)\u001b[0m\u001b[0;34m)\u001b[0m\u001b[0;34m\u001b[0m\u001b[0;34m\u001b[0m\u001b[0m\n\u001b[0m\u001b[1;32m      4\u001b[0m \u001b[0mbiterms\u001b[0m \u001b[0;34m=\u001b[0m \u001b[0mvec_to_biterms\u001b[0m\u001b[0;34m(\u001b[0m\u001b[0mX\u001b[0m\u001b[0;34m)\u001b[0m\u001b[0;34m\u001b[0m\u001b[0;34m\u001b[0m\u001b[0m\n",
            "\u001b[0;32m/usr/local/lib/python3.6/dist-packages/sklearn/feature_extraction/text.py\u001b[0m in \u001b[0;36mget_feature_names\u001b[0;34m(self)\u001b[0m\n\u001b[1;32m   1313\u001b[0m         \"\"\"\n\u001b[1;32m   1314\u001b[0m \u001b[0;34m\u001b[0m\u001b[0m\n\u001b[0;32m-> 1315\u001b[0;31m         \u001b[0mself\u001b[0m\u001b[0;34m.\u001b[0m\u001b[0m_check_vocabulary\u001b[0m\u001b[0;34m(\u001b[0m\u001b[0;34m)\u001b[0m\u001b[0;34m\u001b[0m\u001b[0;34m\u001b[0m\u001b[0m\n\u001b[0m\u001b[1;32m   1316\u001b[0m \u001b[0;34m\u001b[0m\u001b[0m\n\u001b[1;32m   1317\u001b[0m         return [t for t, i in sorted(self.vocabulary_.items(),\n",
            "\u001b[0;32m/usr/local/lib/python3.6/dist-packages/sklearn/feature_extraction/text.py\u001b[0m in \u001b[0;36m_check_vocabulary\u001b[0;34m(self)\u001b[0m\n\u001b[1;32m    488\u001b[0m             \u001b[0mself\u001b[0m\u001b[0;34m.\u001b[0m\u001b[0m_validate_vocabulary\u001b[0m\u001b[0;34m(\u001b[0m\u001b[0;34m)\u001b[0m\u001b[0;34m\u001b[0m\u001b[0;34m\u001b[0m\u001b[0m\n\u001b[1;32m    489\u001b[0m             \u001b[0;32mif\u001b[0m \u001b[0;32mnot\u001b[0m \u001b[0mself\u001b[0m\u001b[0;34m.\u001b[0m\u001b[0mfixed_vocabulary_\u001b[0m\u001b[0;34m:\u001b[0m\u001b[0;34m\u001b[0m\u001b[0;34m\u001b[0m\u001b[0m\n\u001b[0;32m--> 490\u001b[0;31m                 \u001b[0;32mraise\u001b[0m \u001b[0mNotFittedError\u001b[0m\u001b[0;34m(\u001b[0m\u001b[0;34m\"Vocabulary not fitted or provided\"\u001b[0m\u001b[0;34m)\u001b[0m\u001b[0;34m\u001b[0m\u001b[0;34m\u001b[0m\u001b[0m\n\u001b[0m\u001b[1;32m    491\u001b[0m \u001b[0;34m\u001b[0m\u001b[0m\n\u001b[1;32m    492\u001b[0m         \u001b[0;32mif\u001b[0m \u001b[0mlen\u001b[0m\u001b[0;34m(\u001b[0m\u001b[0mself\u001b[0m\u001b[0;34m.\u001b[0m\u001b[0mvocabulary_\u001b[0m\u001b[0;34m)\u001b[0m \u001b[0;34m==\u001b[0m \u001b[0;36m0\u001b[0m\u001b[0;34m:\u001b[0m\u001b[0;34m\u001b[0m\u001b[0;34m\u001b[0m\u001b[0m\n",
            "\u001b[0;31mNotFittedError\u001b[0m: Vocabulary not fitted or provided"
          ]
        }
      ]
    },
    {
      "cell_type": "code",
      "metadata": {
        "colab": {
          "base_uri": "https://localhost:8080/",
          "height": 215
        },
        "id": "OKtmB5dyBRem",
        "outputId": "aedf6d79-572e-41ef-baf2-23b665c0b37b"
      },
      "source": [
        "from biterm.btm import oBTM\n",
        "\n",
        "b_t_m = oBTM(num_topics=20, V=vocabulary)\n",
        "btmModel = b_t_m.fit_transform(biterms, iterations=10)"
      ],
      "execution_count": null,
      "outputs": [
        {
          "output_type": "error",
          "ename": "NameError",
          "evalue": "ignored",
          "traceback": [
            "\u001b[0;31m---------------------------------------------------------------------------\u001b[0m",
            "\u001b[0;31mNameError\u001b[0m                                 Traceback (most recent call last)",
            "\u001b[0;32m<ipython-input-53-99272e2029ec>\u001b[0m in \u001b[0;36m<module>\u001b[0;34m()\u001b[0m\n\u001b[1;32m      1\u001b[0m \u001b[0;32mfrom\u001b[0m \u001b[0mbiterm\u001b[0m\u001b[0;34m.\u001b[0m\u001b[0mbtm\u001b[0m \u001b[0;32mimport\u001b[0m \u001b[0moBTM\u001b[0m\u001b[0;34m\u001b[0m\u001b[0;34m\u001b[0m\u001b[0m\n\u001b[1;32m      2\u001b[0m \u001b[0;34m\u001b[0m\u001b[0m\n\u001b[0;32m----> 3\u001b[0;31m \u001b[0mb_t_m\u001b[0m \u001b[0;34m=\u001b[0m \u001b[0moBTM\u001b[0m\u001b[0;34m(\u001b[0m\u001b[0mnum_topics\u001b[0m\u001b[0;34m=\u001b[0m\u001b[0;36m20\u001b[0m\u001b[0;34m,\u001b[0m \u001b[0mV\u001b[0m\u001b[0;34m=\u001b[0m\u001b[0mvocabulary\u001b[0m\u001b[0;34m)\u001b[0m\u001b[0;34m\u001b[0m\u001b[0;34m\u001b[0m\u001b[0m\n\u001b[0m\u001b[1;32m      4\u001b[0m \u001b[0mbtmModel\u001b[0m \u001b[0;34m=\u001b[0m \u001b[0mb_t_m\u001b[0m\u001b[0;34m.\u001b[0m\u001b[0mfit_transform\u001b[0m\u001b[0;34m(\u001b[0m\u001b[0mbiterms\u001b[0m\u001b[0;34m,\u001b[0m \u001b[0miterations\u001b[0m\u001b[0;34m=\u001b[0m\u001b[0;36m10\u001b[0m\u001b[0;34m)\u001b[0m\u001b[0;34m\u001b[0m\u001b[0;34m\u001b[0m\u001b[0m\n",
            "\u001b[0;31mNameError\u001b[0m: name 'vocabulary' is not defined"
          ]
        }
      ]
    },
    {
      "cell_type": "code",
      "metadata": {
        "colab": {
          "base_uri": "https://localhost:8080/",
          "height": 358
        },
        "id": "2r9IHcGnbZ1U",
        "outputId": "433d3b38-ae5a-4682-ff95-923bcb743189"
      },
      "source": [
        "import numpy as np\n",
        "from biterm.cbtm import oBTM \n",
        "from sklearn.feature_extraction.text import CountVectorizer\n",
        "import pyLDAvis\n",
        "from biterm.utility import vec_to_biterms, topic_summuary # helper functions\n",
        "\n",
        "\n",
        "def vislz():\n",
        "\n",
        "    vector = CountVectorizer(stop_words='english')\n",
        "    X = vector.fit_transform(revBData[:100]).toarray()\n",
        "    vocabulary = np.array(vector.get_feature_names())\n",
        "\n",
        "    biterms = vec_to_biterms(X)\n",
        "    b_t_m = oBTM(num_topics=20, V=vocabulary)\n",
        "    print(\"\\n\\n Train Online BTM ..\")\n",
        "    for p in range(0, len(biterms), 100):\n",
        "        bchunk = biterms[p:p + 100]\n",
        "        b_t_m.fit(bchunk, iterations=10)\n",
        "    topics = b_t_m.transform(biterms)\n",
        "\n",
        "    print(\"\\n\\n Visualize Topics ..\")\n",
        "    Visualize = pyLDAvis.prepare(btm.phi_wz.T, topics, np.count_nonzero(X, axis=1), vocabulary, np.sum(X, axis=0))\n",
        "    pyLDAvis.enable_notebook()\n",
        "    pyLDAvis.display(Visualize)\n",
        "    print(\"\\n\\n Topic coherence ..\")\n",
        "    topic_summuary(b_t_m.phi_wz.T, X, vocabulary, 10)\n",
        "    print(\"\\n\\n Texts & Topics ..\")\n",
        "    for i in range(len(reviews[:100])):\n",
        "        print(\"{} (topic: {})\".format(reviews[i], topics[i].argmax()))\n",
        "    return Visualize\n",
        "vis1 = vislz()"
      ],
      "execution_count": null,
      "outputs": [
        {
          "output_type": "error",
          "ename": "ValueError",
          "evalue": "ignored",
          "traceback": [
            "\u001b[0;31m---------------------------------------------------------------------------\u001b[0m",
            "\u001b[0;31mValueError\u001b[0m                                Traceback (most recent call last)",
            "\u001b[0;32m<ipython-input-55-725f2b580db6>\u001b[0m in \u001b[0;36m<module>\u001b[0;34m()\u001b[0m\n\u001b[1;32m     30\u001b[0m         \u001b[0mprint\u001b[0m\u001b[0;34m(\u001b[0m\u001b[0;34m\"{} (topic: {})\"\u001b[0m\u001b[0;34m.\u001b[0m\u001b[0mformat\u001b[0m\u001b[0;34m(\u001b[0m\u001b[0mreviews\u001b[0m\u001b[0;34m[\u001b[0m\u001b[0mi\u001b[0m\u001b[0;34m]\u001b[0m\u001b[0;34m,\u001b[0m \u001b[0mtopics\u001b[0m\u001b[0;34m[\u001b[0m\u001b[0mi\u001b[0m\u001b[0;34m]\u001b[0m\u001b[0;34m.\u001b[0m\u001b[0margmax\u001b[0m\u001b[0;34m(\u001b[0m\u001b[0;34m)\u001b[0m\u001b[0;34m)\u001b[0m\u001b[0;34m)\u001b[0m\u001b[0;34m\u001b[0m\u001b[0;34m\u001b[0m\u001b[0m\n\u001b[1;32m     31\u001b[0m     \u001b[0;32mreturn\u001b[0m \u001b[0mVisualize\u001b[0m\u001b[0;34m\u001b[0m\u001b[0;34m\u001b[0m\u001b[0m\n\u001b[0;32m---> 32\u001b[0;31m \u001b[0mvis1\u001b[0m \u001b[0;34m=\u001b[0m \u001b[0mvislz\u001b[0m\u001b[0;34m(\u001b[0m\u001b[0;34m)\u001b[0m\u001b[0;34m\u001b[0m\u001b[0;34m\u001b[0m\u001b[0m\n\u001b[0m",
            "\u001b[0;32m<ipython-input-55-725f2b580db6>\u001b[0m in \u001b[0;36mvislz\u001b[0;34m()\u001b[0m\n\u001b[1;32m      9\u001b[0m \u001b[0;34m\u001b[0m\u001b[0m\n\u001b[1;32m     10\u001b[0m     \u001b[0mvector\u001b[0m \u001b[0;34m=\u001b[0m \u001b[0mCountVectorizer\u001b[0m\u001b[0;34m(\u001b[0m\u001b[0mstop_words\u001b[0m\u001b[0;34m=\u001b[0m\u001b[0;34m'english'\u001b[0m\u001b[0;34m)\u001b[0m\u001b[0;34m\u001b[0m\u001b[0;34m\u001b[0m\u001b[0m\n\u001b[0;32m---> 11\u001b[0;31m     \u001b[0mX\u001b[0m \u001b[0;34m=\u001b[0m \u001b[0mvector\u001b[0m\u001b[0;34m.\u001b[0m\u001b[0mfit_transform\u001b[0m\u001b[0;34m(\u001b[0m\u001b[0mrevBData\u001b[0m\u001b[0;34m[\u001b[0m\u001b[0;34m:\u001b[0m\u001b[0;36m100\u001b[0m\u001b[0;34m]\u001b[0m\u001b[0;34m)\u001b[0m\u001b[0;34m.\u001b[0m\u001b[0mtoarray\u001b[0m\u001b[0;34m(\u001b[0m\u001b[0;34m)\u001b[0m\u001b[0;34m\u001b[0m\u001b[0;34m\u001b[0m\u001b[0m\n\u001b[0m\u001b[1;32m     12\u001b[0m     \u001b[0mvocabulary\u001b[0m \u001b[0;34m=\u001b[0m \u001b[0mnp\u001b[0m\u001b[0;34m.\u001b[0m\u001b[0marray\u001b[0m\u001b[0;34m(\u001b[0m\u001b[0mvector\u001b[0m\u001b[0;34m.\u001b[0m\u001b[0mget_feature_names\u001b[0m\u001b[0;34m(\u001b[0m\u001b[0;34m)\u001b[0m\u001b[0;34m)\u001b[0m\u001b[0;34m\u001b[0m\u001b[0;34m\u001b[0m\u001b[0m\n\u001b[1;32m     13\u001b[0m \u001b[0;34m\u001b[0m\u001b[0m\n",
            "\u001b[0;32m/usr/local/lib/python3.6/dist-packages/sklearn/feature_extraction/text.py\u001b[0m in \u001b[0;36mfit_transform\u001b[0;34m(self, raw_documents, y)\u001b[0m\n\u001b[1;32m   1218\u001b[0m \u001b[0;34m\u001b[0m\u001b[0m\n\u001b[1;32m   1219\u001b[0m         vocabulary, X = self._count_vocab(raw_documents,\n\u001b[0;32m-> 1220\u001b[0;31m                                           self.fixed_vocabulary_)\n\u001b[0m\u001b[1;32m   1221\u001b[0m \u001b[0;34m\u001b[0m\u001b[0m\n\u001b[1;32m   1222\u001b[0m         \u001b[0;32mif\u001b[0m \u001b[0mself\u001b[0m\u001b[0;34m.\u001b[0m\u001b[0mbinary\u001b[0m\u001b[0;34m:\u001b[0m\u001b[0;34m\u001b[0m\u001b[0;34m\u001b[0m\u001b[0m\n",
            "\u001b[0;32m/usr/local/lib/python3.6/dist-packages/sklearn/feature_extraction/text.py\u001b[0m in \u001b[0;36m_count_vocab\u001b[0;34m(self, raw_documents, fixed_vocab)\u001b[0m\n\u001b[1;32m   1148\u001b[0m             \u001b[0mvocabulary\u001b[0m \u001b[0;34m=\u001b[0m \u001b[0mdict\u001b[0m\u001b[0;34m(\u001b[0m\u001b[0mvocabulary\u001b[0m\u001b[0;34m)\u001b[0m\u001b[0;34m\u001b[0m\u001b[0;34m\u001b[0m\u001b[0m\n\u001b[1;32m   1149\u001b[0m             \u001b[0;32mif\u001b[0m \u001b[0;32mnot\u001b[0m \u001b[0mvocabulary\u001b[0m\u001b[0;34m:\u001b[0m\u001b[0;34m\u001b[0m\u001b[0;34m\u001b[0m\u001b[0m\n\u001b[0;32m-> 1150\u001b[0;31m                 raise ValueError(\"empty vocabulary; perhaps the documents only\"\n\u001b[0m\u001b[1;32m   1151\u001b[0m                                  \" contain stop words\")\n\u001b[1;32m   1152\u001b[0m \u001b[0;34m\u001b[0m\u001b[0m\n",
            "\u001b[0;31mValueError\u001b[0m: empty vocabulary; perhaps the documents only contain stop words"
          ]
        }
      ]
    },
    {
      "cell_type": "code",
      "metadata": {
        "colab": {
          "base_uri": "https://localhost:8080/",
          "height": 881
        },
        "id": "hRNVQDkKxn7p",
        "outputId": "a41ea50a-6e17-4af1-c892-5f2807160513"
      },
      "source": [
        "pyLDAvis.enable_notebook()\n",
        "pyLDAvis.display(vis)"
      ],
      "execution_count": null,
      "outputs": [
        {
          "output_type": "execute_result",
          "data": {
            "text/html": [
              "\n",
              "<link rel=\"stylesheet\" type=\"text/css\" href=\"https://cdn.rawgit.com/bmabey/pyLDAvis/files/ldavis.v1.0.0.css\">\n",
              "\n",
              "\n",
              "<div id=\"ldavis_el14811401012297396081941151008\"></div>\n",
              "<script type=\"text/javascript\">\n",
              "\n",
              "var ldavis_el14811401012297396081941151008_data = {\"mdsDat\": {\"x\": [0.302647189505709, -0.09909807092337794, -0.029651041612477183, 0.010934893997756271, -0.04982113177400819, -0.07014913903090336, -0.07156341197881042, -0.08556794892554075, -0.04301238854860464, -0.03216942592353818, -0.09359705762664992, -0.05290102777451404, -0.043934104897024574, -0.08156347507814546, -0.11147217099369609, 0.3751483359583604, -0.08612413808296938, -0.06831720236903055, -0.04513751594748684, 0.3753488320249519], \"y\": [0.029204828526636934, 0.2012576918531991, -0.10976945633354862, -0.03200543569594341, -0.28647429830843496, -0.10711181718289708, 0.03864230095315941, 0.005869991146961286, -0.0631709273601061, -0.01449732855026802, -0.06312074463124036, 0.19203683013353717, 0.10721939032898936, 0.0017495795238565636, 0.06273023308892295, 0.02132325498274414, 0.2539998167159407, -0.2362767522257196, -0.002219264720257369, 0.0006121077544681908], \"topics\": [1, 2, 3, 4, 5, 6, 7, 8, 9, 10, 11, 12, 13, 14, 15, 16, 17, 18, 19, 20], \"cluster\": [1, 1, 1, 1, 1, 1, 1, 1, 1, 1, 1, 1, 1, 1, 1, 1, 1, 1, 1, 1], \"Freq\": [12.311927288299449, 7.631969773426997, 6.245311373340537, 6.114409970334635, 5.530215741924376, 5.389979806490228, 5.184547709427804, 5.117278709877692, 5.034641782174511, 4.966886518486652, 4.781080294104491, 4.700081796566099, 4.521185937463126, 4.341594504526465, 4.274427457843182, 4.082021372615273, 3.976935959558629, 3.1326117860565974, 2.0718089240297277, 0.591083293453537]}, \"tinfo\": {\"Category\": [\"Default\", \"Default\", \"Default\", \"Default\", \"Default\", \"Default\", \"Default\", \"Default\", \"Default\", \"Default\", \"Default\", \"Default\", \"Default\", \"Default\", \"Default\", \"Default\", \"Default\", \"Default\", \"Default\", \"Default\", \"Default\", \"Default\", \"Default\", \"Default\", \"Default\", \"Default\", \"Default\", \"Default\", \"Default\", \"Default\", \"Topic1\", \"Topic1\", \"Topic1\", \"Topic1\", \"Topic1\", \"Topic1\", \"Topic1\", \"Topic1\", \"Topic1\", \"Topic1\", \"Topic1\", \"Topic1\", \"Topic1\", \"Topic1\", \"Topic1\", \"Topic1\", \"Topic1\", \"Topic1\", \"Topic1\", \"Topic1\", \"Topic1\", \"Topic1\", \"Topic1\", \"Topic1\", \"Topic1\", \"Topic1\", \"Topic1\", \"Topic1\", \"Topic1\", \"Topic1\", \"Topic1\", \"Topic1\", \"Topic1\", \"Topic1\", \"Topic1\", \"Topic1\", \"Topic1\", \"Topic1\", \"Topic1\", \"Topic1\", \"Topic1\", \"Topic1\", \"Topic1\", \"Topic1\", \"Topic1\", \"Topic1\", \"Topic1\", \"Topic1\", \"Topic1\", \"Topic1\", \"Topic1\", \"Topic1\", \"Topic1\", \"Topic1\", \"Topic1\", \"Topic1\", \"Topic1\", \"Topic1\", \"Topic1\", \"Topic1\", \"Topic1\", \"Topic1\", \"Topic1\", \"Topic1\", \"Topic1\", \"Topic1\", \"Topic1\", \"Topic1\", \"Topic1\", \"Topic1\", \"Topic1\", \"Topic1\", \"Topic1\", \"Topic1\", \"Topic1\", \"Topic1\", \"Topic1\", \"Topic1\", \"Topic1\", \"Topic1\", \"Topic1\", \"Topic1\", \"Topic1\", \"Topic1\", \"Topic1\", \"Topic1\", \"Topic1\", \"Topic1\", \"Topic1\", \"Topic1\", \"Topic1\", \"Topic1\", \"Topic1\", \"Topic2\", \"Topic2\", \"Topic2\", \"Topic2\", \"Topic2\", \"Topic2\", \"Topic2\", \"Topic2\", \"Topic2\", \"Topic2\", \"Topic2\", \"Topic2\", \"Topic2\", \"Topic2\", \"Topic2\", \"Topic2\", \"Topic2\", \"Topic2\", \"Topic2\", \"Topic2\", \"Topic2\", \"Topic2\", \"Topic2\", \"Topic2\", \"Topic2\", \"Topic2\", \"Topic2\", \"Topic2\", \"Topic2\", \"Topic2\", \"Topic2\", \"Topic2\", \"Topic2\", \"Topic2\", \"Topic2\", \"Topic2\", \"Topic2\", \"Topic2\", \"Topic2\", \"Topic2\", \"Topic2\", \"Topic2\", \"Topic2\", \"Topic2\", \"Topic2\", \"Topic2\", \"Topic2\", \"Topic2\", \"Topic2\", \"Topic2\", \"Topic2\", \"Topic2\", \"Topic2\", \"Topic2\", \"Topic2\", \"Topic2\", \"Topic2\", \"Topic2\", \"Topic2\", \"Topic2\", \"Topic2\", \"Topic2\", \"Topic2\", \"Topic2\", \"Topic2\", \"Topic2\", \"Topic2\", \"Topic2\", \"Topic2\", \"Topic2\", \"Topic2\", \"Topic2\", \"Topic2\", \"Topic2\", \"Topic2\", \"Topic2\", \"Topic2\", \"Topic2\", \"Topic2\", \"Topic2\", \"Topic2\", \"Topic2\", \"Topic2\", \"Topic2\", \"Topic2\", \"Topic2\", \"Topic2\", \"Topic2\", \"Topic2\", \"Topic2\", \"Topic2\", \"Topic3\", \"Topic3\", \"Topic3\", \"Topic3\", \"Topic3\", \"Topic3\", \"Topic3\", \"Topic3\", \"Topic3\", \"Topic3\", \"Topic3\", \"Topic3\", \"Topic3\", \"Topic3\", \"Topic3\", \"Topic3\", \"Topic3\", \"Topic3\", \"Topic3\", \"Topic3\", \"Topic3\", \"Topic3\", \"Topic3\", \"Topic3\", \"Topic3\", \"Topic3\", \"Topic3\", \"Topic3\", \"Topic3\", \"Topic3\", \"Topic3\", \"Topic3\", \"Topic3\", \"Topic3\", \"Topic3\", \"Topic3\", \"Topic3\", \"Topic3\", \"Topic3\", \"Topic3\", \"Topic3\", \"Topic3\", \"Topic3\", \"Topic3\", \"Topic3\", \"Topic3\", \"Topic3\", \"Topic3\", \"Topic3\", \"Topic3\", \"Topic3\", \"Topic3\", \"Topic3\", \"Topic3\", \"Topic3\", \"Topic3\", \"Topic3\", \"Topic3\", \"Topic3\", \"Topic3\", \"Topic3\", \"Topic3\", \"Topic3\", \"Topic3\", \"Topic3\", \"Topic3\", \"Topic3\", \"Topic3\", \"Topic3\", \"Topic3\", \"Topic3\", \"Topic3\", \"Topic3\", \"Topic3\", \"Topic3\", \"Topic3\", \"Topic3\", \"Topic3\", \"Topic3\", \"Topic3\", \"Topic3\", \"Topic3\", \"Topic3\", \"Topic3\", \"Topic3\", \"Topic3\", \"Topic3\", \"Topic3\", \"Topic3\", \"Topic4\", \"Topic4\", \"Topic4\", \"Topic4\", \"Topic4\", \"Topic4\", \"Topic4\", \"Topic4\", \"Topic4\", \"Topic4\", \"Topic4\", \"Topic4\", \"Topic4\", \"Topic4\", \"Topic4\", \"Topic4\", \"Topic4\", \"Topic4\", \"Topic4\", \"Topic4\", \"Topic4\", \"Topic4\", \"Topic4\", \"Topic4\", \"Topic4\", \"Topic4\", \"Topic4\", \"Topic4\", \"Topic4\", \"Topic4\", \"Topic4\", \"Topic4\", \"Topic4\", \"Topic4\", \"Topic4\", \"Topic4\", \"Topic4\", \"Topic4\", \"Topic4\", \"Topic4\", \"Topic4\", \"Topic4\", \"Topic4\", \"Topic4\", \"Topic4\", \"Topic4\", \"Topic4\", \"Topic4\", \"Topic4\", \"Topic4\", \"Topic4\", \"Topic4\", \"Topic4\", \"Topic4\", \"Topic4\", \"Topic4\", \"Topic4\", \"Topic4\", \"Topic4\", \"Topic4\", \"Topic4\", \"Topic4\", \"Topic4\", \"Topic4\", \"Topic5\", \"Topic5\", \"Topic5\", \"Topic5\", \"Topic5\", \"Topic5\", \"Topic5\", \"Topic5\", \"Topic5\", \"Topic5\", \"Topic5\", \"Topic5\", \"Topic5\", \"Topic5\", \"Topic5\", \"Topic5\", \"Topic5\", \"Topic5\", \"Topic5\", \"Topic5\", \"Topic5\", \"Topic5\", \"Topic5\", \"Topic5\", \"Topic5\", \"Topic5\", \"Topic5\", \"Topic5\", \"Topic5\", \"Topic5\", \"Topic5\", \"Topic5\", \"Topic5\", \"Topic5\", \"Topic5\", \"Topic5\", \"Topic5\", \"Topic5\", \"Topic5\", \"Topic5\", \"Topic5\", \"Topic5\", \"Topic5\", \"Topic5\", \"Topic5\", \"Topic5\", \"Topic5\", \"Topic5\", \"Topic5\", \"Topic5\", \"Topic5\", \"Topic5\", \"Topic5\", \"Topic5\", \"Topic5\", \"Topic5\", \"Topic5\", \"Topic5\", \"Topic5\", \"Topic5\", \"Topic5\", \"Topic5\", \"Topic5\", \"Topic5\", \"Topic5\", \"Topic5\", \"Topic5\", \"Topic6\", \"Topic6\", \"Topic6\", \"Topic6\", \"Topic6\", \"Topic6\", \"Topic6\", \"Topic6\", \"Topic6\", \"Topic6\", \"Topic6\", \"Topic6\", \"Topic6\", \"Topic6\", \"Topic6\", \"Topic6\", \"Topic6\", \"Topic6\", \"Topic6\", \"Topic6\", \"Topic6\", \"Topic6\", \"Topic6\", \"Topic6\", \"Topic6\", \"Topic6\", \"Topic6\", \"Topic6\", \"Topic6\", \"Topic6\", \"Topic6\", \"Topic6\", \"Topic6\", \"Topic6\", \"Topic6\", \"Topic6\", \"Topic6\", \"Topic6\", \"Topic6\", \"Topic6\", \"Topic6\", \"Topic6\", \"Topic6\", \"Topic6\", \"Topic6\", \"Topic6\", \"Topic6\", \"Topic6\", \"Topic6\", \"Topic6\", \"Topic6\", \"Topic6\", \"Topic6\", \"Topic6\", \"Topic6\", \"Topic6\", \"Topic6\", \"Topic6\", \"Topic6\", \"Topic6\", \"Topic6\", \"Topic6\", \"Topic6\", \"Topic6\", \"Topic6\", \"Topic6\", \"Topic6\", \"Topic6\", \"Topic6\", \"Topic6\", \"Topic6\", \"Topic6\", \"Topic7\", \"Topic7\", \"Topic7\", \"Topic7\", \"Topic7\", \"Topic7\", \"Topic7\", \"Topic7\", \"Topic7\", \"Topic7\", \"Topic7\", \"Topic7\", \"Topic7\", \"Topic7\", \"Topic7\", \"Topic7\", \"Topic7\", \"Topic7\", \"Topic7\", \"Topic7\", \"Topic7\", \"Topic7\", \"Topic7\", \"Topic7\", \"Topic7\", \"Topic7\", \"Topic7\", \"Topic7\", \"Topic7\", \"Topic7\", \"Topic7\", \"Topic7\", \"Topic7\", \"Topic7\", \"Topic7\", \"Topic7\", \"Topic7\", \"Topic7\", \"Topic7\", \"Topic7\", \"Topic7\", \"Topic7\", \"Topic7\", \"Topic7\", \"Topic7\", \"Topic7\", \"Topic7\", \"Topic7\", \"Topic7\", \"Topic7\", \"Topic7\", \"Topic7\", \"Topic7\", \"Topic7\", \"Topic7\", \"Topic7\", \"Topic7\", \"Topic7\", \"Topic7\", \"Topic7\", \"Topic7\", \"Topic7\", \"Topic7\", \"Topic7\", \"Topic7\", \"Topic7\", \"Topic7\", \"Topic7\", \"Topic7\", \"Topic8\", \"Topic8\", \"Topic8\", \"Topic8\", \"Topic8\", \"Topic8\", \"Topic8\", \"Topic8\", \"Topic8\", \"Topic8\", \"Topic8\", \"Topic8\", \"Topic8\", \"Topic8\", \"Topic8\", \"Topic8\", \"Topic8\", \"Topic8\", \"Topic8\", \"Topic8\", \"Topic8\", \"Topic8\", \"Topic8\", \"Topic8\", \"Topic8\", \"Topic8\", \"Topic8\", \"Topic8\", \"Topic8\", \"Topic8\", \"Topic8\", \"Topic8\", \"Topic8\", \"Topic8\", \"Topic8\", \"Topic8\", \"Topic8\", \"Topic8\", \"Topic8\", \"Topic8\", \"Topic8\", \"Topic8\", \"Topic8\", \"Topic8\", \"Topic8\", \"Topic8\", \"Topic8\", \"Topic8\", \"Topic8\", \"Topic8\", \"Topic8\", \"Topic8\", \"Topic8\", \"Topic8\", \"Topic8\", \"Topic8\", \"Topic8\", \"Topic8\", \"Topic8\", \"Topic8\", \"Topic8\", \"Topic8\", \"Topic8\", \"Topic8\", \"Topic8\", \"Topic8\", \"Topic8\", \"Topic8\", \"Topic8\", \"Topic9\", \"Topic9\", \"Topic9\", \"Topic9\", \"Topic9\", \"Topic9\", \"Topic9\", \"Topic9\", \"Topic9\", \"Topic9\", \"Topic9\", \"Topic9\", \"Topic9\", \"Topic9\", \"Topic9\", \"Topic9\", \"Topic9\", \"Topic9\", \"Topic9\", \"Topic9\", \"Topic9\", \"Topic9\", \"Topic9\", \"Topic9\", \"Topic9\", \"Topic9\", \"Topic9\", \"Topic9\", \"Topic9\", \"Topic9\", \"Topic9\", \"Topic9\", \"Topic9\", \"Topic9\", \"Topic9\", \"Topic9\", \"Topic9\", \"Topic9\", \"Topic9\", \"Topic9\", \"Topic9\", \"Topic9\", \"Topic9\", \"Topic9\", \"Topic9\", \"Topic9\", \"Topic9\", \"Topic9\", \"Topic9\", \"Topic9\", \"Topic9\", \"Topic9\", \"Topic9\", \"Topic9\", \"Topic9\", \"Topic9\", \"Topic9\", \"Topic9\", \"Topic9\", \"Topic9\", \"Topic9\", \"Topic9\", \"Topic9\", \"Topic9\", \"Topic9\", \"Topic9\", \"Topic9\", \"Topic9\", \"Topic9\", \"Topic9\", \"Topic9\", \"Topic9\", \"Topic9\", \"Topic10\", \"Topic10\", \"Topic10\", \"Topic10\", \"Topic10\", \"Topic10\", \"Topic10\", \"Topic10\", \"Topic10\", \"Topic10\", \"Topic10\", \"Topic10\", \"Topic10\", \"Topic10\", \"Topic10\", \"Topic10\", \"Topic10\", \"Topic10\", \"Topic10\", \"Topic10\", \"Topic10\", \"Topic10\", \"Topic10\", \"Topic10\", \"Topic10\", \"Topic10\", \"Topic10\", \"Topic10\", \"Topic10\", \"Topic10\", \"Topic10\", \"Topic10\", \"Topic10\", \"Topic10\", \"Topic10\", \"Topic10\", \"Topic10\", \"Topic10\", \"Topic10\", \"Topic10\", \"Topic10\", \"Topic10\", \"Topic10\", \"Topic10\", \"Topic10\", \"Topic10\", \"Topic10\", \"Topic10\", \"Topic10\", \"Topic10\", \"Topic10\", \"Topic10\", \"Topic10\", \"Topic10\", \"Topic10\", \"Topic10\", \"Topic10\", \"Topic10\", \"Topic10\", \"Topic10\", \"Topic10\", \"Topic10\", \"Topic10\", \"Topic10\", \"Topic10\", \"Topic10\", \"Topic10\", \"Topic10\", \"Topic10\", \"Topic11\", \"Topic11\", \"Topic11\", \"Topic11\", \"Topic11\", \"Topic11\", \"Topic11\", \"Topic11\", \"Topic11\", \"Topic11\", \"Topic11\", \"Topic11\", \"Topic11\", \"Topic11\", \"Topic11\", \"Topic11\", \"Topic11\", \"Topic11\", \"Topic11\", \"Topic11\", \"Topic11\", \"Topic11\", \"Topic11\", \"Topic11\", \"Topic11\", \"Topic11\", \"Topic11\", \"Topic11\", \"Topic11\", \"Topic11\", \"Topic11\", \"Topic11\", \"Topic11\", \"Topic11\", \"Topic11\", \"Topic11\", \"Topic11\", \"Topic11\", \"Topic11\", \"Topic11\", \"Topic11\", \"Topic11\", \"Topic11\", \"Topic11\", \"Topic11\", \"Topic11\", \"Topic11\", \"Topic11\", \"Topic11\", \"Topic11\", \"Topic11\", \"Topic11\", \"Topic11\", \"Topic11\", \"Topic11\", \"Topic11\", \"Topic11\", \"Topic11\", \"Topic11\", \"Topic11\", \"Topic11\", \"Topic11\", \"Topic11\", \"Topic11\", \"Topic11\", \"Topic11\", \"Topic11\", \"Topic11\", \"Topic11\", \"Topic11\", \"Topic11\", \"Topic11\", \"Topic12\", \"Topic12\", \"Topic12\", \"Topic12\", \"Topic12\", \"Topic12\", \"Topic12\", \"Topic12\", \"Topic12\", \"Topic12\", \"Topic12\", \"Topic12\", \"Topic12\", \"Topic12\", \"Topic12\", \"Topic12\", \"Topic12\", \"Topic12\", \"Topic12\", \"Topic12\", \"Topic12\", \"Topic12\", \"Topic12\", \"Topic12\", \"Topic12\", \"Topic12\", \"Topic12\", \"Topic12\", \"Topic12\", \"Topic12\", \"Topic12\", \"Topic12\", \"Topic12\", \"Topic12\", \"Topic12\", \"Topic12\", \"Topic12\", \"Topic12\", \"Topic12\", \"Topic12\", \"Topic12\", \"Topic12\", \"Topic12\", \"Topic12\", \"Topic12\", \"Topic12\", \"Topic12\", \"Topic12\", \"Topic12\", \"Topic12\", \"Topic12\", \"Topic12\", \"Topic12\", \"Topic12\", \"Topic12\", \"Topic12\", \"Topic12\", \"Topic12\", \"Topic12\", \"Topic12\", \"Topic12\", \"Topic12\", \"Topic12\", \"Topic13\", \"Topic13\", \"Topic13\", \"Topic13\", \"Topic13\", \"Topic13\", \"Topic13\", \"Topic13\", \"Topic13\", \"Topic13\", \"Topic13\", \"Topic13\", \"Topic13\", \"Topic13\", \"Topic13\", \"Topic13\", \"Topic13\", \"Topic13\", \"Topic13\", \"Topic13\", \"Topic13\", \"Topic13\", \"Topic13\", \"Topic13\", \"Topic13\", \"Topic13\", \"Topic13\", \"Topic13\", \"Topic13\", \"Topic13\", \"Topic13\", \"Topic13\", \"Topic13\", \"Topic13\", \"Topic13\", \"Topic13\", \"Topic13\", \"Topic13\", \"Topic13\", \"Topic13\", \"Topic13\", \"Topic13\", \"Topic13\", \"Topic13\", \"Topic13\", \"Topic13\", \"Topic13\", \"Topic13\", \"Topic13\", \"Topic13\", \"Topic13\", \"Topic13\", \"Topic13\", \"Topic13\", \"Topic13\", \"Topic13\", \"Topic13\", \"Topic13\", \"Topic13\", \"Topic13\", \"Topic13\", \"Topic13\", \"Topic13\", \"Topic13\", \"Topic13\", \"Topic13\", \"Topic13\", \"Topic13\", \"Topic14\", \"Topic14\", \"Topic14\", \"Topic14\", \"Topic14\", \"Topic14\", \"Topic14\", \"Topic14\", \"Topic14\", \"Topic14\", \"Topic14\", \"Topic14\", \"Topic14\", \"Topic14\", \"Topic14\", \"Topic14\", \"Topic14\", \"Topic14\", \"Topic14\", \"Topic14\", \"Topic14\", \"Topic14\", \"Topic14\", \"Topic14\", \"Topic14\", \"Topic14\", \"Topic14\", \"Topic14\", \"Topic14\", \"Topic14\", \"Topic14\", \"Topic14\", \"Topic14\", \"Topic14\", \"Topic14\", \"Topic14\", \"Topic14\", \"Topic14\", \"Topic14\", \"Topic14\", \"Topic14\", \"Topic14\", \"Topic14\", \"Topic14\", \"Topic14\", \"Topic14\", \"Topic14\", \"Topic14\", \"Topic14\", \"Topic14\", \"Topic14\", \"Topic14\", \"Topic14\", \"Topic14\", \"Topic14\", \"Topic14\", \"Topic14\", \"Topic14\", \"Topic14\", \"Topic14\", \"Topic14\", \"Topic14\", \"Topic14\", \"Topic14\", \"Topic14\", \"Topic14\", \"Topic14\", \"Topic14\", \"Topic14\", \"Topic15\", \"Topic15\", \"Topic15\", \"Topic15\", \"Topic15\", \"Topic15\", \"Topic15\", \"Topic15\", \"Topic15\", \"Topic15\", \"Topic15\", \"Topic15\", \"Topic15\", \"Topic15\", \"Topic15\", \"Topic15\", \"Topic15\", \"Topic15\", \"Topic15\", \"Topic15\", \"Topic15\", \"Topic15\", \"Topic15\", \"Topic15\", \"Topic15\", \"Topic15\", \"Topic15\", \"Topic15\", \"Topic15\", \"Topic15\", \"Topic15\", \"Topic15\", \"Topic15\", \"Topic15\", \"Topic15\", \"Topic15\", \"Topic15\", \"Topic15\", \"Topic15\", \"Topic15\", \"Topic15\", \"Topic15\", \"Topic15\", \"Topic15\", \"Topic15\", \"Topic15\", \"Topic15\", \"Topic15\", \"Topic15\", \"Topic15\", \"Topic15\", \"Topic15\", \"Topic15\", \"Topic15\", \"Topic15\", \"Topic15\", \"Topic15\", \"Topic15\", \"Topic15\", \"Topic15\", \"Topic15\", \"Topic15\", \"Topic15\", \"Topic16\", \"Topic16\", \"Topic16\", \"Topic16\", \"Topic16\", \"Topic16\", \"Topic16\", \"Topic16\", \"Topic16\", \"Topic16\", \"Topic16\", \"Topic16\", \"Topic16\", \"Topic16\", \"Topic16\", \"Topic16\", \"Topic16\", \"Topic16\", \"Topic16\", \"Topic16\", \"Topic16\", \"Topic16\", \"Topic16\", \"Topic16\", \"Topic16\", \"Topic16\", \"Topic16\", \"Topic16\", \"Topic16\", \"Topic16\", \"Topic16\", \"Topic16\", \"Topic16\", \"Topic16\", \"Topic16\", \"Topic16\", \"Topic16\", \"Topic16\", \"Topic16\", \"Topic16\", \"Topic16\", \"Topic16\", \"Topic16\", \"Topic16\", \"Topic16\", \"Topic16\", \"Topic16\", \"Topic16\", \"Topic16\", \"Topic16\", \"Topic16\", \"Topic16\", \"Topic16\", \"Topic16\", \"Topic16\", \"Topic16\", \"Topic17\", \"Topic17\", \"Topic17\", \"Topic17\", \"Topic17\", \"Topic17\", \"Topic17\", \"Topic17\", \"Topic17\", \"Topic17\", \"Topic17\", \"Topic17\", \"Topic17\", \"Topic17\", \"Topic17\", \"Topic17\", \"Topic17\", \"Topic17\", \"Topic17\", \"Topic17\", \"Topic17\", \"Topic17\", \"Topic17\", \"Topic17\", \"Topic17\", \"Topic17\", \"Topic17\", \"Topic17\", \"Topic17\", \"Topic17\", \"Topic17\", \"Topic17\", \"Topic17\", \"Topic17\", \"Topic17\", \"Topic17\", \"Topic17\", \"Topic17\", \"Topic17\", \"Topic17\", \"Topic17\", \"Topic17\", \"Topic17\", \"Topic17\", \"Topic17\", \"Topic17\", \"Topic17\", \"Topic17\", \"Topic17\", \"Topic17\", \"Topic17\", \"Topic17\", \"Topic17\", \"Topic17\", \"Topic17\", \"Topic17\", \"Topic17\", \"Topic17\", \"Topic17\", \"Topic17\", \"Topic17\", \"Topic17\", \"Topic17\", \"Topic17\", \"Topic17\", \"Topic17\", \"Topic18\", \"Topic18\", \"Topic18\", \"Topic18\", \"Topic18\", \"Topic18\", \"Topic18\", \"Topic18\", \"Topic18\", \"Topic18\", \"Topic18\", \"Topic18\", \"Topic18\", \"Topic18\", \"Topic18\", \"Topic18\", \"Topic18\", \"Topic18\", \"Topic18\", \"Topic18\", \"Topic18\", \"Topic18\", \"Topic18\", \"Topic18\", \"Topic18\", \"Topic18\", \"Topic18\", \"Topic18\", \"Topic18\", \"Topic18\", \"Topic18\", \"Topic18\", \"Topic18\", \"Topic18\", \"Topic18\", \"Topic18\", \"Topic18\", \"Topic18\", \"Topic18\", \"Topic18\", \"Topic18\", \"Topic18\", \"Topic18\", \"Topic18\", \"Topic18\", \"Topic18\", \"Topic18\", \"Topic18\", \"Topic18\", \"Topic18\", \"Topic18\", \"Topic18\", \"Topic18\", \"Topic18\", \"Topic18\", \"Topic18\", \"Topic18\", \"Topic18\", \"Topic18\", \"Topic19\", \"Topic19\", \"Topic19\", \"Topic19\", \"Topic19\", \"Topic19\", \"Topic19\", \"Topic19\", \"Topic19\", \"Topic19\", \"Topic19\", \"Topic19\", \"Topic19\", \"Topic19\", \"Topic19\", \"Topic19\", \"Topic19\", \"Topic19\", \"Topic19\", \"Topic19\", \"Topic19\", \"Topic19\", \"Topic19\", \"Topic19\", \"Topic19\", \"Topic19\", \"Topic19\", \"Topic19\", \"Topic19\", \"Topic19\", \"Topic19\", \"Topic19\", \"Topic19\", \"Topic19\", \"Topic19\", \"Topic19\", \"Topic19\", \"Topic19\", \"Topic19\", \"Topic19\", \"Topic19\", \"Topic19\", \"Topic19\", \"Topic19\", \"Topic19\", \"Topic19\", \"Topic19\", \"Topic19\", \"Topic19\", \"Topic19\", \"Topic19\", \"Topic19\", \"Topic19\", \"Topic19\", \"Topic19\", \"Topic19\", \"Topic19\", \"Topic19\", \"Topic20\", \"Topic20\", \"Topic20\", \"Topic20\", \"Topic20\", \"Topic20\", \"Topic20\", \"Topic20\", \"Topic20\", \"Topic20\", \"Topic20\", \"Topic20\", \"Topic20\", \"Topic20\", \"Topic20\", \"Topic20\", \"Topic20\", \"Topic20\", \"Topic20\", \"Topic20\", \"Topic20\", \"Topic20\", \"Topic20\", \"Topic20\", \"Topic20\", \"Topic20\", \"Topic20\", \"Topic20\", \"Topic20\", \"Topic20\", \"Topic20\", \"Topic20\", \"Topic20\", \"Topic20\", \"Topic20\", \"Topic20\", \"Topic20\", \"Topic20\", \"Topic20\", \"Topic20\", \"Topic20\", \"Topic20\", \"Topic20\"], \"Freq\": [19.0, 13.0, 8.0, 6.0, 8.0, 10.0, 12.0, 13.0, 4.0, 4.0, 11.0, 8.0, 7.0, 4.0, 10.0, 4.0, 12.0, 12.0, 5.0, 13.0, 10.0, 7.0, 5.0, 7.0, 8.0, 8.0, 8.0, 7.0, 5.0, 7.0, 0.5833717489793095, 0.5833717489793095, 0.5833717489793095, 0.5833717489793095, 0.5833717489793095, 0.5833717489793095, 0.5833717489793095, 0.5833717489793095, 0.5833717489793095, 0.5833717489793095, 0.5833717489793095, 0.5833717489793095, 0.5833717489793095, 0.5833717489793095, 0.5833717489793095, 0.5833717489793095, 0.5833717489793095, 0.5833717489793095, 0.5115831934980839, 0.5115831934980839, 0.5115831934980839, 0.5115831934980839, 0.5115831934980839, 0.5115831934980839, 0.5115831934980839, 0.5115831934980839, 0.5115831934980839, 0.5115831934980839, 0.5115831934980839, 0.5115831934980839, 0.5115831934980839, 0.5115831934980839, 0.5115831934980839, 0.5115831934980839, 0.5115831934980839, 0.5115831934980839, 0.5115831934980839, 2.0191428586038214, 2.162719969566272, 2.1537464001311193, 2.135799261260813, 3.042129774211286, 2.1178521223905067, 2.3062970805287235, 1.9294071642522894, 2.162719969566272, 1.6243058034570805, 1.7140414978086125, 1.911460025381983, 1.5794379562813146, 1.5166229702352423, 1.5166229702352423, 1.4807286924946292, 2.943420510424601, 1.4897022619297826, 1.4807286924946292, 1.471755123059476, 2.1178521223905067, 1.4358608453188635, 1.4268872758837101, 1.6781472200679997, 2.467821330361481, 1.417913706448557, 1.417913706448557, 1.3909929981430973, 1.3640722898376378, 1.3730458592727908, 2.405006344315409, 3.5536232320150183, 2.396032774880256, 2.6562662884996984, 2.2345085250474983, 1.8755657476413703, 2.449874191491175, 2.422953483185715, 2.360138497139643, 2.189640677871732, 3.4279932599228733, 2.32424421939903, 2.7101077051106173, 3.2036540240440434, 3.3920989821822607, 2.8088169688973026, 2.7370284134160774, 2.2434820944826512, 2.8267641077676093, 2.2973235110935706, 2.440900622056022, 2.315270649963877, 2.2434820944826512, 2.2524556639178046, 2.2524556639178046, 2.2165613861771916, 1.0647745862280598, 0.5864669181644478, 0.5864669181644478, 0.5864669181644478, 0.5864669181644478, 0.5864669181644478, 0.5864669181644478, 0.5864669181644478, 0.5864669181644478, 0.5864669181644478, 0.47846196085976134, 0.47846196085976134, 0.47846196085976134, 0.47846196085976134, 0.47846196085976134, 0.47846196085976134, 0.47846196085976134, 0.47846196085976134, 0.47846196085976134, 0.47846196085976134, 0.47846196085976134, 0.47846196085976134, 0.47846196085976134, 0.4013155627849853, 0.4013155627849853, 0.4013155627849853, 0.4013155627849853, 0.4013155627849853, 0.4013155627849853, 0.23159348702047786, 0.5710376385494926, 1.2653552212224777, 1.1264917046878806, 1.1110624250729255, 1.8979556854356414, 1.8825264058206863, 2.268258396194567, 1.867097126205731, 0.9104817900785075, 0.9104817900785075, 1.8208092873608654, 2.4996975904188945, 1.8053800077459103, 1.8053800077459103, 0.8950525104635522, 0.8950525104635522, 0.8950525104635522, 0.8950525104635522, 1.7436628892860893, 0.8950525104635522, 1.7436628892860893, 1.8825264058206863, 0.879623230848597, 0.8641939512336417, 0.8641939512336417, 1.5430822542916713, 0.8487646716186865, 0.956769628923373, 0.8333353920037314, 0.8333353920037314, 2.2065412777347455, 1.7590921689010448, 2.9008588604077308, 1.4350772969869852, 2.4379804719590736, 1.4350772969869852, 1.4196480173720298, 2.3145462350394324, 2.3299755146543877, 2.638561106953492, 1.4042187377570747, 2.16025343888988, 1.8516678465907759, 2.0522484815851936, 3.6568935615405365, 1.9596728038954625, 1.8979556854356414, 1.8208092873608654, 2.3454047942693426, 2.0676777612001485, 2.005960642740328, 2.978005258482507, 2.5922732681086265, 2.3145462350394324, 2.237399836964656, 2.1911119981197906, 1.9442435242805074, 1.8516678465907759, 1.867097126205731, 1.8979556854356414, 1.8825264058206863, 1.548521187767479, 1.548521187767479, 1.548521187767479, 1.548521187767479, 1.548521187767479, 1.548521187767479, 1.548521187767479, 1.548521187767479, 1.548521187767479, 1.548521187767479, 1.548521187767479, 1.548521187767479, 1.548521187767479, 1.548521187767479, 1.548521187767479, 1.548521187767479, 1.548521187767479, 1.548521187767479, 1.548521187767479, 1.548521187767479, 1.548521187767479, 1.548521187767479, 1.548521187767479, 1.548521187767479, 1.548521187767479, 1.548521187767479, 1.548521187767479, 1.548521187767479, 1.548521187767479, 1.548521187767479, 1.548521187767479, 1.548521187767479, 1.548521187767479, 1.548521187767479, 1.548521187767479, 1.548521187767479, 1.548521187767479, 1.548521187767479, 1.548521187767479, 1.548521187767479, 1.548521187767479, 1.548521187767479, 1.548521187767479, 1.548521187767479, 1.548521187767479, 1.548521187767479, 1.548521187767479, 1.548521187767479, 1.548521187767479, 1.548521187767479, 1.548521187767479, 1.548521187767479, 1.9031172921337438, 2.139514695044587, 1.9149371622792861, 2.5295704098474787, 1.6785397593684426, 1.8912974219882017, 1.7967384608238643, 2.104055084607961, 1.6076205384951898, 2.1867941756267557, 1.6076205384951898, 2.0685954741713344, 1.8085583309694067, 1.6667198892229005, 1.6076205384951898, 2.0685954741713344, 1.855837811551575, 1.7612788503872379, 1.6667198892229005, 2.104055084607961, 1.8085583309694067, 1.7494589802416958, 1.5839807982041054, 1.5958006683496475, 1.8912974219882017, 1.6903596295139849, 1.7730987205327802, 1.7258192399506114, 1.5839807982041054, 1.7258192399506114, 1.7849185906783223, 1.7730987205327802, 1.7612788503872379, 1.713999369805069, 1.713999369805069, 1.6785397593684426, 1.6667198892229005, 1.4245330032469452, 1.4245330032469452, 1.4245330032469452, 1.4245330032469452, 1.4245330032469452, 1.4245330032469452, 1.4245330032469452, 1.4245330032469452, 1.4245330032469452, 1.4245330032469452, 1.4245330032469452, 1.4245330032469452, 1.4245330032469452, 1.4245330032469452, 1.4245330032469452, 1.4245330032469452, 1.4245330032469452, 1.4245330032469452, 1.4245330032469452, 1.4245330032469452, 1.4245330032469452, 1.4245330032469452, 1.4245330032469452, 1.4245330032469452, 1.4245330032469452, 1.4245330032469452, 2.2431360392467985, 0.8023946958870564, 2.161275735646813, 1.882950703406863, 1.4081609425269481, 3.4546685325265813, 3.6675053218865434, 2.9471346502066726, 2.112159553486822, 1.5555094890069217, 2.603321375086734, 1.5063933068469306, 2.0794154320468277, 1.9320668855668541, 2.423228707166766, 1.8993227641268602, 1.9156948248468573, 2.0630433713268306, 1.7519742176468864, 1.4736491854069362, 1.4900212461269333, 1.62099773188691, 1.7356021569268894, 1.5227653675669275, 1.637369792606907, 1.5227653675669275, 1.5718815497269187, 1.62099773188691, 1.604625671166913, 1.604625671166913, 1.6537418533269042, 1.4572771246869392, 1.62099773188691, 1.5555094890069217, 1.62099773188691, 1.5555094890069217, 1.5555094890069217, 1.5555094890069217, 0.07208608186319829, 0.07208608186319829, 0.07208608186319829, 0.07208608186319829, 1.2387139801487248, 1.2387139801487248, 1.2387139801487248, 1.2387139801487248, 1.2387139801487248, 1.2387139801487248, 1.2387139801487248, 1.2315125733691845, 1.2315125733691845, 1.2315125733691845, 1.2315125733691845, 1.2315125733691845, 1.2315125733691845, 1.2243111665896442, 1.2243111665896442, 1.2243111665896442, 1.2243111665896442, 1.2315125733691845, 1.217109759810104, 1.217109759810104, 1.217109759810104, 1.2387139801487248, 0.4681634547379141, 1.2387139801487248, 1.2387139801487248, 1.2387139801487248, 1.2387139801487248, 1.2387139801487248, 1.2315125733691845, 1.2315125733691845, 1.2315125733691845, 1.2315125733691845, 1.519568844550796, 1.5123674377712557, 1.3251308615032082, 1.425950556416772, 1.5843815055666586, 1.3323322682827485, 1.3035266411645874, 1.2819224208259663, 1.2747210140464262, 1.2531167937078054, 1.2747210140464262, 1.2747210140464262, 1.267519607266886, 1.3251308615032082, 1.3755407089599903, 1.2891238276055068, 1.3251308615032082, 1.3107280479441277, 1.317929454723668, 1.3035266411645874, 1.3323322682827485, 1.3035266411645874, 1.3539364886213692, 1.2747210140464262, 1.3035266411645874, 1.2819224208259663, 1.2891238276055068, 1.267519607266886, 1.267519607266886, 1.2603182004873454, 1.2891238276055068, 0.17391213338690914, 0.17391213338690914, 0.47800495612838223, 0.47800495612838223, 0.47800495612838223, 0.47800495612838223, 1.4916476985999594, 1.4771670879932226, 1.4626864773864856, 1.433725256173012, 0.46352434552164545, 0.46352434552164545, 0.46352434552164545, 1.4916476985999594, 1.4916476985999594, 0.57936923037554, 1.9115854061953268, 1.4626864773864856, 0.57936923037554, 1.4626864773864856, 1.4482058667797488, 1.433725256173012, 1.4482058667797488, 1.433725256173012, 0.15943152278017234, 1.3902834243528017, 1.433725256173012, 0.5504080091620663, 1.4047640349595385, 1.4047640349595385, 1.433725256173012, 1.3758028137460647, 1.4047640349595385, 1.3902834243528017, 1.4047640349595385, 1.4047640349595385, 1.4047640349595385, 1.433725256173012, 1.361322203139328, 1.3468415925325912, 1.3323609819258544, 1.2889191501056438, 1.679895636487538, 1.6654150258808011, 2.288081281970484, 1.6509344152740644, 2.1722363971165897, 2.447367998644589, 1.6509344152740644, 1.6364538046673276, 1.5350895304201697, 1.7088568577010117, 1.8102211319481694, 1.9550272380155371, 1.7957405213414326, 1.5785313622403803, 1.766779300127959, 2.056391512262695, 1.6509344152740644, 1.5785313622403803, 1.6654150258808011, 1.679895636487538, 1.593011972847117, 1.7812599107346958, 1.6654150258808011, 1.7088568577010117, 1.679895636487538, 1.6654150258808011, 1.694376247094275, 1.6509344152740644, 1.520608919813433, 1.5495701410269065, 1.287406187040938, 1.287406187040938, 1.287406187040938, 1.287406187040938, 1.287406187040938, 1.287406187040938, 1.287406187040938, 1.287406187040938, 1.287406187040938, 1.287406187040938, 1.287406187040938, 1.287406187040938, 1.287406187040938, 1.287406187040938, 1.287406187040938, 1.287406187040938, 1.287406187040938, 1.287406187040938, 1.287406187040938, 1.287406187040938, 1.287406187040938, 1.287406187040938, 1.287406187040938, 1.287406187040938, 1.287406187040938, 1.287406187040938, 1.287406187040938, 1.287406187040938, 1.287406187040938, 1.287406187040938, 1.287406187040938, 1.287406187040938, 1.287406187040938, 1.287406187040938, 1.287406187040938, 1.6600273699760864, 1.3551554930291465, 1.3551554930291465, 2.862577551266792, 2.5577056743198527, 2.5068936948286957, 1.4567794520114599, 1.5075914315026164, 1.4567794520114599, 1.6939020229701907, 1.6092153904849296, 1.6600273699760864, 1.7955259819525038, 1.7785886554554518, 1.6261527169819818, 1.4567794520114599, 1.5753407374908253, 1.5753407374908253, 1.389030146023251, 1.6092153904849296, 1.7108393494672431, 1.6261527169819818, 1.3212808400350422, 1.4059674725203033, 1.3212808400350422, 1.5414660844967207, 1.4567794520114599, 1.4229047990173556, 1.3382181665320945, 1.4229047990173556, 1.4059674725203033, 1.4229047990173556, 1.4059674725203033, 1.389030146023251, 1.63193103744284, 1.2693372503582538, 1.2693372503582538, 1.2693372503582538, 1.2693372503582538, 1.2693372503582538, 1.2693372503582538, 1.2693372503582538, 1.2693372503582538, 1.2693372503582538, 1.2693372503582538, 1.2693372503582538, 1.2693372503582538, 1.2693372503582538, 1.2693372503582538, 1.2693372503582538, 1.2693372503582538, 1.2693372503582538, 1.2693372503582538, 1.2693372503582538, 1.2693372503582538, 1.2693372503582538, 1.2693372503582538, 1.2693372503582538, 1.2693372503582538, 1.2693372503582538, 1.2693372503582538, 1.2693372503582538, 1.1657390254769437, 1.1657390254769437, 1.1657390254769437, 1.1657390254769437, 1.1657390254769437, 1.1657390254769437, 1.1657390254769437, 1.1657390254769437, 1.1657390254769437, 1.1657390254769437, 1.63193103744284, 1.2434376941379266, 1.3729354752395644, 2.38301816783234, 1.6578305936631679, 2.59021461759496, 2.3312190553916845, 2.3312190553916845, 3.0823061857811838, 2.408917724052667, 2.9010092922388906, 2.046323936968081, 2.3053194991713566, 1.890926599646116, 1.3470359190192367, 2.175821718069719, 1.3470359190192367, 1.6578305936631679, 1.3988350314598919, 1.6578305936631679, 1.5024332563412022, 1.3211363627989092, 1.4765337001208745, 1.3729354752395644, 1.3988350314598919, 1.450634143900547, 1.4765337001208745, 1.3988350314598919, 1.4247345876802195, 1.2952368065785815, 1.3211363627989092, 1.4116210309398798, 1.4116210309398798, 1.4116210309398798, 1.4116210309398798, 1.4116210309398798, 1.4116210309398798, 1.4116210309398798, 1.4116210309398798, 1.4116210309398798, 1.4116210309398798, 1.4116210309398798, 1.4116210309398798, 1.4116210309398798, 1.4116210309398798, 1.4116210309398798, 1.4116210309398798, 1.4116210309398798, 1.4116210309398798, 1.4116210309398798, 1.4116210309398798, 1.4116210309398798, 0.7320145721964879, 0.7320145721964879, 0.7320145721964879, 0.7320145721964879, 0.7320145721964879, 0.7320145721964879, 0.7320145721964879, 0.7320145721964879, 0.7320145721964879, 2.5747936237891462, 0.7320145721964879, 1.3985516759640453, 1.3985516759640453, 1.3985516759640453, 1.3985516759640453, 1.3985516759640453, 1.3985516759640453, 1.3985516759640453, 1.3985516759640453, 1.3985516759640453, 1.3985516759640453, 1.3985516759640453, 1.3985516759640453, 1.3985516759640453, 1.3985516759640453, 2.091227489683271, 2.091227489683271, 1.5031065157707209, 2.0650887797316027, 2.052019424755768, 1.476967805819052, 2.052019424755768, 1.9213258749974234, 1.8298403901665823, 1.8037016802149135, 1.8951871650457546, 1.6599387754807342, 1.5161758707465556, 1.7514242603115755, 1.6991468404082377, 1.4638984508432176, 1.4638984508432176, 1.4638984508432176, 1.5423145806982244, 1.476967805819052, 1.4638984508432176, 1.5161758707465556, 1.4638984508432176, 1.4638984508432176, 1.4508290958673833, 1.4246903859157143, 1.4116210309398798, 1.4449604158287517, 1.4449604158287517, 1.4449604158287517, 1.4449604158287517, 1.4449604158287517, 1.4449604158287517, 1.4449604158287517, 1.4449604158287517, 1.4449604158287517, 1.4449604158287517, 1.4449604158287517, 1.4449604158287517, 1.4449604158287517, 1.4449604158287517, 1.4449604158287517, 1.4449604158287517, 1.4449604158287517, 1.4449604158287517, 1.4449604158287517, 1.4449604158287517, 1.4449604158287517, 1.4449604158287517, 1.4449604158287517, 1.4449604158287517, 1.4449604158287517, 1.4449604158287517, 1.4449604158287517, 1.4449604158287517, 1.4449604158287517, 1.4449604158287517, 1.4449604158287517, 1.4449604158287517, 1.4449604158287517, 1.9128078031078444, 1.7752056303786996, 1.8715271512891012, 1.4862410676474953, 1.954088454926588, 1.5000012849204096, 2.4632164940244246, 2.1880121485661346, 1.5275217194662387, 1.4862410676474953, 2.4219358422056807, 1.89904758583493, 1.89904758583493, 1.8577669340161866, 1.8715271512891012, 1.954088454926588, 1.9128078031078444, 1.8302464994703578, 1.4862410676474953, 1.954088454926588, 1.7339249785599564, 1.6513636749224694, 1.8715271512891012, 1.5275217194662387, 1.4724808503745808, 1.7752056303786996, 1.6926443267412128, 1.5825625885578969, 1.7339249785599564, 1.6100830231037258, 1.62384324037664, 1.5963228058308112, 1.6100830231037258, 1.5688023712849823, 1.5550421540120676, 1.5550421540120676, 1.9842981020970323, 1.5923863673290715, 1.5923863673290715, 1.5923863673290715, 1.5923863673290715, 1.5923863673290715, 1.5923863673290715, 1.5923863673290715, 1.5923863673290715, 0.9065408314851396, 0.9065408314851396, 0.9065408314851396, 0.9065408314851396, 0.9065408314851396, 0.9065408314851396, 0.9065408314851396, 0.9065408314851396, 0.9065408314851396, 0.9065408314851396, 0.9065408314851396, 0.9065408314851396, 0.9065408314851396, 0.39215667960219097, 0.39215667960219097, 0.39215667960219097, 0.39215667960219097, 0.39215667960219097, 0.39215667960219097, 0.39215667960219097, 0.31867322933319825, 1.567891883906074, 1.567891883906074, 1.567891883906074, 1.567891883906074, 1.567891883906074, 0.8820463480621421, 1.5433974004830764, 1.5433974004830764, 1.5189029170600785, 1.5189029170600785, 1.9108146518280398, 1.494408433637081, 1.494408433637081, 1.494408433637081, 1.4699139502140834, 1.4454194667910858, 1.4454194667910858, 1.4209249833680884, 1.3719360165220933, 1.3719360165220933, 1.5923863673290715, 1.2739580828301031, 1.2739580828301031, 1.7638477512900546, 1.9598036186740349, 2.8660995053249443, 2.057781552366025, 1.7638477512900546, 1.9108146518280398, 2.10677051921202, 2.057781552366025, 1.7638477512900546, 1.6413753341750668, 1.7148587844440593, 1.788342234713052, 1.7148587844440593, 1.6168808507520689, 1.6168808507520689, 1.6168808507520689, 1.6168808507520689, 1.5923863673290715, 1.567891883906074, 0.29971268791032957, 0.29971268791032957, 0.29971268791032957, 0.29971268791032957, 0.29971268791032957, 0.2906332365952636, 0.2906332365952636, 0.2906332365952636, 1.2802934299374604, 1.2621345273073286, 1.2621345273073286, 1.2802934299374604, 1.2802934299374604, 1.2712139786223944, 1.2712139786223944, 1.2802934299374604, 1.2802934299374604, 1.2802934299374604, 1.2712139786223944, 1.2712139786223944, 1.2712139786223944, 1.2530550759922625, 1.2530550759922625, 1.2621345273073286, 1.2530550759922625, 1.2530550759922625, 1.2530550759922625, 1.2439756246771965, 1.2530550759922625, 1.2530550759922625, 1.2439756246771965, 1.2530550759922625, 1.2530550759922625, 1.2530550759922625, 1.2348961733621304, 1.2348961733621304, 1.2439756246771965, 1.2439756246771965, 1.5163591641291774, 1.5345180667593095, 1.2802934299374604, 1.398326297033319, 1.3620084917730548, 1.3075317838826586, 1.452803004923715, 1.3166112351977246, 1.3166112351977246, 1.5163591641291774, 1.3710879430881209, 1.2893728812525265, 1.2712139786223944, 1.3075317838826586, 1.2893728812525265, 1.2893728812525265, 1.3256906865127907, 1.2893728812525265, 1.3166112351977246, 1.3166112351977246, 1.3075317838826586, 1.2984523325675925, 1.2893728812525265, 1.2802934299374604, 1.2802934299374604, 1.3121363588045154, 1.3121363588045154, 1.3121363588045154, 1.3121363588045154, 1.3121363588045154, 1.3121363588045154, 1.3121363588045154, 1.3121363588045154, 1.3121363588045154, 1.3121363588045154, 1.3121363588045154, 1.3121363588045154, 1.3121363588045154, 1.3121363588045154, 1.3121363588045154, 1.3121363588045154, 1.3121363588045154, 1.3121363588045154, 1.3121363588045154, 1.3121363588045154, 1.3121363588045154, 1.3121363588045154, 1.3121363588045154, 1.3121363588045154, 1.3121363588045154, 1.3121363588045154, 1.3121363588045154, 1.3121363588045154, 1.3121363588045154, 1.3121363588045154, 1.3121363588045154, 1.3121363588045154, 1.3121363588045154, 1.3121363588045154, 1.3121363588045154, 1.3121363588045154, 1.380589694625984, 1.5403141448760769, 1.5289052555724987, 1.665811927215436, 1.711447484429748, 1.380589694625984, 1.665811927215436, 1.5289052555724987, 1.6087674806975454, 1.6087674806975454, 1.5289052555724987, 1.4376341411438744, 1.6315852593047016, 1.5859497020903894, 1.3577719160188277, 1.391998583929562, 1.4490430304474524, 1.6087674806975454, 1.5631319234832333, 1.6087674806975454, 1.4262252518402962, 1.4490430304474524, 1.5174963662689207, 1.3577719160188277, 1.4946785876617645, 1.4604519197510304, 1.3349541374116716, 1.4718608090546084, 1.4262252518402962, 1.40340747323314, 1.391998583929562, 1.369180805322406, 1.5675751230160286, 1.5675751230160286, 1.5675751230160286, 1.5675751230160286, 1.5675751230160286, 1.5675751230160286, 1.5675751230160286, 1.5675751230160286, 1.5675751230160286, 1.5675751230160286, 1.5675751230160286, 1.5675751230160286, 1.5675751230160286, 1.5675751230160286, 1.5675751230160286, 1.5675751230160286, 1.5675751230160286, 1.5675751230160286, 1.5675751230160286, 1.5675751230160286, 1.5675751230160286, 1.5675751230160286, 1.5675751230160286, 1.5675751230160286, 1.5675751230160286, 1.5675751230160286, 1.5675751230160286, 1.5675751230160286, 1.5675751230160286, 1.5675751230160286, 1.5675751230160286, 1.5675751230160286, 1.5675751230160286, 1.5675751230160286, 1.5675751230160286, 1.5675751230160286, 1.5675751230160286, 1.5675751230160286, 1.5675751230160286, 1.5675751230160286, 1.7047208030699241, 1.881050963139219, 1.8614587231315194, 1.900643203146918, 1.939827683162317, 2.076973363216213, 2.037788883200814, 2.076973363216213, 1.900643203146918, 1.8026820031084212, 1.881050963139219, 1.9594199231700165, 1.743905283085323, 1.7634975230930225, 1.8222742431161205, 1.6655363230545255, 1.7047208030699241, 1.7634975230930225, 1.6067596030314273, 1.7830897631007216, 1.685128563062225, 1.6459440830468262, 1.7047208030699241, 1.7243130430776237, 1.685128563062225, 1.685128563062225, 1.5871673630237277, 1.6263518430391266, 1.6067596030314273, 0.4392271340481551, 0.4392271340481551, 0.4392271340481551, 0.4392271340481551, 0.4392271340481551, 0.4392271340481551, 1.1872629787802964, 1.1547396811832469, 1.1710013299817716, 1.0896930859891476, 1.1547396811832469, 0.14651745567470853, 1.0896930859891476, 1.1059547347876724, 1.1547396811832469, 1.0734314371906226, 0.5855819732348784, 0.5855819732348784, 0.5530586756378287, 0.6018436220334031, 0.5530586756378287, 0.22782569966733254, 1.024646490795048, 0.8457683540112754, 0.16277910447323335, 0.5855819732348784, 0.29287229486143185, 1.4962343059522678, 1.138478032384722, 0.29287229486143185, 1.6425891451389911, 1.4149260619596435, 1.138478032384722, 0.959599895600949, 2.293055097079983, 1.040908139593573, 2.000345418706537, 2.065392013900636, 2.0816536626991606, 3.008567644215075, 2.0979153114976854, 1.5612809011463669, 2.9760443466180253, 1.9678221211094873, 1.479972657153743, 1.138478032384722, 1.7076357403330902, 2.9923059954165496, 1.74015903793014, 1.7076357403330902, 1.756420686728665, 1.4474493595566933, 1.8052056331242392, 1.7076357403330902, 1.6588507939375157, 1.4149260619596435, 1.4149260619596435, 1.463711008355218, 1.3336178179670197, 1.236047925175871, 1.219786276377346, 1.2523095739743957, 1.219786276377346, 0.11742750980410196, 0.11742750980410196, 0.11742750980410196, 0.11742750980410196, 0.11742750980410196, 0.11742750980410196, 0.11742750980410196, 0.11742750980410196, 0.07047997964753945, 0.07047997964753945, 0.07047997964753945, 0.07047997964753945, 0.07047997964753945, 0.06461153837796914, 0.06461153837796914, 0.10569062726496134, 1.2500366748311722, 1.2324313510224614, 1.2324313510224614, 1.226562909752891, 1.1796153795963285, 1.1620100557876176, 1.2793788811790239, 1.0329043478570707, 1.038772789126641, 1.0329043478570707, 1.0270359065875005, 0.9800883764309378, 0.9976937002396489, 0.9742199351613675, 0.944877728813516, 0.9566146113526566, 0.9390092875439456, 1.1444047319789066, 0.9214039637352348, 0.9214039637352348, 0.9037986399265239, 0.8744564335786722, 0.8803248748482425, 0.8744564335786722, 0.8861933161178129, 1.1033256430919145, 0.8803248748482425, 0.850982668500391, 0.8568511097699613, 0.8275089034221097, 1.1326678494397662, 0.9155355224656645, 1.003562141509219, 1.0211674653179301, 1.1502731732484768, 0.9800883764309378, 0.9037986399265239, 0.9390092875439456, 0.9272724050048051, 0.9214039637352348, 0.3802459177594284, 0.3802459177594284, 0.3802459177594284, 0.3802459177594284, 0.3802459177594284, 0.3802459177594284, 0.3802459177594284, 0.3802459177594284, 0.3802459177594284, 0.3409236925516282, 0.3409236925516282, 0.3409236925516282, 0.3409236925516282, 0.3409236925516282, 0.3409236925516282, 0.327816284149028, 0.327816284149028, 0.3016014673438279, 0.7079311278244305, 1.3895163647596347, 1.3501941395518346, 1.3239793227466343, 0.327816284149028, 1.2977645059414342, 1.2322274639284339, 0.314708875746428, 1.1929052387206336, 1.2322274639284339, 1.1666904219154333, 1.1404756051102332, 1.127368196707633, 1.0618311546946326, 1.5599126739934357, 1.3895163647596347, 0.9438644790712319, 1.0749385630972328, 0.9831867042790322, 0.9831867042790322, 1.7303089832272367, 0.9700792958764322, 0.9569718874738321, 0.9569718874738321, 1.3239793227466343, 0.9438644790712319, 1.7303089832272367, 1.0487237462920327, 1.3108719143440342, 1.258442280733634, 1.5730200823960359, 0.9176496622660318, 1.5599126739934357, 1.7172015748246365, 1.3239793227466343, 1.5336978571882358, 1.2715496891362341, 1.3370867311492345, 1.3764089563570348, 1.3633015479544346, 1.5205904487856357, 1.6123423076038363, 1.2453348723310338, 1.415731181564835, 1.3108719143440342, 1.3501941395518346, 1.2977645059414342, 1.2453348723310338, 0.4485050233364942, 0.4485050233364942, 0.4485050233364942, 0.4485050233364942, 0.4485050233364942, 0.4485050233364942, 0.3957707466361421, 0.3957707466361421, 0.3957707466361421, 0.3957707466361421, 0.3957707466361421, 0.3957707466361421, 0.3957707466361421, 0.1584665014845579, 0.1584665014845579, 0.1584665014845579, 1.0022149286901905, 0.9758477903400146, 0.42213788498631816, 0.9494806519898386, 0.42213788498631816, 0.42213788498631816, 0.9231135136396625, 0.9231135136396625, 0.9231135136396625, 0.9231135136396625, 0.8967463752894865, 0.8703792369393105, 0.3694036082859661, 0.3694036082859661, 1.6086591107442392, 3.085218858354097, 3.032484581653745, 3.2434216884551526, 3.2434216884551526, 3.269788826805329, 1.3713548655926548, 0.8703792369393105, 1.7668619408452955, 1.5822919723940632, 1.2658863121919508, 1.9250647709463518, 0.9758477903400146, 1.450456280643183, 1.1076834820908947, 1.239519173841775, 1.3977220039428309, 1.3713548655926548, 0.8176449602389585, 0.7912778218887826, 0.9494806519898386, 0.8967463752894865, 1.3713548655926548, 1.0813163437407187, 1.0813163437407187, 1.0285820670403665, 1.0813163437407187, 1.0022149286901905, 0.9231135136396625, 0.4195563314816753, 0.4195563314816753, 0.4013226795268002, 0.4195563314816753, 1.0759678018571777, 1.0759678018571777, 1.0759678018571777, 0.3830890275719252, 0.3830890275719252, 1.0577341499023025, 1.0577341499023025, 1.0577341499023025, 1.0577341499023025, 1.0577341499023025, 1.0577341499023025, 1.0577341499023025, 1.0577341499023025, 1.0577341499023025, 1.0577341499023025, 1.0577341499023025, 1.0577341499023025, 1.0577341499023025, 1.0577341499023025, 1.0577341499023025, 1.0577341499023025, 1.0577341499023025, 1.0577341499023025, 1.0395004979474274, 1.0395004979474274, 1.0395004979474274, 1.0395004979474274, 1.0395004979474274, 1.0395004979474274, 1.0395004979474274, 1.0395004979474274, 1.0395004979474274, 1.4041735370449289, 1.1489024096766778, 1.0577341499023025, 1.0577341499023025, 1.1306687577218026, 1.440640840954679, 1.167136061631553, 1.185369713586428, 1.422407188999804, 1.2218370174961783, 1.2947716253156785, 1.1489024096766778, 1.2765379733608035, 1.2218370174961783, 1.185369713586428, 1.167136061631553, 1.2218370174961783, 1.1489024096766778, 1.1124351057669277, 1.167136061631553, 1.167136061631553, 1.0759678018571777, 0.26743321312306223, 0.22202859289843369, 0.2270735507011702, 0.20689371949022417, 0.19680380388475113, 0.19680380388475113, 0.1766239726738051, 0.1614890992655956, 0.1766239726738051, 0.18671388827927812, 0.1766239726738051, 0.1665340570683321, 0.18671388827927812, 0.1665340570683321, 0.1614890992655956, 0.1564441414628591, 0.1564441414628591, 0.1614890992655956, 0.1564441414628591, 0.1564441414628591, 0.1513991836601226, 0.1564441414628591, 0.1513991836601226, 0.14635422585738608, 0.13121935244917657, 0.14635422585738608, 0.2472533819121162, 0.14635422585738608, 0.12617439464644006, 0.19175884608201463, 0.14130926805464958, 0.1614890992655956, 0.21698363509569715, 0.22202859289843369, 0.18671388827927812, 0.1766239726738051, 0.18166893047654162, 0.20689371949022417, 0.19680380388475113, 0.1665340570683321, 0.1665340570683321, 0.1766239726738051, 0.17157901487106858], \"Term\": [\"dont\", \"ive\", \"think\", \"customer\", \"awesome\", \"sauce\", \"staff\", \"bar\", \"team\", \"entrance\", \"love\", \"ask\", \"worth\", \"nc\", \"meal\", \"lowes\", \"nice\", \"people\", \"cool\", \"pretty\", \"price\", \"working\", \"bland\", \"little\", \"ordered\", \"minutes\", \"thought\", \"brought\", \"free\", \"wait\", \"zucchini\", \"highlighted\", \"fairly\", \"fest\", \"bite\", \"draft\", \"parmesan\", \"girlfriend\", \"beers\", \"choosing\", \"summer\", \"hudson\", \"devoured\", \"basil\", \"rush\", \"cherry\", \"checking\", \"enjoying\", \"entire\", \"bro\", \"modified\", \"streak\", \"freak\", \"minimally\", \"messed\", \"pb\", \"entrepreneurs\", \"killin\", \"elvis\", \"birth\", \"disclose\", \"sis\", \"selfish\", \"twice\", \"appropriately\", \"reality\", \"restart\", \"servicethe\", \"occasion\", \"considered\", \"goat\", \"life\", \"real\", \"whats\", \"overall\", \"drink\", \"decor\", \"slow\", \"bottle\", \"decrepit\", \"domestic\", \"imported\", \"crap\", \"oh\", \"restaurants\", \"clock\", \"added\", \"play\", \"putting\", \"maximize\", \"issue\", \"owners\", \"exactly\", \"lukewarm\", \"ale\", \"bet\", \"ant\", \"flat\", \"think\", \"customers\", \"beer\", \"doesnt\", \"dig\", \"door\", \"bland\", \"thing\", \"business\", \"ive\", \"bring\", \"ordered\", \"went\", \"didnt\", \"need\", \"menu\", \"especially\", \"dont\", \"remember\", \"said\", \"asked\", \"lot\", \"delicious\", \"im\", \"better\", \"die\", \"vegetarian\", \"endless\", \"selections\", \"crowded\", \"corned\", \"indians\", \"meaty\", \"cater\", \"34\", \"familiar\", \"cricket\", \"hospital\", \"train\", \"hospitals\", \"wreck\", \"filing\", \"lukes\", \"doctors\", \"st\", \"unprofessional\", \"er\", \"loosers\", \"garnish\", \"beet\", \"snack\", \"solid\", \"tail\", \"limited\", \"switch\", \"cavs\", \"tacos\", \"slaw\", \"cole\", \"shes\", \"playing\", \"believe\", \"complimentary\", \"vegetable\", \"hint\", \"consistently\", \"traditional\", \"chains\", \"shareable\", \"mexislaw\", \"scenes\", \"chipotle\", \"surf\", \"chop\", \"noda\", \"crisp\", \"caesar\", \"queso\", \"surfboard\", \"namesake\", \"wednesday\", \"18\", \"sea\", \"chopped\", \"bumping\", \"lobster\", \"expect\", \"happy\", \"nugget\", \"date\", \"songs\", \"year\", \"job\", \"game\", \"server\", \"wonton\", \"visit\", \"square\", \"fries\", \"pretty\", \"burger\", \"unless\", \"making\", \"night\", \"beef\", \"sit\", \"dont\", \"ive\", \"bad\", \"meal\", \"thats\", \"stay\", \"enjoy\", \"best\", \"nice\", \"bar\", \"prepare\", \"debit\", \"gets\", \"story\", \"refuse\", \"desk\", \"notes\", \"plenty\", \"hadnt\", \"refuses\", \"tomorrow\", \"double\", \"insists\", \"thursdaysat\", \"knew\", \"swiping\", \"security\", \"showing\", \"beds\", \"paid\", \"handed\", \"keys\", \"named\", \"female\", \"deposit\", \"mins\", \"touched\", \"king\", \"print\", \"refund\", \"exact\", \"verify\", \"evander\", \"transactions\", \"keeps\", \"bathroom\", \"bartender\", \"hes\", \"complaints\", \"guessed\", \"watch\", \"telling\", \"reserved\", \"hotels\", \"originally\", \"replacement\", \"explains\", \"beverages\", \"emails\", \"staying\", \"receipt\", \"emailed\", \"lady\", \"ill\", \"girl\", \"went\", \"speak\", \"gave\", \"decided\", \"deal\", \"cut\", \"ive\", \"worker\", \"know\", \"point\", \"manager\", \"luck\", \"nice\", \"phone\", \"run\", \"guy\", \"didnt\", \"big\", \"isnt\", \"helped\", \"queen\", \"come\", \"money\", \"let\", \"told\", \"card\", \"ok\", \"asked\", \"ask\", \"people\", \"order\", \"price\", \"id\", \"got\", \"mustard\", \"chip\", \"pasta\", \"evenly\", \"selfserve\", \"mayonnaise\", \"birthday\", \"bother\", \"cousin\", \"cousins\", \"refrigerated\", \"20th\", \"ketchup\", \"pesto\", \"mac\", \"vanilla\", \"delivered\", \"alerts\", \"chocolate\", \"signed\", \"pan\", \"quinoa\", \"haha\", \"packing\", \"initiated\", \"alright\", \"peppers\", \"simply\", \"banana\", \"workers\", \"patient\", \"prices\", \"staff\", \"ordered\", \"gave\", \"rest\", \"got\", \"basically\", \"little\", \"bland\", \"didnt\", \"lunch\", \"came\", \"better\", \"care\", \"gelato\", \"italian\", \"fan\", \"come\", \"called\", \"thing\", \"loved\", \"wasnt\", \"arent\", \"sure\", \"huge\", \"instead\", \"cookie\", \"used\", \"salad\", \"menu\", \"table\", \"check\", \"make\", \"channel\", \"channels\", \"paper\", \"lineup\", \"folded\", \"kidding\", \"scowl\", \"heavy\", \"concern\", \"yesterday\", \"dissembling\", \"steel\", \"wrench\", \"needless\", \"signange\", \"injured\", \"countless\", \"isles\", \"suits\", \"sir\", \"politically\", \"radio\", \"shot\", \"apologized\", \"lift\", \"behold\", \"diyadventure\", \"chatted\", \"anyways\", \"proceeded\", \"fourth\", \"skus\", \"nearly\", \"starter\", \"lost\", \"electric\", \"help\", \"finally\", \"car\", \"looked\", \"went\", \"thank\", \"low\", \"process\", \"excuse\", \"fit\", \"products\", \"embarrassed\", \"literally\", \"flat\", \"know\", \"location\", \"getting\", \"started\", \"long\", \"wrong\", \"things\", \"grill\", \"dont\", \"purchased\", \"came\", \"store\", \"working\", \"sat\", \"face\", \"tells\", \"come\", \"cpcc\", \"classes\", \"receive\", \"calculated\", \"gratuity\", \"percentage\", \"video\", \"navigate\", \"hour\", \"downside\", \"kids\", \"road\", \"visited\", \"positives\", \"hardback\", \"starving\", \"plastic\", \"trips\", \"hunger\", \"spending\", \"tons\", \"contrary\", \"organization\", \"loves\", \"determine\", \"100\", \"spent\", \"ceasers\", \"draws\", \"condition\", \"fond\", \"cookbooks\", \"retailers\", \"dvds\", \"herei\", \"copies\", \"booksthe\", \"convenient\", \"totes\", \"collection\", \"165\", \"iphone\", \"hang\", \"able\", \"selection\", \"shop\", \"store\", \"said\", \"major\", \"times\", \"theres\", \"ones\", \"cool\", \"brought\", \"ill\", \"easy\", \"maybe\", \"want\", \"buy\", \"fantastic\", \"phone\", \"check\", \"section\", \"im\", \"music\", \"come\", \"price\", \"better\", \"didnt\", \"pretty\", \"purchased\", \"start\", \"muffin\", \"dark\", \"highlights\", \"35\", \"36\", \"tostada\", \"tortilla\", \"scrambled\", \"worthiness\", \"white\", \"attentivehad\", \"dug\", \"network\", \"draped\", \"cost\", \"chili\", \"fried\", \"airy\", \"pork\", \"midlights\", \"traditionally\", \"enjoyed\", \"25\", \"entrees\", \"rating\", \"layer\", \"ancho\", \"cheddar\", \"lined\", \"expected\", \"lowlights\", \"consider\", \"smokey\", \"bold\", \"blueberry\", \"stopped\", \"medium\", \"rare\", \"worth\", \"sauce\", \"meal\", \"corn\", \"flavors\", \"cake\", \"coffee\", \"eggs\", \"return\", \"order\", \"recommend\", \"sweet\", \"crispy\", \"highly\", \"feel\", \"egg\", \"best\", \"love\", \"lot\", \"16\", \"perfect\", \"portion\", \"coming\", \"huge\", \"atmosphere\", \"brunch\", \"ok\", \"maybe\", \"flavor\", \"sandwich\", \"wait\", \"joint\", \"detoxin\", \"somnilean\", \"nutrishop\", \"theraputics\", \"pro7ein\", \"muscle\", \"weight\", \"weeks\", \"reaching\", \"recommendations\", \"losing\", \"fitness\", \"support\", \"listen\", \"lipocor\", \"lenten\", \"cleanse\", \"katalyst\", \"glutacor\", \"goal\", \"goals\", \"hypercor\", \"supplements\", \"health\", \"passion\", \"accomplish\", \"ownership\", \"neil\", \"sings\", \"lines\", \"caroline\", \"cock\", \"sucks\", \"monitors\", \"guarantee\", \"azz\", \"diamonds\", \"wtf\", \"lean\", \"accommodating\", \"greeted\", \"potatoes\", \"live\", \"looking\", \"quite\", \"friendly\", \"wait\", \"staff\", \"music\", \"people\", \"day\", \"building\", \"bar\", \"gone\", \"drinks\", \"sales\", \"took\", \"sweet\", \"pressure\", \"huge\", \"using\", \"line\", \"arent\", \"bad\", \"start\", \"minutes\", \"seats\", \"30\", \"shoved\", \"snooty\", \"feet\", \"windowside\", \"mccain\", \"replied\", \"overlytattooed\", \"seasoned\", \"woodchips\", \"leaves\", \"obviously\", \"fed\", \"effort\", \"tables\", \"snobs\", \"photos\", \"main\", \"paint\", \"yelp\", \"zero\", \"sandal\", \"hostesses\", \"wandered\", \"brews\", \"declining\", \"bites\", \"frazzeled\", \"duty\", \"shadyside\", \"cluelessy\", \"hostess\", \"personal\", \"dined\", \"girlfriends\", \"ps\", \"seat\", \"seasoning\", \"randomly\", \"stuffed\", \"windowless\", \"heated\", \"equal\", \"storage\", \"series\", \"personality\", \"microwave\", \"waitress\", \"saturday\", \"mcdonalds\", \"took\", \"asked\", \"walking\", \"im\", \"going\", \"know\", \"pay\", \"got\", \"meat\", \"tasted\", \"dont\", \"went\", \"john\", \"eating\", \"paying\", \"better\", \"probably\", \"offer\", \"pretty\", \"walked\", \"room\", \"try\", \"flavor\", \"bed\", \"lie\", \"stealing\", \"advertise\", \"lamb\", \"preferred\", \"collegue\", \"colleagues\", \"licked\", \"mussels\", \"pot\", \"regardless\", \"bowl\", \"dunked\", \"monster\", \"straight\", \"match\", \"pots\", \"style\", \"quiet\", \"6pm\", \"gon\", \"cause\", \"1999\", \"sesame\", \"cooking\", \"base\", \"quails\", \"july\", \"heard\", \"paste\", \"hoisin\", \"facebook\", \"veg\", \"noodles\", \"shrimp\", \"choose\", \"na\", \"giving\", \"recommended\", \"recommend\", \"amazing\", \"stuff\", \"packed\", \"people\", \"highly\", \"dinner\", \"tasty\", \"waiting\", \"eat\", \"thought\", \"work\", \"ate\", \"dont\", \"things\", \"person\", \"got\", \"soup\", \"korean\", \"menu\", \"definitely\", \"buffet\", \"didnt\", \"left\", \"thats\", \"delicious\", \"went\", \"deal\", \"sauce\", \"make\", \"save\", \"kokanne\", \"typical\", \"sounded\", \"shrimps\", \"bronco\", \"orginal\", \"seperate\", \"pitchers\", \"bloody\", \"cupcakes\", \"burrito\", \"outta\", \"maria\", \"wing\", \"treats\", \"waffles\", \"ding\", \"vegan\", \"cinnamon\", \"oklahoma\", \"burritos\", \"chemdyne\", \"replace\", \"psi\", \"gauge\", \"filter\", \"citizens\", \"899\", \"efficient\", \"jal\", \"thay\", \"serves\", \"mini\", \"pinch\", \"roll\", \"fans\", \"tavern\", \"write\", \"minishrimps\", \"cowboy\", \"theme\", \"poppers\", \"uncormfartable\", \"kokanee\", \"oversized\", \"booth\", \"895\", \"broncos\", \"krill\", \"totally\", \"clunky\", \"football\", \"understand\", \"dining\", \"love\", \"meat\", \"probably\", \"vegas\", \"say\", \"small\", \"guess\", \"finally\", \"left\", \"got\", \"review\", \"specifically\", \"ok\", \"pay\", \"dont\", \"okay\", \"las\", \"friend\", \"returning\", \"opposed\", \"sliced\", \"crostini\", \"mule\", \"crusty\", \"met\", \"sees\", \"masculine\", \"interior\", \"polluted\", \"varied\", \"misses\", \"glow\", \"window\", \"warmed\", \"yea\", \"warmth\", \"sort\", \"panels\", \"strange\", \"stools\", \"valley\", \"chops\", \"matter\", \"wok\", \"1400\", \"impress\", \"duesh\", \"angeles\", \"urban\", \"warm\", \"stark\", \"stained\", \"exterior\", \"ride\", \"reminded\", \"bucks\", \"cars\", \"gives\", \"choice\", \"years\", \"thai\", \"light\", \"smaller\", \"large\", \"thought\", \"takes\", \"wood\", \"hard\", \"needs\", \"high\", \"bags\", \"better\", \"dishes\", \"going\", \"love\", \"bit\", \"want\", \"hot\", \"needed\", \"way\", \"diablo\", \"purchase\", \"profit\", \"24587\", \"ton\", \"pops\", \"hut\", \"largeror\", \"crunch\", \"industry\", \"unfamiliar\", \"ingredients\", \"offering\", \"dominoes\", \"allowing\", \"itjust\", \"killing\", \"mixing\", \"margin\", \"margherita\", \"war\", \"considerably\", \"coupon\", \"cheesei\", \"repeat\", \"complaining\", \"settebellos\", \"text\", \"groupons\", \"soda\", \"competitive\", \"150\", \"groupon\", \"codes\", \"rely\", \"charging\", \"begin\", \"12\", \"steep\", \"sure\", \"bit\", \"bang\", \"vegas\", \"20\", \"coming\", \"lunch\", \"business\", \"youll\", \"menu\", \"thats\", \"buck\", \"expensive\", \"regular\", \"staff\", \"review\", \"want\", \"pizza\", \"taste\", \"pay\", \"girls\", \"pretty\", \"definitely\", \"star\", \"better\", \"order\", \"worth\", \"phone\", \"got\", \"killer\", \"tongue\", \"oregon\", \"head\", \"adventure\", \"ordinary\", \"butterbetter\", \"linger\", \"continues\", \"raw\", \"bee\", \"summit\", \"mouth\", \"local\", \"wonder\", \"toastits\", \"walnut\", \"toasted\", \"toastaka\", \"handcrafted\", \"healthy\", \"dance\", \"writing\", \"yelpers\", \"13\", \"frankly\", \"piece\", \"dimensions\", \"generous\", \"daves\", \"toast\", \"boardwalk\", \"journey\", \"aroma\", \"seed\", \"seeds\", \"hemp\", \"pumpkin\", \"slathering\", \"ya\", \"notice\", \"lets\", \"company\", \"different\", \"enjoy\", \"awesome\", \"meal\", \"want\", \"brought\", \"coffee\", \"right\", \"need\", \"cup\", \"pick\", \"worth\", \"morning\", \"goes\", \"let\", \"peanut\", \"butter\", \"making\", \"turn\", \"comes\", \"hours\", \"super\", \"taste\", \"excited\", \"honey\", \"review\", \"sp\", \"deluxe\", \"stamp\", \"continue\", \"lolna\", \"salon\", \"omelettes\", \"chunks\", \"container\", \"feed\", \"link\", \"versus\", \"541\", \"greasy\", \"bonanza\", \"example\", \"spectacular\", \"asparagus\", \"complain\", \"sooooo\", \"mushrooms\", \"mateswe\", \"credit\", \"sausage\", \"appreciate\", \"pink\", \"women\", \"options\", \"normal\", \"ghost\", \"guacamole\", \"makes\", \"reasonable\", \"cookbook\", \"isnt\", \"bbq\", \"burger\", \"favorite\", \"lounge\", \"awesome\", \"sit\", \"cooked\", \"nice\", \"area\", \"regular\", \"half\", \"sweet\", \"dont\", \"far\", \"lunch\", \"love\", \"bring\", \"bar\", \"ive\", \"friendly\", \"prices\", \"vegas\", \"delicious\", \"ordered\", \"tasty\", \"spot\", \"im\", \"sandwich\", \"beautiful\", \"standouts\", \"wilted\", \"bass\", \"greens\", \"chilean\", \"pittsburgh\", \"rushed\", \"monuments\", \"surroundings\", \"cathedral\", \"relax\", \"dorchester\", \"mary\", \"passing\", \"inconvenience\", \"tastes\", \"veggie\", \"rich\", \"napkins\", \"opened\", \"reflected\", \"means\", \"police\", \"weekends\", \"bottles\", \"smile\", \"apologies\", \"ginger\", \"cuisine\", \"sin\", \"unbelievable\", \"cheapest\", \"lol\", \"noticed\", \"washrooms\", \"adjusted\", \"assume\", \"corrected\", \"oven\", \"hate\", \"week\", \"indian\", \"250\", \"petty\", \"cable\", \"cook\", \"seen\", \"cream\", \"heat\", \"quite\", \"ambience\", \"single\", \"items\", \"meal\", \"table\", \"annoy\", \"cartilage\", \"lumpur\", \"se\", \"dote\", \"fine\", \"visa\", \"runs\", \"kuala\", \"wings\", \"nearing\", \"closing\", \"teriyaki\", \"suki\", \"tenders\", \"mild\", \"falling\", \"buffalo\", \"panic\", \"shell\", \"screens\", \"justify\", \"common\", \"bartenderserver\", \"los\", \"difficult\", \"missed\", \"cons\", \"signature\", \"dream\", \"spend\", \"hey\", \"attentive\", \"14\", \"plexi\", \"fresh\", \"subject\", \"belligerent\", \"kind\", \"wrappers\", \"belt\", \"visits\", \"honey\", \"entertaining\", \"asian\", \"list\", \"line\", \"wrapped\", \"spot\", \"singing\", \"loud\", \"work\", \"house\", \"area\", \"family\", \"steak\", \"types\", \"customer\", \"price\", \"small\", \"conversation\", \"eat\", \"sandwich\", \"pretty\", \"minutes\", \"away\", \"absolute\", \"mommydaughter\", \"adventures\", \"results\", \"lynn\", \"doll\", \"drinkwill\", \"flavorlessfries\", \"backi\", \"sauce8\", \"fry\", \"placedissapointed\", \"gotburgers\", \"strip\", \"interact\", \"trip\", \"unnerving\", \"polish\", \"cozy\", \"tips\", \"wonderful\", \"pastries\", \"appointment\", \"min\", \"cash\", \"eh\", \"answered\", \"chipped\", \"du\", \"rubenesque\", \"pedicure\", \"nc\", \"lowes\", \"entrance\", \"team\", \"customer\", \"normally\", \"ahead\", \"long\", \"told\", \"wouldnt\", \"minutes\", \"number\", \"waiting\", \"wasnt\", \"mind\", \"little\", \"away\", \"40\", \"woman\", \"special\", \"spoke\", \"didnt\", \"right\", \"said\", \"took\", \"got\", \"work\", \"wait\", \"tend\", \"guilty\", \"alway\", \"swanky\", \"prereq\", \"wireless\", \"recycling\", \"addict\", \"starbucks\", \"nonetheless\", \"funky\", \"soy\", \"grey\", \"control\", \"hippy\", \"isamazing\", \"lavendar\", \"han\", \"lights\", \"xmas\", \"password\", \"cents\", \"tats\", \"poor\", \"certified\", \"tea\", \"visible\", \"lime\", \"green\", \"comment\", \"facial\", \"early\", \"donate\", \"quaint\", \"amazinga\", \"piercing\", \"books\", \"annoyance\", \"kiva\", \"butunappealing\", \"box\", \"cool\", \"50\", \"ambience\", \"ive\", \"cup\", \"working\", \"walls\", \"think\", \"free\", \"couple\", \"charge\", \"ask\", \"offer\", \"lots\", \"bar\", \"dont\", \"organic\", \"crap\", \"tone\", \"looks\", \"nan\", \"havent\", \"exactly\", \"knows\", \"assume\", \"pieces\", \"talk\", \"added\", \"missing\", \"servicethe\", \"level\", \"carpet\", \"1495\", \"remove\", \"bet\", \"candles\", \"chickenthe\", \"allot\", \"attitude\", \"ale\", \"bills\", \"sin\", \"lukewarm\", \"set\", \"water\", \"oven\", \"fact\", \"domestic\", \"cold\", \"course\", \"cover\", \"imagine\", \"old\", \"look\", \"sauce\", \"know\", \"hungry\", \"mention\", \"price\", \"ask\"], \"Total\": [19.0, 13.0, 8.0, 6.0, 8.0, 10.0, 12.0, 13.0, 4.0, 4.0, 11.0, 8.0, 7.0, 4.0, 10.0, 4.0, 12.0, 12.0, 5.0, 13.0, 10.0, 7.0, 5.0, 7.0, 8.0, 8.0, 8.0, 7.0, 5.0, 7.0, 0.5862160289139171, 0.5862160289139171, 0.5862160289139171, 0.5862160289139171, 0.5862160289139171, 0.5862160289139171, 0.5862160289139171, 0.5862160289139171, 0.5862160289139171, 0.5862160289139171, 0.5862160289139171, 0.5862160289139171, 0.5862160289139171, 0.5862160289139171, 0.5862160289139171, 0.5862160289139171, 0.5862160289139171, 0.5862160289139171, 0.5144274734326915, 0.5144274734326915, 0.5144274734326915, 0.5144274734326915, 0.5144274734326915, 0.5144274734326915, 0.5144274734326915, 0.5144274734326915, 0.5144274734326915, 0.5144274734326915, 0.5144274734326915, 0.5144274734326915, 0.5144274734326915, 0.5144274734326915, 0.5144274734326915, 0.5144274734326915, 0.5144274734326915, 0.5144274734326915, 0.5144274734326915, 2.22625590104839, 2.5724458350401, 2.585586439977364, 2.653012150524041, 4.143107816442918, 2.708635566746421, 3.063685758006156, 2.507497648317011, 2.949021123381157, 2.102805997232084, 2.246181146476583, 2.5967945165221478, 2.0848099060036684, 2.059780074977253, 2.0655444592450896, 2.026772475644076, 5.092858663889193, 2.051288173947338, 2.049006529248589, 2.0384900498815015, 3.4595689955215443, 2.0375983057548437, 2.029552276788258, 2.543097190025707, 4.377747458382929, 2.016565347020669, 2.0248001816890073, 2.0146613137254246, 2.0036989622950085, 2.0265676936646027, 4.6529991034972245, 8.616367085605521, 4.709247426004935, 5.571608966327585, 4.6413104616085405, 3.396361752191274, 5.941562541570103, 5.820445880721861, 5.574889790520717, 4.810761316142256, 13.495418912865947, 5.773813192920705, 8.674607900364016, 14.304977053388608, 18.28534309618123, 11.250980764537449, 11.52095354953616, 6.0872884310089255, 19.69963478122352, 6.897924691272403, 10.81792899673873, 9.07071313711355, 8.626464865082855, 10.850969752671041, 13.949934168249305, 12.609721914826176, 1.0675543090608688, 0.5892466409972574, 0.5892466409972574, 0.5892466409972574, 0.5892466409972574, 0.5892466409972574, 0.5892466409972574, 0.5892466409972574, 0.5892466409972574, 0.5892466409972574, 0.48124168369257053, 0.48124168369257053, 0.48124168369257053, 0.48124168369257053, 0.48124168369257053, 0.48124168369257053, 0.48124168369257053, 0.48124168369257053, 0.48124168369257053, 0.48124168369257053, 0.48124168369257053, 0.48124168369257053, 0.48124168369257053, 0.4040952856177945, 0.4040952856177945, 0.4040952856177945, 0.4040952856177945, 0.4040952856177945, 0.4040952856177945, 0.23437320985328702, 0.5828968126973683, 1.3545518254097701, 1.2012854953160925, 1.1930576224806777, 2.112136842649273, 2.1129692118328425, 2.596271094997872, 2.113801581016412, 0.9780741739271797, 0.9780741739271797, 2.116298688567121, 3.0234584580456083, 2.1171310577506905, 2.1171310577506905, 0.9698463010917646, 0.9698463010917646, 0.9698463010917646, 0.9698463010917646, 2.073146928546098, 0.9754804346983419, 2.1204605344849687, 2.4253736667371224, 0.9633905909119626, 0.9533905554209348, 0.9533905554209348, 2.046116843181406, 0.9564309497986743, 1.12545847986471, 0.936934809750105, 0.936934809750105, 3.464288056872319, 2.55480061405408, 5.399994600026327, 2.0046298215275224, 4.323900295329712, 2.020401023507146, 2.0086164311070167, 4.397998706097001, 4.649446782506359, 6.229064984308924, 2.107961533292772, 4.457014142001543, 3.4018707639759493, 4.368255549925473, 13.659013810535372, 4.393839585895824, 4.082988068195554, 3.998113616174249, 7.666723058053802, 5.968231947768012, 5.599604208397917, 19.69963478122352, 13.495418912865947, 11.574729720822667, 10.110094218288951, 9.979108329263164, 5.459268576203348, 4.580033387522929, 6.283260880187981, 12.521747058305845, 13.590790652388774, 1.5513370046949821, 1.5513370046949821, 1.5513370046949821, 1.5513370046949821, 1.5513370046949821, 1.5513370046949821, 1.5513370046949821, 1.5513370046949821, 1.5513370046949821, 1.5513370046949821, 1.5513370046949821, 1.5513370046949821, 1.5513370046949821, 1.5513370046949821, 1.5513370046949821, 1.5513370046949821, 1.5513370046949821, 1.5513370046949821, 1.5513370046949821, 1.5513370046949821, 1.5513370046949821, 1.5513370046949821, 1.5513370046949821, 1.5513370046949821, 1.5513370046949821, 1.5513370046949821, 1.5513370046949821, 1.5513370046949821, 1.5513370046949821, 1.5513370046949821, 1.5513370046949821, 1.5513370046949821, 1.5513370046949821, 1.5513370046949821, 1.5513370046949821, 1.5513370046949821, 1.5513370046949821, 1.5513370046949821, 1.5513370046949821, 1.5513370046949821, 1.5513370046949821, 1.5513370046949821, 1.5513370046949821, 1.5513370046949821, 1.5513370046949821, 1.5513370046949821, 1.5513370046949821, 1.5513370046949821, 1.5513370046949821, 1.5513370046949821, 1.5513370046949821, 1.5513370046949821, 3.326805562428161, 5.20510881269876, 3.935563408693857, 14.304977053388608, 2.2812984098013027, 4.520493223678274, 3.402324954789472, 8.660981380541502, 1.9496776693056643, 13.495418912865947, 1.9623326927798124, 10.542841576907099, 4.5854889656001285, 2.5978881504538847, 2.011597625411529, 12.521747058305845, 5.91277359593971, 4.005020671897599, 2.6787610093543694, 18.28534309618123, 5.382934940519375, 4.540414836910405, 1.897438737095172, 2.036438298203465, 9.78097657514834, 3.5772312294356166, 5.8428870931190175, 4.750088812444317, 1.977076186296204, 5.6977979970758685, 9.07071313711355, 8.428844958813071, 12.814256450814126, 8.599374656102516, 10.229964300200967, 8.141750620768642, 17.64092296473742, 1.427303298268704, 1.427303298268704, 1.427303298268704, 1.427303298268704, 1.427303298268704, 1.427303298268704, 1.427303298268704, 1.427303298268704, 1.427303298268704, 1.427303298268704, 1.427303298268704, 1.427303298268704, 1.427303298268704, 1.427303298268704, 1.427303298268704, 1.427303298268704, 1.427303298268704, 1.427303298268704, 1.427303298268704, 1.427303298268704, 1.427303298268704, 1.427303298268704, 1.427303298268704, 1.427303298268704, 1.427303298268704, 1.427303298268704, 2.300947203360215, 0.8320856992142751, 2.2448081555849506, 1.9643654488442224, 1.5398514119156377, 6.76136389461135, 12.795077419949148, 8.674607900364016, 4.520493223678274, 1.9598402810613396, 17.64092296473742, 1.8118883818728084, 7.773323492123495, 5.820445880721861, 18.28534309618123, 7.066066358701645, 7.814895094862154, 12.609721914826176, 4.904721442120356, 1.7557557983392231, 1.9110109003753948, 4.614206688582804, 9.78097657514834, 2.660843618023972, 5.574889790520717, 2.6994171308409602, 3.85474841963597, 6.117476060305202, 5.621280548143011, 5.991032738392194, 8.79634510240831, 1.8910766998780846, 7.686203003246763, 5.001176376319751, 11.52095354953616, 6.454118816070058, 7.051521056366291, 10.889385545119707, 0.07494808342436171, 0.07494808342436171, 0.07494808342436171, 0.07494808342436171, 1.313979034743572, 1.313979034743572, 1.313979034743572, 1.313979034743572, 1.313979034743572, 1.313979034743572, 1.313979034743572, 1.3185118341624953, 1.3212582385707685, 1.3212582385707685, 1.3212582385707685, 1.3212582385707685, 1.3212582385707685, 1.328537442397965, 1.328537442397965, 1.328537442397965, 1.328537442397965, 1.345031294057647, 1.3358166462251615, 1.3358166462251615, 1.3358166462251615, 1.3640483988248757, 0.5163587382325485, 1.373411673460768, 1.373411673460768, 1.373411673460768, 1.373411673460768, 1.373411673460768, 1.388832095177047, 1.3925774050314037, 1.3925774050314037, 1.3925774050314037, 2.131683215877548, 3.731153208378103, 1.991101412663731, 4.39103969830767, 14.304977053388608, 2.878481707895911, 2.435324321114014, 2.0931250651840085, 2.019345683670635, 1.672387280125515, 2.044765080066157, 2.089209720668972, 1.9623892529582703, 4.6529991034972245, 10.542841576907099, 2.8845812768205508, 5.3830719930591036, 4.354345515299775, 5.069396447251395, 3.9886801993740697, 7.51289369658107, 4.833898561575437, 19.69963478122352, 2.898553334945681, 7.814895094862154, 4.788214128098154, 7.417100967434076, 3.299156883685363, 3.391318013199195, 2.84852663371159, 9.78097657514834, 0.1767013429098005, 0.1767013429098005, 0.5077148739567335, 0.5077148739567335, 0.5077148739567335, 0.5077148739567335, 1.5865842358807853, 1.5810771947092017, 1.5755701535376179, 1.5531708683528949, 0.5022078327851499, 0.5022078327851499, 0.5022078327851499, 1.6319081900036085, 1.640902159231046, 0.643708188456587, 2.130832520314385, 1.637065744329778, 0.6528788423970437, 1.6522418363185505, 1.638846782521566, 1.6235283460409138, 1.6465765095708267, 1.6333397413499826, 0.1818129723107631, 1.5861678149502423, 1.6390323427707605, 0.6295066223620676, 1.6077495002800721, 1.6159437472364406, 1.6558039127021265, 1.6040234973002765, 1.6481204215681342, 1.631394776561975, 1.652077909722331, 1.6540948254869476, 1.6578356336152416, 1.7618012558521834, 1.6647091036610664, 1.676350157634606, 1.6756614203297615, 1.6225988744453217, 2.370602966921586, 2.4010159796924824, 4.131425537320435, 2.6071240431565896, 4.788214128098154, 10.81792899673873, 2.9462990547785193, 3.087684665797298, 2.394376759154149, 3.7748443866943493, 5.285115809910035, 7.688767010712827, 5.20510881269876, 2.9145214990085386, 5.5036841370078085, 14.174116236143236, 3.832952668606457, 3.048220110744838, 5.91277359593971, 7.051521056366291, 4.162272392522477, 13.949934168249305, 6.895400633699372, 9.78097657514834, 10.229964300200967, 12.609721914826176, 18.28534309618123, 13.659013810535372, 2.898553334945681, 6.248703375049965, 1.290170829404926, 1.290170829404926, 1.290170829404926, 1.290170829404926, 1.290170829404926, 1.290170829404926, 1.290170829404926, 1.290170829404926, 1.290170829404926, 1.290170829404926, 1.290170829404926, 1.290170829404926, 1.290170829404926, 1.290170829404926, 1.290170829404926, 1.290170829404926, 1.290170829404926, 1.290170829404926, 1.290170829404926, 1.290170829404926, 1.290170829404926, 1.290170829404926, 1.290170829404926, 1.290170829404926, 1.290170829404926, 1.290170829404926, 1.290170829404926, 1.290170829404926, 1.290170829404926, 1.290170829404926, 1.290170829404926, 1.290170829404926, 1.290170829404926, 1.290170829404926, 1.290170829404926, 2.21017974788442, 1.436289095423932, 1.436289095423932, 7.2432092755350626, 10.288616111425233, 10.110094218288951, 1.9530904133088738, 2.3331344911390897, 2.2106312247649473, 5.027455013662153, 4.090993747515005, 4.8337991358793655, 8.599374656102516, 8.560488149300253, 5.208261686496256, 2.7215866708853125, 4.599261232838301, 4.77697653040633, 2.07854321685987, 6.283260880187981, 11.186117221281094, 8.626464865082855, 1.5934848000520034, 2.766687702281234, 1.623816874445695, 7.052149447915201, 5.991032738392194, 4.661308802083176, 2.1737952452779994, 5.6977979970758685, 5.5036841370078085, 7.42750366484972, 7.140422171811384, 7.442910279962297, 1.6346060575095953, 1.2720122704250092, 1.2720122704250092, 1.2720122704250092, 1.2720122704250092, 1.2720122704250092, 1.2720122704250092, 1.2720122704250092, 1.2720122704250092, 1.2720122704250092, 1.2720122704250092, 1.2720122704250092, 1.2720122704250092, 1.2720122704250092, 1.2720122704250092, 1.2720122704250092, 1.2720122704250092, 1.2720122704250092, 1.2720122704250092, 1.2720122704250092, 1.2720122704250092, 1.2720122704250092, 1.2720122704250092, 1.2720122704250092, 1.2720122704250092, 1.2720122704250092, 1.2720122704250092, 1.2720122704250092, 1.168414045543699, 1.168414045543699, 1.168414045543699, 1.168414045543699, 1.168414045543699, 1.168414045543699, 1.168414045543699, 1.168414045543699, 1.168414045543699, 1.168414045543699, 1.7265248142253462, 1.2598729314775965, 1.4237685447568718, 3.11400346808195, 1.9684139402249181, 4.606695902931359, 4.27028411767486, 5.413926028485962, 12.63520893480183, 7.442910279962297, 12.795077419949148, 6.895400633699372, 12.814256450814126, 6.059799152276527, 1.6376454895358794, 13.590790652388774, 1.6727594387515072, 4.612468668101208, 2.1458830845732138, 6.956794926885111, 5.208261686496256, 1.8324286801914937, 5.991032738392194, 2.8767340037901747, 3.607113373956306, 6.117476060305202, 11.574729720822667, 6.248703375049965, 8.705042912623322, 1.8363259927545288, 2.7565491534209365, 1.41442435301908, 1.41442435301908, 1.41442435301908, 1.41442435301908, 1.41442435301908, 1.41442435301908, 1.41442435301908, 1.41442435301908, 1.41442435301908, 1.41442435301908, 1.41442435301908, 1.41442435301908, 1.41442435301908, 1.41442435301908, 1.41442435301908, 1.41442435301908, 1.41442435301908, 1.41442435301908, 1.41442435301908, 1.41442435301908, 1.41442435301908, 0.7348178942756886, 0.7348178942756886, 0.7348178942756886, 0.7348178942756886, 0.7348178942756886, 0.7348178942756886, 0.7348178942756886, 0.7348178942756886, 0.7348178942756886, 2.5952022696770576, 0.7348178942756886, 1.413174868188788, 1.4144624064458458, 1.4158356086499824, 1.416784277658201, 1.4182923245402979, 1.4258494814662432, 1.4258494814662432, 1.4258494814662432, 1.4258494814662432, 1.4258494814662432, 1.4258494814662432, 1.4258494814662432, 1.4258494814662432, 1.4258494814662432, 2.5431858772930735, 2.728728016775887, 1.756905402528639, 6.956794926885111, 9.07071313711355, 1.9117913910816857, 13.949934168249305, 10.847846710182404, 10.542841576907099, 10.175352418556708, 17.64092296473742, 6.921365196233468, 2.9723233610491735, 19.69963478122352, 14.304977053388608, 2.2517824818689363, 3.004386218901883, 3.041008773877977, 12.609721914826176, 4.272902005548951, 4.029881708288092, 13.659013810535372, 5.152483728804276, 5.350479925543875, 4.810243107602579, 7.42750366484972, 4.388237661595013, 1.4477568292849814, 1.4477568292849814, 1.4477568292849814, 1.4477568292849814, 1.4477568292849814, 1.4477568292849814, 1.4477568292849814, 1.4477568292849814, 1.4477568292849814, 1.4477568292849814, 1.4477568292849814, 1.4477568292849814, 1.4477568292849814, 1.4477568292849814, 1.4477568292849814, 1.4477568292849814, 1.4477568292849814, 1.4477568292849814, 1.4477568292849814, 1.4477568292849814, 1.4477568292849814, 1.4477568292849814, 1.4477568292849814, 1.4477568292849814, 1.4477568292849814, 1.4477568292849814, 1.4477568292849814, 1.4477568292849814, 1.4477568292849814, 1.4477568292849814, 1.4477568292849814, 1.4477568292849814, 1.4477568292849814, 2.431513759820814, 2.19894607735713, 2.637076966733353, 1.544390523756633, 3.0110652397713045, 1.5842961848389268, 8.560488149300253, 6.70447120276309, 1.8095117364455582, 1.6272981040993375, 12.814256450814126, 4.599261232838301, 5.1091859809513, 5.5198781560626475, 5.911493338707317, 10.190468545571495, 8.918647232656168, 7.702144321802991, 1.8298300995713273, 19.69963478122352, 7.51289369658107, 4.954832839417139, 17.64092296473742, 2.4312607476746813, 1.734272826034086, 11.52095354953616, 9.600856312212207, 4.224471459745005, 18.28534309618123, 7.0903272125915535, 9.979108329263164, 10.850969752671041, 14.304977053388608, 8.660981380541502, 10.288616111425233, 10.889385545119707, 1.9869871728917612, 1.5950754381238004, 1.5950754381238004, 1.5950754381238004, 1.5950754381238004, 1.5950754381238004, 1.5950754381238004, 1.5950754381238004, 1.5950754381238004, 0.9092299022798686, 0.9092299022798686, 0.9092299022798686, 0.9092299022798686, 0.9092299022798686, 0.9092299022798686, 0.9092299022798686, 0.9092299022798686, 0.9092299022798686, 0.9092299022798686, 0.9092299022798686, 0.9092299022798686, 0.9092299022798686, 0.3948457503969197, 0.3948457503969197, 0.3948457503969197, 0.3948457503969197, 0.3948457503969197, 0.3948457503969197, 0.3948457503969197, 0.321362300127927, 1.5868426034993277, 1.5868426034993277, 1.5868426034993277, 1.5868426034993277, 1.5868426034993277, 0.8937089882920242, 1.5786097688748548, 1.5786097688748548, 1.5703769342503817, 1.5703769342503817, 2.0110736154139173, 1.5621440996259093, 1.5621440996259093, 1.5621440996259093, 1.5539112650014364, 1.5456784303769635, 1.5456784303769635, 1.5374455957524908, 1.5209799265035455, 1.5209799265035455, 2.025806771011154, 1.4880485880056544, 1.4880485880056544, 2.907175687748447, 3.987473198932289, 11.186117221281094, 6.921365196233468, 4.272902005548951, 7.310613240961333, 14.662059399839443, 13.99397476145346, 5.163646562281617, 3.731153208378103, 7.0903272125915535, 17.64092296473742, 9.462716243521596, 3.893320574573471, 5.6977979970758685, 10.175352418556708, 19.69963478122352, 4.843577358526152, 4.153913157313092, 0.30255590902613766, 0.30255590902613766, 0.30255590902613766, 0.30255590902613766, 0.30255590902613766, 0.3024500271462249, 0.3065838661136717, 0.30723667498398616, 1.4013284737873528, 1.3816341510801282, 1.3816341510801282, 1.4061991135242027, 1.4086344333926275, 1.4060932316442898, 1.4085285515127148, 1.4231843045144228, 1.4239211052838254, 1.4273181434818694, 1.4228535050742934, 1.4245520241733156, 1.4245520241733156, 1.4131874274897391, 1.4131874274897391, 1.4251829430628058, 1.4156227473581637, 1.4156227473581637, 1.424115342853274, 1.415516865478251, 1.4270004978421311, 1.4275123810513177, 1.4179521853466757, 1.4309094192493619, 1.4326079383483838, 1.4352681757770251, 1.4202816233351878, 1.4202816233351878, 1.434937376336896, 1.43833441453494, 1.8995423760310715, 1.9372015150495838, 1.5707360065544858, 2.5782999148792487, 2.305234543840841, 1.91070500910502, 4.009571812024886, 2.1218022527019564, 2.1440715203919964, 8.918647232656168, 3.916600005561281, 2.656837156548367, 2.0021009087585493, 4.50175578152343, 2.897577976782414, 2.9908912338025853, 12.609721914826176, 3.7783533886562526, 10.847846710182404, 11.186117221281094, 8.271102153691382, 14.174116236143236, 6.912655590266088, 3.65693924850738, 6.605988658476481, 1.3149562855404384, 1.3149562855404384, 1.3149562855404384, 1.3149562855404384, 1.3149562855404384, 1.3149562855404384, 1.3149562855404384, 1.3149562855404384, 1.3149562855404384, 1.3149562855404384, 1.3149562855404384, 1.3149562855404384, 1.3149562855404384, 1.3149562855404384, 1.3149562855404384, 1.3149562855404384, 1.3149562855404384, 1.3149562855404384, 1.3149562855404384, 1.3149562855404384, 1.3149562855404384, 1.3149562855404384, 1.3149562855404384, 1.3149562855404384, 1.3149562855404384, 1.3149562855404384, 1.3149562855404384, 1.3149562855404384, 1.3149562855404384, 1.3149562855404384, 1.3149562855404384, 1.3149562855404384, 1.3149562855404384, 1.3149562855404384, 1.3149562855404384, 1.3149562855404384, 1.5961672839816659, 2.749677559375783, 2.747348121387271, 5.621280548143011, 8.271102153691382, 1.8771465690404738, 7.310613240961333, 3.954331415174402, 7.052149447915201, 7.066066358701645, 4.810761316142256, 3.237855871534946, 11.52095354953616, 9.979108329263164, 1.8851873496632285, 2.489279530117341, 3.8968631449317375, 12.795077419949148, 9.462716243521596, 14.174116236143236, 3.4425198876354566, 5.228986005869367, 10.175352418556708, 2.2670763104662153, 13.659013810535372, 9.600856312212207, 1.782132133325966, 12.609721914826176, 8.599374656102516, 7.2432092755350626, 5.91277359593971, 17.64092296473742, 1.5703132162449105, 1.5703132162449105, 1.5703132162449105, 1.5703132162449105, 1.5703132162449105, 1.5703132162449105, 1.5703132162449105, 1.5703132162449105, 1.5703132162449105, 1.5703132162449105, 1.5703132162449105, 1.5703132162449105, 1.5703132162449105, 1.5703132162449105, 1.5703132162449105, 1.5703132162449105, 1.5703132162449105, 1.5703132162449105, 1.5703132162449105, 1.5703132162449105, 1.5703132162449105, 1.5703132162449105, 1.5703132162449105, 1.5703132162449105, 1.5703132162449105, 1.5703132162449105, 1.5703132162449105, 1.5703132162449105, 1.5703132162449105, 1.5703132162449105, 1.5703132162449105, 1.5703132162449105, 1.5703132162449105, 1.5703132162449105, 1.5703132162449105, 1.5703132162449105, 1.5703132162449105, 1.5703132162449105, 1.5703132162449105, 1.5703132162449105, 1.84473569466002, 2.318207374570205, 2.4218736631066506, 3.3823915216214986, 4.580033387522929, 8.576164544102737, 10.110094218288951, 14.174116236143236, 7.688767010712827, 5.027455013662153, 7.30507706178369, 11.250980764537449, 4.3403055594285265, 4.909762201008769, 7.2432092755350626, 2.970520535751499, 3.9445023894630844, 5.8428870931190175, 2.074451044382094, 8.146589010453152, 3.998113616174249, 3.0384641208400724, 5.286895327418915, 6.825548010255913, 4.767751342701396, 5.228986005869367, 1.9590453931550738, 3.4733109464834104, 9.462716243521596, 0.44199853318912863, 0.44199853318912863, 0.44199853318912863, 0.44199853318912863, 0.44199853318912863, 0.44199853318912863, 1.4196909476789528, 1.387502465906502, 1.422247409143795, 1.3701915181993152, 1.4533360845278058, 0.18518313255629482, 1.3806617948046875, 1.4024347171990017, 1.4721323998323739, 1.39029970222649, 0.7653839355726872, 0.7839914420300401, 0.7561632975478008, 0.8417781596278419, 0.7801804727428263, 0.35306951592329383, 1.6024381208824163, 1.326150773523897, 0.2567881327032573, 0.9380582008412551, 0.48034142104166605, 2.478100897439471, 1.8867712012822557, 0.48920280042018655, 2.7549381939264217, 2.4035607360435107, 1.9580525821101038, 1.6392828615314852, 4.540414836910405, 1.8600686496582253, 4.393839585895824, 4.624706908351841, 4.829356765269607, 8.576164544102737, 5.599604208397917, 3.5746085813167285, 12.521747058305845, 6.295110641852539, 3.8968631449317375, 2.4603133139030953, 5.208261686496256, 19.69963478122352, 6.6835237298905055, 7.066066358701645, 11.186117221281094, 5.773813192920705, 13.590790652388774, 13.495418912865947, 12.63520893480183, 6.76136389461135, 7.310613240961333, 10.850969752671041, 8.674607900364016, 5.5198781560626475, 5.162958212485978, 13.949934168249305, 7.140422171811384, 0.12030284102036505, 0.12030284102036505, 0.12030284102036505, 0.12030284102036505, 0.12030284102036505, 0.12030284102036505, 0.12030284102036505, 0.12030284102036505, 0.07335531086380254, 0.07335531086380254, 0.07335531086380254, 0.07335531086380254, 0.07335531086380254, 0.07468827637377251, 0.07468827637377251, 0.13942451771113482, 1.7195376166754015, 1.7288530011721503, 1.7288530011721503, 1.7319581293377333, 1.7567991546623964, 1.7661145391591453, 2.0593237857182083, 1.8069270773750519, 1.8234650073715524, 1.8344273588019686, 1.8375324869675518, 1.8191587843356312, 1.853058127795466, 1.822263912501214, 1.778860378842878, 1.8276506853655459, 1.884109409451295, 2.418253305931241, 1.8541386776238766, 1.86199590088871, 1.8359537806937085, 1.7925502470353722, 1.8287312351939564, 1.8200505284622892, 1.8683821030049679, 2.604047877617612, 1.9112320794747066, 1.8599713225515377, 1.8961523107101217, 1.8645346119490358, 3.2128234434636207, 2.2448936577772667, 2.8925055470272736, 3.236270488274561, 5.413926028485962, 3.053308832831531, 2.3005742814860093, 4.676331101248371, 10.110094218288951, 6.454118816070058, 0.38304885930436117, 0.38304885930436117, 0.38304885930436117, 0.38304885930436117, 0.38304885930436117, 0.38304885930436117, 0.38304885930436117, 0.38304885930436117, 0.38304885930436117, 0.34372663409656096, 0.34372663409656096, 0.34372663409656096, 0.34372663409656096, 0.34372663409656096, 0.34372663409656096, 0.3378206324735011, 0.34755655219101295, 0.33928887425611925, 0.9173621616288237, 1.8801687702603118, 1.8896314914480863, 1.8959399722399355, 0.4779677721739344, 1.9022484530317851, 1.8553455473176725, 0.4812324244913314, 1.8356380708100573, 1.9180196550114088, 1.8249350730067384, 1.8215380348086945, 1.8320161150517968, 1.8283941592935369, 2.8544741936824023, 2.7343315231043945, 1.7557185927288401, 2.226116280453639, 1.9271757023362337, 1.9271757023362337, 4.886330144274038, 1.9294975735485886, 1.931819444760944, 1.931819444760944, 3.4733109464834104, 1.9277914876734097, 5.787054571587301, 2.3929304144004986, 3.607113373956306, 3.3943365086151935, 5.162958212485978, 1.9396174275815787, 5.454663265499615, 7.702144321802991, 4.250548621250519, 6.295110641852539, 4.037800830716562, 4.85874818067889, 5.401466008601131, 6.560515175263975, 10.229964300200967, 13.99397476145346, 4.81135584193652, 10.190468545571495, 7.140422171811384, 13.659013810535372, 8.705042912623322, 7.558874282074426, 0.4511753675819512, 0.4511753675819512, 0.4511753675819512, 0.4511753675819512, 0.4511753675819512, 0.4511753675819512, 0.39844109088159907, 0.39844109088159907, 0.39844109088159907, 0.39844109088159907, 0.39844109088159907, 0.39844109088159907, 0.39844109088159907, 0.1611368457300149, 0.1611368457300149, 0.1611368457300149, 1.0193658835423844, 0.996465273455778, 0.4385684465046897, 0.9955928280555061, 0.44440046923947457, 0.44930271265477273, 0.9837063003120669, 0.9837063003120669, 0.9837063003120669, 0.9977124593405126, 0.9737112226818879, 0.963716145051709, 0.4113961777392233, 0.4113961777392233, 1.9623497088012318, 4.006795203085066, 4.00304989323071, 4.47173387642445, 4.826089251938764, 6.560515175263975, 2.591451940818702, 1.3553194844226146, 5.069396447251395, 4.750088812444317, 3.4523589165054402, 8.705042912623322, 2.561203825787358, 5.911493338707317, 3.85474841963597, 5.1097153311509045, 7.773323492123495, 7.558874282074426, 2.1303900149222392, 1.968613191028418, 3.3248041805437003, 2.886429689634189, 18.28534309618123, 7.30507706178369, 10.81792899673873, 6.956794926885111, 17.64092296473742, 7.702144321802991, 7.442910279962297, 0.42950941737062565, 0.42950941737062565, 0.41847717219529074, 0.44190025059878474, 1.1475205673311601, 1.1475205673311601, 1.1475205673311601, 0.41120101609100757, 0.4127614149867948, 1.1430471326491995, 1.1430471326491995, 1.1430471326491995, 1.1430471326491995, 1.1430471326491995, 1.1430471326491995, 1.1430471326491995, 1.1430471326491995, 1.1430471326491995, 1.1430471326491995, 1.1430471326491995, 1.1430471326491995, 1.1430471326491995, 1.1430471326491995, 1.1430471326491995, 1.1430471326491995, 1.1430471326491995, 1.1430471326491995, 1.138573697967239, 1.138573697967239, 1.138573697967239, 1.138573697967239, 1.138573697967239, 1.138573697967239, 1.138573697967239, 1.138573697967239, 1.138573697967239, 2.8554344748038747, 1.6831972334725653, 1.2186886591127688, 1.2186886591127688, 1.6440820580751339, 5.285115809910035, 2.5030719623764703, 3.053308832831531, 13.495418912865947, 4.3403055594285265, 7.417100967434076, 2.6604035716432874, 8.616367085605521, 5.365823208353206, 4.260564873999409, 3.6749089565570707, 8.428844958813071, 4.029881708288092, 3.069158494965888, 13.590790652388774, 19.69963478122352, 2.77793437333342, 2.026772475644076, 1.8199299834203617, 1.9588372674047574, 1.9987229309619292, 1.9637781682057598, 2.016565347020669, 1.8552874881121117, 1.7925502470353722, 1.967072102073095, 2.129712698076173, 2.0384900498815015, 1.9500883000132652, 2.22625590104839, 1.999770350662592, 1.960227167976848, 1.9331044979534358, 1.9393147542846016, 2.0036989622950085, 1.9796814204371789, 1.9858916767683448, 1.9308228532546867, 1.9983121894306763, 2.0146613137254246, 1.9689078747085151, 1.778860378842878, 2.0248001816890073, 3.4662802291903114, 2.0990390278238484, 1.8200505284622892, 2.7695395114631984, 2.059780074977253, 2.4896520427507793, 4.089372419821129, 4.706077293665698, 3.556814971739018, 3.7041093400827028, 4.38146009411372, 10.288616111425233, 10.542841576907099, 3.369162302208769, 3.5776975215944287, 10.229964300200967, 8.428844958813071], \"loglift\": [30.0, 29.0, 28.0, 27.0, 26.0, 25.0, 24.0, 23.0, 22.0, 21.0, 20.0, 19.0, 18.0, 17.0, 16.0, 15.0, 14.0, 13.0, 12.0, 11.0, 10.0, 9.0, 8.0, 7.0, 6.0, 5.0, 4.0, 3.0, 2.0, 1.0, 2.0897, 2.0897, 2.0897, 2.0897, 2.0897, 2.0897, 2.0897, 2.0897, 2.0897, 2.0897, 2.0897, 2.0897, 2.0897, 2.0897, 2.0897, 2.0897, 2.0897, 2.0897, 2.0891, 2.0891, 2.0891, 2.0891, 2.0891, 2.0891, 2.0891, 2.0891, 2.0891, 2.0891, 2.0891, 2.0891, 2.0891, 2.0891, 2.0891, 2.0891, 2.0891, 2.0891, 2.0891, 1.997, 1.9211, 1.9119, 1.8777, 1.7857, 1.8486, 1.8106, 1.8325, 1.7845, 1.8364, 1.8242, 1.7882, 1.817, 1.7885, 1.7857, 1.7807, 1.5463, 1.7747, 1.7698, 1.7688, 1.6039, 1.7446, 1.7423, 1.6789, 1.5214, 1.7424, 1.7383, 1.7242, 1.7101, 1.7053, 1.4346, 1.2089, 1.4189, 1.3538, 1.3636, 1.5008, 1.2087, 1.2182, 1.235, 1.3075, 0.7242, 1.1847, 0.9312, 0.5983, 0.41, 0.7069, 0.6573, 1.0964, 0.1531, 0.9951, 0.6058, 0.7291, 0.7478, 0.5224, 0.2711, 0.3561, 2.5702, 2.5681, 2.5681, 2.5681, 2.5681, 2.5681, 2.5681, 2.5681, 2.5681, 2.5681, 2.567, 2.567, 2.567, 2.567, 2.567, 2.567, 2.567, 2.567, 2.567, 2.567, 2.567, 2.567, 2.567, 2.5659, 2.5659, 2.5659, 2.5659, 2.5659, 2.5659, 2.5609, 2.5523, 2.5047, 2.5085, 2.5016, 2.4659, 2.4573, 2.4378, 2.4487, 2.5012, 2.5012, 2.4224, 2.3826, 2.4135, 2.4135, 2.4926, 2.4926, 2.4926, 2.4926, 2.3997, 2.4868, 2.3772, 2.3195, 2.4819, 2.4746, 2.4746, 2.2907, 2.4534, 2.4104, 2.4556, 2.4556, 2.1217, 2.1996, 1.9514, 2.2386, 1.9998, 2.2307, 2.2258, 1.9309, 1.8819, 1.7138, 2.1666, 1.8486, 1.9646, 1.8174, 1.255, 1.7654, 1.8068, 1.7863, 1.3884, 1.5128, 1.5463, 0.6835, 0.923, 0.9632, 1.0646, 1.0567, 1.5404, 1.6672, 1.3593, 0.6861, 0.596, 2.7715, 2.7715, 2.7715, 2.7715, 2.7715, 2.7715, 2.7715, 2.7715, 2.7715, 2.7715, 2.7715, 2.7715, 2.7715, 2.7715, 2.7715, 2.7715, 2.7715, 2.7715, 2.7715, 2.7715, 2.7715, 2.7715, 2.7715, 2.7715, 2.7715, 2.7715, 2.7715, 2.7715, 2.7715, 2.7715, 2.7715, 2.7715, 2.7715, 2.7715, 2.7715, 2.7715, 2.7715, 2.7715, 2.7715, 2.7715, 2.7715, 2.7715, 2.7715, 2.7715, 2.7715, 2.7715, 2.7715, 2.7715, 2.7715, 2.7715, 2.7715, 2.7715, 2.2148, 1.8843, 2.053, 1.0408, 2.4665, 1.902, 2.1349, 1.3584, 2.5804, 0.9534, 2.574, 1.1448, 1.843, 2.3295, 2.5492, 0.9727, 1.6146, 1.9518, 2.2988, 0.6111, 1.6826, 1.8196, 2.5928, 2.5295, 1.1302, 2.0237, 1.5808, 1.7609, 2.5517, 1.579, 1.1477, 1.2144, 0.7888, 1.1605, 0.9868, 1.1943, 0.414, 2.7926, 2.7926, 2.7926, 2.7926, 2.7926, 2.7926, 2.7926, 2.7926, 2.7926, 2.7926, 2.7926, 2.7926, 2.7926, 2.7926, 2.7926, 2.7926, 2.7926, 2.7926, 2.7926, 2.7926, 2.7926, 2.7926, 2.7926, 2.7926, 2.7926, 2.7926, 2.7691, 2.7582, 2.7566, 2.7522, 2.7051, 2.123, 1.545, 1.715, 2.0336, 2.5635, 0.8811, 2.6099, 1.4759, 1.6917, 0.7735, 1.4807, 1.3886, 0.9842, 1.7651, 2.6194, 2.5457, 1.7484, 1.0654, 2.2364, 1.5693, 2.222, 1.8975, 1.4664, 1.5409, 1.4771, 1.1232, 2.5339, 1.2381, 1.6267, 0.8334, 1.3716, 1.2831, 0.8485, 2.856, 2.856, 2.856, 2.856, 2.836, 2.836, 2.836, 2.836, 2.836, 2.836, 2.836, 2.8267, 2.8246, 2.8246, 2.8246, 2.8246, 2.8246, 2.8132, 2.8132, 2.8132, 2.8132, 2.8068, 2.8019, 2.8019, 2.8019, 2.7986, 2.797, 2.7917, 2.7917, 2.7917, 2.7917, 2.7917, 2.7747, 2.772, 2.772, 2.772, 2.5565, 1.9919, 2.4878, 1.7702, 0.6945, 2.1246, 2.2699, 2.4046, 2.4349, 2.6063, 2.4224, 2.4009, 2.4578, 1.6389, 0.8583, 2.0895, 1.4932, 1.6944, 1.5478, 1.7766, 1.1653, 1.5844, 0.2174, 2.0735, 1.104, 1.5771, 1.1451, 1.9383, 1.9108, 2.0795, 0.8685, 2.9047, 2.9047, 2.8603, 2.8603, 2.8603, 2.8603, 2.8589, 2.8526, 2.8463, 2.8406, 2.8405, 2.8405, 2.8405, 2.8308, 2.8253, 2.8153, 2.812, 2.808, 2.8012, 2.7988, 2.797, 2.7963, 2.7923, 2.7903, 2.7893, 2.7888, 2.7868, 2.7864, 2.7857, 2.7806, 2.7766, 2.7672, 2.7609, 2.7607, 2.7585, 2.7572, 2.755, 2.7146, 2.7194, 2.7018, 2.6914, 2.6904, 2.5762, 2.5548, 2.3297, 2.4637, 2.1302, 1.4344, 2.3414, 2.2857, 2.4761, 2.1281, 1.8492, 1.5513, 1.8564, 2.3074, 1.7844, 0.9902, 2.0783, 2.2626, 1.6536, 1.4861, 1.9602, 0.8625, 1.4998, 1.176, 1.114, 0.8962, 0.5418, 0.8076, 2.2755, 1.5262, 2.9573, 2.9573, 2.9573, 2.9573, 2.9573, 2.9573, 2.9573, 2.9573, 2.9573, 2.9573, 2.9573, 2.9573, 2.9573, 2.9573, 2.9573, 2.9573, 2.9573, 2.9573, 2.9573, 2.9573, 2.9573, 2.9573, 2.9573, 2.9573, 2.9573, 2.9573, 2.9573, 2.9573, 2.9573, 2.9573, 2.9573, 2.9573, 2.9573, 2.9573, 2.9573, 2.6732, 2.9013, 2.9013, 2.0311, 1.5676, 1.565, 2.6663, 2.5228, 2.5424, 1.8716, 2.0264, 1.8907, 1.3931, 1.3882, 1.7955, 2.3345, 1.8881, 1.8502, 2.5564, 1.5973, 1.0818, 1.2909, 2.7722, 2.2826, 2.7533, 1.4389, 1.5455, 1.7729, 2.4744, 1.5721, 1.5948, 1.307, 1.3344, 1.2808, 2.9709, 2.9704, 2.9704, 2.9704, 2.9704, 2.9704, 2.9704, 2.9704, 2.9704, 2.9704, 2.9704, 2.9704, 2.9704, 2.9704, 2.9704, 2.9704, 2.9704, 2.9704, 2.9704, 2.9704, 2.9704, 2.9704, 2.9704, 2.9704, 2.9704, 2.9704, 2.9704, 2.9704, 2.9703, 2.9703, 2.9703, 2.9703, 2.9703, 2.9703, 2.9703, 2.9703, 2.9703, 2.9703, 2.9162, 2.9594, 2.9362, 2.705, 2.8008, 2.3968, 2.3673, 2.13, 1.5617, 1.8445, 1.4885, 1.7577, 1.2572, 1.8079, 2.7772, 1.1406, 2.756, 1.9493, 2.5446, 1.5383, 1.7294, 2.6454, 1.572, 2.2328, 2.0253, 1.5334, 0.9134, 1.4758, 1.1626, 2.6235, 2.2371, 2.9868, 2.9868, 2.9868, 2.9868, 2.9868, 2.9868, 2.9868, 2.9868, 2.9868, 2.9868, 2.9868, 2.9868, 2.9868, 2.9868, 2.9868, 2.9868, 2.9868, 2.9868, 2.9868, 2.9868, 2.9868, 2.985, 2.985, 2.985, 2.985, 2.985, 2.985, 2.985, 2.985, 2.985, 2.9809, 2.985, 2.9784, 2.9775, 2.9765, 2.9759, 2.9748, 2.9695, 2.9695, 2.9695, 2.9695, 2.9695, 2.9695, 2.9695, 2.9695, 2.9695, 2.7932, 2.7227, 2.8328, 1.7743, 1.5026, 2.7308, 1.0722, 1.2579, 1.2376, 1.2587, 0.7579, 1.561, 2.3157, 0.5687, 0.8583, 2.5582, 2.2699, 2.2577, 0.8876, 1.9265, 1.9762, 0.7906, 1.7305, 1.6927, 1.7902, 1.3376, 1.8546, 3.0004, 3.0004, 3.0004, 3.0004, 3.0004, 3.0004, 3.0004, 3.0004, 3.0004, 3.0004, 3.0004, 3.0004, 3.0004, 3.0004, 3.0004, 3.0004, 3.0004, 3.0004, 3.0004, 3.0004, 3.0004, 3.0004, 3.0004, 3.0004, 3.0004, 3.0004, 3.0004, 3.0004, 3.0004, 3.0004, 3.0004, 3.0004, 3.0004, 2.7624, 2.7883, 2.6595, 2.964, 2.57, 2.9477, 1.7567, 1.8826, 2.833, 2.9117, 1.3364, 2.1178, 2.0127, 1.9134, 1.8522, 1.3508, 1.4628, 1.5653, 2.7944, 0.6917, 1.5361, 1.9036, 0.7589, 2.5376, 2.8387, 1.1321, 1.2668, 2.0205, 0.6467, 1.5199, 1.1867, 1.0858, 0.8181, 1.2939, 1.1128, 1.0561, 3.0391, 3.0388, 3.0388, 3.0388, 3.0388, 3.0388, 3.0388, 3.0388, 3.0388, 3.0375, 3.0375, 3.0375, 3.0375, 3.0375, 3.0375, 3.0375, 3.0375, 3.0375, 3.0375, 3.0375, 3.0375, 3.0375, 3.0337, 3.0337, 3.0337, 3.0337, 3.0337, 3.0337, 3.0337, 3.0321, 3.0285, 3.0285, 3.0285, 3.0285, 3.0285, 3.0274, 3.0179, 3.0179, 3.0072, 3.0072, 2.9894, 2.9962, 2.9962, 2.9962, 2.9849, 2.9734, 2.9734, 2.9617, 2.9374, 2.9374, 2.7998, 2.8852, 2.8852, 2.5408, 2.3302, 1.6788, 1.8275, 2.1557, 1.6987, 1.1004, 1.1235, 1.9664, 2.2193, 1.6211, 0.7516, 1.3325, 2.1617, 1.7809, 1.201, 0.5404, 1.9281, 2.0662, 3.0481, 3.0481, 3.0481, 3.0481, 3.0481, 3.0177, 3.0042, 3.002, 2.9673, 2.9671, 2.9671, 2.9638, 2.9621, 2.9567, 2.955, 2.9518, 2.9513, 2.9489, 2.9449, 2.9437, 2.9437, 2.9373, 2.9373, 2.9361, 2.9356, 2.9356, 2.9296, 2.9284, 2.9276, 2.9272, 2.9267, 2.9249, 2.9237, 2.9218, 2.9177, 2.9177, 2.9148, 2.9124, 2.8323, 2.8246, 2.8531, 2.4457, 2.5314, 2.6783, 2.0424, 2.5804, 2.5699, 1.2858, 2.008, 2.3346, 2.6034, 1.8213, 2.2479, 2.2162, 0.8051, 1.9825, 0.9487, 0.918, 1.213, 0.6673, 1.3784, 2.0081, 1.4167, 3.0942, 3.0942, 3.0942, 3.0942, 3.0942, 3.0942, 3.0942, 3.0942, 3.0942, 3.0942, 3.0942, 3.0942, 3.0942, 3.0942, 3.0942, 3.0942, 3.0942, 3.0942, 3.0942, 3.0942, 3.0942, 3.0942, 3.0942, 3.0942, 3.0942, 3.0942, 3.0942, 3.0942, 3.0942, 3.0942, 3.0942, 3.0942, 3.0942, 3.0942, 3.0942, 3.0942, 2.9513, 2.5169, 2.5103, 1.8801, 1.521, 2.7892, 1.6174, 2.1461, 1.6185, 1.6166, 1.9501, 2.2845, 1.1418, 1.2571, 2.7682, 2.5151, 2.1071, 1.0228, 1.2957, 0.9204, 2.2152, 1.8131, 1.1935, 2.5837, 0.8839, 1.2133, 2.8075, 0.9485, 1.2997, 1.4552, 1.65, 0.5404, 3.1352, 3.1352, 3.1352, 3.1352, 3.1352, 3.1352, 3.1352, 3.1352, 3.1352, 3.1352, 3.1352, 3.1352, 3.1352, 3.1352, 3.1352, 3.1352, 3.1352, 3.1352, 3.1352, 3.1352, 3.1352, 3.1352, 3.1352, 3.1352, 3.1352, 3.1352, 3.1352, 3.1352, 3.1352, 3.1352, 3.1352, 3.1352, 3.1352, 3.1352, 3.1352, 3.1352, 3.1352, 3.1352, 3.1352, 3.1352, 3.058, 2.928, 2.8737, 2.5605, 2.2778, 1.7189, 1.5353, 1.2164, 1.7394, 2.1113, 1.7802, 1.3891, 2.2251, 2.113, 1.7569, 2.5583, 2.298, 1.939, 2.8815, 1.6177, 2.2729, 2.5239, 2.0051, 1.7611, 2.0969, 2.0046, 2.9264, 2.3782, 1.3638, 3.1462, 3.1462, 3.1462, 3.1462, 3.1462, 3.1462, 2.9737, 2.9689, 2.9581, 2.9235, 2.9225, 2.9183, 2.9159, 2.915, 2.9097, 2.8939, 2.8847, 2.8607, 2.8397, 2.817, 2.8085, 2.7144, 2.7053, 2.7027, 2.6967, 2.6813, 2.6578, 2.648, 2.6473, 2.6395, 2.6354, 2.6226, 2.6103, 2.617, 2.4694, 2.572, 2.3656, 2.3464, 2.311, 2.105, 2.1708, 2.3242, 1.7156, 1.9897, 2.1844, 2.3819, 2.0374, 1.268, 1.8069, 1.7323, 1.3011, 1.769, 1.1338, 1.0853, 1.1222, 1.5884, 1.5103, 1.1492, 1.28, 1.6561, 1.7097, 0.742, 1.3854, 3.1744, 3.1744, 3.1744, 3.1744, 3.1744, 3.1744, 3.1744, 3.1744, 3.1586, 3.1586, 3.1586, 3.1586, 3.1586, 3.0536, 3.0536, 2.9216, 2.8797, 2.8601, 2.8601, 2.8535, 2.8003, 2.7799, 2.7226, 2.6393, 2.6359, 2.6242, 2.6168, 2.5801, 2.5794, 2.5724, 2.5659, 2.5512, 2.5022, 2.4504, 2.4993, 2.4951, 2.4899, 2.4808, 2.4675, 2.4656, 2.4527, 2.3398, 2.4234, 2.4167, 2.4043, 2.3862, 2.156, 2.3017, 2.14, 2.0451, 1.6496, 2.0622, 2.2643, 1.5931, 0.8095, 1.252, 3.2173, 3.2173, 3.2173, 3.2173, 3.2173, 3.2173, 3.2173, 3.2173, 3.2173, 3.2165, 3.2165, 3.2165, 3.2165, 3.2165, 3.2165, 3.1946, 3.1662, 3.1069, 2.9655, 2.9223, 2.8885, 2.8656, 2.8476, 2.8423, 2.8154, 2.8, 2.7937, 2.7822, 2.7773, 2.7564, 2.7391, 2.6812, 2.6204, 2.5477, 2.604, 2.4967, 2.5516, 2.5516, 2.1865, 2.537, 2.5222, 2.5222, 2.2602, 2.5105, 2.0173, 2.3997, 2.2124, 2.2324, 2.0361, 2.4762, 1.9728, 1.7239, 2.0583, 1.8126, 2.0692, 1.9344, 1.8575, 1.6535, 1.3184, 1.0637, 1.8731, 1.2509, 1.5296, 0.9105, 1.3214, 1.4213, 3.4574, 3.4574, 3.4574, 3.4574, 3.4574, 3.4574, 3.4566, 3.4566, 3.4566, 3.4566, 3.4566, 3.4566, 3.4566, 3.4466, 3.4466, 3.4466, 3.4463, 3.4424, 3.4251, 3.4159, 3.4119, 3.4009, 3.3997, 3.3997, 3.3997, 3.3856, 3.381, 3.3614, 3.3556, 3.3556, 3.2646, 3.2019, 3.1856, 3.1422, 3.0659, 2.767, 2.8269, 3.0204, 2.4093, 2.364, 2.46, 1.9544, 2.4984, 2.0583, 2.2163, 2.0469, 1.7474, 1.7564, 2.5057, 2.5519, 2.2101, 2.2943, 0.873, 1.5529, 1.1603, 1.5518, 0.6713, 1.424, 1.376, 3.8533, 3.8533, 3.8349, 3.8249, 3.8124, 3.8124, 3.8124, 3.8059, 3.8021, 3.7992, 3.7992, 3.7992, 3.7992, 3.7992, 3.7992, 3.7992, 3.7992, 3.7992, 3.7992, 3.7992, 3.7992, 3.7992, 3.7992, 3.7992, 3.7992, 3.7992, 3.7992, 3.7857, 3.7857, 3.7857, 3.7857, 3.7857, 3.7857, 3.7857, 3.7857, 3.7857, 3.167, 3.4949, 3.7351, 3.7351, 3.5024, 2.5769, 3.1138, 2.9306, 1.6267, 2.6092, 2.1313, 3.0371, 1.9672, 2.3971, 2.5974, 2.7298, 1.9454, 2.6218, 2.8619, 1.4219, 1.0507, 2.9283, 3.1056, 3.0272, 2.9761, 2.8629, 2.8306, 2.804, 2.7792, 2.724, 2.7207, 2.6968, 2.685, 2.6705, 2.6525, 2.6454, 2.6346, 2.6168, 2.6136, 2.6127, 2.593, 2.5898, 2.5852, 2.5836, 2.5427, 2.5318, 2.5241, 2.5038, 2.4905, 2.4678, 2.462, 2.4608, 2.4516, 2.3955, 2.1946, 2.0772, 2.1839, 2.0878, 1.948, 1.2244, 1.15, 2.1237, 2.0637, 1.0719, 1.2366], \"logprob\": [30.0, 29.0, 28.0, 27.0, 26.0, 25.0, 24.0, 23.0, 22.0, 21.0, 20.0, 19.0, 18.0, 17.0, 16.0, 15.0, 14.0, 13.0, 12.0, 11.0, 10.0, 9.0, 8.0, 7.0, 6.0, 5.0, 4.0, 3.0, 2.0, 1.0, -6.7419, -6.7419, -6.7419, -6.7419, -6.7419, -6.7419, -6.7419, -6.7419, -6.7419, -6.7419, -6.7419, -6.7419, -6.7419, -6.7419, -6.7419, -6.7419, -6.7419, -6.7419, -6.8732, -6.8732, -6.8732, -6.8732, -6.8732, -6.8732, -6.8732, -6.8732, -6.8732, -6.8732, -6.8732, -6.8732, -6.8732, -6.8732, -6.8732, -6.8732, -6.8732, -6.8732, -6.8732, -5.5003, -5.4316, -5.4357, -5.4441, -5.0904, -5.4525, -5.3673, -5.5457, -5.4316, -5.7179, -5.6641, -5.5551, -5.7459, -5.7865, -5.7865, -5.8104, -5.1234, -5.8044, -5.8104, -5.8165, -5.4525, -5.8412, -5.8474, -5.6853, -5.2996, -5.8538, -5.8538, -5.8729, -5.8925, -5.8859, -5.3254, -4.935, -5.3291, -5.226, -5.3989, -5.574, -5.3069, -5.318, -5.3442, -5.4192, -4.971, -5.3595, -5.206, -5.0386, -4.9815, -5.1702, -5.1961, -5.3949, -5.1638, -5.3712, -5.3106, -5.3634, -5.3949, -5.3909, -5.3909, -5.407, -5.662, -6.2584, -6.2584, -6.2584, -6.2584, -6.2584, -6.2584, -6.2584, -6.2584, -6.2584, -6.4619, -6.4619, -6.4619, -6.4619, -6.4619, -6.4619, -6.4619, -6.4619, -6.4619, -6.4619, -6.4619, -6.4619, -6.4619, -6.6377, -6.6377, -6.6377, -6.6377, -6.6377, -6.6377, -7.1875, -6.285, -5.4894, -5.6056, -5.6194, -5.0839, -5.0921, -4.9057, -5.1003, -5.8185, -5.8185, -5.1254, -4.8085, -5.1339, -5.1339, -5.8356, -5.8356, -5.8356, -5.8356, -5.1687, -5.8356, -5.1687, -5.0921, -5.853, -5.8707, -5.8707, -5.2909, -5.8887, -5.7689, -5.907, -5.907, -4.9333, -5.1599, -4.6597, -5.3635, -4.8335, -5.3635, -5.3743, -4.8855, -4.8789, -4.7545, -5.3852, -4.9545, -5.1086, -5.0058, -4.4281, -5.0519, -5.0839, -5.1254, -4.8723, -4.9983, -5.0286, -4.6335, -4.7722, -4.8855, -4.9194, -4.9403, -5.0598, -5.1086, -5.1003, -5.0839, -5.0921, -5.0869, -5.0869, -5.0869, -5.0869, -5.0869, -5.0869, -5.0869, -5.0869, -5.0869, -5.0869, -5.0869, -5.0869, -5.0869, -5.0869, -5.0869, -5.0869, -5.0869, -5.0869, -5.0869, -5.0869, -5.0869, -5.0869, -5.0869, -5.0869, -5.0869, -5.0869, -5.0869, -5.0869, -5.0869, -5.0869, -5.0869, -5.0869, -5.0869, -5.0869, -5.0869, -5.0869, -5.0869, -5.0869, -5.0869, -5.0869, -5.0869, -5.0869, -5.0869, -5.0869, -5.0869, -5.0869, -5.0869, -5.0869, -5.0869, -5.0869, -5.0869, -5.0869, -4.8807, -4.7636, -4.8745, -4.5962, -5.0063, -4.8869, -4.9382, -4.7803, -5.0494, -4.7418, -5.0494, -4.7973, -4.9317, -5.0133, -5.0494, -4.7973, -4.9059, -4.9582, -5.0133, -4.7803, -4.9317, -4.9649, -5.0643, -5.0568, -4.8869, -4.9993, -4.9515, -4.9785, -5.0643, -4.9785, -4.9448, -4.9515, -4.9582, -4.9854, -4.9854, -5.0063, -5.0133, -5.1492, -5.1492, -5.1492, -5.1492, -5.1492, -5.1492, -5.1492, -5.1492, -5.1492, -5.1492, -5.1492, -5.1492, -5.1492, -5.1492, -5.1492, -5.1492, -5.1492, -5.1492, -5.1492, -5.1492, -5.1492, -5.1492, -5.1492, -5.1492, -5.1492, -5.1492, -4.6951, -5.7232, -4.7323, -4.8702, -5.1607, -4.2633, -4.2035, -4.4222, -4.7553, -5.0612, -4.5462, -5.0933, -4.7709, -4.8444, -4.6179, -4.8615, -4.8529, -4.7788, -4.9423, -5.1153, -5.1042, -5.02, -4.9517, -5.0825, -5.0099, -5.0825, -5.0507, -5.02, -5.0301, -5.0301, -5.0, -5.1265, -5.02, -5.0612, -5.02, -5.0612, -5.0612, -5.0612, -8.0325, -8.0325, -8.0325, -8.0325, -5.1885, -5.1885, -5.1885, -5.1885, -5.1885, -5.1885, -5.1885, -5.1944, -5.1944, -5.1944, -5.1944, -5.1944, -5.1944, -5.2002, -5.2002, -5.2002, -5.2002, -5.1944, -5.2061, -5.2061, -5.2061, -5.1885, -6.1615, -5.1885, -5.1885, -5.1885, -5.1885, -5.1885, -5.1944, -5.1944, -5.1944, -5.1944, -4.9842, -4.9889, -5.1211, -5.0478, -4.9424, -5.1157, -5.1375, -5.1542, -5.1599, -5.177, -5.1599, -5.1599, -5.1655, -5.1211, -5.0838, -5.1486, -5.1211, -5.132, -5.1265, -5.1375, -5.1157, -5.1375, -5.0996, -5.1599, -5.1375, -5.1542, -5.1486, -5.1655, -5.1655, -5.1712, -5.1486, -7.1261, -7.1261, -6.115, -6.115, -6.115, -6.115, -4.977, -4.9868, -4.9966, -5.0166, -6.1458, -6.1458, -6.1458, -4.977, -4.977, -5.9227, -4.729, -4.9966, -5.9227, -4.9966, -5.0066, -5.0166, -5.0066, -5.0166, -7.2131, -5.0474, -5.0166, -5.974, -5.037, -5.037, -5.0166, -5.0579, -5.037, -5.0474, -5.037, -5.037, -5.037, -5.0166, -5.0685, -5.0792, -5.09, -5.1231, -4.8582, -4.8668, -4.5492, -4.8756, -4.6012, -4.4819, -4.8756, -4.8844, -4.9483, -4.8411, -4.7835, -4.7065, -4.7915, -4.9204, -4.8078, -4.656, -4.8756, -4.9204, -4.8668, -4.8582, -4.9113, -4.7996, -4.8668, -4.8411, -4.8582, -4.8668, -4.8496, -4.8756, -4.9578, -4.9389, -5.0854, -5.0854, -5.0854, -5.0854, -5.0854, -5.0854, -5.0854, -5.0854, -5.0854, -5.0854, -5.0854, -5.0854, -5.0854, -5.0854, -5.0854, -5.0854, -5.0854, -5.0854, -5.0854, -5.0854, -5.0854, -5.0854, -5.0854, -5.0854, -5.0854, -5.0854, -5.0854, -5.0854, -5.0854, -5.0854, -5.0854, -5.0854, -5.0854, -5.0854, -5.0854, -4.8312, -5.0341, -5.0341, -4.2863, -4.3989, -4.419, -4.9618, -4.9275, -4.9618, -4.811, -4.8623, -4.8312, -4.7528, -4.7622, -4.8518, -4.9618, -4.8836, -4.8836, -5.0095, -4.8623, -4.8011, -4.8518, -5.0595, -4.9973, -5.0595, -4.9053, -4.9618, -4.9854, -5.0467, -4.9854, -4.9973, -4.9854, -4.9973, -5.0095, -4.8352, -5.0865, -5.0865, -5.0865, -5.0865, -5.0865, -5.0865, -5.0865, -5.0865, -5.0865, -5.0865, -5.0865, -5.0865, -5.0865, -5.0865, -5.0865, -5.0865, -5.0865, -5.0865, -5.0865, -5.0865, -5.0865, -5.0865, -5.0865, -5.0865, -5.0865, -5.0865, -5.0865, -5.1716, -5.1716, -5.1716, -5.1716, -5.1716, -5.1716, -5.1716, -5.1716, -5.1716, -5.1716, -4.8352, -5.1071, -5.008, -4.4566, -4.8195, -4.3733, -4.4786, -4.4786, -4.1993, -4.4458, -4.2599, -4.609, -4.4898, -4.6879, -5.0271, -4.5476, -5.0271, -4.8195, -4.9894, -4.8195, -4.9179, -5.0465, -4.9353, -5.008, -4.9894, -4.953, -4.9353, -4.9894, -4.971, -5.0663, -5.0465, -4.964, -4.964, -4.964, -4.964, -4.964, -4.964, -4.964, -4.964, -4.964, -4.964, -4.964, -4.964, -4.964, -4.964, -4.964, -4.964, -4.964, -4.964, -4.964, -4.964, -4.964, -5.6207, -5.6207, -5.6207, -5.6207, -5.6207, -5.6207, -5.6207, -5.6207, -5.6207, -4.3629, -5.6207, -4.9733, -4.9733, -4.9733, -4.9733, -4.9733, -4.9733, -4.9733, -4.9733, -4.9733, -4.9733, -4.9733, -4.9733, -4.9733, -4.9733, -4.571, -4.571, -4.9012, -4.5835, -4.5899, -4.9187, -4.5899, -4.6557, -4.7045, -4.7189, -4.6694, -4.8019, -4.8925, -4.7483, -4.7786, -4.9276, -4.9276, -4.9276, -4.8754, -4.9187, -4.9276, -4.8925, -4.9276, -4.9276, -4.9366, -4.9548, -4.964, -4.9271, -4.9271, -4.9271, -4.9271, -4.9271, -4.9271, -4.9271, -4.9271, -4.9271, -4.9271, -4.9271, -4.9271, -4.9271, -4.9271, -4.9271, -4.9271, -4.9271, -4.9271, -4.9271, -4.9271, -4.9271, -4.9271, -4.9271, -4.9271, -4.9271, -4.9271, -4.9271, -4.9271, -4.9271, -4.9271, -4.9271, -4.9271, -4.9271, -4.6466, -4.7213, -4.6684, -4.8989, -4.6252, -4.8897, -4.3937, -4.5122, -4.8715, -4.8989, -4.4106, -4.6538, -4.6538, -4.6758, -4.6684, -4.6252, -4.6466, -4.6907, -4.8989, -4.6252, -4.7448, -4.7936, -4.6684, -4.8715, -4.9082, -4.7213, -4.7689, -4.8361, -4.7448, -4.8189, -4.8104, -4.8275, -4.8189, -4.8449, -4.8537, -4.8537, -4.5718, -4.7918, -4.7918, -4.7918, -4.7918, -4.7918, -4.7918, -4.7918, -4.7918, -5.3552, -5.3552, -5.3552, -5.3552, -5.3552, -5.3552, -5.3552, -5.3552, -5.3552, -5.3552, -5.3552, -5.3552, -5.3552, -6.1931, -6.1931, -6.1931, -6.1931, -6.1931, -6.1931, -6.1931, -6.4006, -4.8073, -4.8073, -4.8073, -4.8073, -4.8073, -5.3826, -4.8231, -4.8231, -4.8391, -4.8391, -4.6095, -4.8553, -4.8553, -4.8553, -4.8718, -4.8886, -4.8886, -4.9057, -4.9408, -4.9408, -4.7918, -5.0149, -5.0149, -4.6895, -4.5842, -4.2041, -4.5354, -4.6895, -4.6095, -4.5119, -4.5354, -4.6895, -4.7615, -4.7177, -4.6758, -4.7177, -4.7765, -4.7765, -4.7765, -4.7765, -4.7918, -4.8073, -6.4449, -6.4449, -6.4449, -6.4449, -6.4449, -6.4756, -6.4756, -6.4756, -4.9929, -5.0071, -5.0071, -4.9929, -4.9929, -5.0, -5.0, -4.9929, -4.9929, -4.9929, -5.0, -5.0, -5.0, -5.0144, -5.0144, -5.0071, -5.0144, -5.0144, -5.0144, -5.0216, -5.0144, -5.0144, -5.0216, -5.0144, -5.0144, -5.0144, -5.029, -5.029, -5.0216, -5.0216, -4.8236, -4.8117, -4.9929, -4.9047, -4.931, -4.9718, -4.8665, -4.9649, -4.9649, -4.8236, -4.9243, -4.9858, -5.0, -4.9718, -4.9858, -4.9858, -4.958, -4.9858, -4.9649, -4.9649, -4.9718, -4.9788, -4.9858, -4.9929, -4.9929, -4.9295, -4.9295, -4.9295, -4.9295, -4.9295, -4.9295, -4.9295, -4.9295, -4.9295, -4.9295, -4.9295, -4.9295, -4.9295, -4.9295, -4.9295, -4.9295, -4.9295, -4.9295, -4.9295, -4.9295, -4.9295, -4.9295, -4.9295, -4.9295, -4.9295, -4.9295, -4.9295, -4.9295, -4.9295, -4.9295, -4.9295, -4.9295, -4.9295, -4.9295, -4.9295, -4.9295, -4.8786, -4.7692, -4.7766, -4.6908, -4.6638, -4.8786, -4.6908, -4.7766, -4.7257, -4.7257, -4.7766, -4.8381, -4.7116, -4.74, -4.8953, -4.8704, -4.8302, -4.7257, -4.7545, -4.7257, -4.8461, -4.8302, -4.7841, -4.8953, -4.7992, -4.8224, -4.9123, -4.8146, -4.8461, -4.8622, -4.8704, -4.8869, -4.7111, -4.7111, -4.7111, -4.7111, -4.7111, -4.7111, -4.7111, -4.7111, -4.7111, -4.7111, -4.7111, -4.7111, -4.7111, -4.7111, -4.7111, -4.7111, -4.7111, -4.7111, -4.7111, -4.7111, -4.7111, -4.7111, -4.7111, -4.7111, -4.7111, -4.7111, -4.7111, -4.7111, -4.7111, -4.7111, -4.7111, -4.7111, -4.7111, -4.7111, -4.7111, -4.7111, -4.7111, -4.7111, -4.7111, -4.7111, -4.6272, -4.5288, -4.5393, -4.5184, -4.498, -4.4297, -4.4487, -4.4297, -4.5184, -4.5713, -4.5288, -4.488, -4.6045, -4.5933, -4.5605, -4.6505, -4.6272, -4.5933, -4.6864, -4.5823, -4.6388, -4.6623, -4.6272, -4.6158, -4.6388, -4.6388, -4.6987, -4.6743, -4.6864, -5.9678, -5.9678, -5.9678, -5.9678, -5.9678, -5.9678, -4.9734, -5.0011, -4.9872, -5.0591, -5.0011, -7.0656, -5.0591, -5.0443, -5.0011, -5.0742, -5.6802, -5.6802, -5.7373, -5.6528, -5.7373, -6.6242, -5.1207, -5.3125, -6.9604, -5.6802, -6.373, -4.7421, -5.0153, -6.373, -4.6487, -4.7979, -5.0153, -5.1863, -4.3151, -5.1049, -4.4517, -4.4197, -4.4119, -4.0436, -4.4041, -4.6995, -4.0544, -4.4681, -4.753, -5.0153, -4.6099, -4.049, -4.591, -4.6099, -4.5817, -4.7752, -4.5543, -4.6099, -4.6389, -4.7979, -4.7979, -4.764, -4.8571, -4.9331, -4.9463, -4.92, -4.9463, -7.2409, -7.2409, -7.2409, -7.2409, -7.2409, -7.2409, -7.2409, -7.2409, -7.7514, -7.7514, -7.7514, -7.7514, -7.7514, -7.8383, -7.8383, -7.3462, -4.8758, -4.89, -4.89, -4.8947, -4.9338, -4.9488, -4.8526, -5.0666, -5.0609, -5.0666, -5.0723, -5.1191, -5.1013, -5.1251, -5.1557, -5.1433, -5.1619, -4.9641, -5.1808, -5.1808, -5.2001, -5.2331, -5.2264, -5.2331, -5.2198, -5.0006, -5.2264, -5.2603, -5.2535, -5.2883, -4.9744, -5.1872, -5.0954, -5.078, -4.959, -5.1191, -5.2001, -5.1619, -5.1745, -5.1808, -6.0398, -6.0398, -6.0398, -6.0398, -6.0398, -6.0398, -6.0398, -6.0398, -6.0398, -6.149, -6.149, -6.149, -6.149, -6.149, -6.149, -6.1882, -6.1882, -6.2715, -5.4183, -4.7439, -4.7726, -4.7922, -6.1882, -4.8122, -4.8641, -6.229, -4.8965, -4.8641, -4.9187, -4.9414, -4.953, -5.0129, -4.6283, -4.7439, -5.1307, -5.0006, -5.0898, -5.0898, -4.5246, -5.1033, -5.1169, -5.1169, -4.7922, -5.1307, -4.5246, -5.0253, -4.8022, -4.843, -4.6199, -5.1588, -4.6283, -4.5322, -4.7922, -4.6452, -4.8326, -4.7824, -4.7534, -4.763, -4.6538, -4.5952, -4.8535, -4.7252, -4.8022, -4.7726, -4.8122, -4.8535, -5.6361, -5.6361, -5.6361, -5.6361, -5.6361, -5.6361, -5.7612, -5.7612, -5.7612, -5.7612, -5.7612, -5.7612, -5.7612, -6.6765, -6.6765, -6.6765, -4.832, -4.8587, -5.6967, -4.8861, -5.6967, -5.6967, -4.9142, -4.9142, -4.9142, -4.9142, -4.9432, -4.9731, -5.8301, -5.8301, -4.3588, -3.7076, -3.7249, -3.6576, -3.6576, -3.6495, -4.5184, -4.9731, -4.265, -4.3754, -4.5985, -4.1793, -4.8587, -4.4624, -4.732, -4.6195, -4.4994, -4.5184, -5.0356, -5.0683, -4.8861, -4.9432, -4.5184, -4.7561, -4.7561, -4.8061, -4.7561, -4.832, -4.9142, -5.2894, -5.2894, -5.3338, -5.2894, -4.3476, -4.3476, -4.3476, -5.3803, -5.3803, -4.3647, -4.3647, -4.3647, -4.3647, -4.3647, -4.3647, -4.3647, -4.3647, -4.3647, -4.3647, -4.3647, -4.3647, -4.3647, -4.3647, -4.3647, -4.3647, -4.3647, -4.3647, -4.3821, -4.3821, -4.3821, -4.3821, -4.3821, -4.3821, -4.3821, -4.3821, -4.3821, -4.0813, -4.282, -4.3647, -4.3647, -4.298, -4.0557, -4.2662, -4.2507, -4.0684, -4.2204, -4.1625, -4.282, -4.1766, -4.2204, -4.2507, -4.2662, -4.2204, -4.282, -4.3142, -4.2662, -4.2662, -4.3476, -4.4855, -4.6715, -4.6491, -4.7421, -4.7921, -4.7921, -4.9003, -4.9899, -4.9003, -4.8448, -4.9003, -4.9591, -4.8448, -4.9591, -4.9899, -5.0216, -5.0216, -4.9899, -5.0216, -5.0216, -5.0544, -5.0216, -5.0544, -5.0883, -5.1975, -5.0883, -4.5639, -5.0883, -5.2367, -4.8181, -5.1234, -4.9899, -4.6945, -4.6715, -4.8448, -4.9003, -4.8721, -4.7421, -4.7921, -4.9591, -4.9591, -4.9003, -4.9293]}, \"token.table\": {\"Topic\": [6, 12, 13, 14, 15, 17, 12, 1, 16, 13, 7, 6, 2, 10, 2, 13, 17, 4, 13, 7, 1, 16, 5, 8, 2, 7, 7, 8, 18, 13, 19, 15, 10, 11, 6, 18, 8, 8, 1, 1, 16, 14, 10, 18, 7, 1, 4, 1, 16, 13, 4, 6, 8, 10, 11, 19, 1, 16, 19, 7, 12, 19, 18, 1, 16, 5, 1, 16, 5, 18, 1, 4, 11, 12, 15, 17, 4, 6, 8, 15, 19, 14, 2, 10, 12, 17, 1, 3, 5, 15, 18, 19, 1, 3, 5, 9, 18, 15, 1, 16, 10, 2, 7, 15, 17, 7, 1, 2, 5, 12, 17, 18, 2, 4, 14, 15, 8, 1, 2, 4, 5, 8, 12, 18, 6, 12, 4, 13, 1, 2, 3, 8, 11, 12, 15, 17, 19, 3, 15, 17, 10, 4, 1, 3, 15, 3, 5, 9, 3, 14, 1, 2, 10, 16, 17, 1, 8, 11, 1, 13, 5, 2, 2, 17, 2, 17, 2, 6, 7, 17, 18, 1, 1, 4, 6, 9, 11, 12, 13, 17, 3, 1, 3, 5, 1, 16, 1, 4, 1, 2, 9, 12, 13, 16, 17, 1, 9, 1, 4, 12, 11, 7, 14, 7, 15, 6, 19, 6, 11, 4, 1, 16, 1, 16, 10, 19, 9, 1, 6, 15, 1, 11, 11, 1, 5, 6, 14, 16, 7, 11, 2, 13, 12, 1, 10, 16, 8, 2, 2, 15, 11, 11, 1, 13, 1, 2, 7, 8, 14, 16, 17, 14, 19, 4, 6, 12, 1, 16, 2, 7, 8, 4, 18, 4, 5, 7, 9, 10, 17, 1, 16, 5, 3, 1, 2, 4, 17, 8, 1, 16, 12, 18, 2, 10, 2, 6, 19, 19, 2, 3, 19, 13, 5, 1, 16, 1, 4, 6, 9, 17, 1, 7, 13, 1, 1, 16, 7, 4, 2, 18, 4, 12, 1, 10, 1, 2, 2, 12, 15, 11, 8, 1, 9, 11, 8, 13, 7, 14, 15, 1, 2, 10, 6, 10, 3, 4, 5, 6, 9, 13, 1, 2, 4, 14, 15, 5, 7, 12, 13, 18, 19, 14, 13, 15, 13, 3, 2, 5, 6, 15, 17, 7, 13, 1, 2, 15, 14, 6, 19, 6, 2, 4, 12, 17, 1, 10, 16, 15, 6, 4, 15, 4, 10, 6, 13, 15, 19, 6, 7, 2, 1, 16, 7, 5, 2, 13, 15, 19, 13, 1, 4, 5, 16, 4, 4, 1, 5, 9, 16, 11, 1, 1, 11, 16, 15, 2, 7, 15, 2, 13, 1, 16, 2, 14, 19, 11, 6, 15, 17, 18, 1, 5, 3, 14, 7, 2, 6, 14, 2, 8, 10, 12, 2, 3, 6, 10, 13, 15, 3, 3, 4, 9, 9, 1, 1, 1, 2, 10, 13, 15, 16, 18, 1, 2, 4, 10, 15, 16, 17, 4, 3, 3, 8, 1, 13, 8, 1, 3, 4, 5, 6, 7, 8, 10, 13, 18, 2, 10, 14, 1, 15, 14, 9, 11, 9, 11, 1, 8, 10, 1, 1, 12, 16, 5, 1, 4, 1, 13, 19, 1, 2, 4, 5, 6, 9, 10, 11, 15, 17, 19, 1, 5, 12, 3, 6, 1, 7, 6, 17, 1, 1, 3, 8, 12, 7, 10, 9, 6, 19, 5, 6, 1, 2, 7, 10, 11, 12, 17, 9, 10, 9, 7, 7, 10, 11, 18, 5, 1, 3, 3, 4, 5, 2, 2, 14, 17, 7, 1, 2, 17, 1, 6, 18, 7, 1, 9, 1, 6, 12, 3, 4, 3, 1, 15, 14, 5, 9, 2, 15, 7, 13, 3, 12, 4, 5, 8, 10, 19, 1, 16, 1, 2, 11, 17, 2, 4, 17, 11, 1, 6, 1, 2, 9, 15, 18, 6, 11, 15, 9, 15, 1, 4, 7, 9, 3, 1, 5, 11, 5, 8, 1, 5, 1, 4, 7, 9, 14, 16, 7, 17, 5, 6, 11, 5, 14, 9, 1, 4, 9, 13, 19, 2, 17, 7, 1, 2, 8, 13, 15, 17, 18, 2, 7, 18, 19, 2, 11, 15, 3, 4, 11, 4, 14, 3, 2, 3, 5, 17, 1, 16, 1, 3, 16, 1, 9, 8, 13, 12, 10, 12, 8, 8, 8, 1, 14, 15, 18, 1, 2, 3, 5, 9, 11, 12, 18, 10, 8, 1, 3, 4, 5, 6, 7, 9, 10, 11, 13, 15, 18, 15, 19, 8, 19, 4, 5, 7, 9, 13, 13, 11, 15, 8, 4, 11, 12, 3, 3, 3, 4, 14, 15, 19, 14, 3, 4, 6, 1, 2, 15, 17, 18, 12, 6, 1, 16, 1, 14, 8, 14, 10, 1, 12, 16, 9, 5, 5, 3, 14, 6, 3, 13, 17, 8, 12, 1, 7, 7, 10, 11, 2, 19, 10, 14, 15, 17, 9, 9, 1, 2, 4, 10, 12, 3, 6, 1, 5, 6, 10, 14, 2, 8, 15, 17, 1, 1, 4, 7, 8, 15, 6, 1, 10, 16, 13, 8, 2, 3, 6, 7, 13, 17, 19, 2, 3, 6, 1, 2, 3, 4, 6, 9, 13, 15, 19, 1, 5, 1, 12, 1, 16, 2, 13, 13, 4, 5, 3, 1, 3, 4, 7, 9, 12, 6, 19, 5, 3, 15, 1, 4, 1, 5, 10, 16, 13, 1, 2, 3, 6, 8, 15, 19, 11, 2, 11, 18, 4, 9, 8, 14, 10, 15, 17, 8, 3, 4, 3, 5, 14, 1, 13, 2, 12, 17, 3, 19, 3, 1, 3, 5, 9, 13, 16, 18, 1, 16, 11, 11, 10, 11, 3, 5, 10, 12, 13, 7, 11, 13, 19, 7, 8, 9, 1, 4, 10, 11, 18, 8, 1, 3, 14, 16, 14, 1, 10, 10, 1, 2, 5, 1, 12, 19, 19, 8, 15, 17, 7, 8, 14, 15, 8, 1, 13, 17, 8, 5, 6, 1, 4, 10, 16, 18, 2, 8, 2, 8, 14, 5, 11, 1, 16, 1, 2, 5, 8, 18, 1, 4, 5, 4, 5, 6, 15, 3, 8, 1, 17, 8, 5, 1, 2, 6, 7, 13, 17, 1, 16, 19, 1, 2, 12, 16, 17, 2, 11, 15, 6, 7, 8, 11, 12, 15, 4, 11, 6, 5, 18, 6, 18, 7, 3, 1, 4, 9, 13, 15, 4, 9, 5, 6, 1, 4, 5, 7, 10, 12, 14, 16, 18, 1, 15, 2, 14, 3, 13, 13, 11, 12, 10, 12, 1, 6, 7, 12, 4, 9, 9, 1, 2, 7, 9, 14, 16, 16, 1, 4, 9, 11, 2, 7, 1, 4, 9, 1, 2, 4, 6, 10, 12, 13, 15, 1, 2, 9, 7, 18, 1, 5, 16, 18, 11, 1, 11, 3, 2, 5, 8, 9, 17, 18, 17, 12, 1, 16, 13, 1, 3, 4, 11, 8, 10, 14, 15, 14, 7, 8, 15, 1, 6, 8, 10, 4, 10, 3, 2, 1, 1, 16, 6, 6, 18, 5, 1, 2, 5, 6, 7, 12, 14, 17, 5, 9, 12, 5, 1, 2, 12, 16, 8, 7, 1, 2, 3, 7, 8, 15, 16, 2, 6, 9, 11, 15, 17, 2, 19, 10, 15, 5, 18, 3, 14, 1, 16, 2, 17, 3, 18, 8, 9, 1, 4, 9, 19, 13, 1, 12, 18, 3, 7, 11, 6, 9, 11, 15, 11, 1, 7, 16, 15, 6, 10, 11, 1, 16, 1, 15, 1, 3, 5, 7, 13, 15, 1, 4, 9, 15, 14, 14, 14, 19, 6, 11, 3, 11, 1, 16, 1, 9, 11, 1, 12, 8, 10, 4, 3, 9, 4, 12, 17, 1, 8, 19, 4, 10, 4, 1, 4, 6, 9, 11, 13, 16, 6, 9, 1, 14, 18, 1, 2, 3, 8, 9, 10, 11, 19, 4, 1, 7, 11, 4, 5, 10, 15, 9, 9, 4, 1, 16, 3, 6, 9, 13, 9, 5, 6, 14, 14, 1, 16, 19, 11, 15, 11, 1, 4, 13, 6, 1, 2, 3, 17, 2, 3, 17, 1, 16, 18, 5, 12, 19, 11, 13, 7, 7, 6, 10, 8, 10, 10, 3, 19, 8, 1, 2, 4, 6, 9, 12, 13, 17, 1, 2, 3, 4, 6, 13, 17, 4, 6, 9, 15, 3, 8, 9, 11, 15, 5, 5, 18, 5, 11, 13, 9, 14, 13, 5, 6, 1, 10, 19, 3, 2, 10, 4, 1, 8, 13, 16, 5, 9, 7, 7, 14, 8, 1, 16, 1, 2, 15, 3, 2, 7, 10, 11, 14, 8, 10, 19, 1, 16, 4, 3, 3, 3, 10, 2, 13, 15, 13, 1, 4, 10, 15, 12, 1, 16, 13, 3, 9, 3, 4, 1, 1, 6, 1, 5, 7, 8, 6, 9, 11, 12, 13, 14, 15, 16, 12, 1, 4, 5, 6, 14, 18, 11, 1, 3, 9, 16, 3, 8, 12, 1, 1, 3, 4, 5, 6, 7, 18, 2, 4, 17, 8, 9, 2, 7, 12, 15, 17, 5, 11, 15, 1, 9, 1, 4, 7, 10, 13, 15, 19, 15, 11, 1, 2, 3, 4, 5, 6, 11, 12, 13, 17, 2, 5, 7, 15, 17, 2, 9, 9, 9, 1, 8, 1, 6, 16, 3, 14, 14, 1, 16, 12, 4, 6, 14, 2, 1, 4, 11, 9, 2, 7, 8, 17, 11, 1, 10, 1, 5, 13, 9, 2, 17, 2, 6, 15, 5, 9, 3, 10, 11, 5, 17, 4, 4, 1, 16, 2, 17, 1, 16, 8, 5, 1, 2, 6, 15, 5, 14, 2, 1, 1, 2, 3, 4, 5, 9, 11, 13, 17, 18, 12, 15, 1, 16, 7, 9, 9, 13, 8, 2, 15, 12, 11, 10, 19, 3, 4, 9, 11, 18, 1, 11, 16, 15, 13, 17, 6, 6, 1, 16, 18, 1, 2, 15, 17, 2, 7, 1, 4, 8, 13, 15, 16, 12, 13, 12, 6, 8, 10, 14, 4, 5, 18, 5, 6, 2, 3, 11, 17, 3, 2, 7, 12, 17, 10, 5, 12, 13, 12, 1, 7, 9, 5, 6, 11, 3, 10, 12, 1, 10, 9, 10, 2, 17, 8, 5, 1, 14, 4, 8, 14, 8, 8, 4, 12, 13, 2, 2, 7, 8, 15, 3, 1, 4, 5, 7, 16, 9, 2, 2, 3, 12, 1, 16, 1, 13, 14, 9, 15, 18, 16, 10, 14, 15, 19, 11, 19, 6, 18, 3, 3, 5, 13, 12, 5, 18, 1, 2, 7, 10, 12, 13, 16, 11, 11, 8, 4, 6, 1, 2, 4, 16, 1, 2, 5, 7, 10, 19, 1, 6, 7, 12, 19, 1, 4, 10, 12, 14, 16, 3, 6, 18, 14, 14, 14, 14, 3, 5, 18, 3, 13, 1, 16, 14, 6, 8, 9, 11, 18, 7, 7, 11, 6, 3, 2, 7, 3, 11, 6, 2, 6, 9, 14, 10, 14, 1, 2, 7, 12, 15, 17, 11, 1, 16, 11, 10, 11, 13, 2, 6, 18, 12, 1, 4, 6, 7, 13, 16, 3, 8, 12, 4, 12, 10, 11, 4, 7, 11, 13, 15, 2, 2, 16, 3, 6, 19, 2, 11, 2, 17, 11, 2, 7, 8, 9, 10, 18, 5, 10, 12, 18, 9, 5, 8, 9, 9, 9, 19, 14, 9, 1, 2, 6, 7, 9, 10, 12, 13, 14, 16, 13, 12, 12, 12, 1, 16, 1, 4, 18, 3, 1, 16, 1, 2, 4, 12, 16, 2, 1, 16, 1, 16, 8, 8, 1, 3, 5, 9, 10, 13, 1, 4, 7, 12, 9, 9, 11, 19, 12, 8, 18, 14, 2, 17, 7, 12, 9, 2, 5, 10, 15, 17, 18, 3, 4, 1, 5, 8, 12, 16, 19, 1, 2, 7, 13, 14, 7, 2, 18, 2, 12, 17, 2, 17, 5, 11, 14, 3, 4, 5, 8, 19, 14, 12, 2, 17, 12, 9, 14, 5, 13, 14, 9, 1], \"Freq\": [0.6304503158963478, 0.3636790054129163, 0.7273580108258326, 1.273631259872218, 0.3657201007084395, 0.3657201007084395, 0.7064557296264617, 0.5173026088650112, 0.5173026088650112, 0.7604815544031615, 0.6275554055911704, 0.5967792704824613, 1.0455537853626515, 0.6907237318948655, 0.2528872507151493, 0.5057745014302986, 0.2528872507151493, 0.7006219359353993, 0.7604815544031615, 0.7750911563093057, 0.5376426979681517, 0.5376426979681517, 0.3627724173751731, 0.3627724173751731, 1.6970822240201016, 0.7750911563093057, 0.7750911563093057, 0.46939761874376823, 0.46939761874376823, 0.3995090892435144, 0.3995090892435144, 0.7242903394320859, 0.6907237318948655, 0.6504295194332114, 0.8329807118802084, 0.4164903559401042, 0.7023613519785716, 0.7861559383117244, 0.4905591764149796, 0.5446760209955578, 0.5446760209955578, 1.273631259872218, 0.6907237318948655, 0.7378334123382091, 0.7750911563093057, 0.49636134529770826, 0.7006219359353993, 0.5179139030358754, 0.5179139030358754, 0.7604815544031615, 0.7006219359353993, 0.14915419423203333, 0.14915419423203333, 0.29830838846406665, 0.14915419423203333, 0.8782918503961206, 0.3275135450587994, 0.3275135450587994, 0.3275135450587994, 0.7750911563093057, 0.7052423983926578, 0.5941074403603451, 1.0269985358140425, 0.49344515020454094, 0.49344515020454094, 0.7281138054405545, 0.5497046264519492, 0.5497046264519492, 0.7486057332987022, 1.0165635817141399, 1.9439086200570928, 0.15885344307557997, 0.15885344307557997, 0.15885344307557997, 0.31770688615115994, 0.31770688615115994, 0.3269322152280265, 0.16346610761401326, 0.16346610761401326, 0.16346610761401326, 0.16346610761401326, 1.273631259872218, 0.17279947642272106, 0.17279947642272106, 0.17279947642272106, 0.3455989528454421, 0.23728043519282327, 0.23728043519282327, 0.11864021759641163, 0.11864021759641163, 0.11864021759641163, 0.11864021759641163, 0.22048983026668978, 0.22048983026668978, 0.11024491513334489, 0.22048983026668978, 0.11024491513334489, 1.275524127419854, 0.557864417833676, 0.557864417833676, 0.5464988253468281, 0.429064042937079, 0.2145320214685395, 0.2145320214685395, 0.7006544338100701, 0.7750911563093057, 0.500422309031154, 0.26458966313845456, 0.13229483156922728, 0.13229483156922728, 0.13229483156922728, 0.13229483156922728, 0.23320448082765252, 0.11660224041382626, 0.23320448082765252, 0.34980672124147877, 0.8558609885031544, 0.17279021180097595, 0.17279021180097595, 0.08639510590048798, 0.08639510590048798, 0.08639510590048798, 0.08639510590048798, 0.08639510590048798, 0.3343485007740022, 0.3343485007740022, 0.8909447317465048, 0.5327234519098645, 0.07357923652692243, 0.14715847305384486, 0.14715847305384486, 0.14715847305384486, 0.14715847305384486, 0.07357923652692243, 0.14715847305384486, 0.07357923652692243, 0.07357923652692243, 1.2892105286905293, 0.5256936854942422, 0.5256936854942422, 0.6907237318948655, 1.1038207540868248, 1.7058557778652024, 1.2892105286905293, 0.5376145660988066, 0.45576382917990155, 0.22788191458995077, 0.22788191458995077, 1.2892105286905293, 1.273631259872218, 0.16755380969635036, 0.33510761939270073, 0.16755380969635036, 0.16755380969635036, 0.16755380969635036, 0.5384441044105416, 0.1794813681368472, 0.1794813681368472, 1.7058557778652024, 0.6265007496617042, 0.7331118168985041, 0.7703355800761011, 0.5188940472774445, 0.5188940472774445, 0.5176467204075309, 0.5176467204075309, 0.31830605765650855, 0.15915302882825427, 0.31830605765650855, 0.15915302882825427, 0.15915302882825427, 0.49907696655919515, 0.15860778005329784, 0.15860778005329784, 0.15860778005329784, 0.15860778005329784, 0.07930389002664892, 0.07930389002664892, 0.07930389002664892, 0.07930389002664892, 1.2892105286905293, 0.3715445239631726, 0.3715445239631726, 0.1857722619815863, 0.507895779607283, 0.507895779607283, 1.9439086200570928, 0.7006219359353993, 0.2418057427941937, 0.12090287139709685, 0.12090287139709685, 0.12090287139709685, 0.2418057427941937, 0.12090287139709685, 0.12090287139709685, 1.7058557778652024, 1.360881393594398, 0.3436162866189139, 0.3436162866189139, 0.17180814330945696, 1.099831843951159, 0.7750911563093057, 1.273631259872218, 0.7750911563093057, 0.6792867272766133, 0.3502094020450898, 0.3502094020450898, 0.6031961068536694, 0.6469650998210008, 0.7006219359353993, 0.7701803077890712, 0.3850901538945356, 0.545129244394328, 0.545129244394328, 0.6907237318948655, 0.6082421464843335, 1.360881393594398, 0.3463915324541861, 0.17319576622709304, 0.17319576622709304, 1.9439086200570928, 1.2538591919843554, 0.6574708729383543, 0.2601197301483297, 0.13005986507416484, 0.2601197301483297, 0.2601197301483297, 0.13005986507416484, 0.46002492744992335, 0.46002492744992335, 0.5304512573663519, 0.5304512573663519, 1.0528851713110112, 0.23671600329863784, 0.4734320065972757, 0.23671600329863784, 0.6106327690515041, 1.067310115488948, 0.4551827532393257, 0.4551827532393257, 1.099831843951159, 1.099831843951159, 0.4157346142468356, 0.4157346142468356, 0.2455015218558019, 0.12275076092790095, 0.12275076092790095, 0.12275076092790095, 0.2455015218558019, 0.12275076092790095, 0.12275076092790095, 1.273631259872218, 0.8205541198094197, 0.26089547314018074, 0.5217909462803615, 0.26089547314018074, 0.5363268633316921, 0.5363268633316921, 0.8246152035989648, 0.4523594839326167, 0.4523594839326167, 0.7516413164803967, 0.37582065824019834, 0.2559215415847214, 0.1279607707923607, 0.1279607707923607, 0.1279607707923607, 0.1279607707923607, 0.1279607707923607, 0.5051317801321624, 0.5051317801321624, 0.5022345891775458, 1.0115948054317223, 0.20388517712999638, 0.20388517712999638, 0.40777035425999275, 0.20388517712999638, 0.8558609885031544, 0.5101449547973059, 0.5101449547973059, 1.0324171153401194, 1.0165635817141399, 1.6970822240201016, 0.6907237318948655, 1.7155695111326432, 1.5885456395164643, 0.8748545632430184, 0.8748545632430184, 0.9446746306413669, 0.5442311697086911, 0.27211558485434556, 0.7604815544031615, 0.7281138054405545, 0.5307547401354085, 0.5307547401354085, 0.283626750032087, 0.283626750032087, 0.283626750032087, 0.1418133750160435, 0.1418133750160435, 1.7058557778652024, 0.7750911563093057, 0.7604815544031615, 1.7058557778652024, 0.5035521381646088, 0.5035521381646088, 0.7750911563093057, 0.7006219359353993, 1.0310912140143145, 1.0376499399066768, 0.7006219359353993, 0.3878524737285397, 0.37920774122825013, 0.7584154824565003, 1.7058557778652024, 0.9647169587746507, 1.067310115488948, 0.706402890082263, 0.7207194398365745, 1.099831843951159, 0.7861559383117244, 0.48804139260928553, 1.360881393594398, 0.672021067094484, 0.8558609885031544, 0.7604815544031615, 0.3978155934891476, 0.3978155934891476, 0.1989077967445738, 0.40166255477818297, 0.8381824826874157, 0.6907237318948655, 0.5965340805712323, 0.6907237318948655, 0.20447855943972215, 0.20447855943972215, 0.10223927971986108, 0.20447855943972215, 0.10223927971986108, 0.10223927971986108, 0.18914692613901327, 0.18914692613901327, 0.18914692613901327, 0.37829385227802653, 0.18914692613901327, 0.14180073853874808, 0.28360147707749617, 0.14180073853874808, 0.28360147707749617, 0.14180073853874808, 0.8782918503961206, 0.8258069074645729, 0.7604815544031615, 1.322465667459594, 0.7604815544031615, 1.2892105286905293, 0.9461626001047407, 0.7610471503414465, 0.6188334227043378, 0.5213710909516471, 0.5213710909516471, 0.7750911563093057, 0.7604815544031615, 0.773518908158224, 0.9450461840781732, 0.7031125481901974, 1.273631259872218, 0.6159424333049491, 0.8748545632430184, 0.5676009122358696, 0.20784162154123909, 0.20784162154123909, 0.20784162154123909, 0.20784162154123909, 0.3112527089014075, 0.3112527089014075, 0.3112527089014075, 0.610022848079897, 0.6234322637312326, 0.27975090901607025, 0.5595018180321405, 0.5287992814170196, 0.6907237318948655, 0.37842122517917814, 0.18921061258958907, 0.18921061258958907, 0.18921061258958907, 0.604560261353584, 0.512009066854118, 1.6970822240201016, 0.5468272104478706, 0.5468272104478706, 0.7750911563093057, 0.7568543156875374, 0.23471066151406728, 0.23471066151406728, 0.23471066151406728, 0.23471066151406728, 0.7604815544031615, 0.2445362997884503, 0.2445362997884503, 0.2445362997884503, 0.2445362997884503, 0.7006219359353993, 0.7006219359353993, 0.21249119757254806, 0.21249119757254806, 0.21249119757254806, 0.21249119757254806, 0.9944936797295517, 0.4933952932640927, 0.3457210310375149, 0.3457210310375149, 0.3457210310375149, 0.6240490580998715, 0.9431913338984982, 0.3674327224988603, 0.3674327224988603, 1.6970822240201016, 0.7604815544031615, 0.548767932646712, 0.548767932646712, 0.23039852524384635, 0.4607970504876927, 0.23039852524384635, 1.099831843951159, 0.15242705386467809, 0.15242705386467809, 0.15242705386467809, 0.45728116159403426, 0.4246963090016889, 0.21234815450084446, 1.0258105898665069, 1.273631259872218, 0.7750911563093057, 0.4625453556734923, 0.23127267783674615, 1.273631259872218, 0.16502197100448832, 0.33004394200897663, 0.16502197100448832, 0.16502197100448832, 0.11546035674971951, 0.23092071349943902, 0.11546035674971951, 0.23092071349943902, 0.11546035674971951, 0.11546035674971951, 1.2892105286905293, 0.5878333276733572, 0.2939166638366786, 0.2939166638366786, 1.360881393594398, 0.9511100893913147, 0.9593200772121048, 0.20831475182646128, 0.20831475182646128, 0.20831475182646128, 0.10415737591323064, 0.10415737591323064, 0.10415737591323064, 0.10415737591323064, 0.18431532347675064, 0.18431532347675064, 0.18431532347675064, 0.18431532347675064, 0.09215766173837532, 0.09215766173837532, 0.09215766173837532, 0.7006219359353993, 1.2892105286905293, 1.2892105286905293, 0.7861559383117244, 1.7058557778652024, 0.7604815544031615, 0.8558609885031544, 0.1640658304424449, 0.10937722029496326, 0.10937722029496326, 0.05468861014748163, 0.10937722029496326, 0.05468861014748163, 0.05468861014748163, 0.10937722029496326, 0.05468861014748163, 0.05468861014748163, 0.9367204942291915, 0.2956488016267868, 0.5912976032535736, 0.5888654230397085, 0.29443271151985423, 1.273631259872218, 0.70762651000273, 1.099831843951159, 0.250785384656069, 0.501570769312138, 0.19572589522642625, 0.19572589522642625, 0.3914517904528525, 1.9439086200570928, 0.26466555590122914, 0.26466555590122914, 0.26466555590122914, 0.7610471503414465, 0.4309127813240184, 0.2154563906620092, 0.9709774476879951, 0.7604815544031615, 0.8782918503961206, 0.15228708721338405, 0.15228708721338405, 0.05076236240446135, 0.05076236240446135, 0.05076236240446135, 0.1015247248089227, 0.1015247248089227, 0.1015247248089227, 0.15228708721338405, 0.05076236240446135, 0.05076236240446135, 0.33661178957673393, 0.16830589478836697, 0.16830589478836697, 1.2892105286905293, 0.6438441644611059, 1.7058557778652024, 0.7750911563093057, 0.6219874425871683, 0.5489866150969634, 0.6781911408308019, 0.21680364073056457, 0.43360728146112915, 0.43360728146112915, 0.7005193182727646, 0.7750911563093057, 0.6907237318948655, 1.360881393594398, 0.6129724174472438, 0.8782918503961206, 0.3431094951058621, 0.6862189902117242, 0.19626182947879728, 0.09813091473939864, 0.09813091473939864, 0.19626182947879728, 0.09813091473939864, 0.09813091473939864, 0.09813091473939864, 0.33284668718973975, 0.33284668718973975, 0.7070014015705444, 0.48110618624073453, 0.4888787721112655, 0.24443938605563276, 0.24443938605563276, 1.0022927854995412, 0.7180929378769069, 1.9439086200570928, 1.2892105286905293, 1.2892105286905293, 0.47864988857116586, 0.47864988857116586, 1.6970822240201016, 0.4366780393890715, 0.4366780393890715, 0.21833901969453576, 0.7750911563093057, 1.7058557778652024, 0.5187282994007139, 0.5187282994007139, 1.9439086200570928, 0.223626903486392, 0.670880710459176, 0.7750911563093057, 1.9439086200570928, 0.7013363002184988, 0.3285535132214055, 0.16427675661070276, 0.16427675661070276, 1.2892105286905293, 0.7006219359353993, 1.2892105286905293, 0.49589268281210347, 0.7192693765225971, 1.0209053894248812, 0.49520991283783816, 0.49520991283783816, 0.7828399558845823, 0.39141997794229116, 0.7750911563093057, 0.40172266228086545, 1.2892105286905293, 0.7040857134036149, 0.29487060668092624, 0.29487060668092624, 0.29487060668092624, 0.6907237318948655, 0.8782918503961206, 0.36107085523097726, 0.36107085523097726, 1.7058557778652024, 0.24765956567068628, 0.24765956567068628, 0.24765956567068628, 0.21672197790236775, 0.4334439558047355, 0.21672197790236775, 1.2669375544441794, 0.328060298688748, 0.656120597377496, 0.14962167270054455, 0.2992433454010891, 0.14962167270054455, 0.2992433454010891, 0.14962167270054455, 0.21622991895855762, 0.21622991895855762, 0.43245983791711523, 0.7070014015705444, 0.7298249819223701, 0.4186748641676663, 0.20933743208383315, 0.4186748641676663, 0.7070014015705444, 1.2892105286905293, 1.7058557778652024, 0.5360273053138391, 0.5360273053138391, 0.5979476236658225, 0.7861559383117244, 0.4298302998805194, 0.2149151499402597, 0.26926947333124823, 0.13463473666562412, 0.13463473666562412, 0.13463473666562412, 0.13463473666562412, 0.13463473666562412, 0.8572159074394182, 0.4286079537197091, 0.7610471503414465, 0.6039362465136876, 0.672021067094484, 0.7281138054405545, 1.273631259872218, 1.360881393594398, 1.9439086200570928, 0.18636469394728797, 0.18636469394728797, 0.18636469394728797, 0.18636469394728797, 0.44921283258223127, 0.44921283258223127, 0.7750911563093057, 0.15828784552120015, 0.07914392276060007, 0.23743176828180024, 0.07914392276060007, 0.15828784552120015, 0.07914392276060007, 0.07914392276060007, 0.4578486714299767, 0.22892433571498835, 0.22892433571498835, 0.8748545632430184, 0.4301587035096395, 0.21507935175481974, 0.21507935175481974, 0.44242959806333315, 0.44242959806333315, 0.22121479903166658, 0.5695552883526879, 1.273631259872218, 1.2892105286905293, 0.1857675322361271, 0.1857675322361271, 0.1857675322361271, 0.1857675322361271, 0.5396484789118156, 0.5396484789118156, 0.2540932253285387, 0.5081864506570773, 0.2540932253285387, 1.7058557778652024, 0.7069823810395388, 0.44109675328677134, 0.44109675328677134, 0.6366442201790272, 0.6642167607606879, 0.7099607593513328, 0.7861559383117244, 0.7861559383117244, 0.7861559383117244, 0.7538600980794401, 0.5070348050346181, 0.25351740251730903, 0.25351740251730903, 0.18436838696500815, 0.09218419348250408, 0.09218419348250408, 0.09218419348250408, 0.18436838696500815, 0.09218419348250408, 0.09218419348250408, 0.09218419348250408, 0.6907237318948655, 0.597814591168212, 0.05668637644407313, 0.11337275288814626, 0.1700591293322194, 0.05668637644407313, 0.05668637644407313, 0.05668637644407313, 0.11337275288814626, 0.11337275288814626, 0.11337275288814626, 0.05668637644407313, 0.05668637644407313, 0.05668637644407313, 0.7130456681771539, 0.8782918503961206, 0.642260042578529, 0.8748545632430184, 0.20687235928965905, 0.20687235928965905, 0.20687235928965905, 0.20687235928965905, 0.7604815544031615, 0.7604815544031615, 0.3629845497821385, 0.725969099564277, 0.8558609885031544, 0.19366158933196592, 0.38732317866393184, 0.19366158933196592, 1.2892105286905293, 0.7466138237102521, 1.2892105286905293, 0.7006219359353993, 0.40645229790411447, 0.40645229790411447, 0.8748545632430184, 1.273631259872218, 1.2892105286905293, 0.42183360687284494, 0.8436672137456899, 0.1851853703696527, 0.5555561111089582, 0.1851853703696527, 0.1851853703696527, 0.1851853703696527, 0.49947532395860805, 0.6094208569197183, 0.5352224250016492, 0.5352224250016492, 0.5092224856098015, 1.273631259872218, 0.7861559383117244, 1.273631259872218, 0.6907237318948655, 0.30899765752681463, 0.30899765752681463, 0.30899765752681463, 0.7013363002184988, 0.7610471503414465, 0.9382257106043131, 1.0540524765831656, 1.273631259872218, 0.6052983301302495, 1.2892105286905293, 0.5469280214646849, 0.5469280214646849, 0.3451158201824959, 0.3451158201824959, 1.7058557778652024, 0.7750911563093057, 0.4348524466756062, 0.4348524466756062, 0.2174262233378031, 1.0224173448776215, 0.8748545632430184, 0.6907237318948655, 0.5758194503215788, 0.2879097251607894, 0.2879097251607894, 1.1559792602883763, 1.360881393594398, 0.2893244099729572, 0.1446622049864786, 0.1446622049864786, 0.1446622049864786, 0.1446622049864786, 1.2892105286905293, 0.6346908753981574, 0.14650838269651356, 0.14650838269651356, 0.14650838269651356, 0.2930167653930271, 0.2930167653930271, 0.2352637480725484, 0.2352637480725484, 0.2352637480725484, 0.2352637480725484, 1.7058557778652024, 0.16691613010086284, 0.3338322602017257, 0.16691613010086284, 0.16691613010086284, 0.16691613010086284, 1.5316777555978096, 0.2968096845154702, 0.5936193690309404, 0.2968096845154702, 0.7604815544031615, 0.7861559383117244, 0.12282370789509549, 0.24564741579019098, 0.12282370789509549, 0.12282370789509549, 0.12282370789509549, 0.12282370789509549, 0.12282370789509549, 0.1921189423668392, 0.3842378847336784, 0.3842378847336784, 0.14336985220705145, 0.07168492610352573, 0.14336985220705145, 0.07168492610352573, 0.14336985220705145, 0.14336985220705145, 0.07168492610352573, 0.07168492610352573, 0.07168492610352573, 0.5623008269733382, 0.2811504134866691, 0.9682677083266247, 0.7007706034526064, 0.5232226953174862, 0.5232226953174862, 1.6970822240201016, 0.7604815544031615, 0.7604815544031615, 0.7006219359353993, 0.7568543156875374, 1.2892105286905293, 0.22736715950951372, 0.22736715950951372, 0.22736715950951372, 0.11368357975475686, 0.11368357975475686, 0.7237806037280015, 0.6162952629569928, 0.8748545632430184, 0.7527074270447612, 0.4404883852773529, 0.4404883852773529, 0.7864426133001164, 0.5232832527556814, 0.21384285636512027, 0.21384285636512027, 0.21384285636512027, 0.21384285636512027, 0.7604815544031615, 0.22229765666184176, 0.22229765666184176, 0.14819843777456118, 0.07409921888728059, 0.07409921888728059, 0.14819843777456118, 0.07409921888728059, 1.2603644467255743, 0.4547522938620639, 0.22737614693103195, 0.22737614693103195, 0.4440926279744477, 0.4440926279744477, 1.2235363932561836, 1.273631259872218, 0.6907237318948655, 0.5274428592897706, 0.5274428592897706, 0.7861559383117244, 1.2892105286905293, 0.7006219359353993, 1.2892105286905293, 0.7610471503414465, 1.273631259872218, 1.9439086200570928, 0.7604815544031615, 0.2046525655193055, 0.2046525655193055, 0.409305131038611, 1.2892105286905293, 0.8205541198094197, 1.2892105286905293, 0.18970217710382498, 0.18970217710382498, 0.09485108855191249, 0.18970217710382498, 0.09485108855191249, 0.09485108855191249, 0.09485108855191249, 0.5390000236661823, 0.5390000236661823, 0.6435373901476129, 1.2538591919843554, 0.5766105453470016, 0.6574708729383543, 0.6011773043147868, 0.3005886521573934, 0.6907237318948655, 0.46640235201537117, 0.7604815544031615, 0.24073685754346338, 0.48147371508692677, 0.24073685754346338, 0.8748545632430184, 0.7750911563093057, 0.7937308398452423, 0.7070014015705444, 0.28207442901199886, 0.14103721450599943, 0.28207442901199886, 0.28207442901199886, 0.14103721450599943, 0.7861559383117244, 0.342296533909638, 0.342296533909638, 0.342296533909638, 0.171148266954819, 0.8627355869622316, 0.5000574189274614, 0.6907237318948655, 0.6907237318948655, 0.724094117969554, 0.24136470598985135, 0.7486057332987022, 0.4988063797739974, 0.2494031898869987, 0.8748545632430184, 0.8782918503961206, 0.2772299887273001, 0.2772299887273001, 0.2772299887273001, 0.7750911563093057, 0.8558609885031544, 1.273631259872218, 0.688072091958622, 0.7861559383117244, 0.4178976513408269, 0.4178976513408269, 0.4178976513408269, 0.7861559383117244, 0.5095828967125233, 0.5095828967125233, 0.2572902056664112, 0.2572902056664112, 0.2572902056664112, 0.1286451028332056, 0.1286451028332056, 0.4341506455260805, 0.6512259682891208, 0.5773191972395246, 0.2886595986197623, 1.273631259872218, 0.346670765714122, 0.346670765714122, 0.4135216098112235, 0.4135216098112235, 0.19726214163861572, 0.19726214163861572, 0.19726214163861572, 0.19726214163861572, 0.39452428327723144, 0.22823441923925125, 0.22823441923925125, 0.22823441923925125, 0.2277364972093979, 0.2277364972093979, 0.2277364972093979, 0.2277364972093979, 0.4683529116299142, 0.4683529116299142, 0.5105069301264057, 0.5389831567740734, 0.7861559383117244, 0.7180929378769069, 0.23184468160246666, 0.11592234080123333, 0.11592234080123333, 0.23184468160246666, 0.11592234080123333, 0.11592234080123333, 0.3258222088042131, 0.3258222088042131, 0.3258222088042131, 0.3666587473235732, 0.1833293736617866, 0.1833293736617866, 0.1833293736617866, 0.3666587473235732, 0.4141338271761222, 0.2070669135880611, 0.4141338271761222, 0.08939652430045558, 0.17879304860091116, 0.08939652430045558, 0.26818957290136675, 0.08939652430045558, 0.17879304860091116, 0.7409006845032994, 0.3704503422516497, 0.6122424959631995, 0.4106229266180696, 0.4106229266180696, 0.24980952690373237, 0.7494285807111971, 0.7750911563093057, 0.9942346196550336, 0.4938758940478956, 0.28304291220490185, 0.14152145610245093, 0.28304291220490185, 0.28304291220490185, 0.7006219359353993, 0.7070014015705444, 0.33940885884551614, 0.6788177176910323, 0.18366509218661464, 0.18366509218661464, 0.09183254609330732, 0.09183254609330732, 0.18366509218661464, 0.09183254609330732, 0.09183254609330732, 0.09183254609330732, 0.09183254609330732, 0.4160493991286007, 0.4160493991286007, 0.5002359092320589, 0.5002359092320589, 0.7698560847011732, 0.7604815544031615, 0.7604815544031615, 1.099831843951159, 0.7237806037280015, 0.6907237318948655, 0.706402890082263, 0.49271950835505846, 0.3633929473807596, 0.1816964736903798, 0.1816964736903798, 0.7006219359353993, 0.7070014015705444, 1.1383652171149825, 0.0989110465648303, 0.1978220931296606, 0.2967331396944909, 0.0989110465648303, 0.1978220931296606, 0.0989110465648303, 0.4855962947328561, 0.288960334167655, 0.1444801670838275, 0.288960334167655, 0.288960334167655, 1.6970822240201016, 0.6962386633624355, 0.5590187510062853, 0.27950937550314264, 0.27950937550314264, 0.26039511287855005, 0.08679837095951669, 0.17359674191903338, 0.08679837095951669, 0.17359674191903338, 0.08679837095951669, 0.17359674191903338, 0.08679837095951669, 1.9439086200570928, 1.0310912140143145, 0.7013363002184988, 0.7750911563093057, 1.0165635817141399, 0.19570561864838007, 0.19570561864838007, 0.19570561864838007, 0.19570561864838007, 1.2603644467255743, 1.9439086200570928, 1.2735795823151839, 1.2892105286905293, 0.2297518829114292, 0.1148759414557146, 0.1148759414557146, 0.1148759414557146, 0.1148759414557146, 0.2297518829114292, 0.5447696993769068, 0.7111903944168744, 0.512797292303737, 0.512797292303737, 0.7604815544031615, 1.9439086200570928, 0.559091619111114, 0.279545809555557, 0.279545809555557, 0.8558609885031544, 0.6907237318948655, 0.6732826708077373, 0.33664133540386865, 1.273631259872218, 0.7750911563093057, 0.7861559383117244, 1.281754715654917, 0.2900484114332024, 0.2900484114332024, 0.2900484114332024, 0.6907237318948655, 0.7006219359353993, 0.6475046205072295, 1.2892105286905293, 1.0488880913640755, 0.5003194712529405, 0.5773811635864317, 0.5773811635864317, 0.6324801871447676, 0.24957602006462457, 0.7487280601938737, 0.7200294430641891, 0.26664342094120863, 0.0888811403137362, 0.0888811403137362, 0.0888811403137362, 0.0888811403137362, 0.0888811403137362, 0.1777622806274724, 0.0888811403137362, 0.27345272427157796, 0.27345272427157796, 0.27345272427157796, 0.7568543156875374, 0.44427110155744254, 0.22213555077872127, 0.22213555077872127, 0.22213555077872127, 0.8558609885031544, 0.7750911563093057, 0.1597221210975806, 0.1597221210975806, 0.1597221210975806, 0.0798610605487903, 0.0798610605487903, 0.23958318164637094, 0.0798610605487903, 0.2608676464319425, 0.13043382321597125, 0.13043382321597125, 0.13043382321597125, 0.13043382321597125, 0.13043382321597125, 1.0251358863073872, 0.8748545632430184, 0.8225328735739444, 0.5300059696270522, 0.3858840614594134, 0.3858840614594134, 1.2892105286905293, 1.084166152251201, 0.539333984058584, 0.539333984058584, 0.4988452178357811, 0.4988452178357811, 0.7808827942013423, 0.39044139710067116, 0.7861559383117244, 0.7070014015705444, 0.777470208607453, 0.24814624159893856, 0.24814624159893856, 0.24814624159893856, 0.7604815544031615, 0.5890601326267774, 0.1963533775422591, 0.1963533775422591, 0.35101279494752313, 0.17550639747376157, 0.35101279494752313, 0.20645897153675052, 0.20645897153675052, 0.41291794307350105, 0.20645897153675052, 1.099831843951159, 0.26997043234627427, 0.26997043234627427, 0.26997043234627427, 0.7043786548296981, 0.5298231649096958, 0.2649115824548479, 0.2649115824548479, 0.569217031637387, 0.569217031637387, 0.4035348201654188, 0.4035348201654188, 0.1162875255458667, 0.2325750510917334, 0.1162875255458667, 0.2325750510917334, 0.1162875255458667, 0.1162875255458667, 0.3458369570657032, 0.3458369570657032, 0.11527898568856773, 0.11527898568856773, 1.273631259872218, 1.273631259872218, 0.7199594127200611, 0.35997970636003057, 0.6073207009740749, 1.2538591919843554, 1.2892105286905293, 1.099831843951159, 0.5494352955381259, 0.5494352955381259, 0.7976079265088705, 0.7070014015705444, 0.6469650998210008, 0.45685595594835166, 0.22842797797417583, 0.7861559383117244, 0.614515556480336, 0.7006219359353993, 1.2892105286905293, 0.7070014015705444, 0.7006219359353993, 0.7019750651650029, 1.090082021940439, 1.7058557778652024, 0.7861559383117244, 0.8748545632430184, 0.7006219359353993, 0.6907237318948655, 0.6494133084931613, 0.09827669439500769, 0.09827669439500769, 0.09827669439500769, 0.19655338879001538, 0.19655338879001538, 0.19655338879001538, 0.09827669439500769, 0.32883824886988827, 0.32883824886988827, 1.9439086200570928, 0.9641104837910165, 1.0191863310753964, 0.156076164674614, 0.078038082337307, 0.156076164674614, 0.156076164674614, 0.078038082337307, 0.156076164674614, 0.078038082337307, 0.078038082337307, 0.869207253899297, 0.36144303499649194, 0.36144303499649194, 0.36144303499649194, 0.2018231557772663, 0.2018231557772663, 0.4036463115545326, 0.2018231557772663, 1.360881393594398, 0.7013363002184988, 0.7006219359353993, 0.5273837941982062, 0.5273837941982062, 0.33825073251128646, 0.33825073251128646, 0.16912536625564323, 0.16912536625564323, 0.7070014015705444, 0.20367585212060535, 0.4073517042412107, 0.4073517042412107, 1.273631259872218, 0.5083697740139271, 0.5083697740139271, 0.8782918503961206, 1.2603644467255743, 1.0660319360815727, 1.2538591919843554, 0.2904848868387698, 0.2904848868387698, 0.2904848868387698, 0.9386002799060519, 0.5781066955418508, 0.9465353251717046, 1.2892105286905293, 0.5695673578564443, 0.21807925119914107, 0.43615850239828213, 0.21807925119914107, 0.5534257649471466, 0.5534257649471466, 1.0035472651565303, 0.7527074270447612, 0.7111368442651124, 0.8748545632430184, 0.6401458100052823, 0.7604815544031615, 0.7750911563093057, 0.6158329893827217, 0.6127795706434862, 0.6907237318948655, 1.0160464519833021, 0.6907237318948655, 0.6907237318948655, 1.2892105286905293, 0.8714440755739522, 0.5457238313337779, 0.07321172771848926, 0.29284691087395703, 0.07321172771848926, 0.14642345543697852, 0.14642345543697852, 0.07321172771848926, 0.07321172771848926, 0.07321172771848926, 0.1955041035637544, 0.0977520517818772, 0.1955041035637544, 0.0977520517818772, 0.1955041035637544, 0.0977520517818772, 0.1955041035637544, 0.44369746204474075, 0.1478991540149136, 0.1478991540149136, 0.1478991540149136, 1.2892105286905293, 0.7861559383117244, 0.23403298243239898, 0.46806596486479796, 0.23403298243239898, 0.7281138054405545, 0.4777545387198777, 0.4777545387198777, 0.4890537351937004, 0.4890537351937004, 0.7604815544031615, 0.7062966871934468, 1.273631259872218, 0.7604815544031615, 0.3449996893083701, 0.6899993786167402, 0.4907738670451743, 0.6907237318948655, 0.8782918503961206, 0.9821068488863077, 1.0380005881657848, 0.6907237318948655, 0.7006219359353993, 0.18470884063402251, 0.36941768126804503, 0.18470884063402251, 0.18470884063402251, 0.7434771253412493, 0.7013363002184988, 0.6962386633624355, 0.7750911563093057, 1.273631259872218, 0.7861559383117244, 0.7383791398716568, 0.3691895699358284, 1.9439086200570928, 0.5107115146633834, 0.5107115146633834, 1.2892105286905293, 0.23363153655711594, 0.23363153655711594, 0.23363153655711594, 0.11681576827855797, 0.11681576827855797, 0.7861559383117244, 1.2623902141147536, 0.8714440755739522, 0.5662146920981151, 0.5662146920981151, 0.7006219359353993, 1.2892105286905293, 1.2892105286905293, 1.2892105286905293, 0.6907237318948655, 0.25661665878633705, 0.25661665878633705, 0.25661665878633705, 0.7604815544031615, 0.2899422782232603, 0.2899422782232603, 0.14497113911163015, 0.14497113911163015, 0.6952486083170946, 0.5156460537365902, 0.5156460537365902, 0.7604815544031615, 1.2892105286905293, 0.7070014015705444, 1.2892105286905293, 1.0204913223423044, 1.9439086200570928, 0.48749854491467115, 0.606751780339286, 0.20687661441647384, 0.20687661441647384, 0.4137532288329477, 0.20687661441647384, 0.10567790201725896, 0.10567790201725896, 0.21135580403451792, 0.10567790201725896, 0.21135580403451792, 0.21135580403451792, 0.10567790201725896, 0.5784181762833549, 0.6968945241030637, 0.13689109526735488, 0.13689109526735488, 0.13689109526735488, 0.13689109526735488, 0.27378219053470976, 0.13689109526735488, 1.1189324635876268, 0.18689912193219754, 0.3737982438643951, 0.18689912193219754, 0.18689912193219754, 0.4993732027486365, 0.24968660137431825, 0.24968660137431825, 1.7058557778652024, 0.18487827019413214, 0.09243913509706607, 0.09243913509706607, 0.09243913509706607, 0.18487827019413214, 0.09243913509706607, 0.09243913509706607, 0.39990591203099163, 0.39990591203099163, 0.19995295601549581, 0.4660086130456106, 0.7070014015705444, 0.14004774170745143, 0.14004774170745143, 0.14004774170745143, 0.14004774170745143, 0.14004774170745143, 0.30310774396485746, 0.30310774396485746, 0.30310774396485746, 0.3664711154252538, 0.7329422308505076, 0.09719480143588279, 0.19438960287176557, 0.29158440430764837, 0.19438960287176557, 0.09719480143588279, 0.09719480143588279, 0.09719480143588279, 0.75406207194885, 1.0065490242140318, 0.13640648598258312, 0.13640648598258312, 0.13640648598258312, 0.06820324299129156, 0.06820324299129156, 0.06820324299129156, 0.13640648598258312, 0.06820324299129156, 0.06820324299129156, 0.06820324299129156, 1.0310912140143145, 0.7610471503414465, 0.7750911563093057, 0.5292037122188662, 0.5292037122188662, 0.8885267807660117, 0.7070014015705444, 0.7050732650084134, 0.7058237557893411, 0.5445656184934671, 0.5445656184934671, 0.48050675481811334, 0.48050675481811334, 0.24025337740905667, 1.2892105286905293, 1.273631259872218, 1.273631259872218, 0.4454553989831877, 0.4454553989831877, 0.7136085640915528, 0.24204720403809604, 0.4840944080761921, 0.24204720403809604, 1.6970822240201016, 1.9439086200570928, 0.7006219359353993, 1.2538591919843554, 0.7013363002184988, 0.48161321282680936, 0.16053773760893647, 0.16053773760893647, 0.16053773760893647, 1.2603644467255743, 0.8983693200131029, 0.6907237318948655, 0.2884936975316592, 0.2884936975316592, 0.7604815544031615, 1.360881393594398, 0.9446746306413669, 0.5318671471505979, 0.9469083440121149, 0.7671288235209894, 0.3835644117604947, 0.7486057332987022, 0.7070014015705444, 1.2892105286905293, 0.90952662304651, 1.2538591919843554, 0.7568543156875374, 0.5479647001098036, 0.7006219359353993, 1.2017992869535958, 0.5621576667250776, 0.5621576667250776, 0.5155655882339925, 0.5155655882339925, 0.4346740759677059, 0.4346740759677059, 0.8558609885031544, 0.7527074270447612, 1.9439086200570928, 0.3571681007383579, 0.17858405036917896, 0.3571681007383579, 0.7281138054405545, 1.273631259872218, 0.832441583536203, 0.890400136755333, 0.1429186513547973, 0.07145932567739866, 0.1429186513547973, 0.07145932567739866, 0.07145932567739866, 0.07145932567739866, 0.1429186513547973, 0.07145932567739866, 0.1429186513547973, 0.07145932567739866, 0.4712974541932807, 0.4712974541932807, 0.5442080654858422, 0.5442080654858422, 0.7750911563093057, 0.7070014015705444, 0.7070014015705444, 0.7604815544031615, 0.7861559383117244, 0.4949512440179493, 1.18796144632941, 0.7019750651650029, 1.2538591919843554, 0.82261847147117, 0.8748545632430184, 0.8766937246820755, 0.43834686234103776, 0.30076959294380806, 0.30076959294380806, 0.30076959294380806, 0.2568501567866792, 0.5137003135733584, 0.2568501567866792, 1.3065338237753379, 0.5458467268841284, 0.5458467268841284, 0.6052382756680186, 0.6101160873430445, 0.3464487645727947, 0.3464487645727947, 0.3464487645727947, 0.19368740920304628, 0.19368740920304628, 0.19368740920304628, 0.38737481840609256, 0.5879118105187783, 0.29395590525938914, 0.15631011320664198, 0.31262022641328396, 0.234465169809963, 0.15631011320664198, 0.07815505660332099, 0.07815505660332099, 0.7040857134036149, 0.5611256209906923, 0.6967339044207681, 0.3200664009729871, 0.16003320048649355, 0.16003320048649355, 0.3200664009729871, 0.22965563859972077, 0.22965563859972077, 0.22965563859972077, 0.7180929378769069, 1.5534989579636862, 0.36634944261908825, 0.36634944261908825, 0.18317472130954413, 0.18317472130954413, 1.2892105286905293, 0.20581432970256852, 0.20581432970256852, 0.20581432970256852, 0.20581432970256852, 0.6907237318948655, 0.7584308112298358, 0.36398736374735463, 0.7279747274947093, 0.7076202211735717, 0.45245188811326237, 0.9049037762265247, 0.7013363002184988, 0.20884613203319566, 0.4176922640663913, 0.20884613203319566, 1.2892105286905293, 0.6907237318948655, 0.7076202211735717, 1.9439086200570928, 1.105270532220266, 0.7013363002184988, 0.6907237318948655, 0.5188940472774445, 0.5188940472774445, 0.8558609885031544, 0.7527074270447612, 1.7058557778652024, 1.273631259872218, 0.20974248196287068, 0.20974248196287068, 0.41948496392574136, 0.7861559383117244, 0.7861559383117244, 0.3557908172116938, 0.1778954086058469, 0.3557908172116938, 1.0310912140143145, 1.0488880913640755, 0.38400528245067045, 0.38400528245067045, 0.38400528245067045, 1.2892105286905293, 0.1549398188192799, 0.3098796376385598, 0.1549398188192799, 0.1549398188192799, 0.1549398188192799, 0.7070014015705444, 0.7382515613217578, 0.2553234945054574, 0.5106469890109148, 0.2553234945054574, 0.4695469022198755, 0.4695469022198755, 0.38248333381559346, 0.19124166690779673, 0.38248333381559346, 0.6728742996838804, 0.3364371498419402, 0.3364371498419402, 0.5815516859313761, 0.36232683828416395, 0.36232683828416395, 0.18116341914208198, 0.8748545632430184, 1.2669375544441794, 0.8748545632430184, 0.2072071086539219, 0.6216213259617657, 1.2892105286905293, 0.7021173600171076, 0.3510586800085538, 0.7604815544031615, 0.5233670269532622, 0.3474053690377528, 0.3474053690377528, 0.2004187081660507, 0.2004187081660507, 0.10020935408302535, 0.2004187081660507, 0.10020935408302535, 0.2004187081660507, 0.10020935408302535, 1.2603644467255743, 0.6401458100052823, 0.7861559383117244, 0.4176452165169134, 0.8352904330338268, 0.35875148660350326, 0.17937574330175163, 0.35875148660350326, 0.17937574330175163, 0.13310450545241642, 0.26620901090483284, 0.13310450545241642, 0.13310450545241642, 0.26620901090483284, 0.13310450545241642, 0.46423277470181007, 0.11605819367545252, 0.11605819367545252, 0.11605819367545252, 0.11605819367545252, 0.22424925527684048, 0.11212462763842024, 0.22424925527684048, 0.22424925527684048, 0.11212462763842024, 0.11212462763842024, 1.2892105286905293, 0.6477345378413383, 1.0044266810891975, 1.273631259872218, 1.273631259872218, 1.273631259872218, 1.273631259872218, 0.4210447591548995, 0.21052237957744974, 0.4210447591548995, 1.2892105286905293, 0.7604815544031615, 0.5494716879825278, 0.5494716879825278, 1.273631259872218, 0.6101851684154255, 0.28748871010568877, 0.28748871010568877, 0.14374435505284439, 0.14374435505284439, 0.7750911563093057, 0.7750911563093057, 0.9872609908405664, 0.6007055513787827, 1.2892105286905293, 0.6614941226256565, 0.7750911563093057, 1.2892105286905293, 1.099831843951159, 0.6108490165796026, 0.20788970071377516, 0.20788970071377516, 0.20788970071377516, 0.20788970071377516, 0.3291136443380219, 0.6582272886760439, 1.9439086200570928, 0.1851349241868097, 0.1851349241868097, 0.1851349241868097, 0.1851349241868097, 0.1851349241868097, 1.2538591919843554, 0.5471505074833222, 0.5471505074833222, 0.6401458100052823, 0.34397645942563626, 0.6879529188512725, 0.7604815544031615, 0.48983733642990657, 0.24491866821495328, 0.9810020289524637, 0.6988562564111068, 0.26020650237252013, 0.26020650237252013, 0.13010325118626007, 0.13010325118626007, 0.13010325118626007, 0.13010325118626007, 0.6952328569012449, 0.34761642845062246, 0.7016643055318488, 0.7006219359353993, 0.70990739420699, 0.6907237318948655, 1.099831843951159, 0.13678743041650795, 0.13678743041650795, 0.2735748608330159, 0.2735748608330159, 0.13678743041650795, 1.0224173448776215, 1.6970822240201016, 0.5784181762833549, 1.2892105286905293, 0.6302848455095448, 0.8748545632430184, 0.4487309073472775, 0.22436545367363875, 0.5176467204075309, 0.5176467204075309, 1.099831843951159, 0.13435604654434524, 0.13435604654434524, 0.2687120930886905, 0.13435604654434524, 0.2687120930886905, 0.13435604654434524, 0.1691619938826951, 0.3383239877653902, 0.1691619938826951, 0.1691619938826951, 0.786415188074561, 0.19408115631877357, 0.19408115631877357, 0.19408115631877357, 0.5230696218556582, 0.37588282118502664, 0.37588282118502664, 1.273631259872218, 1.360881393594398, 0.07055113584084019, 0.07055113584084019, 0.14110227168168038, 0.07055113584084019, 0.07055113584084019, 0.07055113584084019, 0.07055113584084019, 0.14110227168168038, 0.14110227168168038, 0.07055113584084019, 0.7604815544031615, 0.6980276831027991, 0.7022861001843732, 0.702813041844238, 0.5370581103442339, 0.5370581103442339, 0.25942030221895435, 0.5188406044379087, 0.25942030221895435, 1.2892105286905293, 0.4764084834748104, 0.4764084834748104, 0.15137779546697358, 0.15137779546697358, 0.15137779546697358, 0.15137779546697358, 0.15137779546697358, 0.977461285588314, 0.38401751695705333, 0.38401751695705333, 0.5484064656888906, 0.5484064656888906, 0.7861559383117244, 0.7861559383117244, 0.20971721861583487, 0.20971721861583487, 0.13981147907722324, 0.13981147907722324, 0.13981147907722324, 0.06990573953861162, 0.652808466003249, 0.3264042330016245, 0.7750911563093057, 0.7026496827065492, 0.7013363002184988, 0.7070014015705444, 1.099831843951159, 0.8714440755739522, 0.7021903141612523, 0.5079718070351813, 0.5079718070351813, 1.273631259872218, 0.4743919583949596, 0.4743919583949596, 0.3763873888677284, 0.3763873888677284, 0.7070014015705444, 0.12983397327017504, 0.12983397327017504, 0.2596679465403501, 0.12983397327017504, 0.2596679465403501, 0.12983397327017504, 1.0191951687696894, 1.0181404896816648, 0.26964713151153097, 0.13482356575576548, 0.13482356575576548, 0.13482356575576548, 0.13482356575576548, 0.13482356575576548, 0.13806034893643593, 0.13806034893643593, 0.4141810468093078, 0.13806034893643593, 0.27612069787287186, 0.7750911563093057, 0.28965702123816944, 0.28965702123816944, 0.2946083858986555, 0.2946083858986555, 0.2946083858986555, 0.5182696333537617, 0.5182696333537617, 0.7568543156875374, 1.2735795823151839, 1.273631259872218, 0.5014189907513401, 0.25070949537567006, 0.25070949537567006, 1.1583963251042853, 0.8748545632430184, 1.273631259872218, 0.7006146489251173, 0.49785513277359084, 0.49785513277359084, 0.43379533881782856, 0.7070014015705444, 1.273631259872218, 0.7610471503414465, 0.3088463599604072, 0.6176927199208144, 0.7070014015705444, 1.7058557778652024], \"Term\": [\"100\", \"12\", \"12\", \"13\", \"14\", \"14\", \"1400\", \"1495\", \"1495\", \"150\", \"16\", \"165\", \"18\", \"1999\", \"20\", \"20\", \"20\", \"20th\", \"24587\", \"25\", \"250\", \"250\", \"30\", \"30\", \"34\", \"35\", \"36\", \"40\", \"40\", \"50\", \"50\", \"541\", \"6pm\", \"895\", \"able\", \"able\", \"accommodating\", \"accomplish\", \"added\", \"adjusted\", \"adjusted\", \"adventure\", \"advertise\", \"ahead\", \"airy\", \"ale\", \"alerts\", \"allot\", \"allot\", \"allowing\", \"alright\", \"amazing\", \"amazing\", \"amazing\", \"amazing\", \"amazinga\", \"ambience\", \"ambience\", \"ambience\", \"ancho\", \"angeles\", \"annoyance\", \"answered\", \"ant\", \"ant\", \"anyways\", \"apologies\", \"apologies\", \"apologized\", \"appointment\", \"appropriately\", \"area\", \"area\", \"area\", \"area\", \"area\", \"arent\", \"arent\", \"arent\", \"arent\", \"arent\", \"aroma\", \"asian\", \"asian\", \"asian\", \"asian\", \"ask\", \"ask\", \"ask\", \"ask\", \"ask\", \"ask\", \"asked\", \"asked\", \"asked\", \"asked\", \"asked\", \"asparagus\", \"assume\", \"assume\", \"ate\", \"atmosphere\", \"atmosphere\", \"atmosphere\", \"attentive\", \"attentivehad\", \"attitude\", \"away\", \"away\", \"away\", \"away\", \"away\", \"awesome\", \"awesome\", \"awesome\", \"awesome\", \"azz\", \"bad\", \"bad\", \"bad\", \"bad\", \"bad\", \"bad\", \"bad\", \"bags\", \"bags\", \"banana\", \"bang\", \"bar\", \"bar\", \"bar\", \"bar\", \"bar\", \"bar\", \"bar\", \"bar\", \"bar\", \"bartender\", \"bartenderserver\", \"bartenderserver\", \"base\", \"basically\", \"basil\", \"bathroom\", \"bbq\", \"bed\", \"bed\", \"bed\", \"beds\", \"bee\", \"beef\", \"beef\", \"beef\", \"beef\", \"beef\", \"beer\", \"beer\", \"beer\", \"beers\", \"begin\", \"behold\", \"believe\", \"belligerent\", \"belligerent\", \"belt\", \"belt\", \"best\", \"best\", \"best\", \"best\", \"best\", \"bet\", \"better\", \"better\", \"better\", \"better\", \"better\", \"better\", \"better\", \"better\", \"beverages\", \"big\", \"big\", \"big\", \"bills\", \"bills\", \"birth\", \"birthday\", \"bit\", \"bit\", \"bit\", \"bit\", \"bit\", \"bit\", \"bit\", \"bite\", \"bites\", \"bland\", \"bland\", \"bland\", \"bloody\", \"blueberry\", \"boardwalk\", \"bold\", \"bonanza\", \"books\", \"books\", \"booksthe\", \"booth\", \"bother\", \"bottle\", \"bottle\", \"bottles\", \"bottles\", \"bowl\", \"box\", \"brews\", \"bring\", \"bring\", \"bring\", \"bro\", \"bronco\", \"broncos\", \"brought\", \"brought\", \"brought\", \"brought\", \"brought\", \"brunch\", \"brunch\", \"buck\", \"buck\", \"bucks\", \"buffet\", \"buffet\", \"buffet\", \"building\", \"bumping\", \"burger\", \"burger\", \"burrito\", \"burritos\", \"business\", \"business\", \"butter\", \"butter\", \"butter\", \"butter\", \"butter\", \"butter\", \"butter\", \"butterbetter\", \"butunappealing\", \"buy\", \"buy\", \"buy\", \"cable\", \"cable\", \"caesar\", \"cake\", \"cake\", \"called\", \"called\", \"came\", \"came\", \"came\", \"came\", \"came\", \"came\", \"candles\", \"candles\", \"car\", \"card\", \"care\", \"care\", \"care\", \"care\", \"caroline\", \"carpet\", \"carpet\", \"cars\", \"cash\", \"cater\", \"cause\", \"cavs\", \"ceasers\", \"cents\", \"certified\", \"chains\", \"charge\", \"charge\", \"charging\", \"chatted\", \"cheapest\", \"cheapest\", \"check\", \"check\", \"check\", \"check\", \"check\", \"checking\", \"cheddar\", \"cheesei\", \"cherry\", \"chickenthe\", \"chickenthe\", \"chili\", \"chip\", \"chipotle\", \"chipped\", \"chocolate\", \"choice\", \"choose\", \"choose\", \"choosing\", \"chop\", \"chopped\", \"chops\", \"chunks\", \"cinnamon\", \"cleanse\", \"clock\", \"cluelessy\", \"clunky\", \"cock\", \"codes\", \"coffee\", \"coffee\", \"coffee\", \"cold\", \"cole\", \"colleagues\", \"collection\", \"collegue\", \"come\", \"come\", \"come\", \"come\", \"come\", \"come\", \"comes\", \"comes\", \"comes\", \"comes\", \"comes\", \"coming\", \"coming\", \"coming\", \"coming\", \"coming\", \"comment\", \"company\", \"competitive\", \"complain\", \"complaining\", \"complaints\", \"complimentary\", \"concern\", \"condition\", \"cons\", \"cons\", \"consider\", \"considerably\", \"considered\", \"consistently\", \"container\", \"continues\", \"contrary\", \"control\", \"convenient\", \"conversation\", \"conversation\", \"conversation\", \"conversation\", \"cook\", \"cook\", \"cook\", \"cookbook\", \"cookbooks\", \"cooked\", \"cooked\", \"cookie\", \"cooking\", \"cool\", \"cool\", \"cool\", \"cool\", \"copies\", \"corn\", \"corned\", \"corrected\", \"corrected\", \"cost\", \"countless\", \"couple\", \"couple\", \"couple\", \"couple\", \"coupon\", \"course\", \"course\", \"course\", \"course\", \"cousin\", \"cousins\", \"cover\", \"cover\", \"cover\", \"cover\", \"cowboy\", \"crap\", \"cream\", \"cream\", \"cream\", \"credit\", \"crisp\", \"crispy\", \"crispy\", \"crowded\", \"crunch\", \"cuisine\", \"cuisine\", \"cup\", \"cup\", \"cup\", \"cupcakes\", \"customer\", \"customer\", \"customer\", \"customer\", \"customers\", \"customers\", \"cut\", \"dance\", \"dark\", \"date\", \"date\", \"daves\", \"day\", \"day\", \"day\", \"day\", \"deal\", \"deal\", \"deal\", \"deal\", \"deal\", \"deal\", \"debit\", \"decided\", \"decided\", \"decided\", \"declining\", \"decor\", \"decrepit\", \"definitely\", \"definitely\", \"definitely\", \"definitely\", \"definitely\", \"definitely\", \"definitely\", \"delicious\", \"delicious\", \"delicious\", \"delicious\", \"delicious\", \"delicious\", \"delicious\", \"delivered\", \"deposit\", \"desk\", \"detoxin\", \"devoured\", \"diablo\", \"diamonds\", \"didnt\", \"didnt\", \"didnt\", \"didnt\", \"didnt\", \"didnt\", \"didnt\", \"didnt\", \"didnt\", \"didnt\", \"die\", \"different\", \"different\", \"dig\", \"dig\", \"dimensions\", \"dined\", \"ding\", \"dining\", \"dining\", \"dinner\", \"dinner\", \"dinner\", \"disclose\", \"dishes\", \"dishes\", \"dishes\", \"dissembling\", \"doesnt\", \"doesnt\", \"domestic\", \"dominoes\", \"donate\", \"dont\", \"dont\", \"dont\", \"dont\", \"dont\", \"dont\", \"dont\", \"dont\", \"dont\", \"dont\", \"dont\", \"door\", \"door\", \"door\", \"double\", \"downside\", \"draft\", \"draped\", \"draws\", \"dream\", \"drink\", \"drinks\", \"drinks\", \"drinks\", \"duesh\", \"dug\", \"dunked\", \"duty\", \"dvds\", \"early\", \"easy\", \"easy\", \"eat\", \"eat\", \"eat\", \"eat\", \"eat\", \"eat\", \"eat\", \"eating\", \"eating\", \"effort\", \"egg\", \"eggs\", \"eggs\", \"eggs\", \"eh\", \"electric\", \"elvis\", \"emailed\", \"emails\", \"embarrassed\", \"embarrassed\", \"endless\", \"enjoy\", \"enjoy\", \"enjoy\", \"enjoyed\", \"enjoying\", \"entertaining\", \"entertaining\", \"entire\", \"entrance\", \"entrance\", \"entrees\", \"entrepreneurs\", \"equal\", \"especially\", \"especially\", \"especially\", \"evander\", \"evenly\", \"exact\", \"exactly\", \"example\", \"excited\", \"excuse\", \"excuse\", \"expect\", \"expect\", \"expected\", \"expensive\", \"explains\", \"exterior\", \"face\", \"face\", \"face\", \"facebook\", \"facial\", \"fact\", \"fact\", \"fairly\", \"family\", \"family\", \"family\", \"fan\", \"fan\", \"fan\", \"fans\", \"fantastic\", \"fantastic\", \"far\", \"far\", \"far\", \"far\", \"far\", \"favorite\", \"favorite\", \"favorite\", \"fed\", \"feed\", \"feel\", \"feel\", \"feel\", \"feet\", \"female\", \"fest\", \"finally\", \"finally\", \"fit\", \"fitness\", \"flat\", \"flat\", \"flavor\", \"flavor\", \"flavor\", \"flavor\", \"flavor\", \"flavor\", \"flavors\", \"flavors\", \"folded\", \"fond\", \"football\", \"fourth\", \"frankly\", \"frazzeled\", \"freak\", \"free\", \"free\", \"free\", \"free\", \"fresh\", \"fresh\", \"fried\", \"friendly\", \"friendly\", \"friendly\", \"friendly\", \"friendly\", \"friendly\", \"friendly\", \"fries\", \"fries\", \"fries\", \"funky\", \"game\", \"game\", \"game\", \"gave\", \"gave\", \"gave\", \"gelato\", \"generous\", \"gets\", \"getting\", \"getting\", \"getting\", \"getting\", \"ginger\", \"ginger\", \"girl\", \"girl\", \"girl\", \"girlfriend\", \"girlfriends\", \"girls\", \"girls\", \"gives\", \"giving\", \"glow\", \"glutacor\", \"goal\", \"goals\", \"goat\", \"goes\", \"goes\", \"goes\", \"going\", \"going\", \"going\", \"going\", \"going\", \"going\", \"going\", \"going\", \"gon\", \"gone\", \"got\", \"got\", \"got\", \"got\", \"got\", \"got\", \"got\", \"got\", \"got\", \"got\", \"got\", \"got\", \"greasy\", \"green\", \"greeted\", \"grey\", \"grill\", \"grill\", \"grill\", \"grill\", \"groupon\", \"groupons\", \"guacamole\", \"guacamole\", \"guarantee\", \"guess\", \"guess\", \"guess\", \"guessed\", \"guy\", \"hadnt\", \"haha\", \"half\", \"half\", \"han\", \"handcrafted\", \"handed\", \"hang\", \"hang\", \"happy\", \"happy\", \"happy\", \"happy\", \"happy\", \"hard\", \"hardback\", \"hate\", \"hate\", \"havent\", \"head\", \"health\", \"healthy\", \"heard\", \"heat\", \"heat\", \"heat\", \"heated\", \"heavy\", \"help\", \"helped\", \"hemp\", \"herei\", \"hes\", \"hey\", \"hey\", \"high\", \"high\", \"highlighted\", \"highlights\", \"highly\", \"highly\", \"highly\", \"hint\", \"hippy\", \"hoisin\", \"honey\", \"honey\", \"honey\", \"hostess\", \"hostesses\", \"hot\", \"hot\", \"hot\", \"hot\", \"hot\", \"hotels\", \"hour\", \"hours\", \"hours\", \"hours\", \"hours\", \"hours\", \"house\", \"house\", \"house\", \"house\", \"hudson\", \"huge\", \"huge\", \"huge\", \"huge\", \"huge\", \"hunger\", \"hungry\", \"hungry\", \"hungry\", \"hut\", \"hypercor\", \"id\", \"id\", \"id\", \"id\", \"id\", \"id\", \"id\", \"ill\", \"ill\", \"ill\", \"im\", \"im\", \"im\", \"im\", \"im\", \"im\", \"im\", \"im\", \"im\", \"imagine\", \"imagine\", \"imported\", \"impress\", \"indian\", \"indian\", \"indians\", \"industry\", \"ingredients\", \"initiated\", \"injured\", \"insists\", \"instead\", \"instead\", \"instead\", \"instead\", \"instead\", \"interior\", \"iphone\", \"isamazing\", \"isles\", \"isnt\", \"isnt\", \"issue\", \"italian\", \"items\", \"items\", \"items\", \"items\", \"itjust\", \"ive\", \"ive\", \"ive\", \"ive\", \"ive\", \"ive\", \"ive\", \"jal\", \"job\", \"job\", \"job\", \"john\", \"john\", \"joint\", \"journey\", \"july\", \"justify\", \"justify\", \"katalyst\", \"keeps\", \"ketchup\", \"keys\", \"kidding\", \"killer\", \"killin\", \"killing\", \"kind\", \"kind\", \"kind\", \"king\", \"kiva\", \"knew\", \"know\", \"know\", \"know\", \"know\", \"know\", \"know\", \"know\", \"knows\", \"knows\", \"kokanee\", \"kokanne\", \"korean\", \"krill\", \"lady\", \"lady\", \"lamb\", \"large\", \"largeror\", \"las\", \"las\", \"las\", \"lavendar\", \"layer\", \"lean\", \"leaves\", \"left\", \"left\", \"left\", \"left\", \"left\", \"lenten\", \"let\", \"let\", \"let\", \"let\", \"lets\", \"level\", \"licked\", \"lie\", \"life\", \"life\", \"lift\", \"light\", \"light\", \"lights\", \"lime\", \"line\", \"line\", \"line\", \"lined\", \"lines\", \"linger\", \"link\", \"lipocor\", \"list\", \"list\", \"list\", \"listen\", \"literally\", \"literally\", \"little\", \"little\", \"little\", \"little\", \"little\", \"live\", \"live\", \"lobster\", \"lobster\", \"local\", \"location\", \"location\", \"lol\", \"lol\", \"long\", \"long\", \"long\", \"long\", \"long\", \"look\", \"look\", \"look\", \"looked\", \"looked\", \"looked\", \"looked\", \"looking\", \"looking\", \"looks\", \"los\", \"losing\", \"lost\", \"lot\", \"lot\", \"lot\", \"lot\", \"lot\", \"lot\", \"lots\", \"lots\", \"lots\", \"loud\", \"loud\", \"loud\", \"loud\", \"loud\", \"lounge\", \"lounge\", \"lounge\", \"love\", \"love\", \"love\", \"love\", \"love\", \"love\", \"loved\", \"loved\", \"loves\", \"low\", \"low\", \"lowes\", \"lowes\", \"lowlights\", \"luck\", \"lukewarm\", \"lunch\", \"lunch\", \"lunch\", \"lunch\", \"mac\", \"main\", \"major\", \"major\", \"make\", \"make\", \"make\", \"make\", \"make\", \"make\", \"make\", \"make\", \"make\", \"makes\", \"makes\", \"making\", \"making\", \"manager\", \"margherita\", \"margin\", \"maria\", \"masculine\", \"match\", \"matter\", \"maximize\", \"maybe\", \"maybe\", \"maybe\", \"mayonnaise\", \"mccain\", \"mcdonalds\", \"meal\", \"meal\", \"meal\", \"meal\", \"meal\", \"meal\", \"means\", \"meat\", \"meat\", \"meat\", \"meat\", \"meaty\", \"medium\", \"mention\", \"mention\", \"mention\", \"menu\", \"menu\", \"menu\", \"menu\", \"menu\", \"menu\", \"menu\", \"menu\", \"messed\", \"mexislaw\", \"microwave\", \"midlights\", \"min\", \"mind\", \"mind\", \"mind\", \"mind\", \"mini\", \"minimally\", \"minishrimps\", \"mins\", \"minutes\", \"minutes\", \"minutes\", \"minutes\", \"minutes\", \"minutes\", \"missed\", \"misses\", \"missing\", \"missing\", \"mixing\", \"modified\", \"money\", \"money\", \"money\", \"monitors\", \"monster\", \"morning\", \"morning\", \"mouth\", \"muffin\", \"muscle\", \"mushrooms\", \"music\", \"music\", \"music\", \"mussels\", \"mustard\", \"na\", \"named\", \"namesake\", \"nan\", \"napkins\", \"napkins\", \"navigate\", \"nc\", \"nc\", \"nearly\", \"need\", \"need\", \"need\", \"need\", \"need\", \"need\", \"need\", \"need\", \"needed\", \"needed\", \"needed\", \"needless\", \"needs\", \"needs\", \"needs\", \"needs\", \"neil\", \"network\", \"nice\", \"nice\", \"nice\", \"nice\", \"nice\", \"nice\", \"nice\", \"night\", \"night\", \"night\", \"night\", \"night\", \"night\", \"noda\", \"nonetheless\", \"noodles\", \"normal\", \"normally\", \"normally\", \"notes\", \"notice\", \"noticed\", \"noticed\", \"nugget\", \"nugget\", \"number\", \"number\", \"nutrishop\", \"obviously\", \"occasion\", \"offer\", \"offer\", \"offer\", \"offering\", \"oh\", \"oh\", \"oh\", \"ok\", \"ok\", \"ok\", \"okay\", \"okay\", \"okay\", \"okay\", \"oklahoma\", \"old\", \"old\", \"old\", \"omelettes\", \"ones\", \"ones\", \"ones\", \"opened\", \"opened\", \"options\", \"options\", \"order\", \"order\", \"order\", \"order\", \"order\", \"order\", \"ordered\", \"ordered\", \"ordered\", \"ordered\", \"ordinary\", \"oregon\", \"organic\", \"organic\", \"organization\", \"orginal\", \"originally\", \"outta\", \"oven\", \"oven\", \"overall\", \"overlytattooed\", \"oversized\", \"owners\", \"owners\", \"ownership\", \"packed\", \"packing\", \"paid\", \"paint\", \"pan\", \"panels\", \"panic\", \"parmesan\", \"passion\", \"password\", \"pasta\", \"paste\", \"patient\", \"pay\", \"pay\", \"pay\", \"pay\", \"pay\", \"pay\", \"pay\", \"paying\", \"paying\", \"pb\", \"peanut\", \"pedicure\", \"people\", \"people\", \"people\", \"people\", \"people\", \"people\", \"people\", \"people\", \"peppers\", \"perfect\", \"perfect\", \"perfect\", \"person\", \"person\", \"person\", \"person\", \"personal\", \"personality\", \"pesto\", \"petty\", \"petty\", \"phone\", \"phone\", \"phone\", \"phone\", \"photos\", \"pick\", \"pick\", \"pick\", \"piece\", \"pieces\", \"pieces\", \"piercing\", \"pinch\", \"pink\", \"pitchers\", \"pizza\", \"pizza\", \"pizza\", \"plastic\", \"play\", \"playing\", \"plenty\", \"plexi\", \"point\", \"point\", \"point\", \"police\", \"police\", \"polish\", \"politically\", \"polluted\", \"poor\", \"poppers\", \"pops\", \"pork\", \"portion\", \"positives\", \"pot\", \"potatoes\", \"pots\", \"preferred\", \"prepare\", \"prereq\", \"pressure\", \"pretty\", \"pretty\", \"pretty\", \"pretty\", \"pretty\", \"pretty\", \"pretty\", \"pretty\", \"price\", \"price\", \"price\", \"price\", \"price\", \"price\", \"price\", \"prices\", \"prices\", \"prices\", \"prices\", \"print\", \"pro7ein\", \"probably\", \"probably\", \"probably\", \"proceeded\", \"process\", \"process\", \"products\", \"products\", \"profit\", \"ps\", \"pumpkin\", \"purchase\", \"purchased\", \"purchased\", \"putting\", \"quails\", \"quaint\", \"queen\", \"queso\", \"quiet\", \"quinoa\", \"quite\", \"quite\", \"quite\", \"quite\", \"radio\", \"randomly\", \"rare\", \"rating\", \"raw\", \"reaching\", \"real\", \"real\", \"reality\", \"reasonable\", \"reasonable\", \"receipt\", \"recommend\", \"recommend\", \"recommend\", \"recommend\", \"recommend\", \"recommendations\", \"recommended\", \"recycling\", \"reflected\", \"reflected\", \"refrigerated\", \"refund\", \"refuse\", \"refuses\", \"regardless\", \"regular\", \"regular\", \"regular\", \"rely\", \"remember\", \"remember\", \"remember\", \"remember\", \"reminded\", \"remove\", \"remove\", \"repeat\", \"replacement\", \"replied\", \"reserved\", \"rest\", \"restart\", \"restaurants\", \"retailers\", \"return\", \"return\", \"return\", \"return\", \"review\", \"review\", \"review\", \"review\", \"review\", \"review\", \"review\", \"rich\", \"ride\", \"right\", \"right\", \"right\", \"right\", \"right\", \"right\", \"roll\", \"room\", \"room\", \"room\", \"room\", \"run\", \"run\", \"run\", \"rush\", \"said\", \"said\", \"said\", \"said\", \"said\", \"said\", \"said\", \"salad\", \"salad\", \"salad\", \"sales\", \"sandal\", \"sandwich\", \"sandwich\", \"sandwich\", \"sandwich\", \"sandwich\", \"sat\", \"sat\", \"sat\", \"saturday\", \"saturday\", \"sauce\", \"sauce\", \"sauce\", \"sauce\", \"sauce\", \"sauce\", \"sauce\", \"sausage\", \"save\", \"say\", \"say\", \"say\", \"say\", \"say\", \"say\", \"say\", \"say\", \"say\", \"say\", \"scenes\", \"scowl\", \"scrambled\", \"screens\", \"screens\", \"sea\", \"seasoned\", \"seasoning\", \"seat\", \"seats\", \"seats\", \"section\", \"section\", \"section\", \"security\", \"seed\", \"seeds\", \"seen\", \"seen\", \"sees\", \"selection\", \"selection\", \"selection\", \"selections\", \"selfish\", \"selfserve\", \"seperate\", \"series\", \"server\", \"server\", \"server\", \"server\", \"serves\", \"servicethe\", \"sesame\", \"set\", \"set\", \"settebellos\", \"shadyside\", \"shareable\", \"shell\", \"shes\", \"shop\", \"shop\", \"shot\", \"shoved\", \"showing\", \"shrimp\", \"shrimps\", \"signange\", \"signature\", \"signed\", \"simply\", \"sin\", \"sin\", \"singing\", \"singing\", \"single\", \"single\", \"sings\", \"sir\", \"sis\", \"sit\", \"sit\", \"sit\", \"skus\", \"slathering\", \"slaw\", \"slow\", \"small\", \"small\", \"small\", \"small\", \"small\", \"small\", \"small\", \"small\", \"small\", \"small\", \"smaller\", \"smaller\", \"smile\", \"smile\", \"smokey\", \"snobs\", \"snooty\", \"soda\", \"somnilean\", \"songs\", \"sooooo\", \"sort\", \"sounded\", \"soup\", \"soy\", \"speak\", \"speak\", \"special\", \"special\", \"special\", \"specifically\", \"specifically\", \"specifically\", \"spectacular\", \"spend\", \"spend\", \"spending\", \"spent\", \"spoke\", \"spoke\", \"spoke\", \"spot\", \"spot\", \"spot\", \"spot\", \"square\", \"square\", \"staff\", \"staff\", \"staff\", \"staff\", \"staff\", \"staff\", \"stained\", \"star\", \"stark\", \"start\", \"start\", \"start\", \"start\", \"started\", \"started\", \"started\", \"starter\", \"starving\", \"stay\", \"stay\", \"stay\", \"stay\", \"staying\", \"steak\", \"steak\", \"steak\", \"steak\", \"stealing\", \"steel\", \"steep\", \"steep\", \"stools\", \"stopped\", \"stopped\", \"storage\", \"store\", \"store\", \"store\", \"story\", \"straight\", \"strange\", \"streak\", \"stuff\", \"stuffed\", \"style\", \"subject\", \"subject\", \"sucks\", \"suits\", \"summer\", \"summit\", \"super\", \"super\", \"super\", \"supplements\", \"support\", \"sure\", \"sure\", \"sure\", \"surf\", \"surfboard\", \"sweet\", \"sweet\", \"sweet\", \"swiping\", \"table\", \"table\", \"table\", \"table\", \"table\", \"tables\", \"tacos\", \"takes\", \"takes\", \"takes\", \"talk\", \"talk\", \"taste\", \"taste\", \"taste\", \"tasted\", \"tasted\", \"tasted\", \"tastes\", \"tasty\", \"tasty\", \"tasty\", \"tats\", \"tavern\", \"tea\", \"team\", \"team\", \"telling\", \"tells\", \"tells\", \"text\", \"thai\", \"thank\", \"thank\", \"thats\", \"thats\", \"thats\", \"thats\", \"thats\", \"thats\", \"thats\", \"thay\", \"theme\", \"theraputics\", \"theres\", \"theres\", \"thing\", \"thing\", \"thing\", \"thing\", \"things\", \"things\", \"things\", \"things\", \"things\", \"things\", \"think\", \"think\", \"think\", \"think\", \"think\", \"thought\", \"thought\", \"thought\", \"thought\", \"thought\", \"thought\", \"thursdaysat\", \"times\", \"tips\", \"toast\", \"toastaka\", \"toasted\", \"toastits\", \"told\", \"told\", \"told\", \"tomorrow\", \"ton\", \"tone\", \"tone\", \"tongue\", \"tons\", \"took\", \"took\", \"took\", \"took\", \"tortilla\", \"tostada\", \"totally\", \"totes\", \"touched\", \"traditional\", \"traditionally\", \"transactions\", \"treats\", \"trips\", \"try\", \"try\", \"try\", \"try\", \"turn\", \"turn\", \"twice\", \"types\", \"types\", \"types\", \"types\", \"types\", \"typical\", \"unbelievable\", \"unbelievable\", \"uncormfartable\", \"understand\", \"understand\", \"unfamiliar\", \"unless\", \"unless\", \"unnerving\", \"urban\", \"used\", \"used\", \"used\", \"used\", \"used\", \"used\", \"using\", \"using\", \"valley\", \"vanilla\", \"varied\", \"veg\", \"vegan\", \"vegas\", \"vegas\", \"vegas\", \"vegas\", \"vegas\", \"vegetable\", \"vegetarian\", \"veggie\", \"verify\", \"video\", \"visible\", \"visit\", \"visit\", \"visits\", \"visits\", \"waffles\", \"wait\", \"wait\", \"wait\", \"wait\", \"wait\", \"wait\", \"waiting\", \"waiting\", \"waiting\", \"waiting\", \"waitress\", \"walked\", \"walked\", \"walked\", \"walking\", \"walls\", \"walls\", \"walnut\", \"wandered\", \"want\", \"want\", \"want\", \"want\", \"want\", \"want\", \"want\", \"want\", \"want\", \"want\", \"war\", \"warm\", \"warmed\", \"warmth\", \"washrooms\", \"washrooms\", \"wasnt\", \"wasnt\", \"wasnt\", \"watch\", \"water\", \"water\", \"way\", \"way\", \"way\", \"way\", \"way\", \"wednesday\", \"week\", \"week\", \"weekends\", \"weekends\", \"weeks\", \"weight\", \"went\", \"went\", \"went\", \"went\", \"went\", \"went\", \"whats\", \"whats\", \"white\", \"window\", \"windowless\", \"windowside\", \"wing\", \"wireless\", \"wok\", \"woman\", \"woman\", \"wonder\", \"wonton\", \"wonton\", \"wood\", \"wood\", \"woodchips\", \"work\", \"work\", \"work\", \"work\", \"work\", \"work\", \"worker\", \"workers\", \"working\", \"working\", \"working\", \"working\", \"working\", \"working\", \"worth\", \"worth\", \"worth\", \"worth\", \"worth\", \"worthiness\", \"wouldnt\", \"wouldnt\", \"wrapped\", \"wrapped\", \"wrapped\", \"wrappers\", \"wrappers\", \"wrench\", \"write\", \"writing\", \"wrong\", \"wrong\", \"wrong\", \"wtf\", \"xmas\", \"ya\", \"yea\", \"year\", \"year\", \"years\", \"yelp\", \"yelpers\", \"yesterday\", \"youll\", \"youll\", \"zero\", \"zucchini\"]}, \"R\": 30, \"lambda.step\": 0.01, \"plot.opts\": {\"xlab\": \"PC1\", \"ylab\": \"PC2\"}, \"topic.order\": [1, 14, 17, 13, 15, 16, 6, 5, 19, 18, 8, 10, 12, 4, 7, 3, 11, 2, 9, 20]};\n",
              "\n",
              "function LDAvis_load_lib(url, callback){\n",
              "  var s = document.createElement('script');\n",
              "  s.src = url;\n",
              "  s.async = true;\n",
              "  s.onreadystatechange = s.onload = callback;\n",
              "  s.onerror = function(){console.warn(\"failed to load library \" + url);};\n",
              "  document.getElementsByTagName(\"head\")[0].appendChild(s);\n",
              "}\n",
              "\n",
              "if(typeof(LDAvis) !== \"undefined\"){\n",
              "   // already loaded: just create the visualization\n",
              "   !function(LDAvis){\n",
              "       new LDAvis(\"#\" + \"ldavis_el14811401012297396081941151008\", ldavis_el14811401012297396081941151008_data);\n",
              "   }(LDAvis);\n",
              "}else if(typeof define === \"function\" && define.amd){\n",
              "   // require.js is available: use it to load d3/LDAvis\n",
              "   require.config({paths: {d3: \"https://cdnjs.cloudflare.com/ajax/libs/d3/3.5.5/d3.min\"}});\n",
              "   require([\"d3\"], function(d3){\n",
              "      window.d3 = d3;\n",
              "      LDAvis_load_lib(\"https://cdn.rawgit.com/bmabey/pyLDAvis/files/ldavis.v1.0.0.js\", function(){\n",
              "        new LDAvis(\"#\" + \"ldavis_el14811401012297396081941151008\", ldavis_el14811401012297396081941151008_data);\n",
              "      });\n",
              "    });\n",
              "}else{\n",
              "    // require.js not available: dynamically load d3 & LDAvis\n",
              "    LDAvis_load_lib(\"https://cdnjs.cloudflare.com/ajax/libs/d3/3.5.5/d3.min.js\", function(){\n",
              "         LDAvis_load_lib(\"https://cdn.rawgit.com/bmabey/pyLDAvis/files/ldavis.v1.0.0.js\", function(){\n",
              "                 new LDAvis(\"#\" + \"ldavis_el14811401012297396081941151008\", ldavis_el14811401012297396081941151008_data);\n",
              "            })\n",
              "         });\n",
              "}\n",
              "</script>"
            ],
            "text/plain": [
              "<IPython.core.display.HTML object>"
            ]
          },
          "metadata": {
            "tags": []
          },
          "execution_count": 71
        }
      ]
    },
    {
      "cell_type": "markdown",
      "metadata": {
        "id": "XAM-YKHupH4Z"
      },
      "source": [
        "#**Question 2: Yelp Review Sentiment Analysis**\n",
        "\n",
        "\n",
        "(30 points). Sentiment analysis also known as opinion mining is a sub field within Natural Language Processing (NLP) that builds machine learning algorithms to classify a text according to the sentimental polarities of opinions it contains, e.g., positive, negative, neutral. The purpose of this question is to develop a machine learning classifier for sentiment analysis. Based on the dataset from assignment three, write a python program to implement a sentiment classifier and evaluate its performance. Notice: 80% data for training and 20% data for testing.\n",
        "\n",
        "\n",
        "\n",
        "The data can be download from Dropbox: https://www.dropbox.com/s/59hsrk56sfwh9u2/Assignment%20four%20data%20Yelp%20%28question%201%20and%202%29.zip?dl=0\n",
        "\n",
        "The data was saved in json format, here is an example of the data (for this task, you only need to use the star rating and the review text fields):\n",
        "\n",
        "{ // string, 22 character unique review id \"review_id\": \"zdSx_SD6obEhz9VrW9uAWA\",\n",
        "\n",
        "// string, 22 character unique user id, maps to the user in user.json\n",
        "\"user_id\": \"Ha3iJu77CxlrFm-vQRs_8g\",\n",
        "\n",
        "// string, 22 character business id, maps to business in business.json\n",
        "\"business_id\": \"tnhfDv5Il8EaGSXZGiuQGg\",\n",
        "\n",
        "// integer, star rating\n",
        "\"stars\": 4,\n",
        "\n",
        "// string, date formatted YYYY-MM-DD\n",
        "\"date\": \"2016-03-09\",\n",
        "\n",
        "// string, the review itself\n",
        "\"text\": \"Great place to hang out after work: the prices are decent, and the ambience is fun. It's a bit loud, but very lively. The staff is friendly, and the food is good. They have a good selection of drinks.\",\n",
        "\n",
        "// integer, number of useful votes received\n",
        "\"useful\": 0,\n",
        "\n",
        "// integer, number of funny votes received\n",
        "\"funny\": 0,\n",
        "\n",
        "// integer, number of cool votes received\n",
        "\"cool\": 0\n",
        "}\n",
        "\n",
        "The sentiment of can be accessed based on the star rating, if no star information avaliable for a record, just remove that record. Detail star and sentiment level can be matched blew:\n",
        "\n",
        "Very positive = 5 stars\n",
        "\n",
        "Positive = 4 stars\n",
        "\n",
        "Neutral = 3 stars\n",
        "\n",
        "Negative = 2 stars\n",
        "\n",
        "Very negative = 1 star\n",
        "\n",
        "Here is code for yelp data preprocessing: https://github.com/Yelp/dataset-examples.\n",
        "\n",
        "Answer the following questions:\n",
        "\n",
        "(1) Features used for sentiment classification and explain why you select these features (tf-idf, sentiment lexicon, word2vec, etc). Considering achieve the best performance as you can.\n",
        "\n",
        "(2) Select two of the supervised learning algorithm from scikit-learn library: https://scikit-learn.org/stable/supervised_learning.html#supervised-learning, to build a sentiment classifier respectively.\n",
        "\n",
        "(3) Compare the performance over accuracy, precision, recall, and F1 score for the two algorithms you selected. Here is the reference of how to calculate these metrics: https://towardsdatascience.com/accuracy-precision-recall-or-f1-331fb37c5cb9."
      ]
    },
    {
      "cell_type": "code",
      "metadata": {
        "colab": {
          "base_uri": "https://localhost:8080/",
          "height": 164
        },
        "id": "RdR3-NVgpWa7",
        "outputId": "2eb084e3-810e-47ff-a16f-8ba5ffdaae22"
      },
      "source": [
        "rd.head(5)"
      ],
      "execution_count": null,
      "outputs": [
        {
          "output_type": "error",
          "ename": "NameError",
          "evalue": "ignored",
          "traceback": [
            "\u001b[0;31m---------------------------------------------------------------------------\u001b[0m",
            "\u001b[0;31mNameError\u001b[0m                                 Traceback (most recent call last)",
            "\u001b[0;32m<ipython-input-6-a05282988a5d>\u001b[0m in \u001b[0;36m<module>\u001b[0;34m()\u001b[0m\n\u001b[0;32m----> 1\u001b[0;31m \u001b[0mrd\u001b[0m\u001b[0;34m.\u001b[0m\u001b[0mhead\u001b[0m\u001b[0;34m(\u001b[0m\u001b[0;36m5\u001b[0m\u001b[0;34m)\u001b[0m\u001b[0;34m\u001b[0m\u001b[0;34m\u001b[0m\u001b[0m\n\u001b[0m",
            "\u001b[0;31mNameError\u001b[0m: name 'rd' is not defined"
          ]
        }
      ]
    },
    {
      "cell_type": "code",
      "metadata": {
        "id": "irX2mhXnDBHp"
      },
      "source": [
        "from sklearn.metrics import accuracy_score,classification_report\n",
        "def search(p,a):\n",
        "  print(\"\\033[1m\"+\"Accuracy Score = \",round(accuracy_score(p,a),2)*100,\"%\"+\"\\033[0m\")\n",
        "  print(\"\\033[1m\"+\"The Classification report\"+\"\\033[0m\")\n",
        "  print(classification_report(a,p))\n",
        "  # sys.modules[__name__].__dict__.clear()\n",
        "  pass"
      ],
      "execution_count": null,
      "outputs": []
    },
    {
      "cell_type": "code",
      "metadata": {
        "id": "QpCgh94kDCb8"
      },
      "source": [
        "import seaborn as sns\n",
        "def vizer(ip):\n",
        "  sns.heatmap(pd.DataFrame(ip).iloc[:-1, :].T, annot=True)\n",
        "  pass"
      ],
      "execution_count": null,
      "outputs": []
    },
    {
      "cell_type": "code",
      "metadata": {
        "id": "1HcI_qeJDFE9"
      },
      "source": [
        "\n",
        "def accuracyAnalysis(n_splits):\n",
        "  seed = 7\n",
        "  kfold = KFold(n_splits, random_state=seed,shuffle=True)\n",
        "  scoring = 'accuracy'\n",
        "  return kfold\n",
        "  pass"
      ],
      "execution_count": null,
      "outputs": []
    },
    {
      "cell_type": "code",
      "metadata": {
        "id": "i7GAqZhfDHqu"
      },
      "source": [
        "from sklearn.model_selection import cross_val_score\n",
        "def cvsc(modelObject, x_test,y_test):\n",
        "  kfold = accuracyAnalysis(10)\n",
        "  print(\"\\033[1m\"+\"Cross Validation Score\",round(cross_val_score(modelObject,x_test,y_test,cv=kfold).mean()*100,2),\"%\",\"\\033[0m\")\n",
        "  pass"
      ],
      "execution_count": null,
      "outputs": []
    },
    {
      "cell_type": "code",
      "metadata": {
        "id": "nfC4PtFd8zCx"
      },
      "source": [
        "\n",
        "from sklearn.feature_extraction.text import TfidfVectorizer\n",
        "#display the vocabulary\n",
        "vzer = TfidfVectorizer(analyzer='word')\n",
        "tfidf = vzer.fit_transform(rd[\"cleaned_data\"].head(1000).values)\n",
        "listof_column_names = vzer.get_feature_names()\n",
        "tfidf_df = pd.DataFrame(tf_idf.toarray())\n",
        "tfidf_df.columns = listof_column_names\n",
        "\n",
        "from sklearn.model_selection import train_test_split,cross_val_score,KFold\n",
        "x_train, x_test, y_train, y_test = train_test_split(tf_idf_df, required_df['sentiments'].head(1000).values,test_size=0.2)"
      ],
      "execution_count": null,
      "outputs": []
    },
    {
      "cell_type": "code",
      "metadata": {
        "id": "tgsdal6xB8eh"
      },
      "source": [
        "train_idf_data = vzer.transform(rd[\"cleaned_data\"])"
      ],
      "execution_count": null,
      "outputs": []
    },
    {
      "cell_type": "code",
      "metadata": {
        "id": "QuhF0-bZCHDt"
      },
      "source": [
        "\n",
        "from sklearn.svm import LinearSVC\n",
        "lSVC = LinearSVC()"
      ],
      "execution_count": null,
      "outputs": []
    },
    {
      "cell_type": "code",
      "metadata": {
        "id": "FVrOLZ_nCZQX"
      },
      "source": [
        "lsvcmodel = lSVC.fit(x_train,y_train)"
      ],
      "execution_count": null,
      "outputs": []
    },
    {
      "cell_type": "code",
      "metadata": {
        "id": "9q6jhvvgCe2f"
      },
      "source": [
        "y_opLSVC = lsvcmodel.predict(x_test)"
      ],
      "execution_count": null,
      "outputs": []
    },
    {
      "cell_type": "code",
      "metadata": {
        "colab": {
          "base_uri": "https://localhost:8080/"
        },
        "id": "VdAXrwOZCnsf",
        "outputId": "fb0f6b9d-7e75-43a7-ccf1-ea545011d2ea"
      },
      "source": [
        "y_opLSVC"
      ],
      "execution_count": null,
      "outputs": [
        {
          "output_type": "execute_result",
          "data": {
            "text/plain": [
              "array(['Very positive', 'Very positive', 'Very positive', 'Very positive',\n",
              "       'Positive', 'Positive', 'Positive', 'Very positive',\n",
              "       'Very positive', 'Very positive', 'Very positive', 'Very positive',\n",
              "       'Very Negative', 'Very positive', 'Very positive', 'Very positive',\n",
              "       'Very positive', 'Very positive', 'Very positive', 'Very positive',\n",
              "       'Very positive', 'Positive', 'Positive', 'Positive',\n",
              "       'Very positive', 'Positive', 'Very positive', 'Very Negative',\n",
              "       'Very Negative', 'Very Negative', 'Very positive', 'Very positive',\n",
              "       'Very positive', 'Very positive', 'Neutral', 'Very positive',\n",
              "       'Very positive', 'Very positive', 'Very positive', 'Very Negative',\n",
              "       'Very Negative', 'Very positive', 'Very positive', 'Very positive',\n",
              "       'Very positive', 'Very positive', 'Very positive', 'Very positive',\n",
              "       'Very positive', 'Very positive', 'Very positive', 'Very Negative',\n",
              "       'Very positive', 'Positive', 'Positive', 'Very positive',\n",
              "       'Very positive', 'Positive', 'Very Negative', 'Very positive',\n",
              "       'Very positive', 'Very positive', 'Very positive', 'Very positive',\n",
              "       'Very positive', 'Positive', 'Positive', 'Very Negative',\n",
              "       'Very positive', 'Very positive', 'Very positive', 'Very positive',\n",
              "       'Very positive', 'Very Negative', 'Very positive', 'Very positive',\n",
              "       'Very Negative', 'Very Negative', 'Very positive', 'Very Negative',\n",
              "       'Very positive', 'Very positive', 'Very Negative', 'Very positive',\n",
              "       'Very positive', 'Very positive', 'Very positive', 'Very positive',\n",
              "       'Very Negative', 'Very Negative', 'Very positive', 'Very positive',\n",
              "       'Positive', 'Very positive', 'Very positive', 'Very positive',\n",
              "       'Very positive', 'Positive', 'Very positive', 'Very positive',\n",
              "       'Neutral', 'Very positive', 'Very positive', 'Very positive',\n",
              "       'Positive', 'Positive', 'Very positive', 'Very positive',\n",
              "       'Positive', 'Very positive', 'Very positive', 'Very positive',\n",
              "       'Very positive', 'Very positive', 'Very positive', 'Very positive',\n",
              "       'Very positive', 'Neutral', 'Positive', 'Very positive',\n",
              "       'Very Negative', 'Very positive', 'Very positive', 'Very positive',\n",
              "       'Very positive', 'Positive', 'Very positive', 'Very positive',\n",
              "       'Very Negative', 'Very positive', 'Very positive', 'Very positive',\n",
              "       'Very positive', 'Very Negative', 'Very positive', 'Very Negative',\n",
              "       'Very Negative', 'Very positive', 'Very positive', 'Very positive',\n",
              "       'Positive', 'Very positive', 'Very Negative', 'Very positive',\n",
              "       'Positive', 'Very positive', 'Very positive', 'Very Negative',\n",
              "       'Very positive', 'Positive', 'Positive', 'Positive',\n",
              "       'Very Negative', 'Very positive', 'Very positive', 'Very positive',\n",
              "       'Very Negative', 'Very Negative', 'Very positive', 'Very positive',\n",
              "       'Very positive', 'Very positive', 'Very positive', 'Very Negative',\n",
              "       'Very positive', 'Very positive', 'Very positive', 'Very positive',\n",
              "       'Very positive', 'Very positive', 'Positive', 'Positive',\n",
              "       'Positive', 'Very positive', 'Very positive', 'Positive',\n",
              "       'Very Negative', 'Very Negative', 'Very positive', 'Very positive',\n",
              "       'Very positive', 'Positive', 'Positive', 'Very Negative',\n",
              "       'Very positive', 'Very Negative', 'Very positive', 'Very positive',\n",
              "       'Very positive', 'Very Negative', 'Very positive', 'Very positive',\n",
              "       'Neutral', 'Very positive', 'Positive', 'Very positive',\n",
              "       'Very positive', 'Very positive', 'Very positive', 'Very Negative'],\n",
              "      dtype=object)"
            ]
          },
          "metadata": {
            "tags": []
          },
          "execution_count": 116
        }
      ]
    },
    {
      "cell_type": "code",
      "metadata": {
        "colab": {
          "base_uri": "https://localhost:8080/"
        },
        "id": "hwlnmFajCr2_",
        "outputId": "20c7d1d1-d233-4483-fa75-495437d2cf14"
      },
      "source": [
        "search(y_opLSVC,y_test)"
      ],
      "execution_count": null,
      "outputs": [
        {
          "output_type": "stream",
          "text": [
            "\u001b[1mAccuracy Score =  52.0 %\u001b[0m\n",
            "\u001b[1mThe Classification report\u001b[0m\n",
            "               precision    recall  f1-score   support\n",
            "\n",
            "     Negative       0.00      0.00      0.00        22\n",
            "      Neutral       0.25      0.05      0.08        20\n",
            "     Positive       0.48      0.32      0.38        47\n",
            "Very Negative       0.45      0.54      0.49        28\n",
            "Very positive       0.55      0.87      0.67        83\n",
            "\n",
            "     accuracy                           0.52       200\n",
            "    macro avg       0.35      0.35      0.33       200\n",
            " weighted avg       0.43      0.52      0.45       200\n",
            "\n"
          ],
          "name": "stdout"
        },
        {
          "output_type": "stream",
          "text": [
            "/usr/local/lib/python3.6/dist-packages/sklearn/metrics/_classification.py:1272: UndefinedMetricWarning: Precision and F-score are ill-defined and being set to 0.0 in labels with no predicted samples. Use `zero_division` parameter to control this behavior.\n",
            "  _warn_prf(average, modifier, msg_start, len(result))\n"
          ],
          "name": "stderr"
        }
      ]
    },
    {
      "cell_type": "code",
      "metadata": {
        "colab": {
          "base_uri": "https://localhost:8080/"
        },
        "id": "oA_FPS4ZDmtG",
        "outputId": "4557642a-82eb-44b3-9552-7159ce6add1e"
      },
      "source": [
        "cvsc(lsvcmodel,x_test,y_test)"
      ],
      "execution_count": null,
      "outputs": [
        {
          "output_type": "stream",
          "text": [
            "\u001b[1mCross Validation Score 44.5 % \u001b[0m\n"
          ],
          "name": "stdout"
        }
      ]
    },
    {
      "cell_type": "code",
      "metadata": {
        "colab": {
          "base_uri": "https://localhost:8080/",
          "height": 318
        },
        "id": "NxmJ5zQeFbUT",
        "outputId": "519fafac-7fe1-41a3-9fdc-52d0a9b6de92"
      },
      "source": [
        " \n",
        "vizer(classification_report(y_test,y_opLSVC,output_dict=True))"
      ],
      "execution_count": null,
      "outputs": [
        {
          "output_type": "stream",
          "text": [
            "/usr/local/lib/python3.6/dist-packages/sklearn/metrics/_classification.py:1272: UndefinedMetricWarning: Precision and F-score are ill-defined and being set to 0.0 in labels with no predicted samples. Use `zero_division` parameter to control this behavior.\n",
            "  _warn_prf(average, modifier, msg_start, len(result))\n"
          ],
          "name": "stderr"
        },
        {
          "output_type": "display_data",
          "data": {
            "image/png": "[encoded data removed]",
            "text/plain": [
              "<Figure size 432x288 with 2 Axes>"
            ]
          },
          "metadata": {
            "tags": [],
            "needs_background": "light"
          }
        }
      ]
    },
    {
      "cell_type": "code",
      "metadata": {
        "id": "DyUtnRi6D1SV"
      },
      "source": [
        "from sklearn.naive_bayes import MultinomialNB\n",
        "mnb = MultinomialNB()"
      ],
      "execution_count": null,
      "outputs": []
    },
    {
      "cell_type": "code",
      "metadata": {
        "id": "LFDN_EdTERpt"
      },
      "source": [
        "mnbModel = mnb.fit(x_train,y_train)"
      ],
      "execution_count": null,
      "outputs": []
    },
    {
      "cell_type": "code",
      "metadata": {
        "id": "vBjpmNYBEacS"
      },
      "source": [
        "y_op_multinomialNB = multinomialNB_model.predict(x_test)"
      ],
      "execution_count": null,
      "outputs": []
    },
    {
      "cell_type": "code",
      "metadata": {
        "colab": {
          "base_uri": "https://localhost:8080/"
        },
        "id": "hQApGp3OFMWc",
        "outputId": "14dd3c12-3d77-4117-cab3-0ec028ed4ca4"
      },
      "source": [
        "search(y_op_multinomialNB,y_test)"
      ],
      "execution_count": null,
      "outputs": [
        {
          "output_type": "stream",
          "text": [
            "\u001b[1mAccuracy Score =  47.0 %\u001b[0m\n",
            "\u001b[1mThe Classification report\u001b[0m\n",
            "               precision    recall  f1-score   support\n",
            "\n",
            "     Negative       0.00      0.00      0.00        12\n",
            "      Neutral       0.00      0.00      0.00        21\n",
            "     Positive       0.00      0.00      0.00        44\n",
            "Very Negative       0.00      0.00      0.00        29\n",
            "Very positive       0.47      1.00      0.64        94\n",
            "\n",
            "     accuracy                           0.47       200\n",
            "    macro avg       0.09      0.20      0.13       200\n",
            " weighted avg       0.22      0.47      0.30       200\n",
            "\n"
          ],
          "name": "stdout"
        },
        {
          "output_type": "stream",
          "text": [
            "/usr/local/lib/python3.6/dist-packages/sklearn/metrics/_classification.py:1272: UndefinedMetricWarning: Precision and F-score are ill-defined and being set to 0.0 in labels with no predicted samples. Use `zero_division` parameter to control this behavior.\n",
            "  _warn_prf(average, modifier, msg_start, len(result))\n"
          ],
          "name": "stderr"
        }
      ]
    },
    {
      "cell_type": "code",
      "metadata": {
        "colab": {
          "base_uri": "https://localhost:8080/"
        },
        "id": "MMIiSUApFliF",
        "outputId": "ab1fbdf9-fab6-493d-d763-a6b0ba18770e"
      },
      "source": [
        "cvsc(mnbModel,x_test,y_test)"
      ],
      "execution_count": null,
      "outputs": [
        {
          "output_type": "stream",
          "text": [
            "\u001b[1mCross Validation Score 47.0 % \u001b[0m\n"
          ],
          "name": "stdout"
        }
      ]
    },
    {
      "cell_type": "code",
      "metadata": {
        "colab": {
          "base_uri": "https://localhost:8080/",
          "height": 322
        },
        "id": "Vq4dIweWFdwB",
        "outputId": "745b4b81-ab0c-4c0b-859b-83c0613df9b3"
      },
      "source": [
        "#visualize the metrics \n",
        "vizer(classification_report(y_test,y_op_multinomialNB,output_dict=True))"
      ],
      "execution_count": null,
      "outputs": [
        {
          "output_type": "stream",
          "text": [
            "/usr/local/lib/python3.6/dist-packages/sklearn/metrics/_classification.py:1272: UndefinedMetricWarning: Precision and F-score are ill-defined and being set to 0.0 in labels with no predicted samples. Use `zero_division` parameter to control this behavior.\n",
            "  _warn_prf(average, modifier, msg_start, len(result))\n"
          ],
          "name": "stderr"
        },
        {
          "output_type": "display_data",
          "data": {
            "image/png": "[encoded data removed]",
            "text/plain": [
              "<Figure size 432x288 with 2 Axes>"
            ]
          },
          "metadata": {
            "tags": [],
            "needs_background": "light"
          }
        }
      ]
    },
    {
      "cell_type": "markdown",
      "metadata": {
        "id": "W4TbywudpWzy"
      },
      "source": [
        "#**Question 3: House price prediction**\n",
        "\n",
        "\n",
        "(40 points). You are required to build a regression model to predict the house price with 79 explanatory variables describing (almost) every aspect of residential homes. The purpose of this question is to practice regression analysis, an supervised learning model. The training data, testing data, and data description files can be download from Dropbox: https://www.dropbox.com/s/52j9hpxppfo921o/assignment4-question3-data.zip?dl=0. Here is an axample for the implementation: https://towardsdatascience.com/linear-regression-in-python-predict-the-bay-areas-home-price-5c91c8378878."
      ]
    },
    {
      "cell_type": "markdown",
      "metadata": {
        "id": "Xz3YSa6nDsSO"
      },
      "source": [
        ""
      ]
    },
    {
      "cell_type": "code",
      "metadata": {
        "id": "Tl4A4I23peKl"
      },
      "source": [
        ""
      ],
      "execution_count": null,
      "outputs": []
    }
  ]
}